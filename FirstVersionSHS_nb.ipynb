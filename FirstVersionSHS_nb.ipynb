{
 "cells": [
  {
   "cell_type": "markdown",
   "metadata": {},
   "source": [
    "# Radiative Exchange between Surfaces"
   ]
  },
  {
   "cell_type": "markdown",
   "metadata": {},
   "source": [
    "In this notebook, a mathematical model of $\\textbf{radiative heat transfer between surfaces}$ is presented."
   ]
  },
  {
   "cell_type": "markdown",
   "metadata": {},
   "source": [
    "## Goals"
   ]
  },
  {
   "cell_type": "markdown",
   "metadata": {},
   "source": [
    "- Recalling concepts as $\\textbf{heat flux}$, $\\textbf{radiosity}$, $\\textbf{irradiation}$, $\\textbf{emissivity}$, $\\textbf{absorptivity}$ and $\\textbf{view factor}$\n",
    "- Deriving the $\\textbf{governing equation of radiative heat transfer}$\n",
    "- Developing a physical intuition for the equation\n",
    "- Assessing one's comprehension of the topic through short exercises"
   ]
  },
  {
   "cell_type": "markdown",
   "metadata": {},
   "source": [
    "## Brief reminder"
   ]
  },
  {
   "cell_type": "markdown",
   "metadata": {},
   "source": [
    "Let us get begin with a brief reminder of the basic concepts of heat transfer."
   ]
  },
  {
   "cell_type": "markdown",
   "metadata": {},
   "source": [
    "### Heat Flux"
   ]
  },
  {
   "cell_type": "markdown",
   "metadata": {},
   "source": [
    "Heat flux can be defined as the rate of thermal energy transfer through a given surface, denoted by $\\dot{q}$. Its SI units are watts per square metre ($W⋅m^{−2}$). Note that the dot $\"\\dot{}\"$ stems from the fact that heat flux is a $\\textbf{rate}$ and takes after Newton's notation for the time-derivative, i.e. $\\dot{q} = \\frac{dq}{dt}$.\n",
    "\n",
    "One can define the heat flux in terms of three quantities : \n",
    "\n",
    "- $\\textbf{Radiosity} (J)$: the rate at which radiative energy leaves a surface.\n",
    "- $\\textbf{Irradiation} (H)$: the rate at which radiative energy impacts a surface.\n",
    "\n",
    "Naturally, heat flux is the difference between the two.\n",
    "$$\\dot{q} = J - H \\; (\\star)$$\n",
    "\n",
    "Thus, by convention, if $\\dot{q} \\gt 0$ then, more energy is emitted by the surface than absorbed per unit time. \n",
    "\n",
    "Alternatively, the heat flux through an opaque surface can be defined in terms of its:\n",
    "- $\\textbf{Emissivity}$($\\epsilon$)\n",
    "- $\\textbf{Blackbody emissive power}$($E_b$)\n",
    "- $\\textbf{Reflectivity}$($\\rho$)\n",
    "- $\\textbf{Absorptivity}$($\\alpha$)\n",
    "- $\\textbf{Irradiation} (H)$\n",
    "\n",
    "For an opaque surface, $\\rho + \\alpha = 1$\n",
    "\n",
    "This yields the following:\n",
    "\n",
    "$$\\dot{q} = J - H = \\epsilon E_b + \\rho H - H = \\epsilon E_b - \\alpha H $$\n",
    "\n",
    "Interpretation: it is the difference between the effective emissive power ($\\epsilon E_b$) and the effective absorbed power ($\\alpha H$).\n",
    "\n",
    "**Assumption**: we will assume that we are working only with gray diffuse surfaces, where $\\epsilon = \\alpha$. Note that a gray diffuse surface is one of opaque surfaces. \n",
    "\n",
    "We are left with the following relation:\n",
    "$$\\dot{q} = \\epsilon (E_b - H)\\; (1)$$"
   ]
  },
  {
   "cell_type": "markdown",
   "metadata": {},
   "source": [
    "### Radiosity"
   ]
  },
  {
   "cell_type": "markdown",
   "metadata": {},
   "source": [
    "Radiosity is the rate at which radiative energy leaves a given surface by emission, reflection and transmission. This quantity is denoted by $J$ and $J\\geq0$. Its SI unit is watt per square metre ($W⋅m^{−2}$). Note that the transmitted component of radiosity vanishes when it is an opaque surface. \n",
    "\n",
    "By using the two definitions of heat flux presented above, we can obtain:\n",
    "\n",
    "\n",
    "Starting from $(\\star)$:\n",
    "\n",
    "$$\\iff H = J - \\dot{q} \\;(2)$$\n",
    "\n",
    "Now, using $(1)$:\n",
    "\n",
    "$$ \\dot{q} = \\epsilon (E_b - H) $$\n",
    "\n",
    "$$\\iff H = E_b - \\frac{\\dot{q}}{\\epsilon}\\; (3) $$\n",
    "\n",
    "Putting $(2)$ and $(3)$ together gives the result:\n",
    "\n",
    "$$J - \\dot{q} = E_b - \\frac{\\dot{q}}{\\epsilon}$$\n",
    "\n",
    "\n",
    "$$ \\iff J = E_b - \\frac{1 - \\epsilon}{\\epsilon}\\dot{q} \\; (4) $$\n",
    "\n",
    "Equation $(4)$ is useful in deriving the governing equation.\n",
    "\n",
    "\n",
    "<div  style=\"\">\n",
    "    <img src=\"img/Heat_flux.png\" alt=\"Heat flux\"/>\n",
    "</div>"
   ]
  },
  {
   "cell_type": "markdown",
   "metadata": {},
   "source": [
    "### Irradiation"
   ]
  },
  {
   "cell_type": "markdown",
   "metadata": {},
   "source": [
    "Irradiation is the rate at which radiative energy is received by a given surface. It is the process by which an object is exposed to radiation. Hence, it is the complement to radiosity. This quantity is denoted $H$ and $H\\geq0$. Its SI unit is watt per square metre ($W⋅m^{−2}$)."
   ]
  },
  {
   "cell_type": "markdown",
   "metadata": {},
   "source": [
    "### Emissivity"
   ]
  },
  {
   "cell_type": "markdown",
   "metadata": {},
   "source": [
    "It is also called emittance. It is the most basic radiative property for emission from an opaque surface. The emissivity of an opaque surface is the ratio of the actual emissive power ($I_e$ or $E_e$) to that of a black surface ($I_b$ or $E_b$) at the same conditions, usually denoted $\\epsilon$ and $0 \\leq \\epsilon \\leq 1$.\n",
    "\n",
    "Several terminologies are introduced below:\n",
    "\n",
    "Spectral directional emissivity is direction dependence, denoted $\\epsilon_{\\lambda}^{\\prime}(\\lambda,T,\\hat{S}_0)$. The prime added to the letter $\\epsilon$ and the direction vector $\\hat{S}_0$ indicate that directions of emission away from a surface are considered. Otherwise, it is called spectral hemispherical emissivity with directionally averaged value, denoted $\\epsilon_{\\lambda}(\\lambda,T)$. \n",
    "\n",
    "The total directional/hemispherical emissivity is a spectrally averaged value which is independent on the wavelength of emissions, denoted $\\epsilon^{\\prime}(T,\\hat{S}_0)$ and $\\epsilon(T)$, respectively. \n",
    "\n",
    "$$\\epsilon_{\\lambda}^{\\prime}(\\lambda,T,\\hat{S}_0) = \\frac{I_{e\\lambda}(\\lambda,T,\\hat{S}_0)}{I_{b\\lambda}(\\lambda,T)}$$\n",
    "\n",
    "$$ \\epsilon_{\\lambda}(\\lambda,T) = \\frac{E_{e\\lambda}(\\lambda,T)}{E_{b\\lambda}(\\lambda,T)}$$"
   ]
  },
  {
   "cell_type": "markdown",
   "metadata": {},
   "source": [
    "### Absorptivity"
   ]
  },
  {
   "cell_type": "markdown",
   "metadata": {},
   "source": [
    "It is also called absorptance. The absorptivity of a surface is the ratio of the heat flux absorbed by the surface ($E_a$) to the irradiation ($H$), usually denoted $\\alpha$ and $0 \\leq \\alpha \\leq 1$. Likewise, we can distinguish between directional and hemispherical, as well as spectral and total absorptivity. But here, we use the total hemispherical absorptivity as an example for simplicity:\n",
    "\n",
    "$$ \\alpha (T) = \\frac{E_a(T)}{H}$$"
   ]
  },
  {
   "cell_type": "markdown",
   "metadata": {},
   "source": [
    "### View Factor"
   ]
  },
  {
   "cell_type": "markdown",
   "metadata": {},
   "source": [
    "View factor between two finite surface elements ≡ ratio of energy leaving\n",
    "the surface $A_i$ per unit time directly toward and intercepted by the surface $A_j$ to all energy leaving the surface $A_i$\n",
    "per unit time, denoted $Q_{i-j}$, $Q_{i}$, respectively.\n",
    "\n",
    "$$ F_{i-j} = \\frac{Q_{i-j}}{Q_i}$$\n",
    "\n",
    "For plane and convex surfaces, energy leaving from the surface cannot reach themselves, i.e. $F_{i-i}=0$. For non-convex surfaces, $F_{i-i}\\not=0$.\n",
    "\n",
    "<div  style=\"\">\n",
    "    <img src=\"img/View_factor.png\" alt=\"View factor\"/>\n",
    "</div>\n",
    "\n",
    "$\\textbf{Properties}$ of view factor:\n",
    "\n",
    "(1) Bounding. View factors are bounded to $0≤F_{i-j}≤1$ by definition.\n",
    "\n",
    "(2) Closeness. Due to conservation of energy, summing up all view factors from a given surface in an enclosure,$\\sum\\limits_{j=1}^N F_{i-j} = 1$.\n",
    "\n",
    "(3) Reciprocity. $A_iF_{i-j}=A_jF_{j-i}$.\n",
    "\n",
    "$\\textbf{Example}$: for two infinite concentric cylinders/spheres as shown below, what values are view factors of $F_{1-1}$, $F_{1-2}$, $F_{2-1}$, $F_{2-2}$?\n",
    "\n",
    "<div  style=\"\">\n",
    "    <img src=\"img/Example_view_factor.png\" alt=\"Example view factor\"/>\n",
    "</div>\n",
    "\n",
    "Answer: \n",
    "\n",
    "$$F_{1-1}=0, F_{1-2}=1$$ Because the energy leaving the surface 1 can be totally absorbed by the surface 2.\n",
    "\n",
    "$$F_{2-1}=\\frac{A_1}{A_2}$$ due to the reciprocity property. $$F_{1-2}=1-\\frac{A_1}{A_2}$$ due to the closeness property."
   ]
  },
  {
   "cell_type": "markdown",
   "metadata": {},
   "source": [
    "#### Blackbody emissive power"
   ]
  },
  {
   "cell_type": "markdown",
   "metadata": {},
   "source": [
    "Blackbody: an object that absorbs all radiation striking it, for all wavelengths. When a blackbody is at a constant temperature (i.e. at equilibrium), its emission has a characteristic wavelength distribution that depends on the temperature. Its emission is called blackbody radiation. \n",
    "\n",
    "Blackbody emissive power: the rate at which emissive energy leaves from a given surface of a blackbody at the wavelength $\\lambda$. Its SI units are $W/(m^2⋅\\mu m)$. \n",
    "\n",
    "According to Plank’s law, the spectral hemispherical emissive power of a blackbody:\n",
    "\n",
    "$$E_{b\\lambda}(T,\\lambda)=\\pi I_{b\\lambda}(T,\\lambda)=\\frac{C_1}{n^2\\lambda^5(e^{C_2/(n\\lambda T)}-1)}$$\n",
    "$$n=constant$$\n",
    "\n",
    "where:\n",
    "\n",
    "$I_{b\\lambda}(T,\\lambda)$: the intensity of emissive radiation\n",
    "\n",
    "$C_1$: first radiation constant ($=2\\pi hc_0^2=3.7418x10^8$ $W{\\mu m}^4m^{-2}$)\n",
    "\n",
    "$C_2$: second radiation constant ($=hc_0/k=14,388.69$ $\\mu m K$)\n",
    "\n",
    "$h$: Planck constant\n",
    "\n",
    "$C_0$: speed of light in vacuum\n",
    "\n",
    "$k$: Boltzmann constant\n",
    "\n",
    "<div  style=\"\">\n",
    "    <img src=\"img/Blackbody_emissive_power.gif\" alt=\"blackbody emissive power\"/>\n",
    "</div>\n",
    "\n",
    "As the above graph shows, the total emissive power ($E_{b\\lambda,max}$) increases with temperature while the peak of the emission spectrum shifts to the lower wavelength as the below equations tell us:\n",
    "\n",
    "$$\\frac{d}{d(n\\lambda T)}(\\frac{E_{b\\lambda}(n\\lambda T)}{n^3T^5})=0$$\n",
    "\n",
    "$$(n\\lambda T)_{max}=\\frac{C_2}{5}(\\frac{1}{1-e^{-C_2/(n\\lambda T)_{max}}})=C_3=2897.8  \\mu mK$$\n",
    "\n",
    "$$E_{b\\lambda,max}=n^3T^5\\frac{C_1}{C_3^5(e^{C_2/C_3}-1)}$$\n",
    "\n",
    "The total hemispherical emissive power of a blackbody: the total energy radiated per unit surface area of a black body across all wavelengths per unit time-- Stefan-Boltzmann law:\n",
    "\n",
    "$$E_b(T)= \\int_0^{+\\infty}{E_{b\\lambda}(T,\\lambda)}{\\rm d}\\lambda = \\sigma T^4$$\n",
    "\n",
    "where $T$ is the absolute temeprature of the balckbody surface, and $\\sigma$ is Stefan-Boltzmann constant = $5.6704*10^{-8} Wm^{-2}K^{-4}$."
   ]
  },
  {
   "cell_type": "markdown",
   "metadata": {},
   "source": [
    "## Formula derivation"
   ]
  },
  {
   "cell_type": "markdown",
   "metadata": {
    "pycharm": {
     "name": "#%% md\n"
    }
   },
   "source": [
    "Now, the 'Radiative Heat Transfer Equation' is derived. This equation enables one to model radiation between multiple surfaces and to solve for their heat fluxes. First, the hypotheses of the problem are defined.\n",
    "\n",
    "Let us assume that our system is in steady-state, i.e. the heat fluxes are independent of time. \n",
    "\n",
    "We start off with the continuous version of heat flux:\n",
    "\n",
    "$\\dot{q}(r) = J(r) - H(r) - H_o(r)$ \n",
    "\n",
    "where $H_o$ is the irradiation from outside the system and $H$ is the irradiation from inside.\n",
    "\n",
    "We would like to discretize the equation by taking the average heat flux over $N$ different surfaces. To do so, we divide our continuous surface(s) into $N$ different surfaces. For any surface $i$, the heat flux is defined as its surface average:\n",
    "\n",
    "$\\dot{q}_i := \\frac{\\int\\limits_{A_i}q(r)dA_i}{\\int_{A_i}dA_i}$\n",
    "\n",
    "Naturally the other quantities are defined in the same fashion:\n",
    "\n",
    "$J_i :=  \\frac{\\int\\limits_{A_i}J(r)dA_i}{\\int\\limits_{A_i}dA_i}$, $H_i :=  \\frac{\\int\\limits_{A_i}H(r)dA_i}{\\int\\limits_{A_i}dA_i}$ and $H_{o,i} :=  \\frac{\\int\\limits_{A_i}H_o(r)dA_i}{\\int\\limits_{A_i}dA_i}$\n",
    "\n",
    "\n",
    "Moreover, we assume that all surfaces are gray-diffuse. We also denote the average emissive power and emissivity by $E_{b,i}$ and $\\epsilon_{i}$. Furthermore, $F_{i-j}$ is the view factor from surface $i$ to surface $j$.\n",
    "\n",
    "Now we begin with the discretized definition of heat flux of an arbitrary surface $i$:\n",
    "\n",
    "$\\dot{q}_{i} = J_{i} - H_{i} - H_{o,i} \\> (*)$\n",
    "\n",
    "One can rewrite the total irradiation incident on surface $i$ in terms of the other surface's radiosities. The proportion of surface $j$'s total radiosity that strikes surface $i$ is the view factor $F_{j-i}$. Hence, we can sum up the contributions from all surfaces impinging on surface $i$.\n",
    "\n",
    "$H_i A_i = \\sum\\limits_{j=1}^N F_{j-i}A_jJ_{j}$\n",
    "\n",
    "Using the reciprocity relation $F_{j-i}A_j = F_{i-j}A_i$ we can rewrite the above as:\n",
    "\n",
    "$H_i A_i = \\sum\\limits_{j=1}^N F_{i-j}A_iJ_{j}$ and so dividing by $A_i$ we get:\n",
    "\n",
    "$H_i = \\sum\\limits_{j=1}^N F_{i-j}J_{j} \\; (5)$\n",
    "\n",
    "In the section on radiosity, we saw that a surface's radiosity could be rewritten in terms of its heat flux, its emitted power and its emissivity. We recall equation $(4)$:\n",
    "\n",
    "$J_{i} = E_{b,i} - \\frac{1-\\epsilon_{i}}{\\epsilon_{i}}\\dot{q}_{i} \\> (4)$\n",
    "\n",
    "$(4)$ is plugged into $(5)$.\n",
    "\n",
    "$H_{i} = \\sum\\limits_{j=1}^N F_{i-j}(E_{b,j} - \\frac{1-\\epsilon_{j}}{\\epsilon_{j}}\\dot{q}_{j}) \\> (6)$\n",
    "\n",
    "We insert $(4)$ and $(6)$ into $(*)$, to replace surface $i$'s radiosity and irradiation:\n",
    "\n",
    "$\\dot{q}_{i} = E_{b,i} - \\frac{1-\\epsilon_{i}}{\\epsilon_{i}}\\dot{q}_{i} - \\sum\\limits_{j=1}^N F_{i-j}(E_{b,j} - \\frac{1-\\epsilon_{j}}{\\epsilon_{j}}\\dot{q}_{j}) - H_{o,i}$\n",
    "\n",
    "Rearranging some terms, we obtain:\n",
    "\n",
    "$\\frac{\\dot{q}_{i}}{\\epsilon_{i}} - \\sum\\limits_{j=1}^N F_{i-j}\\frac{1-\\epsilon_{j}}{\\epsilon_{j}}\\dot{q}_{j} + H_{o,i} = E_{b,i} - \\sum\\limits_{j=1}^N F_{i-j}E_{b,j} \\; (7)$\n",
    "\n",
    "One of the properties of the view factor is that for any surface $i$ :\n",
    "\n",
    "$\\sum\\limits_{j=1}^N F_{i-j} = 1$\n",
    "\n",
    "This enables us to rewrite $E_{b,i}$ as $\\sum\\limits_{j=1}^N F_{i-j}E_{b,i}$.\n",
    "\n",
    "Our equation becomes\n",
    "\n",
    "$\\frac{\\dot{q}_{i}}{\\epsilon_{i}} - \\sum\\limits_{j=1}^N F_{i-j}\\frac{1-\\epsilon_{j}}{\\epsilon_{j}}\\dot{q}_{j} + H_{o,i} = \\sum\\limits_{j=1}^N F_{i-j}(E_{b,i} - E_{b,j}) \\; (\\star\\star)$\n",
    "\n",
    "and holds for all $i=1,...,N$. Note that there are $N$ unknowns and $N$ equations and that this is a linear system. Hence, we can solve it."
   ]
  },
  {
   "cell_type": "markdown",
   "metadata": {},
   "source": [
    "## Conversion to a Matrix System"
   ]
  },
  {
   "cell_type": "markdown",
   "metadata": {
    "pycharm": {
     "name": "#%% md\n"
    }
   },
   "source": [
    "In practice, it is convenient to convert $(\\star\\star)$ to a matrix system. This enables easier computations with a software like Matlab.\n",
    "\n",
    "We introduce the Kronecker Delta:\n",
    "\n",
    "$\\delta_{ij} = \n",
    "     \\begin{cases}\n",
    "       \\ 1 \\; \\text{if} \\; i = j \\\\\n",
    "       \\ 0 \\; \\text{otherwise} \\\\\n",
    "     \\end{cases}$\n",
    "     \n",
    "Note that in matrix form, the Kronecker Delta is the $\\textbf{identity matrix}$.\n",
    "\n",
    "Starting from equation $(7)$, one can rewrite $\\dot{q}_{i} = \\sum\\limits_{j=1}^N \\delta_{ij}\\dot{q}_{i}$. One can do the same for $E_{b,i} = \\sum\\limits_{j=1}^N \\delta_{ij}E_{b,i}$ in equation $(7)$. The equation becomes:\n",
    "\n",
    "$\\sum\\limits_{j=1}^N (\\frac{\\delta_{ij}}{\\epsilon{i}} - F_{i-j}\\frac{1-\\epsilon_{j}}{\\epsilon_{j}})\\dot{q}_{j} + H_{o,i} = \\sum\\limits_{j=1}^N (\\delta_{ij} - F_{i-j})E_{b,j}$\n",
    "\n",
    "We can define $C$ and $A$ as the $N\\times N$ matrices where:\n",
    "\n",
    "$C_{ij} = \\frac{\\delta_{ij}}{\\epsilon_{i}} - F_{i-j}\\frac{1-\\epsilon_{j}}{\\epsilon_{j}} $\n",
    "\n",
    "$ A_{ij} = \\delta_{ij} - F_{i-j} $\n",
    "\n",
    "In addition $\\vec{\\dot{q}} = (\\dot{q_{1}},...,\\dot{q_{N}})^{T}$, $\\vec{E_{b}} = (E_{b,1},...,E_{b,N})^{T}$ and $\\vec{H_{o}} = (H_{o,1},...,H_{o,N})^{T} $\n",
    "\n",
    "Putting this all together we get the following system:\n",
    "\n",
    "$\\sum\\limits_{j=1}^N C_{ij}\\dot{q}_{j} + H_{o,i} = \\sum\\limits_{j=1}^N A_{ij}E_{b,j}$\n",
    "\n",
    "which is none other than the matrix system:\n",
    "\n",
    "$C\\vec{\\dot{q}} + \\vec{H_{o}} = A\\vec{E_{b}} \\; (\\star\\star\\star)$\n",
    "\n",
    "The closed-form solution is:\n",
    "\n",
    "$\\vec{\\dot{q}} = C^{-1}(A\\vec{E_{b}} - \\vec{H_{o}}) $"
   ]
  },
  {
   "cell_type": "markdown",
   "metadata": {},
   "source": [
    "### Interpretation"
   ]
  },
  {
   "cell_type": "markdown",
   "metadata": {
    "pycharm": {
     "name": "#%% md\n"
    }
   },
   "source": [
    "Before diving into the math and numbers, it is important to understand what exactly the equation entails. It is a mathematical model of radiation between surfaces. Different factors in the equation are a manifestation of different phenomena.\n",
    "\n",
    "(i) The $F_{i-j}$'s are a $\\textbf{geometric property}$ of the problem.\n",
    "\n",
    "(ii) The $E_{b,i}$'s are the emissive powers of surfaces. They are related to the temperatures of the surfaces which could be given in an exercise. These are $\\textbf{boundary conditions}$.\n",
    "\n",
    "(iii) The $\\epsilon_i$'s are $\\textbf{material properties}$.\n",
    "\n",
    "(iv) $H_o$ is also a given in this problem and constitutes a $\\textbf{boundary condition}$.\n",
    "\n",
    "Understanding how an alteration of one property affects the problem is important to rationalize results and helps recognize mistakes. For example, if the irradiation onto every surface from outside the system increases, logically the net heat flux will decrease. We defined it to be positive when it is emitting more energy than it is absorbing. Hence, if it receives more energy from outside the system, it should decrease. This is exactly what the math tells us:\n",
    "\n",
    "$\\dot{q_{i}} = J_i - H_i - H_{o,i}$\n",
    "\n",
    "Hence if $H_{o,i}$ increases, every heat flux $\\dot{q_i}$ does decrease since the math models the problem.\n",
    "\n",
    "Take a look at the simulation below to understand how the various factors play a role in this elementary example. Feel free to toggle the parameters to see how heat flux responds to different alterations:"
   ]
  },
  {
   "cell_type": "markdown",
   "metadata": {},
   "source": [
    "### Simulation"
   ]
  },
  {
   "cell_type": "code",
   "execution_count": 1,
   "metadata": {
    "pycharm": {
     "is_executing": false,
     "name": "#%%\n"
    }
   },
   "outputs": [
    {
     "data": {
      "text/html": [
       "\n",
       "    <div class=\"bk-root\">\n",
       "        <a href=\"https://bokeh.org\" target=\"_blank\" class=\"bk-logo bk-logo-small bk-logo-notebook\"></a>\n",
       "        <span id=\"1001\">Loading BokehJS ...</span>\n",
       "    </div>"
      ]
     },
     "metadata": {},
     "output_type": "display_data"
    },
    {
     "data": {
      "application/javascript": [
       "\n",
       "(function(root) {\n",
       "  function now() {\n",
       "    return new Date();\n",
       "  }\n",
       "\n",
       "  var force = true;\n",
       "\n",
       "  if (typeof root._bokeh_onload_callbacks === \"undefined\" || force === true) {\n",
       "    root._bokeh_onload_callbacks = [];\n",
       "    root._bokeh_is_loading = undefined;\n",
       "  }\n",
       "\n",
       "  var JS_MIME_TYPE = 'application/javascript';\n",
       "  var HTML_MIME_TYPE = 'text/html';\n",
       "  var EXEC_MIME_TYPE = 'application/vnd.bokehjs_exec.v0+json';\n",
       "  var CLASS_NAME = 'output_bokeh rendered_html';\n",
       "\n",
       "  /**\n",
       "   * Render data to the DOM node\n",
       "   */\n",
       "  function render(props, node) {\n",
       "    var script = document.createElement(\"script\");\n",
       "    node.appendChild(script);\n",
       "  }\n",
       "\n",
       "  /**\n",
       "   * Handle when an output is cleared or removed\n",
       "   */\n",
       "  function handleClearOutput(event, handle) {\n",
       "    var cell = handle.cell;\n",
       "\n",
       "    var id = cell.output_area._bokeh_element_id;\n",
       "    var server_id = cell.output_area._bokeh_server_id;\n",
       "    // Clean up Bokeh references\n",
       "    if (id != null && id in Bokeh.index) {\n",
       "      Bokeh.index[id].model.document.clear();\n",
       "      delete Bokeh.index[id];\n",
       "    }\n",
       "\n",
       "    if (server_id !== undefined) {\n",
       "      // Clean up Bokeh references\n",
       "      var cmd = \"from bokeh.io.state import curstate; print(curstate().uuid_to_server['\" + server_id + \"'].get_sessions()[0].document.roots[0]._id)\";\n",
       "      cell.notebook.kernel.execute(cmd, {\n",
       "        iopub: {\n",
       "          output: function(msg) {\n",
       "            var id = msg.content.text.trim();\n",
       "            if (id in Bokeh.index) {\n",
       "              Bokeh.index[id].model.document.clear();\n",
       "              delete Bokeh.index[id];\n",
       "            }\n",
       "          }\n",
       "        }\n",
       "      });\n",
       "      // Destroy server and session\n",
       "      var cmd = \"import bokeh.io.notebook as ion; ion.destroy_server('\" + server_id + \"')\";\n",
       "      cell.notebook.kernel.execute(cmd);\n",
       "    }\n",
       "  }\n",
       "\n",
       "  /**\n",
       "   * Handle when a new output is added\n",
       "   */\n",
       "  function handleAddOutput(event, handle) {\n",
       "    var output_area = handle.output_area;\n",
       "    var output = handle.output;\n",
       "\n",
       "    // limit handleAddOutput to display_data with EXEC_MIME_TYPE content only\n",
       "    if ((output.output_type != \"display_data\") || (!output.data.hasOwnProperty(EXEC_MIME_TYPE))) {\n",
       "      return\n",
       "    }\n",
       "\n",
       "    var toinsert = output_area.element.find(\".\" + CLASS_NAME.split(' ')[0]);\n",
       "\n",
       "    if (output.metadata[EXEC_MIME_TYPE][\"id\"] !== undefined) {\n",
       "      toinsert[toinsert.length - 1].firstChild.textContent = output.data[JS_MIME_TYPE];\n",
       "      // store reference to embed id on output_area\n",
       "      output_area._bokeh_element_id = output.metadata[EXEC_MIME_TYPE][\"id\"];\n",
       "    }\n",
       "    if (output.metadata[EXEC_MIME_TYPE][\"server_id\"] !== undefined) {\n",
       "      var bk_div = document.createElement(\"div\");\n",
       "      bk_div.innerHTML = output.data[HTML_MIME_TYPE];\n",
       "      var script_attrs = bk_div.children[0].attributes;\n",
       "      for (var i = 0; i < script_attrs.length; i++) {\n",
       "        toinsert[toinsert.length - 1].firstChild.setAttribute(script_attrs[i].name, script_attrs[i].value);\n",
       "        toinsert[toinsert.length - 1].firstChild.textContent = bk_div.children[0].textContent\n",
       "      }\n",
       "      // store reference to server id on output_area\n",
       "      output_area._bokeh_server_id = output.metadata[EXEC_MIME_TYPE][\"server_id\"];\n",
       "    }\n",
       "  }\n",
       "\n",
       "  function register_renderer(events, OutputArea) {\n",
       "\n",
       "    function append_mime(data, metadata, element) {\n",
       "      // create a DOM node to render to\n",
       "      var toinsert = this.create_output_subarea(\n",
       "        metadata,\n",
       "        CLASS_NAME,\n",
       "        EXEC_MIME_TYPE\n",
       "      );\n",
       "      this.keyboard_manager.register_events(toinsert);\n",
       "      // Render to node\n",
       "      var props = {data: data, metadata: metadata[EXEC_MIME_TYPE]};\n",
       "      render(props, toinsert[toinsert.length - 1]);\n",
       "      element.append(toinsert);\n",
       "      return toinsert\n",
       "    }\n",
       "\n",
       "    /* Handle when an output is cleared or removed */\n",
       "    events.on('clear_output.CodeCell', handleClearOutput);\n",
       "    events.on('delete.Cell', handleClearOutput);\n",
       "\n",
       "    /* Handle when a new output is added */\n",
       "    events.on('output_added.OutputArea', handleAddOutput);\n",
       "\n",
       "    /**\n",
       "     * Register the mime type and append_mime function with output_area\n",
       "     */\n",
       "    OutputArea.prototype.register_mime_type(EXEC_MIME_TYPE, append_mime, {\n",
       "      /* Is output safe? */\n",
       "      safe: true,\n",
       "      /* Index of renderer in `output_area.display_order` */\n",
       "      index: 0\n",
       "    });\n",
       "  }\n",
       "\n",
       "  // register the mime type if in Jupyter Notebook environment and previously unregistered\n",
       "  if (root.Jupyter !== undefined) {\n",
       "    var events = require('base/js/events');\n",
       "    var OutputArea = require('notebook/js/outputarea').OutputArea;\n",
       "\n",
       "    if (OutputArea.prototype.mime_types().indexOf(EXEC_MIME_TYPE) == -1) {\n",
       "      register_renderer(events, OutputArea);\n",
       "    }\n",
       "  }\n",
       "\n",
       "  \n",
       "  if (typeof (root._bokeh_timeout) === \"undefined\" || force === true) {\n",
       "    root._bokeh_timeout = Date.now() + 5000;\n",
       "    root._bokeh_failed_load = false;\n",
       "  }\n",
       "\n",
       "  var NB_LOAD_WARNING = {'data': {'text/html':\n",
       "     \"<div style='background-color: #fdd'>\\n\"+\n",
       "     \"<p>\\n\"+\n",
       "     \"BokehJS does not appear to have successfully loaded. If loading BokehJS from CDN, this \\n\"+\n",
       "     \"may be due to a slow or bad network connection. Possible fixes:\\n\"+\n",
       "     \"</p>\\n\"+\n",
       "     \"<ul>\\n\"+\n",
       "     \"<li>re-rerun `output_notebook()` to attempt to load from CDN again, or</li>\\n\"+\n",
       "     \"<li>use INLINE resources instead, as so:</li>\\n\"+\n",
       "     \"</ul>\\n\"+\n",
       "     \"<code>\\n\"+\n",
       "     \"from bokeh.resources import INLINE\\n\"+\n",
       "     \"output_notebook(resources=INLINE)\\n\"+\n",
       "     \"</code>\\n\"+\n",
       "     \"</div>\"}};\n",
       "\n",
       "  function display_loaded() {\n",
       "    var el = document.getElementById(\"1001\");\n",
       "    if (el != null) {\n",
       "      el.textContent = \"BokehJS is loading...\";\n",
       "    }\n",
       "    if (root.Bokeh !== undefined) {\n",
       "      if (el != null) {\n",
       "        el.textContent = \"BokehJS \" + root.Bokeh.version + \" successfully loaded.\";\n",
       "      }\n",
       "    } else if (Date.now() < root._bokeh_timeout) {\n",
       "      setTimeout(display_loaded, 100)\n",
       "    }\n",
       "  }\n",
       "\n",
       "\n",
       "  function run_callbacks() {\n",
       "    try {\n",
       "      root._bokeh_onload_callbacks.forEach(function(callback) {\n",
       "        if (callback != null)\n",
       "          callback();\n",
       "      });\n",
       "    } finally {\n",
       "      delete root._bokeh_onload_callbacks\n",
       "    }\n",
       "    console.debug(\"Bokeh: all callbacks have finished\");\n",
       "  }\n",
       "\n",
       "  function load_libs(css_urls, js_urls, callback) {\n",
       "    if (css_urls == null) css_urls = [];\n",
       "    if (js_urls == null) js_urls = [];\n",
       "\n",
       "    root._bokeh_onload_callbacks.push(callback);\n",
       "    if (root._bokeh_is_loading > 0) {\n",
       "      console.debug(\"Bokeh: BokehJS is being loaded, scheduling callback at\", now());\n",
       "      return null;\n",
       "    }\n",
       "    if (js_urls == null || js_urls.length === 0) {\n",
       "      run_callbacks();\n",
       "      return null;\n",
       "    }\n",
       "    console.debug(\"Bokeh: BokehJS not loaded, scheduling load and callback at\", now());\n",
       "    root._bokeh_is_loading = css_urls.length + js_urls.length;\n",
       "\n",
       "    function on_load() {\n",
       "      root._bokeh_is_loading--;\n",
       "      if (root._bokeh_is_loading === 0) {\n",
       "        console.debug(\"Bokeh: all BokehJS libraries/stylesheets loaded\");\n",
       "        run_callbacks()\n",
       "      }\n",
       "    }\n",
       "\n",
       "    function on_error() {\n",
       "      console.error(\"failed to load \" + url);\n",
       "    }\n",
       "\n",
       "    for (var i = 0; i < css_urls.length; i++) {\n",
       "      var url = css_urls[i];\n",
       "      const element = document.createElement(\"link\");\n",
       "      element.onload = on_load;\n",
       "      element.onerror = on_error;\n",
       "      element.rel = \"stylesheet\";\n",
       "      element.type = \"text/css\";\n",
       "      element.href = url;\n",
       "      console.debug(\"Bokeh: injecting link tag for BokehJS stylesheet: \", url);\n",
       "      document.body.appendChild(element);\n",
       "    }\n",
       "\n",
       "    const hashes = {\"https://cdn.bokeh.org/bokeh/release/bokeh-2.0.2.min.js\": \"ufR9RFnRs6lniiaFvtJziE0YeidtAgBRH6ux2oUItHw5WTvE1zuk9uzhUU/FJXDp\", \"https://cdn.bokeh.org/bokeh/release/bokeh-widgets-2.0.2.min.js\": \"8QM/PGWBT+IssZuRcDcjzwIh1mkOmJSoNMmyYDZbCfXJg3Ap1lEvdVgFuSAwhb/J\", \"https://cdn.bokeh.org/bokeh/release/bokeh-tables-2.0.2.min.js\": \"Jm8cH3Rg0P6UeZhVY5cLy1WzKajUT9KImCY+76hEqrcJt59/d8GPvFHjCkYgnSIn\", \"https://cdn.bokeh.org/bokeh/release/bokeh-gl-2.0.2.min.js\": \"Ozhzj+SI7ywm74aOI/UajcWz+C0NjsPunEVyVIrxzYkB+jA+2tUw8x5xJCbVtK5I\"};\n",
       "\n",
       "    for (var i = 0; i < js_urls.length; i++) {\n",
       "      var url = js_urls[i];\n",
       "      var element = document.createElement('script');\n",
       "      element.onload = on_load;\n",
       "      element.onerror = on_error;\n",
       "      element.async = false;\n",
       "      element.src = url;\n",
       "      if (url in hashes) {\n",
       "        element.crossOrigin = \"anonymous\";\n",
       "        element.integrity = \"sha384-\" + hashes[url];\n",
       "      }\n",
       "      console.debug(\"Bokeh: injecting script tag for BokehJS library: \", url);\n",
       "      document.head.appendChild(element);\n",
       "    }\n",
       "  };\n",
       "\n",
       "  function inject_raw_css(css) {\n",
       "    const element = document.createElement(\"style\");\n",
       "    element.appendChild(document.createTextNode(css));\n",
       "    document.body.appendChild(element);\n",
       "  }\n",
       "\n",
       "  \n",
       "  var js_urls = [\"https://cdn.bokeh.org/bokeh/release/bokeh-2.0.2.min.js\", \"https://cdn.bokeh.org/bokeh/release/bokeh-widgets-2.0.2.min.js\", \"https://cdn.bokeh.org/bokeh/release/bokeh-tables-2.0.2.min.js\", \"https://cdn.bokeh.org/bokeh/release/bokeh-gl-2.0.2.min.js\"];\n",
       "  var css_urls = [];\n",
       "  \n",
       "\n",
       "  var inline_js = [\n",
       "    function(Bokeh) {\n",
       "      Bokeh.set_log_level(\"info\");\n",
       "    },\n",
       "    function(Bokeh) {\n",
       "    \n",
       "    \n",
       "    }\n",
       "  ];\n",
       "\n",
       "  function run_inline_js() {\n",
       "    \n",
       "    if (root.Bokeh !== undefined || force === true) {\n",
       "      \n",
       "    for (var i = 0; i < inline_js.length; i++) {\n",
       "      inline_js[i].call(root, root.Bokeh);\n",
       "    }\n",
       "    if (force === true) {\n",
       "        display_loaded();\n",
       "      }} else if (Date.now() < root._bokeh_timeout) {\n",
       "      setTimeout(run_inline_js, 100);\n",
       "    } else if (!root._bokeh_failed_load) {\n",
       "      console.log(\"Bokeh: BokehJS failed to load within specified timeout.\");\n",
       "      root._bokeh_failed_load = true;\n",
       "    } else if (force !== true) {\n",
       "      var cell = $(document.getElementById(\"1001\")).parents('.cell').data().cell;\n",
       "      cell.output_area.append_execute_result(NB_LOAD_WARNING)\n",
       "    }\n",
       "\n",
       "  }\n",
       "\n",
       "  if (root._bokeh_is_loading === 0) {\n",
       "    console.debug(\"Bokeh: BokehJS loaded, going straight to plotting\");\n",
       "    run_inline_js();\n",
       "  } else {\n",
       "    load_libs(css_urls, js_urls, function() {\n",
       "      console.debug(\"Bokeh: BokehJS plotting callback run at\", now());\n",
       "      run_inline_js();\n",
       "    });\n",
       "  }\n",
       "}(window));"
      ],
      "application/vnd.bokehjs_load.v0+json": "\n(function(root) {\n  function now() {\n    return new Date();\n  }\n\n  var force = true;\n\n  if (typeof root._bokeh_onload_callbacks === \"undefined\" || force === true) {\n    root._bokeh_onload_callbacks = [];\n    root._bokeh_is_loading = undefined;\n  }\n\n  \n\n  \n  if (typeof (root._bokeh_timeout) === \"undefined\" || force === true) {\n    root._bokeh_timeout = Date.now() + 5000;\n    root._bokeh_failed_load = false;\n  }\n\n  var NB_LOAD_WARNING = {'data': {'text/html':\n     \"<div style='background-color: #fdd'>\\n\"+\n     \"<p>\\n\"+\n     \"BokehJS does not appear to have successfully loaded. If loading BokehJS from CDN, this \\n\"+\n     \"may be due to a slow or bad network connection. Possible fixes:\\n\"+\n     \"</p>\\n\"+\n     \"<ul>\\n\"+\n     \"<li>re-rerun `output_notebook()` to attempt to load from CDN again, or</li>\\n\"+\n     \"<li>use INLINE resources instead, as so:</li>\\n\"+\n     \"</ul>\\n\"+\n     \"<code>\\n\"+\n     \"from bokeh.resources import INLINE\\n\"+\n     \"output_notebook(resources=INLINE)\\n\"+\n     \"</code>\\n\"+\n     \"</div>\"}};\n\n  function display_loaded() {\n    var el = document.getElementById(\"1001\");\n    if (el != null) {\n      el.textContent = \"BokehJS is loading...\";\n    }\n    if (root.Bokeh !== undefined) {\n      if (el != null) {\n        el.textContent = \"BokehJS \" + root.Bokeh.version + \" successfully loaded.\";\n      }\n    } else if (Date.now() < root._bokeh_timeout) {\n      setTimeout(display_loaded, 100)\n    }\n  }\n\n\n  function run_callbacks() {\n    try {\n      root._bokeh_onload_callbacks.forEach(function(callback) {\n        if (callback != null)\n          callback();\n      });\n    } finally {\n      delete root._bokeh_onload_callbacks\n    }\n    console.debug(\"Bokeh: all callbacks have finished\");\n  }\n\n  function load_libs(css_urls, js_urls, callback) {\n    if (css_urls == null) css_urls = [];\n    if (js_urls == null) js_urls = [];\n\n    root._bokeh_onload_callbacks.push(callback);\n    if (root._bokeh_is_loading > 0) {\n      console.debug(\"Bokeh: BokehJS is being loaded, scheduling callback at\", now());\n      return null;\n    }\n    if (js_urls == null || js_urls.length === 0) {\n      run_callbacks();\n      return null;\n    }\n    console.debug(\"Bokeh: BokehJS not loaded, scheduling load and callback at\", now());\n    root._bokeh_is_loading = css_urls.length + js_urls.length;\n\n    function on_load() {\n      root._bokeh_is_loading--;\n      if (root._bokeh_is_loading === 0) {\n        console.debug(\"Bokeh: all BokehJS libraries/stylesheets loaded\");\n        run_callbacks()\n      }\n    }\n\n    function on_error() {\n      console.error(\"failed to load \" + url);\n    }\n\n    for (var i = 0; i < css_urls.length; i++) {\n      var url = css_urls[i];\n      const element = document.createElement(\"link\");\n      element.onload = on_load;\n      element.onerror = on_error;\n      element.rel = \"stylesheet\";\n      element.type = \"text/css\";\n      element.href = url;\n      console.debug(\"Bokeh: injecting link tag for BokehJS stylesheet: \", url);\n      document.body.appendChild(element);\n    }\n\n    const hashes = {\"https://cdn.bokeh.org/bokeh/release/bokeh-2.0.2.min.js\": \"ufR9RFnRs6lniiaFvtJziE0YeidtAgBRH6ux2oUItHw5WTvE1zuk9uzhUU/FJXDp\", \"https://cdn.bokeh.org/bokeh/release/bokeh-widgets-2.0.2.min.js\": \"8QM/PGWBT+IssZuRcDcjzwIh1mkOmJSoNMmyYDZbCfXJg3Ap1lEvdVgFuSAwhb/J\", \"https://cdn.bokeh.org/bokeh/release/bokeh-tables-2.0.2.min.js\": \"Jm8cH3Rg0P6UeZhVY5cLy1WzKajUT9KImCY+76hEqrcJt59/d8GPvFHjCkYgnSIn\", \"https://cdn.bokeh.org/bokeh/release/bokeh-gl-2.0.2.min.js\": \"Ozhzj+SI7ywm74aOI/UajcWz+C0NjsPunEVyVIrxzYkB+jA+2tUw8x5xJCbVtK5I\"};\n\n    for (var i = 0; i < js_urls.length; i++) {\n      var url = js_urls[i];\n      var element = document.createElement('script');\n      element.onload = on_load;\n      element.onerror = on_error;\n      element.async = false;\n      element.src = url;\n      if (url in hashes) {\n        element.crossOrigin = \"anonymous\";\n        element.integrity = \"sha384-\" + hashes[url];\n      }\n      console.debug(\"Bokeh: injecting script tag for BokehJS library: \", url);\n      document.head.appendChild(element);\n    }\n  };\n\n  function inject_raw_css(css) {\n    const element = document.createElement(\"style\");\n    element.appendChild(document.createTextNode(css));\n    document.body.appendChild(element);\n  }\n\n  \n  var js_urls = [\"https://cdn.bokeh.org/bokeh/release/bokeh-2.0.2.min.js\", \"https://cdn.bokeh.org/bokeh/release/bokeh-widgets-2.0.2.min.js\", \"https://cdn.bokeh.org/bokeh/release/bokeh-tables-2.0.2.min.js\", \"https://cdn.bokeh.org/bokeh/release/bokeh-gl-2.0.2.min.js\"];\n  var css_urls = [];\n  \n\n  var inline_js = [\n    function(Bokeh) {\n      Bokeh.set_log_level(\"info\");\n    },\n    function(Bokeh) {\n    \n    \n    }\n  ];\n\n  function run_inline_js() {\n    \n    if (root.Bokeh !== undefined || force === true) {\n      \n    for (var i = 0; i < inline_js.length; i++) {\n      inline_js[i].call(root, root.Bokeh);\n    }\n    if (force === true) {\n        display_loaded();\n      }} else if (Date.now() < root._bokeh_timeout) {\n      setTimeout(run_inline_js, 100);\n    } else if (!root._bokeh_failed_load) {\n      console.log(\"Bokeh: BokehJS failed to load within specified timeout.\");\n      root._bokeh_failed_load = true;\n    } else if (force !== true) {\n      var cell = $(document.getElementById(\"1001\")).parents('.cell').data().cell;\n      cell.output_area.append_execute_result(NB_LOAD_WARNING)\n    }\n\n  }\n\n  if (root._bokeh_is_loading === 0) {\n    console.debug(\"Bokeh: BokehJS loaded, going straight to plotting\");\n    run_inline_js();\n  } else {\n    load_libs(css_urls, js_urls, function() {\n      console.debug(\"Bokeh: BokehJS plotting callback run at\", now());\n      run_inline_js();\n    });\n  }\n}(window));"
     },
     "metadata": {},
     "output_type": "display_data"
    }
   ],
   "source": [
    "from bokeh.io import output_notebook\n",
    "\n",
    "from InteractionOwnLibrary import create_simulation_from_description\n",
    "from MCQCollection import testMCQ\n",
    "from simulationCollection import heat_flux_graph_cylinder_description, heat_flux_graph_plates_description\n",
    "output_notebook()"
   ]
  },
  {
   "cell_type": "code",
   "execution_count": 2,
   "metadata": {
    "pycharm": {
     "name": "#%%\n"
    },
    "scrolled": false
   },
   "outputs": [
    {
     "data": {
      "text/html": [
       "\n",
       "\n",
       "\n",
       "\n",
       "\n",
       "\n",
       "  <div class=\"bk-root\" id=\"a3bfc4e3-6dec-4295-b558-182f7444a0b1\" data-root-id=\"1039\"></div>\n"
      ]
     },
     "metadata": {},
     "output_type": "display_data"
    },
    {
     "data": {
      "application/javascript": [
       "(function(root) {\n",
       "  function embed_document(root) {\n",
       "    \n",
       "  var docs_json = {\"efad0b53-3807-4d25-b101-f18ef1735caa\":{\"roots\":{\"references\":[{\"attributes\":{\"children\":[{\"id\":\"1008\"},{\"id\":\"1038\"}]},\"id\":\"1039\",\"type\":\"Row\"},{\"attributes\":{\"args\":{\"area1\":{\"id\":\"1005\"},\"area2\":{\"id\":\"1006\"},\"emissivity1\":{\"id\":\"1004\"},\"source\":{\"id\":\"1007\"},\"temperature1\":{\"id\":\"1002\"},\"temperature2\":{\"id\":\"1003\"}},\"code\":\"\\n        var data = source.data;\\n        var A1 = area1.value;\\n        var A2 = area2.value;\\n        area1.end=A2-area2.step\\n        if(A1 >= A2){ A1 = A2-area2.step; area1.value = A2-area2.step;}\\n        var e1 = emissivity1.value;\\n        var T1 = temperature1.value;\\n        var T2 = temperature2.value;\\n        var sigma = 5.6704*Math.pow(10, -8);\\n        var x = data['x'];\\n        var y = data['y'];\\n        for (var i = 0; i < 500; i++) {\\n            var e2 = (i+1)/500;\\n            if (A1 < A2){\\n                y[i] = (A1 * sigma * (Math.pow(T1, 4) - Math.pow(T2, 4)))/(1/e1 + (A1/A2 * (1/e2 - 1)));\\n            }else{\\n                y[i] = -1\\n            }\\n        }\\n\\n        // necessary because we mutated source.data in-place\\n        source.change.emit();\\n    \"},\"id\":\"1037\",\"type\":\"CustomJS\"},{\"attributes\":{},\"id\":\"1042\",\"type\":\"BasicTickFormatter\"},{\"attributes\":{\"data\":{\"x\":[0.002,0.004,0.006,0.008,0.01,0.012,0.014,0.016,0.018,0.02,0.022,0.024,0.026,0.028,0.03,0.032,0.034,0.036,0.038,0.04,0.042,0.044,0.046,0.048,0.05,0.052,0.054,0.056,0.058,0.06,0.062,0.064,0.066,0.068,0.07,0.072,0.074,0.076,0.078,0.08,0.082,0.084,0.086,0.088,0.09,0.092,0.094,0.096,0.098,0.1,0.102,0.104,0.106,0.108,0.11,0.112,0.114,0.116,0.118,0.12,0.122,0.124,0.126,0.128,0.13,0.132,0.134,0.136,0.138,0.14,0.142,0.144,0.146,0.148,0.15,0.152,0.154,0.156,0.158,0.16,0.162,0.164,0.166,0.168,0.17,0.172,0.174,0.176,0.178,0.18,0.182,0.184,0.186,0.188,0.19,0.192,0.194,0.196,0.198,0.2,0.202,0.204,0.206,0.208,0.21,0.212,0.214,0.216,0.218,0.22,0.222,0.224,0.226,0.228,0.23,0.232,0.234,0.236,0.238,0.24,0.242,0.244,0.246,0.248,0.25,0.252,0.254,0.256,0.258,0.26,0.262,0.264,0.266,0.268,0.27,0.272,0.274,0.276,0.278,0.28,0.282,0.284,0.286,0.288,0.29,0.292,0.294,0.296,0.298,0.3,0.302,0.304,0.306,0.308,0.31,0.312,0.314,0.316,0.318,0.32,0.322,0.324,0.326,0.328,0.33,0.332,0.334,0.336,0.338,0.34,0.342,0.344,0.346,0.348,0.35,0.352,0.354,0.356,0.358,0.36,0.362,0.364,0.366,0.368,0.37,0.372,0.374,0.376,0.378,0.38,0.382,0.384,0.386,0.388,0.39,0.392,0.394,0.396,0.398,0.4,0.402,0.404,0.406,0.408,0.41,0.412,0.414,0.416,0.418,0.42,0.422,0.424,0.426,0.428,0.43,0.432,0.434,0.436,0.438,0.44,0.442,0.444,0.446,0.448,0.45,0.452,0.454,0.456,0.458,0.46,0.462,0.464,0.466,0.468,0.47,0.472,0.474,0.476,0.478,0.48,0.482,0.484,0.486,0.488,0.49,0.492,0.494,0.496,0.498,0.5,0.502,0.504,0.506,0.508,0.51,0.512,0.514,0.516,0.518,0.52,0.522,0.524,0.526,0.528,0.53,0.532,0.534,0.536,0.538,0.54,0.542,0.544,0.546,0.548,0.55,0.552,0.554,0.556,0.558,0.56,0.562,0.564,0.566,0.568,0.57,0.572,0.574,0.576,0.578,0.58,0.582,0.584,0.586,0.588,0.59,0.592,0.594,0.596,0.598,0.6,0.602,0.604,0.606,0.608,0.61,0.612,0.614,0.616,0.618,0.62,0.622,0.624,0.626,0.628,0.63,0.632,0.634,0.636,0.638,0.64,0.642,0.644,0.646,0.648,0.65,0.652,0.654,0.656,0.658,0.66,0.662,0.664,0.666,0.668,0.67,0.672,0.674,0.676,0.678,0.68,0.682,0.684,0.686,0.688,0.69,0.692,0.694,0.696,0.698,0.7,0.702,0.704,0.706,0.708,0.71,0.712,0.714,0.716,0.718,0.72,0.722,0.724,0.726,0.728,0.73,0.732,0.734,0.736,0.738,0.74,0.742,0.744,0.746,0.748,0.75,0.752,0.754,0.756,0.758,0.76,0.762,0.764,0.766,0.768,0.77,0.772,0.774,0.776,0.778,0.78,0.782,0.784,0.786,0.788,0.79,0.792,0.794,0.796,0.798,0.8,0.802,0.804,0.806,0.808,0.81,0.812,0.814,0.816,0.818,0.82,0.822,0.824,0.826,0.828,0.83,0.832,0.834,0.836,0.838,0.84,0.842,0.844,0.846,0.848,0.85,0.852,0.854,0.856,0.858,0.86,0.862,0.864,0.866,0.868,0.87,0.872,0.874,0.876,0.878,0.88,0.882,0.884,0.886,0.888,0.89,0.892,0.894,0.896,0.898,0.9,0.902,0.904,0.906,0.908,0.91,0.912,0.914,0.916,0.918,0.92,0.922,0.924,0.926,0.928,0.93,0.932,0.934,0.936,0.938,0.94,0.942,0.944,0.946,0.948,0.95,0.952,0.954,0.956,0.958,0.96,0.962,0.964,0.966,0.968,0.97,0.972,0.974,0.976,0.978,0.98,0.982,0.984,0.986,0.988,0.99,0.992,0.994,0.996,0.998,1.0],\"y\":[-0.46252649312977095,-0.8845397167883211,-1.2711392433566433,-1.6266032375838926,-1.9545474387096773,-2.25804859378882,-2.53974128263473,-2.801894594219653,-3.046473382122905,-3.2751875999999998,-3.489532338219895,-3.690820544162437,-3.880209939901478,-4.0587253033492825,-4.22727701860465,-4.386676604524887,-4.537649780616739,-4.68084751416309,-4.8168554033472795,-4.946201681632653,-5.069364074103586,-5.186775693385213,-5.29883012851711,-5.405885852788104,-5.508270054545454,-5.606281977224199,-5.700195840418119,-5.790263402047781,-5.876716212040134,-5.9597676,-6.039614432797428,-6.116438672555205,-6.190408760990712,-6.2616808522796354,-6.330399913432836,-6.396700708504399,-6.460708680691643,-6.52254074447592,-6.582305998328691,-6.640106367123287,-6.696037182210242,-6.750187706100796,-6.802641607832898,-6.8534773943444725,-6.902768802531646,-6.950585156109726,-6.996991690909091,-7.042049851815981,-7.085817564200477,-7.128349482352942,-7.169697217169373,-7.209909545080092,-7.2490326,-7.287110049888641,-7.32418325934066,-7.360291439479393,-7.395471786295503,-7.429759608456659,-7.4631884455114825,-7.495790177319588,-7.527595125458249,-7.558632147283702,-7.5889287232604365,-7.618511038113949,-7.64740405631068,-7.675631592322457,-7.703216376091082,-7.7301801140712945,-7.75654354619666,-7.7823264990825685,-7.807547935753175,-7.832226002154398,-7.856378070692718,-7.880020781019332,-7.903170078260869,-7.925841248881239,-7.948048954344123,-7.969807262731872,-7.991129678464106,-8.012029170247935,-8.032518197381343,-8.05260873452188,-8.072312295024078,-8.091639952941177,-8.110602363779527,-8.129209784087363,-8.147472089953633,-8.165398794486983,-8.18299906433991,-8.200281735338345,-8.217255327272726,-8.23392805790251,-8.250307856222548,-8.266402375036284,-8.282219002877698,-8.29776487532097,-8.313046885714286,-8.32807169537167,-8.34284574325452,-8.357375255172414,-8.37166625253078,-8.385724560651289,-8.399555816689098,-8.41316547716956,-8.426558825165563,-8.439740977135347,-8.452716889439374,-8.465491364553687,-8.47806905699615,-8.490454478980892,-8.502652005815422,-8.514665881053952,-8.526500221419676,-8.538159021508035,-8.549646158282208,-8.560965395371499,-8.572120387182586,-8.583114682833132,-8.593951729916567,-8.60463487810651,-8.615167382608695,-8.62555240746791,-8.635793028736964,-8.645892237514385,-8.655852942857143,-8.665677974574347,-8.675370085907554,-8.684931956103023,-8.69436619288098,-8.703675334806631,-8.712861853567508,-8.721928156161395,-8.730876586998917,-8.73970942992465,-8.74842891016043,-8.757037196174283,-8.765536401478352,-8.773928586358867,-8.78221575954119,-8.790399879792746,-8.798482857466528,-8.806466555987718,-8.81435279328586,-8.822143343174924,-8.829839936683417,-8.837444263336664,-8.844957972393248,-8.852382674037512,-8.859719940529931,-8.866971307317073,-8.874138274102814,-8.881222305882353,-8.888224833940557,-8.895147256816015,-8.901990941232228,-8.908757222997172,-8.91544740787254,-8.922062772413794,-8.928604564782207,-8.935074005529954,-8.941472288359304,-8.947800580856883,-8.95406002520399,-8.96025173886384,-8.966376815246637,-8.972436324353255,-8.978431313398403,-8.984362807413945,-8.990231809833187,-8.996039303056769,-9.001786249000869,-9.007473589628349,-9.013102247463458,-9.018673126090675,-9.024187110638298,-9.029645068247248,-9.035047848525695,-9.040396283989942,-9.045691190492077,-9.050933367634855,-9.056123599174237,-9.061262653410026,-9.066351283565004,-9.07139022815297,-9.076380211336033,-9.081321943271554,-9.086216120449077,-9.091063426017557,-9.095864530103256,-9.100620090118579,-9.105330751062155,-9.109997145810494,-9.114619895401404,-9.119199609309543,-9.123736885714287,-9.128232311760184,-9.132686463810252,-9.137099907692308,-9.14147319893859,-9.145806883018869,-9.150101495567244,-9.154357562602842,-9.158575600744602,-9.162756117420312,-9.16689961107011,-9.1710065713446,-9.175077479297732,-9.179112807574654,-9.183113020594634,-9.187078574729242,-9.191009918475917,-9.194907492627058,-9.198771730434782,-9.20260305777147,-9.20640189328622,-9.210168648557355,-9.213903728241066,-9.217607530216329,-9.2212804457262,-9.224922859515571,-9.228535149965541,-9.232117689224435,-9.235670843335612,-9.239194972362151,-9.242690430508475,-9.246157566239027,-9.249596722394083,-9.253008236302746,-9.256392439893263,-9.259749659800665,-9.263080217471874,-9.266384429268292,-9.269662606565989,-9.272915055853499,-9.27614207882736,-9.279343972485398,-9.282521029217842,-9.28567353689633,-9.288801778960872,-9.291906034504793,-9.294986578357733,-9.298043681166773,-9.301077609475678,-9.304088625802391,-9.307076988714734,-9.310042952904434,-9.31298676925949,-9.315908684934904,-9.318808943421864,-9.321687784615385,-9.32454544488044,-9.327382157116677,-9.330198150821667,-9.33299365215282,-9.335768883987916,-9.338524065984346,-9.341259414637072,-9.343975143335326,-9.346671462418106,-9.349348579228486,-9.352006698166765,-9.354646020742486,-9.357266745625367,-9.359869068695144,-9.362453183090379,-9.365019279256245,-9.367567544991315,-9.370098165493363,-9.372611323404255,-9.375107198853868,-9.37758596950314,-9.380047810586227,-9.382492894951787,-9.384921393103449,-9.387333473239435,-9.38972930129141,-9.392109040962508,-9.39447285376464,-9.396820899055031,-9.399153334072022,-9.401470313970183,-9.403771991854706,-9.40605851881514,-9.408330043958447,-9.410586714441417,-9.412828675502444,-9.415056070492692,-9.417269040906637,-9.41946772641205,-9.421652264879356,-9.423822792410474,-9.425979443367076,-9.4281223503983,-9.430251644467972,-9.432367454881266,-9.43446990931089,-9.436559133822758,-9.438635252901202,-9.440698389473685,-9.442748664935063,-9.444786199171414,-9.446811110583376,-9.44882351610911,-9.450823531246792,-9.452811270076726,-9.454786845283019,-9.456750368174886,-9.458701948707551,-9.46064169550278,-9.462569715869018,-9.464486115821195,-9.46639100010015,-9.468284472191712,-9.470166634345444,-9.472037587593054,-9.473897431766453,-9.475746265515541,-9.477584186325627,-9.479411290534575,-9.481227673349634,-9.483033428863969,-9.484828650072922,-9.486613428889967,-9.488387856162397,-9.490152021686749,-9.49190601422393,-9.493649921514134,-9.495383830291448,-9.497107826298237,-9.498821994299286,-9.500526418095689,-9.502221180538498,-9.503906363542159,-9.505582048097699,-9.507248314285714,-9.508905241289117,-9.510552907405682,-9.51219139006038,-9.513820765817508,-9.51544111039261,-9.517052498664212,-9.518655004685346,-9.520248701694916,-9.521833662128826,-9.52340995763098,-9.524977659064062,-9.526536836520162,-9.528087559331224,-9.529629896079316,-9.531163914606742,-9.532689682025998,-9.534207264729549,-9.535716728399466,-9.537218138016897,-9.538711557871396,-9.540197051570102,-9.541674682046759,-9.543144511570611,-9.544606601755156,-9.54606101356674,-9.547507807333043,-9.548947042751415,-9.55037877889709,-9.55180307423127,-9.553219986609072,-9.554629573287377,-9.556031890932532,-9.557426995627946,-9.558814942881574,-9.560195787633262,-9.561569584262017,-9.562936386593128,-9.564296247905204,-9.565649220937104,-9.566995357894738,-9.568334710457792,-9.569667329786343,-9.57099326652737,-9.572312570821175,-9.573625292307693,-9.574931480132726,-9.576231182954075,-9.577524448947585,-9.578811325813092,-9.580091860780287,-9.581366100614503,-9.582634091622396,-9.583895879657563,-9.585151510126067,-9.586401027991887,-9.587644477782273,-9.588881903593057,-9.590113349093839,-9.591338857533145,-9.592558471743487,-9.593772234146341,-9.59498018675708,-9.596182371189814,-9.597378828662169,-9.598569600000001,-9.59975472564204,-9.600934245644462,-9.60210819968541,-9.60327662706944,-9.604439566731898,-9.605597057243266,-9.6067491368134,-9.607895843295765,-9.609037214191547,-9.610173286653772,-9.611304097491317,-9.612429683172891,-9.613550079830965,-9.61466532326562,-9.615775448948375,-9.616880492025944,-9.617980487323944,-9.61907546935055,-9.620165472300114,-9.621250530056711,-9.622330676197661,-9.623405943996989,-9.62447636642884,-9.62554197617085,-9.626602805607478,-9.62765888683327,-9.628710251656122,-9.629756931600445,-9.630798957910336,-9.63183636155268,-9.632869173220215,-9.63389742333456,-9.634921142049212,-9.635940359252473,-9.636955104570385,-9.637965407369574,-9.6389712967601,-9.639972801598256,-9.640969950489307,-9.641962771790235,-9.642951293612414,-9.643935543824272,-9.644915550053899,-9.645891339691646,-9.646862939892666,-9.647830377579435,-9.648793679444248,-9.649752871951653,-9.6507079813409,-9.651659033628318,-9.652606054609679,-9.65354906986253,-9.654488104748506,-9.655423184415584,-9.656354333800351,-9.657281577630199,-9.658204940425533,-9.659124446501915,-9.660040119972214,-9.660951984748701,-9.66186006454514,-9.662764382878839,-9.663664963072684,-9.664561828257133,-9.665455001372214,-9.666344505169462,-9.667230362213871,-9.668112594885782,-9.668991225382783,-9.669866275721562,-9.67073776773975,-9.671605723097734,-9.672470163280458,-9.673331109599191,-9.674188583193278,-9.67504260503187,-9.675893195915634,-9.676740376478449,-9.677584167189064,-9.678424588352744,-9.67926166011292,-9.680095402452768,-9.680925835196824,-9.681752978012545,-9.682576850411861,-9.683397471752713,-9.684214861240564,-9.685029037929905,-9.685840020725728,-9.686647828384993,-9.687452479518072,-9.688253992590186,-9.689052385922803,-9.689847677695047,-9.690639885945073,-9.691429028571427,-9.692215123334407,-9.692998187857373,-9.693778239628086,-9.694555296]},\"selected\":{\"id\":\"1045\"},\"selection_policy\":{\"id\":\"1046\"}},\"id\":\"1007\",\"type\":\"ColumnDataSource\"},{\"attributes\":{\"end\":350,\"format\":\"0[.]00\",\"js_property_callbacks\":{\"change:value\":[{\"id\":\"1037\"}]},\"start\":275,\"step\":0.1,\"title\":\"Outer temperature [K]\",\"value\":275},\"id\":\"1002\",\"type\":\"Slider\"},{\"attributes\":{\"end\":350,\"format\":\"0[.]00\",\"js_property_callbacks\":{\"change:value\":[{\"id\":\"1037\"}]},\"start\":275,\"step\":0.1,\"title\":\"Inner temperature [K]\",\"value\":280},\"id\":\"1003\",\"type\":\"Slider\"},{\"attributes\":{\"end\":10,\"format\":\"0[.]00\",\"js_property_callbacks\":{\"change:value\":[{\"id\":\"1037\"}]},\"start\":1,\"step\":0.1,\"title\":\"Inner area1 [m\\u00b2]\",\"value\":1},\"id\":\"1005\",\"type\":\"Slider\"},{\"attributes\":{\"end\":1,\"format\":\"0[.]00\",\"js_property_callbacks\":{\"change:value\":[{\"id\":\"1037\"}]},\"start\":0,\"step\":0.002,\"title\":\"Inner \\u03b5\",\"value\":0.4},\"id\":\"1004\",\"type\":\"Slider\"},{\"attributes\":{\"source\":{\"id\":\"1007\"}},\"id\":\"1036\",\"type\":\"CDSView\"},{\"attributes\":{\"axis\":{\"id\":\"1023\"},\"dimension\":1,\"ticker\":null},\"id\":\"1026\",\"type\":\"Grid\"},{\"attributes\":{\"end\":10,\"format\":\"0[.]00\",\"js_property_callbacks\":{\"change:value\":[{\"id\":\"1037\"}]},\"start\":1,\"step\":0.1,\"title\":\"Outer area [m\\u00b2]\",\"value\":10},\"id\":\"1006\",\"type\":\"Slider\"},{\"attributes\":{\"active_drag\":\"auto\",\"active_inspect\":\"auto\",\"active_multi\":null,\"active_scroll\":\"auto\",\"active_tap\":\"auto\",\"tools\":[{\"id\":\"1027\"},{\"id\":\"1028\"}]},\"id\":\"1029\",\"type\":\"Toolbar\"},{\"attributes\":{\"below\":[{\"id\":\"1019\"}],\"center\":[{\"id\":\"1022\"},{\"id\":\"1026\"}],\"left\":[{\"id\":\"1023\"}],\"plot_height\":400,\"renderers\":[{\"id\":\"1035\"}],\"title\":{\"id\":\"1009\"},\"toolbar\":{\"id\":\"1029\"},\"x_range\":{\"id\":\"1011\"},\"x_scale\":{\"id\":\"1015\"},\"y_range\":{\"id\":\"1013\"},\"y_scale\":{\"id\":\"1017\"}},\"id\":\"1008\",\"subtype\":\"Figure\",\"type\":\"Plot\"},{\"attributes\":{},\"id\":\"1044\",\"type\":\"BasicTickFormatter\"},{\"attributes\":{\"axis_label\":\"Outer \\u03b5\",\"formatter\":{\"id\":\"1044\"},\"ticker\":{\"id\":\"1020\"}},\"id\":\"1019\",\"type\":\"LinearAxis\"},{\"attributes\":{\"line_alpha\":0.6,\"line_color\":\"#1f77b4\",\"line_width\":3,\"x\":{\"field\":\"x\"},\"y\":{\"field\":\"y\"}},\"id\":\"1033\",\"type\":\"Line\"},{\"attributes\":{},\"id\":\"1020\",\"type\":\"BasicTicker\"},{\"attributes\":{\"children\":[{\"id\":\"1002\"},{\"id\":\"1003\"},{\"id\":\"1004\"},{\"id\":\"1005\"},{\"id\":\"1006\"}]},\"id\":\"1038\",\"type\":\"Column\"},{\"attributes\":{\"end\":0,\"start\":-10},\"id\":\"1013\",\"type\":\"Range1d\"},{\"attributes\":{},\"id\":\"1011\",\"type\":\"Range1d\"},{\"attributes\":{\"line_alpha\":0.1,\"line_color\":\"#1f77b4\",\"line_width\":3,\"x\":{\"field\":\"x\"},\"y\":{\"field\":\"y\"}},\"id\":\"1034\",\"type\":\"Line\"},{\"attributes\":{\"text\":\"Heat flux value for two concentric cylinders\"},\"id\":\"1009\",\"type\":\"Title\"},{\"attributes\":{},\"id\":\"1045\",\"type\":\"Selection\"},{\"attributes\":{},\"id\":\"1017\",\"type\":\"LinearScale\"},{\"attributes\":{},\"id\":\"1046\",\"type\":\"UnionRenderers\"},{\"attributes\":{},\"id\":\"1015\",\"type\":\"LinearScale\"},{\"attributes\":{\"axis\":{\"id\":\"1019\"},\"ticker\":null},\"id\":\"1022\",\"type\":\"Grid\"},{\"attributes\":{\"axis_label\":\"Heat flux value []\",\"formatter\":{\"id\":\"1042\"},\"ticker\":{\"id\":\"1024\"}},\"id\":\"1023\",\"type\":\"LinearAxis\"},{\"attributes\":{},\"id\":\"1024\",\"type\":\"BasicTicker\"},{\"attributes\":{\"data_source\":{\"id\":\"1007\"},\"glyph\":{\"id\":\"1033\"},\"hover_glyph\":null,\"muted_glyph\":null,\"nonselection_glyph\":{\"id\":\"1034\"},\"selection_glyph\":null,\"view\":{\"id\":\"1036\"}},\"id\":\"1035\",\"type\":\"GlyphRenderer\"},{\"attributes\":{},\"id\":\"1027\",\"type\":\"PanTool\"},{\"attributes\":{},\"id\":\"1028\",\"type\":\"WheelZoomTool\"}],\"root_ids\":[\"1039\"]},\"title\":\"Bokeh Application\",\"version\":\"2.0.2\"}};\n",
       "  var render_items = [{\"docid\":\"efad0b53-3807-4d25-b101-f18ef1735caa\",\"root_ids\":[\"1039\"],\"roots\":{\"1039\":\"a3bfc4e3-6dec-4295-b558-182f7444a0b1\"}}];\n",
       "  root.Bokeh.embed.embed_items_notebook(docs_json, render_items);\n",
       "\n",
       "  }\n",
       "  if (root.Bokeh !== undefined) {\n",
       "    embed_document(root);\n",
       "  } else {\n",
       "    var attempts = 0;\n",
       "    var timer = setInterval(function(root) {\n",
       "      if (root.Bokeh !== undefined) {\n",
       "        clearInterval(timer);\n",
       "        embed_document(root);\n",
       "      } else {\n",
       "        attempts++;\n",
       "        if (attempts > 100) {\n",
       "          clearInterval(timer);\n",
       "          console.log(\"Bokeh: ERROR: Unable to run BokehJS code because BokehJS library is missing\");\n",
       "        }\n",
       "      }\n",
       "    }, 10, root)\n",
       "  }\n",
       "})(window);"
      ],
      "application/vnd.bokehjs_exec.v0+json": ""
     },
     "metadata": {
      "application/vnd.bokehjs_exec.v0+json": {
       "id": "1039"
      }
     },
     "output_type": "display_data"
    },
    {
     "data": {
      "text/html": [
       "\n",
       "\n",
       "\n",
       "\n",
       "\n",
       "\n",
       "  <div class=\"bk-root\" id=\"737af8d3-16aa-42f4-9c1a-f592a21c84bc\" data-root-id=\"1124\"></div>\n"
      ]
     },
     "metadata": {},
     "output_type": "display_data"
    },
    {
     "data": {
      "application/javascript": [
       "(function(root) {\n",
       "  function embed_document(root) {\n",
       "    \n",
       "  var docs_json = {\"4e79b20e-7c93-43c0-9813-34cd217fb7c6\":{\"roots\":{\"references\":[{\"attributes\":{\"children\":[{\"id\":\"1093\"},{\"id\":\"1123\"}]},\"id\":\"1124\",\"type\":\"Row\"},{\"attributes\":{\"data\":{\"x\":[0.002,0.004,0.006,0.008,0.01,0.012,0.014,0.016,0.018,0.02,0.022,0.024,0.026,0.028,0.03,0.032,0.034,0.036,0.038,0.04,0.042,0.044,0.046,0.048,0.05,0.052,0.054,0.056,0.058,0.06,0.062,0.064,0.066,0.068,0.07,0.072,0.074,0.076,0.078,0.08,0.082,0.084,0.086,0.088,0.09,0.092,0.094,0.096,0.098,0.1,0.102,0.104,0.106,0.108,0.11,0.112,0.114,0.116,0.118,0.12,0.122,0.124,0.126,0.128,0.13,0.132,0.134,0.136,0.138,0.14,0.142,0.144,0.146,0.148,0.15,0.152,0.154,0.156,0.158,0.16,0.162,0.164,0.166,0.168,0.17,0.172,0.174,0.176,0.178,0.18,0.182,0.184,0.186,0.188,0.19,0.192,0.194,0.196,0.198,0.2,0.202,0.204,0.206,0.208,0.21,0.212,0.214,0.216,0.218,0.22,0.222,0.224,0.226,0.228,0.23,0.232,0.234,0.236,0.238,0.24,0.242,0.244,0.246,0.248,0.25,0.252,0.254,0.256,0.258,0.26,0.262,0.264,0.266,0.268,0.27,0.272,0.274,0.276,0.278,0.28,0.282,0.284,0.286,0.288,0.29,0.292,0.294,0.296,0.298,0.3,0.302,0.304,0.306,0.308,0.31,0.312,0.314,0.316,0.318,0.32,0.322,0.324,0.326,0.328,0.33,0.332,0.334,0.336,0.338,0.34,0.342,0.344,0.346,0.348,0.35,0.352,0.354,0.356,0.358,0.36,0.362,0.364,0.366,0.368,0.37,0.372,0.374,0.376,0.378,0.38,0.382,0.384,0.386,0.388,0.39,0.392,0.394,0.396,0.398,0.4,0.402,0.404,0.406,0.408,0.41,0.412,0.414,0.416,0.418,0.42,0.422,0.424,0.426,0.428,0.43,0.432,0.434,0.436,0.438,0.44,0.442,0.444,0.446,0.448,0.45,0.452,0.454,0.456,0.458,0.46,0.462,0.464,0.466,0.468,0.47,0.472,0.474,0.476,0.478,0.48,0.482,0.484,0.486,0.488,0.49,0.492,0.494,0.496,0.498,0.5,0.502,0.504,0.506,0.508,0.51,0.512,0.514,0.516,0.518,0.52,0.522,0.524,0.526,0.528,0.53,0.532,0.534,0.536,0.538,0.54,0.542,0.544,0.546,0.548,0.55,0.552,0.554,0.556,0.558,0.56,0.562,0.564,0.566,0.568,0.57,0.572,0.574,0.576,0.578,0.58,0.582,0.584,0.586,0.588,0.59,0.592,0.594,0.596,0.598,0.6,0.602,0.604,0.606,0.608,0.61,0.612,0.614,0.616,0.618,0.62,0.622,0.624,0.626,0.628,0.63,0.632,0.634,0.636,0.638,0.64,0.642,0.644,0.646,0.648,0.65,0.652,0.654,0.656,0.658,0.66,0.662,0.664,0.666,0.668,0.67,0.672,0.674,0.676,0.678,0.68,0.682,0.684,0.686,0.688,0.69,0.692,0.694,0.696,0.698,0.7,0.702,0.704,0.706,0.708,0.71,0.712,0.714,0.716,0.718,0.72,0.722,0.724,0.726,0.728,0.73,0.732,0.734,0.736,0.738,0.74,0.742,0.744,0.746,0.748,0.75,0.752,0.754,0.756,0.758,0.76,0.762,0.764,0.766,0.768,0.77,0.772,0.774,0.776,0.778,0.78,0.782,0.784,0.786,0.788,0.79,0.792,0.794,0.796,0.798,0.8,0.802,0.804,0.806,0.808,0.81,0.812,0.814,0.816,0.818,0.82,0.822,0.824,0.826,0.828,0.83,0.832,0.834,0.836,0.838,0.84,0.842,0.844,0.846,0.848,0.85,0.852,0.854,0.856,0.858,0.86,0.862,0.864,0.866,0.868,0.87,0.872,0.874,0.876,0.878,0.88,0.882,0.884,0.886,0.888,0.89,0.892,0.894,0.896,0.898,0.9,0.902,0.904,0.906,0.908,0.91,0.912,0.914,0.916,0.918,0.92,0.922,0.924,0.926,0.928,0.93,0.932,0.934,0.936,0.938,0.94,0.942,0.944,0.946,0.948,0.95,0.952,0.954,0.956,0.958,0.96,0.962,0.964,0.966,0.968,0.97,0.972,0.974,0.976,0.978,0.98,0.982,0.984,0.986,0.988,0.99,0.992,0.994,0.996,0.998,1.0],\"y\":[-0.04832779310069791,-0.09636734886679921,-0.14412123829534193,-0.19159200189723322,-0.23878215014778326,-0.2856941639292731,-0.33233049496571987,-0.37869356625,-0.42478577246348587,-0.47060948038834954,-0.5161670293126814,-0.5614607314285714,-0.6064928722232916,-0.6512657108637236,-0.6957814805741627,-0.7400423890076336,-0.7840506186108469,-0.8278083269829222,-0.8713176472280038,-0.9145806883018868,-0.9575995353527753,-1.0003762500562852,-1.0429128709448081,-1.0852114137313433,-1.127273871627907,-1.169102215658627,-1.2106983949676224,-1.2520643371217712,-1.2932019484084638,-1.3341131141284404,-1.374799698883806,-1.415263546861314,-1.4555064821110102,-1.495530308820327,-1.5353368115837105,-1.57492775566787,-1.614304887272727,-1.6534699337881507,-1.6924246040465531,-1.7311705885714286,-1.7697095598219057,-1.8080431724333927,-1.8461730634543843,-1.884100852579505,-1.9218281423788548,-1.9593565185237258,-1.9966875500087642,-2.0338227893706295,-2.0707637729032258,-2.107512020869565,-2.1440690377103206,-2.1804363122491353,-2.2166153178947368,-2.252607512839931,-2.2884143402575106,-2.3240372284931508,-2.3594775912553376,-2.3947368278023853,-2.429816323126593,-2.464717448135593,-2.4994415598309385,-2.53399000148398,-2.5683641028090833,-2.602565180134228,-2.6365945365690377,-2.6704534621702845,-2.704143234104913,-2.7376651168106316,-2.771020362154101,-2.804210209586777,-2.837235886298434,-2.870098607368421,-2.902799575914684,-2.935339983240589,-2.9677210089795913,-2.999943821237785,-3.032009576734362,-3.0639194209400324,-3.0956744882134197,-3.127275901935484,-3.1587247746419957,-3.190022208154093,-3.2211692937069656,-3.2521671120766773,-3.283016733705179,-3.3137192188235294,-3.3442756175733543,-3.3746869701265814,-3.4049543068034724,-3.4350786481889766,-3.465061005247447,-3.494902379435737,-3.5246037628146993,-3.5541661381591263,-3.5835904790661477,-3.612877750062112,-3.6420289067079787,-3.671044895703246,-3.699926654988435,-3.728675113846154,-3.7572911930007673,-3.785775804716692,-3.8141298528953396,-3.842354233170732,-3.870449833003802,-3.8984175317754173,-3.926258200878123,-3.9539727038066466,-3.981561896247174,-4.009026626165413,-4.036367733893473,-4.063586052215569,-4.090682406452577,-4.117657614545455,-4.144512487137547,-4.171247827655787,-4.197864432390822,-4.2243630905760705,-4.250744584465733,-4.277009689411765,-4.3031591739398385,-4.329193799824305,-4.355114322162162,-4.380921489446064,-4.4066160436363635,-4.43219872023222,-4.457670248341781,-4.483031350751445,-4.508282743994233,-4.533425138417266,-4.5584592382483855,-4.583385741661892,-4.60820534084346,-4.6329187220542085,-4.65752656569395,-4.682029546363637,-4.706428332927002,-4.730723588571428,-4.754915970868031,-4.779006131830986,-4.802994717976107,-4.826882370378682,-4.85066972473058,-4.874357411396648,-4.897946055470382,-4.921436276828929,-4.94482869018737,-4.968123905152354,-4.991322526275052,-5.014425153103447,-5.037432380233999,-5.060344797362637,-5.083162989335161,-5.10588753619699,-5.12851901324232,-5.15105799106267,-5.173505035594833,-5.19586070816825,-5.218125565551794,-5.24030016,-5.262385039298719,-5.284380746810229,-5.306287821517797,-5.328106798069705,-5.349838206822742,-5.37148257388518,-5.3930404211592275,-5.414512266382979,-5.435898623171864,-5.4572000010596025,-5.478416905538666,-5.499549838100264,-5.520599296273864,-5.541565773666228,-5.56244976,-5.583251741151831,-5.603972199190071,-5.624611612411995,-5.645170455380612,-5.665649198961039,-5.686048310356449,-5.706368253143596,-5.7266094873079405,-5.74677246927835,-5.7668576519614145,-5.786865484775354,-5.806796413683537,-5.826650881227622,-5.8464293265603064,-5.866132185477706,-5.885759890451367,-5.905312870659899,-5.924791552020266,-5.944196357218711,-5.963527705741325,-5.982786013904282,-6.0019716948837205,-6.021085158745295,-6.040126812473388,-6.05909706,-6.077996302233313,-6.096824937085927,-6.115583359502798,-6.1342719614888335,-6.152891132136222,-6.171441257651422,-6.189922721381863,-6.208335903842365,-6.226681182741241,-6.244958933006134,-6.263169526809553,-6.281313333594133,-6.2993907200976205,-6.317402050377588,-6.335347685835865,-6.353227985242718,-6.371043304760751,-6.388793997968561,-6.406480415884128,-6.424102906987951,-6.441661817245941,-6.4591574901320525,-6.476590266650689,-6.49396048535885,-6.5112684823880596,-6.52851459146603,-6.545699143938132,-6.562822468788599,-6.57988489266153,-6.596886739881657,-6.613828332474896,-6.63070999018868,-6.647532030512067,-6.664294768695653,-6.680998517771261,-6.697643588571427,-6.714230289748685,-6.730758927794633,-6.747229807058824,-6.763643229767441,-6.779999496041788,-6.79629890391657,-6.812541749358011,-6.828728326281756,-6.844858926570606,-6.860933840092058,-6.87695335471568,-6.892917756330276,-6.908827328860904,-6.924682354285714,-6.940483112652595,-6.956229882095672,-6.97192293885162,-6.987562557275822,-7.003149009858356,-7.018682567239819,-7.03416349822699,-7.049592069808343,-7.0649685471693875,-7.080293193707865,-7.095566271048794,-7.110788039059352,-7.1259587558636115,-7.141078677857144,-7.156148059721449,-7.1711671544382645,-7.18613621330372,-7.2010554859423515,-7.215925220320973,-7.230745662762432,-7.245517057959184,-7.260239648986785,-7.274913677317208,-7.2895393828320545,-7.304117003835616,-7.318646777067833,-7.3331289377170945,-7.347563719432935,-7.361951354338596,-7.376292073043478,-7.390586104655453,-7.404833676793067,-7.41903501559762,-7.433190345745141,-7.447299890458221,-7.461363871517761,-7.475382509274584,-7.489356022660945,-7.503284629201929,-7.517168545026737,-7.531007984879872,-7.544803162132196,-7.558554288791911,-7.572261575515408,-7.585925231618037,-7.599545465084745,-7.613122482580645,-7.626656489461456,-7.64014768978387,-7.653596286315789,-7.667002480546506,-7.680366472696747,-7.693688461728653,-7.706968645355647,-7.720207220052219,-7.733404381063609,-7.746560322415409,-7.759675236923076,-7.77274931620135,-7.785782750673574,-7.798775729580963,-7.811728440991737,-7.824641071810212,-7.837513807785788,-7.850346833521852,-7.863140332484601,-7.875894487011789,-7.888609478321392,-7.901285486520185,-7.913922690612245,-7.926521268507387,-7.9390813970295016,-7.951603251924834,-7.964087007870183,-7.976532838481013,-7.988940916319515,-8.001311412902574,-8.013644498709677,-8.02594034319074,-8.038199114773867,-8.050420980873055,-8.06260610789579,-8.074754661250626,-8.086866805354646,-8.098942703640898,-8.110982518565738,-8.122986411616111,-8.134954543316782,-8.146887073237481,-8.15878416,-8.17064596128522,-8.18247263384008,-8.194264333484476,-8.20602121511811,-8.217743432727271,-8.22943113939156,-8.241084487290543,-8.252703627710371,-8.264288711050318,-8.275839886829267,-8.287357303692158,-8.298841109416342,-8.310291450917921,-8.321708474258001,-8.333092324648911,-8.344443146460348,-8.355761083225493,-8.36704627764706,-8.378298871603274,-8.389519006153847,-8.400706821545848,-8.41186245721956,-8.422986051814265,-8.434077743173996,-8.445137668353222,-8.456165963622498,-8.46716276447406,-8.478128205627376,-8.489062421034648,-8.499965543886256,-8.510837706616186,-8.521679040907374,-8.532489677697027,-8.543269747181904,-8.554019378823531,-8.564738701353384,-8.575427842778039,-8.586086930384255,-8.596716090744033,-8.607315449719627,-8.617885132468501,-8.628425263448277,-8.638935966421592,-8.649417364460968,-8.659869579953597,-8.670292734606116,-8.680686949449328,-8.691052344842884,-8.701389040479926,-8.711697155391706,-8.721976807952139,-8.732228115882354,-8.742451196255162,-8.752646165499542,-8.762813139405036,-8.772952233126142,-8.783063561186673,-8.793147237484048,-8.803203375293583,-8.813232087272727,-8.823233485465275,-8.833207681305531,-8.843154785622454,-8.85307490864376,-8.86296816,-8.872834648728587,-8.882674483277802,-8.89248777151079,-8.902274620709475,-8.912035137578474,-8.921769428248993,-8.931477598282648,-8.9411597526753,-8.950815995860838,-8.960446431714923,-8.97005116355872,-8.979630294162595,-8.989183925749778,-8.998712159999998,-9.008215098053096,-9.017692840512595,-9.02714548744925,-9.036573138404584,-9.045975892394367,-9.055353847912087,-9.064707102932397,-9.074035754914512,-9.083339900805603,-9.092619637044162,-9.101875059563318,-9.111106263794156,-9.12031334466899,-9.129496396624619,-9.13865551360556,-9.147790789067246,-9.156902315979202,-9.165990186828212,-9.175054493621435,-9.184095327889512,-9.193112780689654,-9.202106942608696,-9.211077903766123,-9.220025753817088,-9.228950581955402,-9.237852476916489,-9.246731526980325,-9.25558781997437,-9.264421443276449,-9.27323248381764,-9.282021028085106,-9.290787162124948,-9.299530971544991,-9.308252541517593,-9.316951956782388,-9.32562930164905,-9.33428466,-9.342918115293125,-9.351529750564449,-9.360119648430794,-9.368687891092437,-9.37723456033571,-9.385759737535624,-9.394263503658436,-9.402745939264214,-9.411207124509394,-9.41964713914929,-9.428066062540609,-9.436463973643928,-9.444840951026174,-9.453197072863071,-9.461532416941568,-9.46984706066225,-9.478141081041754,-9.486414554715111,-9.494667557938145,-9.502900166589786,-9.511112456174414,-9.519304501824157,-9.52747637830119,-9.535628159999998,-9.543759920949652,-9.551871734816027,-9.559963674904042,-9.56803581415987,-9.576088225173116,-9.584120980179007,-9.592134151060545,-9.600127809350651,-9.608102026234292,-9.616056872550608,-9.623992418794987,-9.631908735121161,-9.639805891343283,-9.647683956937954,-9.655543001046277,-9.663383092475884,-9.67120429970293,-9.679006690874097,-9.686790333808572,-9.694555296]},\"selected\":{\"id\":\"1137\"},\"selection_policy\":{\"id\":\"1138\"}},\"id\":\"1092\",\"type\":\"ColumnDataSource\"},{\"attributes\":{\"end\":350,\"format\":\"0[.]00\",\"js_property_callbacks\":{\"change:value\":[{\"id\":\"1122\"}]},\"start\":275,\"step\":0.1,\"title\":\"Upper temperature [K]\",\"value\":275},\"id\":\"1089\",\"type\":\"Slider\"},{\"attributes\":{},\"id\":\"1112\",\"type\":\"PanTool\"},{\"attributes\":{},\"id\":\"1105\",\"type\":\"BasicTicker\"},{\"attributes\":{\"below\":[{\"id\":\"1104\"}],\"center\":[{\"id\":\"1107\"},{\"id\":\"1111\"}],\"left\":[{\"id\":\"1108\"}],\"plot_height\":400,\"renderers\":[{\"id\":\"1120\"}],\"title\":{\"id\":\"1094\"},\"toolbar\":{\"id\":\"1114\"},\"x_range\":{\"id\":\"1096\"},\"x_scale\":{\"id\":\"1100\"},\"y_range\":{\"id\":\"1098\"},\"y_scale\":{\"id\":\"1102\"}},\"id\":\"1093\",\"subtype\":\"Figure\",\"type\":\"Plot\"},{\"attributes\":{\"end\":1,\"format\":\"0[.]00\",\"js_property_callbacks\":{\"change:value\":[{\"id\":\"1122\"}]},\"start\":0,\"step\":0.002,\"title\":\"Upper \\u03b5\",\"value\":0.4},\"id\":\"1091\",\"type\":\"Slider\"},{\"attributes\":{\"end\":350,\"format\":\"0[.]00\",\"js_property_callbacks\":{\"change:value\":[{\"id\":\"1122\"}]},\"start\":275,\"step\":0.1,\"title\":\"Lower temperature [K]\",\"value\":280},\"id\":\"1090\",\"type\":\"Slider\"},{\"attributes\":{},\"id\":\"1134\",\"type\":\"BasicTickFormatter\"},{\"attributes\":{\"axis_label\":\"Heat flux value []\",\"formatter\":{\"id\":\"1134\"},\"ticker\":{\"id\":\"1109\"}},\"id\":\"1108\",\"type\":\"LinearAxis\"},{\"attributes\":{},\"id\":\"1138\",\"type\":\"UnionRenderers\"},{\"attributes\":{\"line_alpha\":0.1,\"line_color\":\"#1f77b4\",\"line_width\":3,\"x\":{\"field\":\"x\"},\"y\":{\"field\":\"y\"}},\"id\":\"1119\",\"type\":\"Line\"},{\"attributes\":{},\"id\":\"1096\",\"type\":\"Range1d\"},{\"attributes\":{\"end\":0,\"start\":-10},\"id\":\"1098\",\"type\":\"Range1d\"},{\"attributes\":{\"children\":[{\"id\":\"1089\"},{\"id\":\"1090\"},{\"id\":\"1091\"}]},\"id\":\"1123\",\"type\":\"Column\"},{\"attributes\":{\"line_alpha\":0.6,\"line_color\":\"#1f77b4\",\"line_width\":3,\"x\":{\"field\":\"x\"},\"y\":{\"field\":\"y\"}},\"id\":\"1118\",\"type\":\"Line\"},{\"attributes\":{\"axis_label\":\"Lower \\u03b5\",\"formatter\":{\"id\":\"1136\"},\"ticker\":{\"id\":\"1105\"}},\"id\":\"1104\",\"type\":\"LinearAxis\"},{\"attributes\":{\"source\":{\"id\":\"1092\"}},\"id\":\"1121\",\"type\":\"CDSView\"},{\"attributes\":{\"text\":\"Heat flux value for two infinite plates\"},\"id\":\"1094\",\"type\":\"Title\"},{\"attributes\":{},\"id\":\"1102\",\"type\":\"LinearScale\"},{\"attributes\":{\"data_source\":{\"id\":\"1092\"},\"glyph\":{\"id\":\"1118\"},\"hover_glyph\":null,\"muted_glyph\":null,\"nonselection_glyph\":{\"id\":\"1119\"},\"selection_glyph\":null,\"view\":{\"id\":\"1121\"}},\"id\":\"1120\",\"type\":\"GlyphRenderer\"},{\"attributes\":{\"args\":{\"emissivity1\":{\"id\":\"1091\"},\"source\":{\"id\":\"1092\"},\"temperature1\":{\"id\":\"1089\"},\"temperature2\":{\"id\":\"1090\"}},\"code\":\"\\n        var data = source.data;\\n        var e1 = emissivity1.value;\\n        var T1 = temperature1.value;\\n        var T2 = temperature2.value;\\n        var sigma = 5.6704*Math.pow(10, -8);\\n        var x = data['x'];\\n        var y = data['y'];\\n        for (var i = 0; i < 500; i++) {\\n            var e2 = (i+1)/500;\\n            y[i] = (sigma * (Math.pow(T1, 4) - Math.pow(T2, 4)))/(1/e1 + 1/e2 - 1);\\n        }\\n\\n        // necessary because we mutated source.data in-place\\n        source.change.emit();\\n    \"},\"id\":\"1122\",\"type\":\"CustomJS\"},{\"attributes\":{},\"id\":\"1109\",\"type\":\"BasicTicker\"},{\"attributes\":{\"axis\":{\"id\":\"1108\"},\"dimension\":1,\"ticker\":null},\"id\":\"1111\",\"type\":\"Grid\"},{\"attributes\":{},\"id\":\"1136\",\"type\":\"BasicTickFormatter\"},{\"attributes\":{\"active_drag\":\"auto\",\"active_inspect\":\"auto\",\"active_multi\":null,\"active_scroll\":\"auto\",\"active_tap\":\"auto\",\"tools\":[{\"id\":\"1112\"},{\"id\":\"1113\"}]},\"id\":\"1114\",\"type\":\"Toolbar\"},{\"attributes\":{},\"id\":\"1100\",\"type\":\"LinearScale\"},{\"attributes\":{\"axis\":{\"id\":\"1104\"},\"ticker\":null},\"id\":\"1107\",\"type\":\"Grid\"},{\"attributes\":{},\"id\":\"1137\",\"type\":\"Selection\"},{\"attributes\":{},\"id\":\"1113\",\"type\":\"WheelZoomTool\"}],\"root_ids\":[\"1124\"]},\"title\":\"Bokeh Application\",\"version\":\"2.0.2\"}};\n",
       "  var render_items = [{\"docid\":\"4e79b20e-7c93-43c0-9813-34cd217fb7c6\",\"root_ids\":[\"1124\"],\"roots\":{\"1124\":\"737af8d3-16aa-42f4-9c1a-f592a21c84bc\"}}];\n",
       "  root.Bokeh.embed.embed_items_notebook(docs_json, render_items);\n",
       "\n",
       "  }\n",
       "  if (root.Bokeh !== undefined) {\n",
       "    embed_document(root);\n",
       "  } else {\n",
       "    var attempts = 0;\n",
       "    var timer = setInterval(function(root) {\n",
       "      if (root.Bokeh !== undefined) {\n",
       "        clearInterval(timer);\n",
       "        embed_document(root);\n",
       "      } else {\n",
       "        attempts++;\n",
       "        if (attempts > 100) {\n",
       "          clearInterval(timer);\n",
       "          console.log(\"Bokeh: ERROR: Unable to run BokehJS code because BokehJS library is missing\");\n",
       "        }\n",
       "      }\n",
       "    }, 10, root)\n",
       "  }\n",
       "})(window);"
      ],
      "application/vnd.bokehjs_exec.v0+json": ""
     },
     "metadata": {
      "application/vnd.bokehjs_exec.v0+json": {
       "id": "1124"
      }
     },
     "output_type": "display_data"
    }
   ],
   "source": [
    "# Run me, I'm a simulation of the cylinder example\n",
    "create_simulation_from_description(heat_flux_graph_cylinder_description)"
   ]
  },
  {
   "cell_type": "code",
   "execution_count": null,
   "metadata": {
    "pycharm": {
     "name": "#%%\n"
    }
   },
   "outputs": [],
   "source": [
    "# Run me, I'm a simulation of the infinite plates example\n",
    "create_simulation_from_description(heat_flux_graph_plates_description)"
   ]
  },
  {
   "cell_type": "code",
   "execution_count": 2,
   "metadata": {
    "pycharm": {
     "name": "#%%\n"
    }
   },
   "outputs": [
    {
     "name": "stdout",
     "output_type": "stream",
     "text": [
      "Well, that actually wasn't the right answer\n"
     ]
    }
   ],
   "source": [
    "testMCQ()"
   ]
  },
  {
   "cell_type": "markdown",
   "metadata": {
    "pycharm": {
     "is_executing": false,
     "name": "#%%\n"
    }
   },
   "source": [
    "### Exercise: Infinite parallel plates"
   ]
  },
  {
   "cell_type": "markdown",
   "metadata": {},
   "source": [
    "Now that the equation has been studied and that we have gone over a few examples you are ready to solve your first exercise.\n",
    "\n"
   ]
  },
  {
   "cell_type": "markdown",
   "metadata": {},
   "source": [
    "The problem consists of two parallel infinite plates in a closed-system. We assume that they are $\\textbf{gray-diffuse}$ and that their emissivities are independent of wavelength and position and $\\epsilon_1=0.9$, $\\epsilon_2 = 0.85$.\n",
    "\n",
    "In addition, plate 1 is maintained at temperature $T_1=300 K$ and plate 2 at $T_2=250K$ and there is no irradiation from outside the system.\n",
    "\n",
    "# insert image\n",
    "\n",
    "<div  style=\"width:300px;float:right;margin-left:15px;\">\n",
    "    <img src=\"img/infinite_plates.jpg\" alt=\"infinite plate\"/>\n",
    "</div>\n",
    "\n",
    "We break the problem down into a few steps:\n",
    "\n",
    "$\\textbf{Step 1}$: Compute the emissive power of each surface\n",
    "\n",
    "Reminder: Emissive power is the radiosity of a black-body"
   ]
  },
  {
   "cell_type": "code",
   "execution_count": null,
   "outputs": [],
   "source": [
    "import numpy as np\n",
    "from numpy import nan\n",
    "\n",
    "sigma = 5.6704e-8 # Stefan-Boltzmann Constant\n",
    "E = np.zeros([2,1])\n",
    "\n",
    "T1 = 300.\n",
    "T2 = 250.\n",
    "\n",
    "E[0] = nan\n",
    "E[1] = nan"
   ],
   "metadata": {
    "collapsed": false,
    "pycharm": {
     "name": "#%%\n"
    }
   }
  },
  {
   "cell_type": "markdown",
   "source": [
    "$\\textbf{Step 2}$: Compute the view factors $F_{1-1}$, $F_{1-2}$, $F_{2-1}$ and $F_{2-2}$."
   ],
   "metadata": {
    "collapsed": false
   }
  },
  {
   "cell_type": "code",
   "execution_count": null,
   "outputs": [],
   "source": [
    "F = np.zeros([2,2])\n",
    "\n",
    "F[0,0] = nan\n",
    "F[0,1] = nan\n",
    "F[1,0] = nan\n",
    "F[0,0] = nan"
   ],
   "metadata": {
    "collapsed": false,
    "pycharm": {
     "name": "#%%\n"
    }
   }
  },
  {
   "cell_type": "markdown",
   "source": [
    "$\\textbf{Step 3}$: Compute the heat fluxes $\\dot{q_1}$ and $\\dot{q_2}$\n",
    "\n",
    "Hint: Use $C\\vec{\\dot{q}} + \\vec{H_{o}} = A\\vec{E_{b}}$ which was derived earlier where $C_{ij} = \\frac{\\delta_{ij}}{\\epsilon_{i}} - F_{i-j}\\frac{1-\\epsilon_{j}}{\\epsilon_{j}} $ and $ A_{ij} = \\delta_{ij} - F_{i-j} $\n",
    "\n",
    "Start by assembling the matrices $A$ and $C$:"
   ],
   "metadata": {
    "collapsed": false
   }
  },
  {
   "cell_type": "code",
   "execution_count": null,
   "outputs": [],
   "source": [
    "C = np.zeros([2,2])\n",
    "A = np.zeros([2,2])\n",
    "\n",
    "e1 = 0.9\n",
    "e2 = 0.85\n",
    "\n",
    "C[0,0] = nan\n",
    "C[0,1] = nan\n",
    "C[1,0] = nan\n",
    "C[1,1] = nan\n",
    "\n",
    "A[0,0] = nan\n",
    "A[0,1] = nan\n",
    "A[1,0] = nan\n",
    "A[1,1] = nan"
   ],
   "metadata": {
    "collapsed": false,
    "pycharm": {
     "name": "#%%\n"
    }
   }
  },
  {
   "cell_type": "markdown",
   "source": [
    "Numerical Solution"
   ],
   "metadata": {
    "collapsed": false
   }
  },
  {
   "cell_type": "code",
   "execution_count": null,
   "outputs": [],
   "source": [
    "q = np.linalg.inv(C)@A@E\n",
    "\n",
    "print(\"q1 =\",q[0],\"W/m2\")\n",
    "print(\"q2 =\",q[1],\"W/m2\")"
   ],
   "metadata": {
    "collapsed": false,
    "pycharm": {
     "name": "#%%\n"
    }
   }
  },
  {
   "cell_type": "markdown",
   "source": [
    "q = np.linalg.inv(C)@A@E\n",
    "\n",
    "print(\"q1 =\",q[0],\"W/m2\")\n",
    "print(\"q2 =\",q[1],\"W/m2\")"
   ],
   "metadata": {
    "collapsed": false
   }
  },
  {
   "cell_type": "markdown",
   "source": [
    "The problem consists of two parallel infinite plates in a closed-system. We assume that they are $\\textbf{gray-diffuse}$ and that their emissivities are independent of wavelength and position and $\\epsilon_1=0.9$, $\\epsilon_2 = 0.85$.\n",
    "\n",
    "In addition, plate 1 is maintained at temperature $T_1=300 K$ and plate 2 at $T_2=250K$ and there is no irradiation from outside the system.\n",
    "\n",
    "# insert image\n",
    "\n",
    "We break the problem down into a few steps:\n",
    "\n",
    "$\\textbf{Step 1}$: Compute the emissive power of each surface\n",
    "\n",
    "Reminder: Emissive power is the radiosity of a black-body"
   ],
   "metadata": {
    "collapsed": false
   }
  },
  {
   "cell_type": "code",
   "execution_count": null,
   "metadata": {
    "pycharm": {
     "name": "#%%\n"
    }
   },
   "outputs": [],
   "source": [
    "import numpy as np\n",
    "from numpy import nan\n",
    "\n",
    "sigma = 5.6704e-8 # Stefan-Boltzmann Constant\n",
    "E = np.zeros([2,1])\n",
    "\n",
    "T1 = 300.\n",
    "T2 = 250.\n",
    "\n",
    "E[0] = nan\n",
    "E[1] = nan"
   ]
  },
  {
   "cell_type": "markdown",
   "metadata": {},
   "source": [
    "$\\textbf{Step 2}$: Compute the view factors $F_{1-1}$, $F_{1-2}$, $F_{2-1}$ and $F_{2-2}$."
   ]
  },
  {
   "cell_type": "code",
   "execution_count": null,
   "metadata": {
    "pycharm": {
     "name": "#%%\n"
    }
   },
   "outputs": [],
   "source": [
    "F = np.zeros([2,2])\n",
    "\n",
    "F[0,0] = nan\n",
    "F[0,1] = nan\n",
    "F[1,0] = nan\n",
    "F[0,0] = nan"
   ]
  },
  {
   "cell_type": "markdown",
   "metadata": {},
   "source": [
    "$\\textbf{Step 3}$: Compute the heat fluxes $\\dot{q_1}$ and $\\dot{q_2}$\n",
    "\n",
    "Hint: Use $C\\vec{\\dot{q}} + \\vec{H_{o}} = A\\vec{E_{b}}$ which was derived earlier where $C_{ij} = \\frac{\\delta_{ij}}{\\epsilon_{i}} - F_{i-j}\\frac{1-\\epsilon_{j}}{\\epsilon_{j}} $ and $ A_{ij} = \\delta_{ij} - F_{i-j} $\n",
    "\n",
    "Start by assembling the matrices $A$ and $C$:"
   ]
  },
  {
   "cell_type": "code",
   "execution_count": null,
   "metadata": {
    "pycharm": {
     "name": "#%%\n"
    }
   },
   "outputs": [],
   "source": [
    "C = np.zeros([2,2])\n",
    "A = np.zeros([2,2])\n",
    "\n",
    "e1 = 0.9\n",
    "e2 = 0.85\n",
    "\n",
    "C[0,0] = nan\n",
    "C[0,1] = nan\n",
    "C[1,0] = nan\n",
    "C[1,1] = nan\n",
    "\n",
    "A[0,0] = nan\n",
    "A[0,1] = nan\n",
    "A[1,0] = nan\n",
    "A[1,1] = nan"
   ]
  },
  {
   "cell_type": "markdown",
   "metadata": {},
   "source": [
    "Numerical Solution"
   ]
  },
  {
   "cell_type": "code",
   "execution_count": null,
   "metadata": {
    "pycharm": {
     "name": "#%%\n"
    }
   },
   "outputs": [],
   "source": [
    "q = np.linalg.inv(C)@A@E\n",
    "\n",
    "print(\"q1 =\",q[0],\"W/m2\")\n",
    "print(\"q2 =\",q[1],\"W/m2\")"
   ]
  },
  {
   "cell_type": "markdown",
   "metadata": {},
   "source": [
    "q = np.linalg.inv(C)@A@E\n",
    "\n",
    "print(\"q1 =\",q[0],\"W/m2\")\n",
    "print(\"q2 =\",q[1],\"W/m2\")"
   ]
  },
  {
   "cell_type": "markdown",
   "metadata": {},
   "source": [
    "The problem consists of two parallel infinite plates in a closed-system. We assume that they are $\\textbf{gray-diffuse}$ and that their emissivities are independent of wavelength and position and $\\epsilon_1=0.9$, $\\epsilon_2 = 0.85$.\n",
    "\n",
    "In addition, plate 1 is maintained at temperature $T_1=300 K$ and plate 2 at $T_2=250K$ and there is no irradiation from outside the system.\n",
    "\n",
    "# insert image\n",
    "\n",
    "We break the problem down into a few steps:\n",
    "\n",
    "$\\textbf{Step 1}$: Compute the emissive power of each surface\n",
    "\n",
    "Reminder: Emissive power is the radiosity of a black-body"
   ]
  },
  {
   "cell_type": "code",
   "execution_count": null,
   "metadata": {
    "pycharm": {
     "name": "#%%\n"
    }
   },
   "outputs": [],
   "source": [
    "import numpy as np\n",
    "from numpy import nan\n",
    "\n",
    "sigma = 5.6704e-8 # Stefan-Boltzmann Constant\n",
    "E = np.zeros([2,1])\n",
    "\n",
    "T1 = 300.\n",
    "T2 = 250.\n",
    "\n",
    "E[0] = nan\n",
    "E[1] = nan"
   ]
  },
  {
   "cell_type": "markdown",
   "metadata": {},
   "source": [
    "$\\textbf{Step 2}$: Compute the view factors $F_{1-1}$, $F_{1-2}$, $F_{2-1}$ and $F_{2-2}$."
   ]
  },
  {
   "cell_type": "code",
   "execution_count": null,
   "metadata": {
    "pycharm": {
     "name": "#%%\n"
    }
   },
   "outputs": [],
   "source": [
    "F = np.zeros([2,2])\n",
    "\n",
    "F[0,0] = nan\n",
    "F[0,1] = nan\n",
    "F[1,0] = nan\n",
    "F[0,0] = nan"
   ]
  },
  {
   "cell_type": "markdown",
   "metadata": {},
   "source": [
    "$\\textbf{Step 3}$: Compute the heat fluxes $\\dot{q_1}$ and $\\dot{q_2}$\n",
    "\n",
    "Hint: Use $C\\vec{\\dot{q}} + \\vec{H_{o}} = A\\vec{E_{b}}$ which was derived earlier where $C_{ij} = \\frac{\\delta_{ij}}{\\epsilon_{i}} - F_{i-j}\\frac{1-\\epsilon_{j}}{\\epsilon_{j}} $ and $ A_{ij} = \\delta_{ij} - F_{i-j} $\n",
    "\n",
    "Start by assembling the matrices $A$ and $C$:"
   ]
  },
  {
   "cell_type": "code",
   "execution_count": null,
   "metadata": {
    "pycharm": {
     "name": "#%%\n"
    }
   },
   "outputs": [],
   "source": [
    "C = np.zeros([2,2])\n",
    "A = np.zeros([2,2])\n",
    "\n",
    "e1 = 0.9\n",
    "e2 = 0.85\n",
    "\n",
    "C[0,0] = nan\n",
    "C[0,1] = nan\n",
    "C[1,0] = nan\n",
    "C[1,1] = nan\n",
    "\n",
    "A[0,0] = nan\n",
    "A[0,1] = nan\n",
    "A[1,0] = nan\n",
    "A[1,1] = nan"
   ]
  },
  {
   "cell_type": "markdown",
   "metadata": {},
   "source": [
    "Numerical Solution"
   ]
  },
  {
   "cell_type": "code",
   "execution_count": null,
   "metadata": {
    "pycharm": {
     "name": "#%%\n"
    }
   },
   "outputs": [],
   "source": [
    "q = np.linalg.inv(C)@A@E\n",
    "\n",
    "print(\"q1 =\",q[0],\"W/m2\")\n",
    "print(\"q2 =\",q[1],\"W/m2\")"
   ]
  },
  {
   "cell_type": "markdown",
   "metadata": {},
   "source": [
    "q = np.linalg.inv(C)@A@E\n",
    "\n",
    "print(\"q1 =\",q[0],\"W/m2\")\n",
    "print(\"q2 =\",q[1],\"W/m2\")"
   ]
  },
  {
   "cell_type": "markdown",
   "metadata": {},
   "source": [
    "The problem consists of two parallel infinite plates in a closed-system. We assume that they are $\\textbf{gray-diffuse}$ and that their emissivities are independent of wavelength and position and $\\epsilon_1=0.9$, $\\epsilon_2 = 0.85$.\n",
    "\n",
    "In addition, plate 1 is maintained at temperature $T_1=300 K$ and plate 2 at $T_2=250K$ and there is no irradiation from outside the system.\n",
    "\n",
    "# insert image\n",
    "\n",
    "We break the problem down into a few steps:\n",
    "\n",
    "$\\textbf{Step 1}$: Compute the emissive power of each surface\n",
    "\n",
    "Reminder: Emissive power is the radiosity of a black-body"
   ]
  },
  {
   "cell_type": "code",
   "execution_count": null,
   "metadata": {
    "pycharm": {
     "name": "#%%\n"
    }
   },
   "outputs": [],
   "source": [
    "import numpy as np\n",
    "from numpy import nan\n",
    "\n",
    "sigma = 5.6704e-8 # Stefan-Boltzmann Constant\n",
    "E = np.zeros([2,1])\n",
    "\n",
    "T1 = 300.\n",
    "T2 = 250.\n",
    "\n",
    "E[0] = nan\n",
    "E[1] = nan"
   ]
  },
  {
   "cell_type": "markdown",
   "metadata": {},
   "source": [
    "$\\textbf{Step 2}$: Compute the view factors $F_{1-1}$, $F_{1-2}$, $F_{2-1}$ and $F_{2-2}$."
   ]
  },
  {
   "cell_type": "code",
   "execution_count": null,
   "metadata": {
    "pycharm": {
     "name": "#%%\n"
    }
   },
   "outputs": [],
   "source": [
    "F = np.zeros([2,2])\n",
    "\n",
    "F[0,0] = nan\n",
    "F[0,1] = nan\n",
    "F[1,0] = nan\n",
    "F[0,0] = nan"
   ]
  },
  {
   "cell_type": "markdown",
   "metadata": {},
   "source": [
    "$\\textbf{Step 3}$: Compute the heat fluxes $\\dot{q_1}$ and $\\dot{q_2}$\n",
    "\n",
    "Hint: Use $C\\vec{\\dot{q}} + \\vec{H_{o}} = A\\vec{E_{b}}$ which was derived earlier where $C_{ij} = \\frac{\\delta_{ij}}{\\epsilon_{i}} - F_{i-j}\\frac{1-\\epsilon_{j}}{\\epsilon_{j}} $ and $ A_{ij} = \\delta_{ij} - F_{i-j} $\n",
    "\n",
    "Start by assembling the matrices $A$ and $C$:"
   ]
  },
  {
   "cell_type": "code",
   "execution_count": null,
   "metadata": {
    "pycharm": {
     "name": "#%%\n"
    }
   },
   "outputs": [],
   "source": [
    "C = np.zeros([2,2])\n",
    "A = np.zeros([2,2])\n",
    "\n",
    "e1 = 0.9\n",
    "e2 = 0.85\n",
    "\n",
    "C[0,0] = nan\n",
    "C[0,1] = nan\n",
    "C[1,0] = nan\n",
    "C[1,1] = nan\n",
    "\n",
    "A[0,0] = nan\n",
    "A[0,1] = nan\n",
    "A[1,0] = nan\n",
    "A[1,1] = nan"
   ]
  },
  {
   "cell_type": "markdown",
   "metadata": {},
   "source": [
    "Numerical Solution"
   ]
  },
  {
   "cell_type": "code",
   "execution_count": null,
   "metadata": {
    "pycharm": {
     "name": "#%%\n"
    }
   },
   "outputs": [],
   "source": [
    "q = np.linalg.inv(C)@A@E\n",
    "\n",
    "print(\"q1 =\",q[0],\"W/m2\")\n",
    "print(\"q2 =\",q[1],\"W/m2\")"
   ]
  },
  {
   "cell_type": "markdown",
   "metadata": {},
   "source": [
    "q = np.linalg.inv(C)@A@E\n",
    "\n",
    "print(\"q1 =\",q[0],\"W/m2\")\n",
    "print(\"q2 =\",q[1],\"W/m2\")"
   ]
  },
  {
   "cell_type": "markdown",
   "metadata": {},
   "source": [
    "The problem consists of two parallel infinite plates in a closed-system. We assume that they are $\\textbf{gray-diffuse}$ and that their emissivities are independent of wavelength and position and $\\epsilon_1=0.9$, $\\epsilon_2 = 0.85$.\n",
    "\n",
    "In addition, plate 1 is maintained at temperature $T_1=300 K$ and plate 2 at $T_2=250K$ and there is no irradiation from outside the system.\n",
    "\n",
    "# insert image\n",
    "\n",
    "We break the problem down into a few steps:\n",
    "\n",
    "$\\textbf{Step 1}$: Compute the emissive power of each surface\n",
    "\n",
    "Reminder: Emissive power is the radiosity of a black-body"
   ]
  },
  {
   "cell_type": "code",
   "execution_count": 21,
   "metadata": {
    "pycharm": {
     "name": "#%%\n"
    }
   },
   "outputs": [],
   "source": [
    "import numpy as np\n",
    "from numpy import nan\n",
    "\n",
    "sigma = 5.6704e-8 # Stefan-Boltzmann Constant\n",
    "E = np.zeros([2,1])\n",
    "\n",
    "T1 = 300.\n",
    "T2 = 250.\n",
    "\n",
    "E[0] = nan\n",
    "E[1] = nan"
   ]
  },
  {
   "cell_type": "markdown",
   "metadata": {},
   "source": [
    "$\\textbf{Step 2}$: Compute the view factors $F_{1-1}$, $F_{1-2}$, $F_{2-1}$ and $F_{2-2}$."
   ]
  },
  {
   "cell_type": "code",
   "execution_count": 22,
   "metadata": {
    "pycharm": {
     "name": "#%%\n"
    }
   },
   "outputs": [],
   "source": [
    "F = np.zeros([2,2])\n",
    "\n",
    "F[0,0] = nan\n",
    "F[0,1] = nan\n",
    "F[1,0] = nan\n",
    "F[0,0] = nan"
   ]
  },
  {
   "cell_type": "markdown",
   "metadata": {},
   "source": [
    "$\\textbf{Step 3}$: Compute the heat fluxes $\\dot{q_1}$ and $\\dot{q_2}$\n",
    "\n",
    "Hint: Use $C\\vec{\\dot{q}} + \\vec{H_{o}} = A\\vec{E_{b}}$ which was derived earlier where $C_{ij} = \\frac{\\delta_{ij}}{\\epsilon_{i}} - F_{i-j}\\frac{1-\\epsilon_{j}}{\\epsilon_{j}} $ and $ A_{ij} = \\delta_{ij} - F_{i-j} $\n",
    "\n",
    "Start by assembling the matrices $A$ and $C$:"
   ]
  },
  {
   "cell_type": "code",
   "execution_count": 23,
   "metadata": {
    "pycharm": {
     "name": "#%%\n"
    }
   },
   "outputs": [],
   "source": [
    "C = np.zeros([2,2])\n",
    "A = np.zeros([2,2])\n",
    "\n",
    "e1 = 0.9\n",
    "e2 = 0.85\n",
    "\n",
    "C[0,0] = nan\n",
    "C[0,1] = nan\n",
    "C[1,0] = nan\n",
    "C[1,1] = nan\n",
    "\n",
    "A[0,0] = nan\n",
    "A[0,1] = nan\n",
    "A[1,0] = nan\n",
    "A[1,1] = nan"
   ]
  },
  {
   "cell_type": "markdown",
   "metadata": {},
   "source": [
    "Numerical Solution"
   ]
  },
  {
   "cell_type": "code",
   "execution_count": 24,
   "metadata": {
    "pycharm": {
     "name": "#%%\n"
    }
   },
   "outputs": [
    {
     "name": "stdout",
     "output_type": "stream",
     "text": [
      "q1 = [nan] W/m2\n",
      "q2 = [nan] W/m2\n"
     ]
    }
   ],
   "source": [
    "q = np.linalg.inv(C)@A@E\n",
    "\n",
    "print(\"q1 =\",q[0],\"W/m2\")\n",
    "print(\"q2 =\",q[1],\"W/m2\")"
   ]
  },
  {
   "cell_type": "markdown",
   "metadata": {},
   "source": [
    "q = np.linalg.inv(C)@A@E\n",
    "\n",
    "print(\"q1 =\",q[0],\"W/m2\")\n",
    "print(\"q2 =\",q[1],\"W/m2\")"
   ]
  },
  {
   "cell_type": "markdown",
   "metadata": {},
   "source": [
    "The problem consists of two parallel infinite plates in a closed-system. We assume that they are $\\textbf{gray-diffuse}$ and that their emissivities are independent of wavelength and position and $\\epsilon_1=0.9$, $\\epsilon_2 = 0.85$.\n",
    "\n",
    "In addition, plate 1 is maintained at temperature $T_1=300 K$ and plate 2 at $T_2=250K$ and there is no irradiation from outside the system.\n",
    "\n",
    "# insert image\n",
    "\n",
    "We break the problem down into a few steps:\n",
    "\n",
    "$\\textbf{Step 1}$: Compute the emissive power of each surface\n",
    "\n",
    "Reminder: Emissive power is the radiosity of a black-body"
   ]
  },
  {
   "cell_type": "code",
   "execution_count": 25,
   "metadata": {
    "pycharm": {
     "name": "#%%\n"
    }
   },
   "outputs": [],
   "source": [
    "import numpy as np\n",
    "from numpy import nan\n",
    "\n",
    "sigma = 5.6704e-8 # Stefan-Boltzmann Constant\n",
    "E = np.zeros([2,1])\n",
    "\n",
    "T1 = 300.\n",
    "T2 = 250.\n",
    "\n",
    "E[0] = nan\n",
    "E[1] = nan"
   ]
  },
  {
   "cell_type": "markdown",
   "metadata": {},
   "source": [
    "$\\textbf{Step 2}$: Compute the view factors $F_{1-1}$, $F_{1-2}$, $F_{2-1}$ and $F_{2-2}$."
   ]
  },
  {
   "cell_type": "code",
   "execution_count": 26,
   "metadata": {
    "pycharm": {
     "name": "#%%\n"
    }
   },
   "outputs": [],
   "source": [
    "F = np.zeros([2,2])\n",
    "\n",
    "F[0,0] = nan\n",
    "F[0,1] = nan\n",
    "F[1,0] = nan\n",
    "F[0,0] = nan"
   ]
  },
  {
   "cell_type": "markdown",
   "metadata": {},
   "source": [
    "$\\textbf{Step 3}$: Compute the heat fluxes $\\dot{q_1}$ and $\\dot{q_2}$\n",
    "\n",
    "Hint: Use $C\\vec{\\dot{q}} + \\vec{H_{o}} = A\\vec{E_{b}}$ which was derived earlier where $C_{ij} = \\frac{\\delta_{ij}}{\\epsilon_{i}} - F_{i-j}\\frac{1-\\epsilon_{j}}{\\epsilon_{j}} $ and $ A_{ij} = \\delta_{ij} - F_{i-j} $\n",
    "\n",
    "Start by assembling the matrices $A$ and $C$:"
   ]
  },
  {
   "cell_type": "code",
   "execution_count": 27,
   "metadata": {
    "pycharm": {
     "name": "#%%\n"
    }
   },
   "outputs": [],
   "source": [
    "C = np.zeros([2,2])\n",
    "A = np.zeros([2,2])\n",
    "\n",
    "e1 = 0.9\n",
    "e2 = 0.85\n",
    "\n",
    "C[0,0] = nan\n",
    "C[0,1] = nan\n",
    "C[1,0] = nan\n",
    "C[1,1] = nan\n",
    "\n",
    "A[0,0] = nan\n",
    "A[0,1] = nan\n",
    "A[1,0] = nan\n",
    "A[1,1] = nan"
   ]
  },
  {
   "cell_type": "markdown",
   "metadata": {},
   "source": [
    "Numerical Solution"
   ]
  },
  {
   "cell_type": "code",
   "execution_count": 28,
   "metadata": {
    "pycharm": {
     "name": "#%%\n"
    }
   },
   "outputs": [
    {
     "name": "stdout",
     "output_type": "stream",
     "text": [
      "q1 = [nan] W/m2\n",
      "q2 = [nan] W/m2\n"
     ]
    }
   ],
   "source": [
    "q = np.linalg.inv(C)@A@E\n",
    "\n",
    "print(\"q1 =\",q[0],\"W/m2\")\n",
    "print(\"q2 =\",q[1],\"W/m2\")"
   ]
  },
  {
   "cell_type": "markdown",
   "metadata": {},
   "source": [
    "q = np.linalg.inv(C)@A@E\n",
    "\n",
    "print(\"q1 =\",q[0],\"W/m2\")\n",
    "print(\"q2 =\",q[1],\"W/m2\")"
   ]
  },
  {
   "cell_type": "markdown",
   "metadata": {},
   "source": [
    "The problem consists of two parallel infinite plates in a closed-system. We assume that they are $\\textbf{gray-diffuse}$ and that their emissivities are independent of wavelength and position and $\\epsilon_1=0.9$, $\\epsilon_2 = 0.85$.\n",
    "\n",
    "In addition, plate 1 is maintained at temperature $T_1=300 K$ and plate 2 at $T_2=250K$ and there is no irradiation from outside the system.\n",
    "\n",
    "# insert image\n",
    "\n",
    "We break the problem down into a few steps:\n",
    "\n",
    "$\\textbf{Step 1}$: Compute the emissive power of each surface\n",
    "\n",
    "Reminder: Emissive power is the radiosity of a black-body"
   ]
  },
  {
   "cell_type": "code",
   "execution_count": 29,
   "metadata": {
    "pycharm": {
     "name": "#%%\n"
    }
   },
   "outputs": [],
   "source": [
    "import numpy as np\n",
    "from numpy import nan\n",
    "\n",
    "sigma = 5.6704e-8 # Stefan-Boltzmann Constant\n",
    "E = np.zeros([2,1])\n",
    "\n",
    "T1 = 300.\n",
    "T2 = 250.\n",
    "\n",
    "E[0] = nan\n",
    "E[1] = nan"
   ]
  },
  {
   "cell_type": "markdown",
   "metadata": {},
   "source": [
    "$\\textbf{Step 2}$: Compute the view factors $F_{1-1}$, $F_{1-2}$, $F_{2-1}$ and $F_{2-2}$."
   ]
  },
  {
   "cell_type": "code",
   "execution_count": 30,
   "metadata": {
    "pycharm": {
     "name": "#%%\n"
    }
   },
   "outputs": [],
   "source": [
    "F = np.zeros([2,2])\n",
    "\n",
    "F[0,0] = nan\n",
    "F[0,1] = nan\n",
    "F[1,0] = nan\n",
    "F[0,0] = nan"
   ]
  },
  {
   "cell_type": "markdown",
   "metadata": {},
   "source": [
    "$\\textbf{Step 3}$: Compute the heat fluxes $\\dot{q_1}$ and $\\dot{q_2}$\n",
    "\n",
    "Hint: Use $C\\vec{\\dot{q}} + \\vec{H_{o}} = A\\vec{E_{b}}$ which was derived earlier where $C_{ij} = \\frac{\\delta_{ij}}{\\epsilon_{i}} - F_{i-j}\\frac{1-\\epsilon_{j}}{\\epsilon_{j}} $ and $ A_{ij} = \\delta_{ij} - F_{i-j} $\n",
    "\n",
    "Start by assembling the matrices $A$ and $C$:"
   ]
  },
  {
   "cell_type": "code",
   "execution_count": 31,
   "metadata": {
    "pycharm": {
     "name": "#%%\n"
    }
   },
   "outputs": [],
   "source": [
    "C = np.zeros([2,2])\n",
    "A = np.zeros([2,2])\n",
    "\n",
    "e1 = 0.9\n",
    "e2 = 0.85\n",
    "\n",
    "C[0,0] = nan\n",
    "C[0,1] = nan\n",
    "C[1,0] = nan\n",
    "C[1,1] = nan\n",
    "\n",
    "A[0,0] = nan\n",
    "A[0,1] = nan\n",
    "A[1,0] = nan\n",
    "A[1,1] = nan"
   ]
  },
  {
   "cell_type": "markdown",
   "metadata": {},
   "source": [
    "Numerical Solution"
   ]
  },
  {
   "cell_type": "code",
   "execution_count": 32,
   "metadata": {
    "pycharm": {
     "name": "#%%\n"
    }
   },
   "outputs": [
    {
     "name": "stdout",
     "output_type": "stream",
     "text": [
      "q1 = [nan] W/m2\n",
      "q2 = [nan] W/m2\n"
     ]
    }
   ],
   "source": [
    "q = np.linalg.inv(C)@A@E\n",
    "\n",
    "print(\"q1 =\",q[0],\"W/m2\")\n",
    "print(\"q2 =\",q[1],\"W/m2\")"
   ]
  },
  {
   "cell_type": "markdown",
   "metadata": {},
   "source": [
    "q = np.linalg.inv(C)@A@E\n",
    "\n",
    "print(\"q1 =\",q[0],\"W/m2\")\n",
    "print(\"q2 =\",q[1],\"W/m2\")"
   ]
  },
  {
   "cell_type": "markdown",
   "metadata": {},
   "source": [
    "The problem consists of two parallel infinite plates in a closed-system. We assume that they are $\\textbf{gray-diffuse}$ and that their emissivities are independent of wavelength and position and $\\epsilon_1=0.9$, $\\epsilon_2 = 0.85$.\n",
    "\n",
    "In addition, plate 1 is maintained at temperature $T_1=300 K$ and plate 2 at $T_2=250K$ and there is no irradiation from outside the system.\n",
    "\n",
    "# insert image\n",
    "\n",
    "We break the problem down into a few steps:\n",
    "\n",
    "$\\textbf{Step 1}$: Compute the emissive power of each surface\n",
    "\n",
    "Reminder: Emissive power is the radiosity of a black-body"
   ]
  },
  {
   "cell_type": "code",
   "execution_count": 33,
   "metadata": {},
   "outputs": [],
   "source": [
    "import numpy as np\n",
    "from numpy import nan\n",
    "\n",
    "sigma = 5.6704e-8 # Stefan-Boltzmann Constant\n",
    "E = np.zeros([2,1])\n",
    "\n",
    "T1 = 300.\n",
    "T2 = 250.\n",
    "\n",
    "E[0] = nan\n",
    "E[1] = nan"
   ]
  },
  {
   "cell_type": "markdown",
   "metadata": {},
   "source": [
    "$\\textbf{Step 2}$: Compute the view factors $F_{1-1}$, $F_{1-2}$, $F_{2-1}$ and $F_{2-2}$."
   ]
  },
  {
   "cell_type": "code",
   "execution_count": 34,
   "metadata": {},
   "outputs": [],
   "source": [
    "F = np.zeros([2,2])\n",
    "\n",
    "F[0,0] = nan\n",
    "F[0,1] = nan\n",
    "F[1,0] = nan\n",
    "F[0,0] = nan"
   ]
  },
  {
   "cell_type": "markdown",
   "metadata": {},
   "source": [
    "$\\textbf{Step 3}$: Compute the heat fluxes $\\dot{q_1}$ and $\\dot{q_2}$\n",
    "\n",
    "Hint: Use $C\\vec{\\dot{q}} + \\vec{H_{o}} = A\\vec{E_{b}}$ which was derived earlier where $C_{ij} = \\frac{\\delta_{ij}}{\\epsilon_{i}} - F_{i-j}\\frac{1-\\epsilon_{j}}{\\epsilon_{j}} $ and $ A_{ij} = \\delta_{ij} - F_{i-j} $\n",
    "\n",
    "Start by assembling the matrices $A$ and $C$:"
   ]
  },
  {
   "cell_type": "code",
   "execution_count": 35,
   "metadata": {},
   "outputs": [],
   "source": [
    "C = np.zeros([2,2])\n",
    "A = np.zeros([2,2])\n",
    "\n",
    "e1 = 0.9\n",
    "e2 = 0.85\n",
    "\n",
    "C[0,0] = nan\n",
    "C[0,1] = nan\n",
    "C[1,0] = nan\n",
    "C[1,1] = nan\n",
    "\n",
    "A[0,0] = nan\n",
    "A[0,1] = nan\n",
    "A[1,0] = nan\n",
    "A[1,1] = nan"
   ]
  },
  {
   "cell_type": "markdown",
   "metadata": {},
   "source": [
    "Numerical Solution"
   ]
  },
  {
   "cell_type": "code",
   "execution_count": 36,
   "metadata": {},
   "outputs": [
    {
     "name": "stdout",
     "output_type": "stream",
     "text": [
      "q1 = [nan] W/m2\n",
      "q2 = [nan] W/m2\n"
     ]
    }
   ],
   "source": [
    "q = np.linalg.inv(C)@A@E\n",
    "\n",
    "print(\"q1 =\",q[0],\"W/m2\")\n",
    "print(\"q2 =\",q[1],\"W/m2\")"
   ]
  }
 ],
 "metadata": {
  "kernelspec": {
   "display_name": "Python 3",
   "language": "python",
   "name": "python3"
  },
  "language_info": {
   "codemirror_mode": {
    "name": "ipython",
    "version": 3
   },
   "file_extension": ".py",
   "mimetype": "text/x-python",
   "name": "python",
   "nbconvert_exporter": "python",
   "pygments_lexer": "ipython3",
   "version": "3.8.2"
  },
  "pycharm": {
   "stem_cell": {
    "cell_type": "raw",
    "source": [],
    "metadata": {
     "collapsed": false
    }
   }
  }
 },
 "nbformat": 4,
 "nbformat_minor": 4
}