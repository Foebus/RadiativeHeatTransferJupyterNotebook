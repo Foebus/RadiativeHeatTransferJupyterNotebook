{
 "cells": [
  {
   "cell_type": "markdown",
   "metadata": {},
   "source": [
    "# Radiative Exchange between Surfaces"
   ]
  },
  {
   "cell_type": "markdown",
   "metadata": {},
   "source": [
    "In this notebook, a mathematical model of $\\textbf{radiative heat transfer between surfaces}$ is presented."
   ]
  },
  {
   "cell_type": "markdown",
   "metadata": {},
   "source": [
    "## Goals"
   ]
  },
  {
   "cell_type": "markdown",
   "metadata": {},
   "source": [
    "- Recalling concepts as $\\textbf{heat flux}$, $\\textbf{radiosity}$, $\\textbf{irradiation}$, $\\textbf{emissivity}$, $\\textbf{absorptivity}$ and $\\textbf{view factor}$\n",
    "- Deriving the $\\textbf{governing equation of radiative heat transfer}$\n",
    "- Developing a physical intuition for the equation\n",
    "- Assessing one's comprehension of the topic through short exercises"
   ]
  },
  {
   "cell_type": "markdown",
   "metadata": {},
   "source": [
    "## Brief reminder"
   ]
  },
  {
   "cell_type": "markdown",
   "metadata": {},
   "source": [
    "Let us get begin with a brief reminder of the basic concepts of heat transfer."
   ]
  },
  {
   "cell_type": "markdown",
   "metadata": {},
   "source": [
    "### Heat Flux"
   ]
  },
  {
   "cell_type": "markdown",
   "metadata": {},
   "source": [
    "Heat flux is the quantity of thermal energy going through a surface per unit time.\n",
    "One can define the heat flux in terms of two quantities : \n",
    "\n",
    "- $\\textbf{Radiosity}$ (J): the rate at which radiative energy leaves a surface.\n",
    "- $\\textbf{Irradiation}$ (H): the rate at which radiative energy is absorbed by a surface.\n",
    "\n",
    "Naturally, heat flux is the difference between the two.\n",
    "$$\\dot{q} = J - H \\; (\\star)$$\n",
    "\n",
    "Thus, by convention, if $\\dot{q} \\gt 0$ then, more energy is emitted by the surface than absorbed per unit time. \n",
    "\n",
    "Alternatively, a surface's heat flux can be defined in terms of its:\n",
    "- $\\textbf{Emissivity}$($\\epsilon$)\n",
    "- $\\textbf{Emissive power}$($E_b$)\n",
    "- $\\textbf{Absorptivity}$($\\alpha$)\n",
    "- $\\textbf{Irradiation}$ (H)\n",
    "\n",
    "This yields the following:\n",
    "\n",
    "$$\\dot{q} = \\epsilon E_b - \\alpha H $$ \n",
    "\n",
    "**Assumption**: we will assume that we are working only with gray diffuse surfaces, where $\\epsilon = \\alpha$.\n",
    "\n",
    "We are left with the following relation:\n",
    "$$\\dot{q} = \\epsilon (E_b - H)\\; (1)$$"
   ]
  },
  {
   "cell_type": "markdown",
   "metadata": {},
   "source": [
    "### Radiosity"
   ]
  },
  {
   "cell_type": "markdown",
   "metadata": {},
   "source": [
    "Radiosity is the rate at which radiative energy leaves a surface by emission and reflection. This quantity is denoted by J in this course. Note that $J\\geq0$.\n",
    "\n",
    "Using the two definitions for heat flux, we can define a surface's radiosity in terms of its emissivity, its emitted power and its heat flux:\n",
    "\n",
    "$$ \\dot{q} = J - H $$\n",
    "$$\\iff H = J - \\dot{q} \\> (2)$$\n",
    "\n",
    "\n",
    "$$ \\epsilon (E_b - H) $$\n",
    "$$\\iff H = E_b - \\frac{\\dot{q}}{\\epsilon}\\> (3) $$\n",
    "\n",
    "\n",
    "\n",
    "$$ (2) = (3) \\iff J - \\dot{q} = E_b - \\frac{\\dot{q}}{\\epsilon}$$\n",
    "$$ \\iff J = E_b - \\frac{1 - \\epsilon}{\\epsilon}\\dot{q}$$\n",
    "\n",
    "This proves useful in deriving the governing equation."
   ]
  },
  {
   "cell_type": "markdown",
   "metadata": {},
   "source": [
    "### Irradiation"
   ]
  },
  {
   "cell_type": "markdown",
   "metadata": {},
   "source": [
    "Irradiation is the rate at which radiative energy is absorbed by a surface. Hence, it is the complement to radiosity. This quantity is denoted by H in this course. Note that $H\\geq0$."
   ]
  },
  {
   "cell_type": "markdown",
   "metadata": {},
   "source": [
    "### Emissivity"
   ]
  },
  {
   "cell_type": "markdown",
   "metadata": {},
   "source": [
    "The emissivity of a surface is the proportion of emitted power effectively leaving the surface.\n",
    "\n",
    "This factor is usually denoted by $\\epsilon$ and $0 \\leq \\epsilon \\leq 1$."
   ]
  },
  {
   "cell_type": "markdown",
   "metadata": {},
   "source": [
    "### Absorptivity"
   ]
  },
  {
   "cell_type": "markdown",
   "metadata": {},
   "source": [
    "The absorptivity of a surface is the proportion of the incident radiant energy that is absorbed.\n",
    "\n",
    "This factor is usually denoted by $\\alpha$ and $0 \\leq \\alpha \\leq 1$."
   ]
  },
  {
   "cell_type": "markdown",
   "metadata": {},
   "source": [
    "### View Factor"
   ]
  },
  {
   "cell_type": "markdown",
   "metadata": {},
   "source": [
    "View factor between two finite surface elements ≡ ratio of energy leaving\n",
    "$A_i$ per unit time directly toward and intercepted by $A_j$ to all energy leaving $A_i$\n",
    "per unit time"
   ]
  },
  {
   "cell_type": "markdown",
   "metadata": {},
   "source": [
    "#### Place an example here"
   ]
  },
  {
   "cell_type": "markdown",
   "metadata": {},
   "source": [
    "## Formula derivation"
   ]
  },
  {
   "cell_type": "code",
   "execution_count": null,
   "metadata": {},
   "outputs": [],
   "source": []
  },
  {
   "cell_type": "markdown",
   "metadata": {},
   "source": [
    "### Interpretation"
   ]
  },
  {
   "cell_type": "code",
   "execution_count": null,
   "metadata": {},
   "outputs": [],
   "source": []
  },
  {
   "cell_type": "markdown",
   "metadata": {},
   "source": []
  },
  {
   "cell_type": "code",
   "execution_count": null,
   "metadata": {},
   "outputs": [],
   "source": []
  },
  {
   "cell_type": "markdown",
   "metadata": {},
   "source": [
    "### Simulation"
   ]
  },
  {
   "cell_type": "code",
   "execution_count": 1,
   "metadata": {
    "pycharm": {
     "is_executing": false
    }
   },
   "outputs": [
    {
     "name": "stderr",
     "output_type": "stream",
     "text": [
      "<ipython-input-1-cfa83a3b2a72>:12: UserWarning: Matplotlib is currently using module://ipykernel.pylab.backend_inline, which is a non-GUI backend, so cannot show the figure.\n",
      "  fig.show()\n"
     ]
    },
    {
     "data": {
      "image/png": "[encoded data removed]",
      "text/plain": [
       "<Figure size 432x288 with 1 Axes>"
      ]
     },
     "metadata": {
      "needs_background": "light"
     },
     "output_type": "display_data"
    }
   ],
   "source": [
    "import numpy as np\n",
    "import matplotlib.pyplot as plt\n",
    "\n",
    "m = 100\n",
    "n = 100\n",
    "matrix = np.random.normal(0,1,m*n).reshape(m,n)\n",
    "\n",
    "fig = plt.figure()\n",
    "ax = fig.add_subplot(111)\n",
    "plt.ion()\n",
    "\n",
    "fig.show()\n",
    "fig.canvas.draw()\n",
    "\n",
    "for i in range(0,100):\n",
    "    ax.clear()\n",
    "    ax.plot(matrix[i,:])\n",
    "    fig.canvas.draw()"
   ]
  },
  {
   "cell_type": "code",
   "execution_count": 1,
   "metadata": {
    "pycharm": {
     "name": "#%%\n"
    }
   },
   "outputs": [],
   "source": [
    "# origin code : https://plotly.com/python/figurewidget-app/\n",
    "\n",
    "import datetime\n",
    "import numpy as np\n",
    "import pandas as pd\n",
    "import plotly.graph_objects as go\n",
    "from ipywidgets import widgets\n",
    "\n",
    "# df = pd.read_csv('https://raw.githubusercontent.com/yankev/testing/master/datasets/nycflights.csv')\n",
    "# df = df.drop(df.columns[[0]], axis=1)\n",
    "# df['carrier'].unique()"
   ]
  },
  {
   "cell_type": "code",
   "execution_count": 19,
   "metadata": {
    "pycharm": {
     "name": "#%%\n"
    }
   },
   "outputs": [
    {
     "name": "stdout",
     "output_type": "stream",
     "text": [
      "       q_dot  emissive_power  external_radiosity  emissivity\n",
      "0          0               1                   1           0\n",
      "1          0               2                   1           0\n",
      "2          0               3                   1           0\n",
      "3          0               4                   1           0\n",
      "4          0               5                   1           0\n",
      "...      ...             ...                 ...         ...\n",
      "12095    396               7                  11          99\n",
      "12096    297               8                  11          99\n",
      "12097    198               9                  11          99\n",
      "12098     99              10                  11          99\n",
      "12099      0              11                  11          99\n",
      "\n",
      "[12100 rows x 4 columns]\n"
     ]
    }
   ],
   "source": [
    "df = {}\n",
    "\n",
    "emissivity_step_nb = 100\n",
    "emissivity = widgets.FloatSlider(\n",
    "    value=0.0,\n",
    "    min=0.0,\n",
    "    max=1.0,\n",
    "    step=1/emissivity_step_nb,\n",
    "    description='Proportional emissivity',\n",
    "    continuous_update=False\n",
    ")\n",
    "df['emissivity'] = []\n",
    "for i in range(emissivity_step_nb+1):\n",
    "    df['emissivity'].append(i/emissivity_step_nb)\n",
    "\n",
    "external_radiosity_max_value = 12\n",
    "external_radiosity_step_size = 1\n",
    "external_radiosity = widgets.IntSlider(\n",
    "    value=1.0 * external_radiosity_step_size,\n",
    "    min=1.0 * external_radiosity_step_size,\n",
    "    max=external_radiosity_max_value,\n",
    "    step=external_radiosity_step_size,\n",
    "    description='External radiosity:',\n",
    "    continuous_update=False\n",
    ")\n",
    "df['external_radiosity'] = []\n",
    "for i in range(external_radiosity_step_size, external_radiosity_max_value+1, external_radiosity_step_size):\n",
    "    df['external_radiosity'].append(i)\n",
    "\n",
    "emissive_power_max_value = 12\n",
    "\n",
    "emissive_power_step_size = 1\n",
    "emissive_power = widgets.IntSlider(\n",
    "    value=1.0 * emissive_power_step_size,\n",
    "    min=1.0 * emissive_power_step_size,\n",
    "    max=emissive_power_max_value,\n",
    "    step=emissive_power_step_size,\n",
    "    description='Emissivity of equivalent black body:',\n",
    "    continuous_update=False\n",
    ")\n",
    "df['emissive_power'] = []\n",
    "for i in range(emissive_power_step_size, emissive_power_max_value+1, emissive_power_step_size):\n",
    "    df['emissive_power'].append(i)\n",
    "\n",
    "data = []\n",
    "for epsilon in range(emissivity_step_nb):\n",
    "    for Eb in range(external_radiosity_step_size, external_radiosity_max_value, external_radiosity_step_size):\n",
    "        for E0 in range(emissive_power_step_size, emissive_power_max_value, emissive_power_step_size):\n",
    "            data.append({'q_dot':epsilon * (Eb - E0),\n",
    "                         'emissive_power': E0,\n",
    "                        'external_radiosity': Eb,\n",
    "                        'emissivity': epsilon\n",
    "                        })\n",
    "\n",
    "df = pd.DataFrame(data)\n",
    "print(df)"
   ]
  },
  {
   "cell_type": "code",
   "execution_count": 18,
   "metadata": {
    "pycharm": {
     "name": "#%%\n"
    }
   },
   "outputs": [
    {
     "data": {
      "text/plain": "VBox(children=(VBox(children=(FloatSlider(value=0.61, continuous_update=False, description='Proportional emiss…",
      "application/vnd.jupyter.widget-view+json": {
       "version_major": 2,
       "version_minor": 0,
       "model_id": "1ae041399a4740f0bc8edaf198d78b60"
      }
     },
     "metadata": {},
     "output_type": "display_data"
    }
   ],
   "source": [
    "container = widgets.VBox(children=[emissivity, external_radiosity, emissive_power])\n",
    "\n",
    "# Assign an empty figure widget with two traces\n",
    "trace1 = go.Histogram(x=df['q_dot'], opacity=0.75, name='q dot')\n",
    "g = go.FigureWidget(data=[trace1],\n",
    "                    layout=go.Layout(\n",
    "                        title=dict(\n",
    "                            text='Heat Quantity simulation'\n",
    "                        ),\n",
    "                        barmode='overlay'\n",
    "                    ))\n",
    "\n",
    "def validate():\n",
    "    if emissivity.value in df['emissivity'] \\\n",
    "            and external_radiosity.value in df['external_radiosity'] \\\n",
    "            and emissive_power.value in df['emissive_power']:\n",
    "        return True\n",
    "    else:\n",
    "        return False\n",
    "\n",
    "\n",
    "def response(change):\n",
    "    if validate():\n",
    "        filter_list = []\n",
    "        for i, j, k in zip( emissivity.value == np.array(df['emissivity']),\n",
    "                            df['external_radiosity'] == external_radiosity.value,\n",
    "                            df['emissive_power'] == emissive_power.value\n",
    "                           ):\n",
    "            filter_list.append(i and j and k)\n",
    "        temp_df = df[filter_list]\n",
    "\n",
    "        x1 = temp_df['q_dot']\n",
    "        with g.batch_update():\n",
    "            g.data[0].x = x1\n",
    "            g.layout.barmode = 'overlay'\n",
    "            g.layout.xaxis.title = ''\n",
    "            g.layout.yaxis.title = 'q dot value'\n",
    "\n",
    "\n",
    "emissive_power.observe(response, names=\"value\")\n",
    "external_radiosity.observe(response, names=\"value\")\n",
    "emissivity.observe(response, names=\"value\")\n",
    "\n",
    "# container2 = widgets.HBox([emissive_power, external_radiosity])\n",
    "widgets.VBox([container,\n",
    "              # container2,\n",
    "              g])"
   ]
  },
  {
   "cell_type": "code",
   "execution_count": null,
   "metadata": {},
   "outputs": [],
   "source": []
  }
 ],
 "metadata": {
  "kernelspec": {
   "display_name": "Python 3",
   "language": "python",
   "name": "python3"
  },
  "language_info": {
   "codemirror_mode": {
    "name": "ipython",
    "version": 3
   },
   "file_extension": ".py",
   "mimetype": "text/x-python",
   "name": "python",
   "nbconvert_exporter": "python",
   "pygments_lexer": "ipython3",
   "version": "3.8.0"
  }
 },
 "nbformat": 4,
 "nbformat_minor": 4
}