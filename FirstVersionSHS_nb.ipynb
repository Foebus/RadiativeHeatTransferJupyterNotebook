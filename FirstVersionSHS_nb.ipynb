{
 "cells": [
  {
   "cell_type": "markdown",
   "metadata": {},
   "source": [
    "# Radiative Heat Transfer General Equation"
   ]
  },
  {
   "cell_type": "markdown",
   "metadata": {},
   "source": [
    "## Brief reminder"
   ]
  },
  {
   "cell_type": "markdown",
   "metadata": {},
   "source": [
    "Let start with a brief reminder about basics concepts of Heat Transfer\n",
    "Add some text to introduce the goal of the notebook"
   ]
  },
  {
   "cell_type": "markdown",
   "metadata": {},
   "source": [
    "### Heat Flux"
   ]
  },
  {
   "cell_type": "markdown",
   "metadata": {},
   "source": [
    "The heat flux is the quantity of thermal energy going through a surface for a given unit of time.\n",
    "We can express the heat flux in terms of two quantities : Radiosity (J, energy that leaves the surface) and irradiation (H, The energy absorbed by the surface). \n",
    "$$\\dot{q} = J - H \\; (\\star)$$\n",
    "And thus, if $\\dot{q} \\gt 0$ it implies that more energy is emitted by the surface than absobed\n",
    "\n",
    "An alternate way to express the heat flux is to relate it to Emissivity($\\epsilon$), Emitted power($E_b$), Absorptivity($\\alpha$) and Irradiation.\n",
    "$$\\dot{q} = \\epsilon E_b - \\alpha H $$ \n",
    "**Assumption**: we will assume that we only work with gray diffuse surfaces and thus Emissivity = Absorptivity\n",
    "$$\\dot{q} = \\epsilon (E_b - H)\\; (1)$$"
   ]
  },
  {
   "cell_type": "markdown",
   "metadata": {},
   "source": [
    "### Radiosity"
   ]
  },
  {
   "cell_type": "markdown",
   "metadata": {},
   "source": [
    "Radiosity is the rate at which radiative energy leaves the surface by emission and reflection\n",
    "\n",
    "This quantity is often named J and  $J\\geq0$\n",
    "\n",
    "Radiosity may also rewritten in terms of the emissivity, the emitted power and the heat flux\n",
    "$$ J = \\epsilon E_b$$\n",
    "$$ \\dot{q} = J - H \\iff H = J - \\dot{q} \\> (2)$$\n",
    "$$ \\epsilon (E_b - H) \\iff H = E_b - \\frac{\\dot{q}}{\\epsilon}\\> (3) $$\n",
    "$$ (2) = (3) \\iff J - \\dot{q} = E_b - \\frac{\\dot{q}}{\\epsilon}$$\n",
    "$$ \\iff J = E_b - \\frac{1 - \\epsilon}{\\epsilon}\\dot{q}$$"
   ]
  },
  {
   "cell_type": "markdown",
   "metadata": {},
   "source": [
    "### Irradiation"
   ]
  },
  {
   "cell_type": "markdown",
   "metadata": {},
   "source": [
    "Irradiation is the exact complementary of radiosity, what is emitted by a surface through radiosity is absorbed by an other one through irradiation.\n",
    "It is thus the rate at which energy enters a surface.\n",
    "\n",
    "This quantity is often named H and $H\\geq0$"
   ]
  },
  {
   "cell_type": "markdown",
   "metadata": {},
   "source": [
    "### Emissivity"
   ]
  },
  {
   "cell_type": "markdown",
   "metadata": {},
   "source": [
    "The emissivity of a surface is the proportion of emitted power effectively leaving the surface.\n",
    "\n",
    "This factor is often noted $\\epsilon$ and $0 \\leq \\epsilon \\leq 1$"
   ]
  },
  {
   "cell_type": "markdown",
   "metadata": {},
   "source": [
    "### Absorptivity"
   ]
  },
  {
   "cell_type": "markdown",
   "metadata": {},
   "source": [
    "The absorptivity is the propostion of the irradiation absorbed by the surface\n",
    "\n",
    "This factor is often noted $\\alpha$ and $0 \\leq \\alpha \\leq 1$"
   ]
  },
  {
   "cell_type": "markdown",
   "metadata": {},
   "source": [
    "### View Factor"
   ]
  },
  {
   "cell_type": "markdown",
   "metadata": {},
   "source": [
    "View factor between two finite surface elements ≡ ratio of energy leaving\n",
    "$A_i$ per unit time directly toward and intercepted by $A_j$ to all energy leaving $A_i$\n",
    "per unit time"
   ]
  },
  {
   "cell_type": "markdown",
   "metadata": {},
   "source": [
    "#### Place an example here"
   ]
  },
  {
   "cell_type": "markdown",
   "metadata": {},
   "source": [
    "## Formula derivation"
   ]
  },
  {
   "cell_type": "code",
   "execution_count": null,
   "metadata": {},
   "outputs": [],
   "source": []
  },
  {
   "cell_type": "markdown",
   "metadata": {},
   "source": [
    "### Interpretation"
   ]
  },
  {
   "cell_type": "code",
   "execution_count": null,
   "metadata": {},
   "outputs": [],
   "source": []
  },
  {
   "cell_type": "markdown",
   "metadata": {},
   "source": []
  },
  {
   "cell_type": "code",
   "execution_count": null,
   "metadata": {},
   "outputs": [],
   "source": []
  },
  {
   "cell_type": "markdown",
   "metadata": {},
   "source": [
    "### Simmulation"
   ]
  },
  {
   "cell_type": "code",
   "execution_count": null,
   "metadata": {},
   "outputs": [],
   "source": []
  }
 ],
 "metadata": {
  "kernelspec": {
   "display_name": "Python 3",
   "language": "python",
   "name": "python3"
  },
  "language_info": {
   "codemirror_mode": {
    "name": "ipython",
    "version": 3
   },
   "file_extension": ".py",
   "mimetype": "text/x-python",
   "name": "python",
   "nbconvert_exporter": "python",
   "pygments_lexer": "ipython3",
   "version": "3.6.9"
  }
 },
 "nbformat": 4,
 "nbformat_minor": 4
}
