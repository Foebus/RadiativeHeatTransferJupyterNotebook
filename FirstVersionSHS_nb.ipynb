{
 "cells": [
  {
   "cell_type": "markdown",
   "metadata": {},
   "source": [
    "# Radiative Exchange between Surfaces"
   ]
  },
  {
   "cell_type": "code",
   "execution_count": null,
   "metadata": {
    "pycharm": {
     "name": "#%%\n"
    }
   },
   "outputs": [],
   "source": [
    "# Run me\n",
    "\n",
    "from bokeh.io import output_notebook\n",
    "from InteractionOwnLibrary import create_simulation_from_description\n",
    "from MCQCollection import *\n",
    "from QuestionVerifiers import *\n",
    "from simulationCollection import *\n",
    "output_notebook()\n",
    "import numpy as np\n",
    "from numpy import nan"
   ]
  },
  {
   "cell_type": "markdown",
   "metadata": {
    "pycharm": {
     "name": "#%% md\n"
    }
   },
   "source": [
    "Please answer a couple of short questions before starting the notebook!\n",
    "\n",
    "https://docs.google.com/forms/d/1s1EIRDq2qorGQ1bRyFgjA3tURX9BmRNbBfWluhTc_RE/edit"
   ]
  },
  {
   "cell_type": "markdown",
   "metadata": {},
   "source": [
    "In this notebook, theory and computational examples of $\\textbf{radiative heat transfer between surfaces}$ is presented."
   ]
  },
  {
   "cell_type": "markdown",
   "metadata": {},
   "source": [
    "## Goals"
   ]
  },
  {
   "cell_type": "markdown",
   "metadata": {},
   "source": [
    "- Recalling concepts: $\\textbf{heat flux}$, $\\textbf{radiosity}$, $\\textbf{irradiation}$, $\\textbf{emissivity}$, $\\textbf{absorptivity}$ and $\\textbf{view factor}$\n",
    "- Deriving the $\\textbf{governing equation of radiative heat transfer}$ in enclosures\n",
    "- Developing a physical intuition for the equation\n",
    "- Assessing one's comprehension of the topic through short exercises"
   ]
  },
  {
   "cell_type": "markdown",
   "metadata": {},
   "source": [
    "## Brief reminder"
   ]
  },
  {
   "cell_type": "markdown",
   "metadata": {},
   "source": [
    "Let us get begin with a brief reminder of the basic concepts of heat transfer."
   ]
  },
  {
   "cell_type": "markdown",
   "metadata": {},
   "source": [
    "### Heat Flux"
   ]
  },
  {
   "cell_type": "markdown",
   "metadata": {},
   "source": [
    "Heat flux can be defined as the rate of thermal energy transfer through a given surface, denoted by $\\dot{q}$. Its SI units are watts per square metre ($W⋅m^{−2}$). Note that the dot $\"\\dot{}\"$ stems from the fact that heat flux is per unit time and hence a rate. It takes after Newton's notation for the time-derivative, i.e. $\\dot{q} = \\frac{dq}{dt}$.\n",
    "\n",
    "One can define the heat flux in terms of three quantities : \n",
    "\n",
    "- $\\textbf{Radiosity}\\,(J)$: the rate at which radiative energy leaves a surface.\n",
    "- $\\textbf{Irradiation}\\,(H)$: the rate at which radiative energy impacts a surface.\n",
    "\n",
    "Naturally, heat flux is the difference between the two.\n",
    "$$\\dot{q} = J - H \\; (\\star)$$\n",
    "\n",
    "Thus, by convention (which is given by the normal vector of the surface pointing into the enclosure), if $\\dot{q} \\gt 0$ then, more energy is emitted by the surface than absorbed per unit time. \n",
    "\n",
    "Alternatively, the heat flux through an opaque surface can be computed from the following quantities:\n",
    "- $\\textbf{Blackbody emissive power}\\,(E_b)$\n",
    "- $\\textbf{Emissivity}\\,(\\epsilon)$\n",
    "- $\\textbf{Absorptivity}\\,(\\alpha)$\n",
    "- $\\textbf{Reflectivity}\\,(\\rho)$\n",
    "- $\\textbf{View Factor}$\n",
    "- $\\textbf{Irradiation}\\,(H)$"
   ]
  },
  {
   "cell_type": "markdown",
   "metadata": {},
   "source": [
    "### Blackbody Emissive Power"
   ]
  },
  {
   "cell_type": "markdown",
   "metadata": {},
   "source": [
    "A blackbody is an material that absorbs all radiation striking it, for all wavelengths. When a blackbody is at a constant temperature (i.e. at equilibrium), its emission has a characteristic wavelength distribution that depends on the temperature. Its emission is called blackbody radiation. \n",
    "\n",
    "Blackbody emissive power: the rate at which emissive energy leaves from a given surface of a blackbody at the wavelength $\\lambda$. Its SI units are $W/(m^2⋅\\mu m)$. \n",
    "\n",
    "According to Plank’s law, the spectral hemispherical emissive power of a blackbody:\n",
    "\n",
    "$$E_{b\\lambda}(T,\\lambda)=\\pi I_{b\\lambda}(T,\\lambda)=\\frac{C_1}{n^2\\lambda^5(e^{C_2/(n\\lambda T)}-1)}$$\n",
    "\n",
    "where:\n",
    "\n",
    "$I_{b\\lambda}(T,\\lambda)$: the intensity of emissive radiation\n",
    "\n",
    "$C_1$: first radiation constant ($=2\\pi hc_0^2=3.7418x10^8$ $W{\\mu m}^4m^{-2}$)\n",
    "\n",
    "$C_2$: second radiation constant ($=hc_0/k=14,388.69$ $\\mu m K$)\n",
    "\n",
    "$h$: Planck constant\n",
    "\n",
    "$c_0$: speed of light in a vacuum\n",
    "\n",
    "$k$: Boltzmann constant\n",
    "\n",
    "$n$: real part of the refractive index ($1$ in a vacuum)\n",
    "\n",
    "Note that we assume that emissive power does not depend on the direction of emission (called diffuse emitter, sometimes it can depend on the direction) and that it is emitted over a hemisphere.\n",
    "\n",
    "<div  style=\"\">\n",
    "    <img src=\"img/Blackbody_emissive_power.gif\" alt=\"blackbody emissive power\"/>\n",
    "</div>\n",
    "\n",
    "As the above graph shows, the total emissive power ($E_{b\\lambda,max}$) increases with temperature while the peak of the emission spectrum shifts to the lower wavelength as the below equations tell us:\n",
    "\n",
    "$$\\frac{d}{d(n\\lambda T)}(\\frac{E_{b\\lambda}(n\\lambda T)}{n^3T^5})=0$$\n",
    "\n",
    "$$(n\\lambda T)_{max}=\\frac{C_2}{5}(\\frac{1}{1-e^{-C_2/(n\\lambda T)_{max}}})=C_3=2897.8  \\mu mK$$\n",
    "\n",
    "$$E_{b\\lambda,max}=n^3T^5\\frac{C_1}{C_3^5(e^{C_2/C_3}-1)}$$\n",
    "\n",
    "The total hemispherical emissive power of a blackbody: the total energy radiated per unit surface area of a blackbody across all wavelengths per unit time, governed by the $\\textbf{Stefan-Boltzmann law}$:\n",
    "\n",
    "$$E_b(T)= \\int_0^{+\\infty}{E_{b\\lambda}(T,\\lambda)}{\\rm d}\\lambda = \\sigma T^4$$\n",
    "\n",
    "where $T$ is the absolute temperature of the blackbody surface, and $\\sigma$ is Stefan-Boltzmann constant = $5.6704\\cdot10^{-8} Wm^{-2}K^{-4}$.\n",
    "\n",
    "**Example**: What is the effective emissive power of a surface with emissivity of 0.5 at temperature of $300 K$?\n",
    "\n",
    "**Answer**:\n",
    "\n",
    "The total blackbody emissive power at $300 K$ is: $$E_b = \\sigma T^4 = 5.6704\\cdot10^{-8} Wm^{-2}K^{-4}\\cdot300^4 K^4 = 459.3 Wm^{-2}$$\n",
    "\n",
    "Therefore, the effective emissive power of the surface at $300 K$ is: $$E_e = \\epsilon E_b = 0.5\\cdot459.3 Wm^{-2} = 229.7 Wm^{-2}$$"
   ]
  },
  {
   "cell_type": "markdown",
   "metadata": {},
   "source": [
    "### Emissivity"
   ]
  },
  {
   "cell_type": "markdown",
   "metadata": {},
   "source": [
    "Emissivity is the most basic radiative property for emission from an opaque surface. The emissivity of an opaque surface is the ratio of the actual emissive power ($E_e$) to that of a black surface ($E_b$) at the same conditions, usually denoted by $\\epsilon$ and $0 \\leq \\epsilon \\leq 1$.\n",
    "\n",
    "The spectral hemispherical emissivity is given as $\\epsilon_{\\lambda}(\\lambda,T)$, and the total hemispherical emissivity is a spectrally averaged value which is independent of the wavelength of emission, denoted by $\\epsilon(T)$. \n",
    "\n",
    "$$ \\epsilon_{\\lambda}(\\lambda,T) = \\frac{E_{e\\lambda}(\\lambda,T)}{E_{b\\lambda}(\\lambda,T)}$$"
   ]
  },
  {
   "cell_type": "markdown",
   "metadata": {},
   "source": [
    "### Absorptivity"
   ]
  },
  {
   "cell_type": "markdown",
   "metadata": {},
   "source": [
    "The absorptivity of a surface is the ratio of the heat flux absorbed by the surface ($E_a$) to the irradiation ($H$), usually denoted  by $\\alpha$ and such that $0 \\leq \\alpha \\leq 1$. Likewise, we can distinguish between directional and hemispherical, as well as spectral and total absorptivity. Here we show as an example the total hemispherical absorptivity:\n",
    "\n",
    "$$ \\alpha (T) = \\frac{E_a(T)}{H}$$"
   ]
  },
  {
   "cell_type": "markdown",
   "metadata": {},
   "source": [
    "### View Factor"
   ]
  },
  {
   "cell_type": "markdown",
   "metadata": {},
   "source": [
    "View factor between two finite surface elements ≡ ratio of energy leaving the surface $A_i$ per unit time directly toward and intercepted by the surface $A_j$, $Q_{i-j}$, compared to all energy leaving the surface $A_i$ per unit time, denoted $Q_{i}$.\n",
    "\n",
    "$$ F_{i-j} = \\frac{Q_{i-j}}{Q_i}$$\n",
    "\n",
    "For plane and convex surfaces, energy leaving from one surface cannot reach itself, i.e. $F_{i-i}=0$. For non-convex surfaces, $F_{i-i}\\not=0$.\n",
    "\n",
    "<div  style=\"\">\n",
    "    <img src=\"img/View_factor.png\" alt=\"View factor\"/>\n",
    "</div>\n",
    "\n",
    "$\\textbf{Properties}$ of view factor:\n",
    "\n",
    "(1) Bounding. View factors are bounded to $0≤F_{i-j}≤1$ by definition.\n",
    "\n",
    "(2) Closeness. Due to conservation of energy, summing up all view factors from a given surface in an enclosure,$\\sum\\limits_{j=1}^N F_{i-j} = 1$.\n",
    "\n",
    "(3) Reciprocity. $A_iF_{i-j}=A_jF_{j-i}$.\n",
    "\n",
    "$\\textbf{Example}$: For two infinite concentric cylinders/spheres as shown below, what values are view factors of $F_{1-1}$, $F_{1-2}$, $F_{2-1}$, $F_{2-2}$ with cylinders of radii $R_1 = 1$, $R_2 = 2$?\n",
    "\n",
    "<div  style=\"\">\n",
    "    <img src=\"img/Example_view_factor.png\" alt=\"Example view factor\" width=\"250\"/>\n",
    "</div>"
   ]
  },
  {
   "cell_type": "markdown",
   "metadata": {},
   "source": [
    "Below, you can solve the example."
   ]
  },
  {
   "cell_type": "code",
   "execution_count": null,
   "metadata": {},
   "outputs": [],
   "source": [
    "# Run me\n",
    "ViewFactorMCQ11()"
   ]
  },
  {
   "cell_type": "code",
   "execution_count": null,
   "metadata": {},
   "outputs": [],
   "source": [
    "# Run me\n",
    "ViewFactorMCQ12()"
   ]
  },
  {
   "cell_type": "code",
   "execution_count": null,
   "metadata": {},
   "outputs": [],
   "source": [
    "# Run me\n",
    "ViewFactorMCQ21()"
   ]
  },
  {
   "cell_type": "code",
   "execution_count": null,
   "metadata": {},
   "outputs": [],
   "source": [
    "# Run me\n",
    "ViewFactorMCQ22()"
   ]
  },
  {
   "cell_type": "markdown",
   "metadata": {},
   "source": [
    "### Radiosity"
   ]
  },
  {
   "cell_type": "markdown",
   "metadata": {},
   "source": [
    "Radiosity is the rate at which radiative energy leaves a given surface by emission, reflection and transmission. This quantity is denoted by $J$ and $J\\geq0$. Its SI unit is watt per square metre ($W⋅m^{−2}$). Note that the transmitted component of radiosity vanishes when discussing opaque surfaces. \n",
    "\n",
    "<div  style=\"\">\n",
    "    <img src=\"img/heat_flux_new.png\" alt=\"Heat flux\" width=\"500\"/>\n",
    "</div>\n",
    "\n",
    "As shown in the image, radiosity is the sum of the effective emissive power, $\\epsilon E_b$ and the reflected irradiation $\\rho H$:\n",
    "\n",
    "$$ J = \\epsilon E_b + \\rho H $$\n",
    "\n",
    "For opaque surfaces, due to the conservation of energy, the relation $\\alpha + \\rho = 1$ holds and so we can rewrite the above as:\n",
    "\n",
    "$$ J = \\epsilon E_b + (1-\\alpha) H \\; (1)$$\n",
    "\n",
    "**Example**: A gray-diffuse surface with emissivity of 0.5 is under irradiation of $325 Wm^{-2}$ at temperature of $300 K$. What is the radiosity of the surface in $W⋅m^{−2}$?\n",
    "\n",
    "**Answer**:\n",
    "\n",
    "The total blackbody emissive power at $300 K$ is: $$E_b = \\sigma T^4 = 5.6704\\cdot10^{-8} Wm^{-2}K^{-4}\\cdot300^4 K^4 = 459.3 Wm^{-2}$$\n",
    "\n",
    "Therefore, the heat flux of this surface is: $$\\dot{q} = \\epsilon (E_b - H) = 0.5\\cdot(459.3 Wm^{-2} - 325 Wm^{-2})= 67.15 Wm^{-2}$$\n",
    "\n",
    "Rewriting the definition of $\\dot{q} \\; (\\star)$, we can compute $J$:\n",
    "\n",
    "$$J = \\dot{q} + H = 392.15 Wm^{-2}$$"
   ]
  },
  {
   "cell_type": "markdown",
   "metadata": {},
   "source": [
    "### Irradiation"
   ]
  },
  {
   "cell_type": "markdown",
   "metadata": {},
   "source": [
    "Irradiation is the rate at which radiative energy is received by a given surface. It is the process by which an object is exposed to radiation. Hence, it is the complement to radiosity. This quantity is denoted by $H$ and such that $H\\geq0$. Its SI units are watt per square metre ($W⋅m^{−2}$). Not that the irradiation is always in the opposite direction to the surface normal in an enclosure."
   ]
  },
  {
   "cell_type": "markdown",
   "metadata": {},
   "source": [
    "### Redefining Heat Flux and Radiosity"
   ]
  },
  {
   "cell_type": "markdown",
   "metadata": {},
   "source": [
    "Let us insert equation $(1)$, i.e. $J = \\epsilon E_b + (1-\\alpha) H$ into the definition of heat flux $(\\star)$ ($\\dot{q} = J - H$). We obtain:\n",
    "\n",
    "$$\\dot{q} = \\epsilon E_b - \\alpha H \\;$$\n",
    "\n",
    "**Interpretation**: The heat flux is the difference between the effective emissive power ($\\epsilon E_b$) and the effective absorbed power ($\\alpha H$).\n",
    "\n",
    "**Assumption**: We will assume that we are working only with gray diffuse surfaces, where $\\epsilon = \\alpha$. \n",
    "\n",
    "\n",
    "$$\\dot{q} = \\epsilon (E_b - H) \\;(\\star \\star)$$"
   ]
  },
  {
   "cell_type": "markdown",
   "metadata": {},
   "source": [
    "## Derivation of \"master\" equation"
   ]
  },
  {
   "cell_type": "markdown",
   "metadata": {
    "pycharm": {
     "name": "#%% md\n"
    }
   },
   "source": [
    "Now, the 'Equation for Radiative Heat Transfer in Enclosures' is derived. This equation enables to model radiation between multiple surfaces and to solve for their heat fluxes (or temperature). First, the hypotheses of the problem are defined.\n",
    "\n",
    "Let us assume that our system is in steady-state, i.e. the heat fluxes are independent of time. \n",
    "\n",
    "We start off with the continuous version of heat flux:\n",
    "\n",
    "$$\\dot{q}(r) = J(r) - H(r) - H_o(r)$$\n",
    "\n",
    "where $H_o$ is the irradiation from outside the system and $H$ is the irradiation from inside."
   ]
  },
  {
   "cell_type": "markdown",
   "metadata": {},
   "source": [
    "### Discretizing the Heat Flux"
   ]
  },
  {
   "cell_type": "markdown",
   "metadata": {},
   "source": [
    "We would like to discretize the equation by taking the average heat flux over $N$ different surfaces. To do so, we divide our continuous surface(s) into $N$ different surfaces. For any surface $i$, the heat flux is defined as its surface average:\n",
    "\n",
    "$$\\dot{q}_i := \\frac{\\int\\limits_{A_i}q(r)dA_i}{\\int_{A_i}dA_i}$$\n",
    "\n",
    "Naturally the other quantities are defined in the same fashion:\n",
    "\n",
    "\n",
    "$J_i :=  \\frac{\\int\\limits_{A_i}J(r)dA_i}{\\int\\limits_{A_i}dA_i}$, $H_i :=  \\frac{\\int\\limits_{A_i}H(r)dA_i}{\\int\\limits_{A_i}dA_i}$ and $H_{o,i} :=  \\frac{\\int\\limits_{A_i}H_o(r)dA_i}{\\int\\limits_{A_i}dA_i}$\n",
    "\n",
    "\n",
    "Moreover, we assume that all surfaces are gray-diffuse. We also denote the average emissive power and emissivity by $E_{b,i}$ and $\\epsilon_{i}$. Furthermore, $F_{i-j}$ is the view factor from surface $i$ to surface $j$."
   ]
  },
  {
   "cell_type": "markdown",
   "metadata": {},
   "source": [
    "### Derivation"
   ]
  },
  {
   "cell_type": "markdown",
   "metadata": {},
   "source": [
    "Now we begin with the discretized definition of heat flux of an arbitrary surface $i$:\n",
    "\n",
    "$$\\dot{q}_{i} = J_{i} - H_{i} - H_{o,i} \\> (1)$$\n",
    "\n",
    "One can rewrite the total irradiation incident on surface $i$ in terms of the other surface's radiosities. The proportion of surface $j$'s total radiosity that strikes surface $i$ is the view factor $F_{j-i}$. Hence, we can sum up the contributions from all surfaces impinging on surface $i$.\n",
    "\n",
    "$$H_i A_i = \\sum\\limits_{j=1}^N F_{j-i}A_jJ_{j}$$\n",
    "\n",
    "Using the reciprocity relation $F_{j-i}A_j = F_{i-j}A_i$ we can rewrite the above as:\n",
    "\n",
    "$H_i A_i = \\sum\\limits_{j=1}^N F_{i-j}A_iJ_{j}$ and so dividing by $A_i$ we get:\n",
    "\n",
    "$$H_i = \\sum\\limits_{j=1}^N F_{i-j}J_{j} \\; (2)$$\n",
    "\n",
    "Equation $(1)$ becomes:\n",
    "\n",
    "$$\\dot{q}_{i} = J_{i} - \\sum\\limits_{j=1}^N F_{i-j}J_{j} - H_{o,i} \\> (3)$$\n",
    "\n",
    "Now, we would like to define radiosity in terms of other quantities. Manipulating the 2 definitions of heat flux with the addition of irradiation from outside the system ($H_o$), $(\\star)$ and $(\\star\\star)$, we obtain the ensuing relations which help redefine radiosity.\n",
    "\n",
    "$$ H_i + H_{o,i} = J_i - \\dot{q}_i$$ and $$ H_i + H_{o,i} = E_{b,i} - \\frac{\\dot{q}_i}{\\epsilon_i}\\; $$ which are equal.\n",
    "\n",
    "After a couple of algebraic steps $J_i = E_{b,i} - \\frac{1 - \\epsilon_i}{\\epsilon_i}\\dot{q}_i$ arises. We insert this into $(3)$.\n",
    "\n",
    "$$\\dot{q}_{i} = E_{b,i} - \\frac{1-\\epsilon_{i}}{\\epsilon_{i}}\\dot{q}_{i} - \\sum\\limits_{j=1}^N F_{i-j}(E_{b,j} - \\frac{1-\\epsilon_{j}}{\\epsilon_{j}}\\dot{q}_{j}) - H_{o,i}$$\n",
    "\n",
    "Rearranging some terms, we obtain:\n",
    "\n",
    "$$\\frac{\\dot{q}_{i}}{\\epsilon_{i}} - \\sum\\limits_{j=1}^N F_{i-j}\\frac{1-\\epsilon_{j}}{\\epsilon_{j}}\\dot{q}_{j} + H_{o,i} = E_{b,i} - \\sum\\limits_{j=1}^N F_{i-j}E_{b,j} \\; (4)$$\n",
    "\n",
    "The next step is to use the closeness property of the view factor, i.e. $\\sum\\limits_{j=1}^N F_{i-j} = 1$.\n",
    "\n",
    "This enables us to rewrite $E_{b,i}$ as $\\sum\\limits_{j=1}^N F_{i-j}E_{b,i}$.\n",
    "\n",
    "Our equation becomes\n",
    "\n",
    "$$\\frac{\\dot{q}_{i}}{\\epsilon_{i}} - \\sum\\limits_{j=1}^N F_{i-j}\\frac{1-\\epsilon_{j}}{\\epsilon_{j}}\\dot{q}_{j} + H_{o,i} = \\sum\\limits_{j=1}^N F_{i-j}(E_{b,i} - E_{b,j}) \\; (\\star\\star\\star)$$\n",
    "\n",
    "and holds for all $i=1,...,N$. Note that there are $N$ unknowns and $N$ equations and that this is a linear system. Hence, we can solve it."
   ]
  },
  {
   "cell_type": "markdown",
   "metadata": {},
   "source": [
    "## Conversion to a Matrix System"
   ]
  },
  {
   "cell_type": "markdown",
   "metadata": {
    "pycharm": {
     "name": "#%% md\n"
    }
   },
   "source": [
    "In practice, it is convenient to convert $(\\star\\star\\star)$ to a matrix system. This enables easier computations with a software like Matlab.\n",
    "\n",
    "We introduce the Kronecker Delta:\n",
    "\n",
    "$$\\delta_{ij} = \n",
    "     \\begin{cases}\n",
    "       \\ 1 \\; \\text{if} \\; i = j \\\\\n",
    "       \\ 0 \\; \\text{otherwise} \\\\\n",
    "     \\end{cases}$$\n",
    "     \n",
    "Note that in matrix form, the Kronecker Delta is the $\\textbf{identity matrix}$.\n",
    "\n",
    "Starting from equation $(4)$, one can rewrite $\\dot{q}_{i} = \\sum\\limits_{j=1}^N \\delta_{ij}\\dot{q}_{i}$. One can do the same for $E_{b,i} = \\sum\\limits_{j=1}^N \\delta_{ij}E_{b,i}$ in equation $(4)$. The equation becomes:\n",
    "\n",
    "$$\\sum\\limits_{j=1}^N (\\frac{\\delta_{ij}}{\\epsilon{i}} - F_{i-j}\\frac{1-\\epsilon_{j}}{\\epsilon_{j}})\\dot{q}_{j} + H_{o,i} = \\sum\\limits_{j=1}^N (\\delta_{ij} - F_{i-j})E_{b,j}$$\n",
    "\n",
    "We can define $C$ and $A$ as the $N\\times N$ matrices where:\n",
    "\n",
    "$$C_{ij} = \\frac{\\delta_{ij}}{\\epsilon_{i}} - F_{i-j}\\frac{1-\\epsilon_{j}}{\\epsilon_{j}} $$\n",
    "\n",
    "$$ A_{ij} = \\delta_{ij} - F_{i-j} $$\n",
    "\n",
    "In addition $\\vec{\\dot{q}} = (\\dot{q_{1}},...,\\dot{q_{N}})^{T}$, $\\vec{E_{b}} = (E_{b,1},...,E_{b,N})^{T}$ and $\\vec{H_{o}} = (H_{o,1},...,H_{o,N})^{T} $\n",
    "\n",
    "Putting this all together we get the following system:\n",
    "\n",
    "$$\\sum\\limits_{j=1}^N C_{ij}\\dot{q}_{j} + H_{o,i} = \\sum\\limits_{j=1}^N A_{ij}E_{b,j}$$\n",
    "\n",
    "which is none other than the matrix system:\n",
    "\n",
    "$$C\\vec{\\dot{q}} + \\vec{H_{o}} = A\\vec{E_{b}} \\; (\\star\\star\\star\\star)$$\n",
    "\n",
    "The closed-form solution is:\n",
    "\n",
    "$$\\vec{\\dot{q}} = C^{-1}(A\\vec{E_{b}} - \\vec{H_{o}}) $$\n",
    "\n",
    "Note that dependent on our knowledge of the system and our desired output, this equation can also be solved for $E_b$, i.e. the temperature of th surface, if we have knowledge on the heat flux, $\\dot{q}$."
   ]
  },
  {
   "cell_type": "markdown",
   "metadata": {},
   "source": [
    "## Interpretation"
   ]
  },
  {
   "cell_type": "markdown",
   "metadata": {
    "pycharm": {
     "name": "#%% md\n"
    }
   },
   "source": [
    "Before diving into the math and numbers, it is important to understand what exactly the equation entails. It is a mathematical model of radiation between surfaces. Different factors in the equation are a manifestation of different phenomena.\n",
    "\n",
    "(i) The $F_{i-j}$'s are $\\textbf{geometric properties}$ of the problem.\n",
    "\n",
    "(ii) The $E_{b,i}$'s are the emissive powers of the blackbody surfaces. They are related to the temperatures of the surfaces which could be given in an exercise. These are $\\textbf{boundary conditions}$.\n",
    "\n",
    "(iii) The $\\epsilon_i$'s are $\\textbf{material properties}$.\n",
    "\n",
    "(iv) $H_o$ is also a given in this problem and constitutes a $\\textbf{boundary condition}$.\n",
    "\n",
    "Understanding how an alteration of one property affects the problem is important to rationalize results and helps recognize mistakes. For example, if the irradiation onto every surface from outside the system increases, logically the net heat flux will decrease. We defined it to be positive when it is emitting more energy than it is absorbing. Hence, if it receives more energy from outside the system, it should decrease. This is exactly what the math tells us:\n",
    "\n",
    "$\\dot{q_{i}} = J_i - H_i - H_{o,i}$\n",
    "\n",
    "Hence if $H_{o,i}$ increases, every heat flux $\\dot{q_i}$ does decrease since the math models the problem.\n",
    "\n",
    "Take a look at the simulation below to understand how the various factors play a role in this elementary example."
   ]
  },
  {
   "cell_type": "markdown",
   "metadata": {},
   "source": [
    "## Simulation"
   ]
  },
  {
   "cell_type": "markdown",
   "metadata": {},
   "source": [
    "Below lies a simulation of the solutions to equation $(\\star\\star\\star\\star)$ in the case of concentric cylinders. We recall the situation\n",
    "\n",
    "<div  style=\"\">\n",
    "    <img src=\"img/Example_view_factor.png\" alt=\"Example view factor\" width=\"200\"/>\n",
    "</div>\n",
    "\n",
    "where we want to calculate the heat flux of the inner and outer surfaces, i.e. $\\dot{q_1}$ and $\\dot{q_2}$.\n",
    "\n",
    "Recall that the problem consists of the following parameters:\n",
    "- **Geometric Properties**, i.e. the $F_{i-j}$'s and the $A_i$'s. The $F_{i-j}$'s are constant since the type of geometry does not change. However the areas can be toggled.\n",
    "- **Material Properties**, i.e. the $\\epsilon_i$'s. These can be modified by the user.\n",
    "- **Boundary Conditions**, i.e. the $E_{b,i}$'s which can be altered by the $T_i$'s by the user. In addition, we suppose that the outside irradiation $H_o$ is zero.\n",
    "\n",
    "In the simulation, you can toggle different parameters and see their effects ."
   ]
  },
  {
   "cell_type": "code",
   "execution_count": null,
   "metadata": {
    "pycharm": {
     "name": "#%%\n"
    },
    "scrolled": false
   },
   "outputs": [],
   "source": [
    "# Run me, I'm a simulation of the cylinder example\n",
    "create_simulation_from_description(heat_flux_graph_cylinder_description)"
   ]
  },
  {
   "cell_type": "markdown",
   "metadata": {},
   "source": [
    "Take a minute the derive the heat flux of the outer surface, $\\dot{q}_2$, given the calculated $\\dot{q}_1$. What is the sign of it? \n",
    "\n",
    "Now that the equation has been studied and that we have gone over an example, you are ready to solve your first exercise."
   ]
  },
  {
   "cell_type": "markdown",
   "metadata": {
    "pycharm": {
     "is_executing": false,
     "name": "#%%\n"
    }
   },
   "source": [
    "### Exercise: Infinite parallel plates"
   ]
  },
  {
   "cell_type": "markdown",
   "metadata": {},
   "source": [
    "The problem consists of two parallel infinite plates in a closed-system. We assume that they are $\\textbf{gray-diffuse}$ and that their emissivities are independent of wavelength and position and $\\epsilon_1=0.9$, $\\epsilon_2 = 0.85$.\n",
    "\n",
    "In addition, plate 1 is maintained at temperature $T_1=300 K$ and plate 2 at $T_2=250K$ and there is no irradiation from outside the system.\n",
    "\n",
    "<div  style=\"width:300px;float:right;margin-left:15px;\">\n",
    "    <img src=\"img/infinite_plates.png\" alt=\"infinite plate\"/>\n",
    "</div>\n",
    "\n",
    "We break the problem down into a few steps:\n",
    "\n",
    "$\\textbf{Step 1}$: Compute the emissive power of each surface as a np.array $E$ where element $i$ is $E_{b,i}$\n",
    "\n",
    "**Replace the nan's with your values**.\n",
    "\n",
    "Reminders: (i) Emissive power is the radiosity of a black-body, and (ii) indices start at 0 for numpy arrays"
   ]
  },
  {
   "cell_type": "code",
   "execution_count": null,
   "metadata": {
    "pycharm": {
     "name": "#%%\n"
    }
   },
   "outputs": [],
   "source": [
    "sigma = 5.6704e-8 # Stefan-Boltzmann Constant\n",
    "\n",
    "T = np.zeros([2,1])\n",
    "E = np.zeros([2,1])\n",
    "\n",
    "T[0] = 300. # Temperature 1\n",
    "T[1] = 250. # Temperature 2\n",
    "\n",
    "E[0] = nan\n",
    "E[1] = nan"
   ]
  },
  {
   "cell_type": "markdown",
   "metadata": {},
   "source": [
    "$\\textbf{Step 2}$: Compute the view factors $F_{1-1}$, $F_{1-2}$, $F_{2-1}$ and $F_{2-2}$. Write $F_{i-j}$ as the element $F_{ij}$ of a matrix $F$\n",
    "\n",
    "Hint: Flat plates are convex surfaces"
   ]
  },
  {
   "cell_type": "code",
   "execution_count": null,
   "metadata": {
    "pycharm": {
     "name": "#%%\n"
    }
   },
   "outputs": [],
   "source": [
    "F = np.zeros([2,2])\n",
    "# Define F here\n",
    "F[0,0] = nan\n",
    "F[1,0] = nan\n",
    "F[0,1] = nan\n",
    "F[1,1] = nan"
   ]
  },
  {
   "cell_type": "markdown",
   "metadata": {},
   "source": [
    "$\\textbf{Step 3}$: Assemble the matrices $C$ and $A$ from the equation $(\\star\\star\\star\\star)$ as np.arrays."
   ]
  },
  {
   "cell_type": "code",
   "execution_count": null,
   "metadata": {
    "pycharm": {
     "name": "#%%\n"
    }
   },
   "outputs": [],
   "source": [
    "e = np.zeros([2,1])\n",
    "e[0] = 0.90 # Emissivity 1\n",
    "e[1] = 0.85 # Emissivity 2\n",
    "\n",
    "C = np.zeros([2,2])\n",
    "# Define C here\n",
    "C[0,0] = nan\n",
    "C[1,0] = nan\n",
    "C[0,1] = nan\n",
    "C[1,1] = nan\n",
    "\n",
    "A = np.zeros([2,2])\n",
    "# Define A here\n",
    "A[0,0] = nan\n",
    "A[1,0] = nan\n",
    "A[0,1] = nan\n",
    "A[1,1] = nan"
   ]
  },
  {
   "cell_type": "markdown",
   "metadata": {},
   "source": [
    "$\\textbf{Step 4}$: Compute the solution\n",
    "\n",
    "Reminder: a matrix-vector multiplication is denoted by '@' in python.\n",
    "\n",
    "Hint: use $x = np.linalg.solve(A,b)$ which solves the matrix equation $A\\vec{x}=\\vec{b}$ for $\\vec{x}$."
   ]
  },
  {
   "cell_type": "code",
   "execution_count": null,
   "metadata": {
    "pycharm": {
     "name": "#%%\n"
    }
   },
   "outputs": [],
   "source": []
  },
  {
   "cell_type": "markdown",
   "metadata": {},
   "source": [
    "Check answer here by replacing the **nan**'s with your solution:"
   ]
  },
  {
   "cell_type": "code",
   "execution_count": null,
   "metadata": {},
   "outputs": [],
   "source": [
    "check_exercise_q1(nan)\n",
    "check_exercise_q2(nan)"
   ]
  },
  {
   "cell_type": "markdown",
   "metadata": {},
   "source": [
    "## Feedback\n",
    "\n",
    "Thank you for going through our notebook! We encourage you to return to our survey! Thank you for your feedback!\n",
    "\n",
    "https://docs.google.com/forms/d/1s1EIRDq2qorGQ1bRyFgjA3tURX9BmRNbBfWluhTc_RE/edit if you happened to close it."
   ]
  },
  {
   "cell_type": "markdown",
   "metadata": {},
   "source": [
    "## References"
   ]
  },
  {
   "cell_type": "markdown",
   "metadata": {},
   "source": [
    "1. Modest, $\\textit{Michael F.}$, and $\\textit{Daniel C. Haworth}$. \"Radiation Properties, RTE Solvers, and TRI Models.\" Radiative Heat Transfer in Turbulent Combustion Systems. Springer, Cham, 2016. 43-83.\n",
    "\n",
    "2. $\\textit{Haussener S.}$, \"Advanced Heat Transfer\", EPFL, 2020."
   ]
  }
 ],
 "metadata": {
  "kernelspec": {
   "display_name": "Python 3",
   "language": "python",
   "name": "python3"
  },
  "language_info": {
   "codemirror_mode": {
    "name": "ipython",
    "version": 3
   },
   "file_extension": ".py",
   "mimetype": "text/x-python",
   "name": "python",
   "nbconvert_exporter": "python",
   "pygments_lexer": "ipython3",
   "version": "3.8.2"
  },
  "pycharm": {
   "stem_cell": {
    "cell_type": "raw",
    "metadata": {
     "collapsed": false
    },
    "source": []
   }
  }
 },
 "nbformat": 4,
 "nbformat_minor": 4
}
