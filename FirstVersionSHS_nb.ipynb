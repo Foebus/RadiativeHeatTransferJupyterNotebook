{
 "cells": [
  {
   "cell_type": "markdown",
   "metadata": {},
   "source": [
    "# Radiative Exchange between Surfaces"
   ]
  },
  {
   "cell_type": "markdown",
   "metadata": {},
   "source": [
    "In this notebook, a mathematical model of $\\textbf{radiative heat transfer between surfaces}$ is presented."
   ]
  },
  {
   "cell_type": "markdown",
   "metadata": {},
   "source": [
    "## Goals"
   ]
  },
  {
   "cell_type": "markdown",
   "metadata": {},
   "source": [
    "- Recalling concepts as $\\textbf{heat flux}$, $\\textbf{radiosity}$, $\\textbf{irradiation}$, $\\textbf{emissivity}$, $\\textbf{absorptivity}$ and $\\textbf{view factor}$\n",
    "- Deriving the $\\textbf{governing equation of radiative heat transfer}$\n",
    "- Developing a physical intuition for the equation\n",
    "- Assessing one's comprehension of the topic through short exercises"
   ]
  },
  {
   "cell_type": "markdown",
   "metadata": {},
   "source": [
    "## Brief reminder"
   ]
  },
  {
   "cell_type": "markdown",
   "metadata": {},
   "source": [
    "Let us get begin with a brief reminder of the basic concepts of heat transfer."
   ]
  },
  {
   "cell_type": "markdown",
   "metadata": {},
   "source": [
    "### Heat Flux"
   ]
  },
  {
   "cell_type": "markdown",
   "metadata": {},
   "source": [
    "Heat flux is the quantity of thermal energy going through a surface per unit time.\n",
    "One can define the heat flux in terms of two quantities : \n",
    "\n",
    "- $\\textbf{Radiosity}$ (J): the rate at which radiative energy leaves a surface.\n",
    "- $\\textbf{Irradiation}$ (H): the rate at which radiative energy is absorbed by a surface.\n",
    "\n",
    "Naturally, heat flux is the difference between the two.\n",
    "$$\\dot{q} = J - H \\; (\\star)$$\n",
    "\n",
    "Thus, by convention, if $\\dot{q} \\gt 0$ then, more energy is emitted by the surface than absorbed per unit time. \n",
    "\n",
    "Alternatively, a surface's heat flux can be defined in terms of its:\n",
    "- $\\textbf{Emissivity}$($\\epsilon$)\n",
    "- $\\textbf{Emissive power}$($E_b$)\n",
    "- $\\textbf{Absorptivity}$($\\alpha$)\n",
    "- $\\textbf{Irradiation}$ ($H$)\n",
    "\n",
    "This yields the following:\n",
    "\n",
    "$$\\dot{q} = \\epsilon E_b - \\alpha H $$ \n",
    "\n",
    "**Assumption**: we will assume that we are working only with gray diffuse surfaces, where $\\epsilon = \\alpha$.\n",
    "\n",
    "We are left with the following relation:\n",
    "$$\\dot{q} = \\epsilon (E_b - H)\\; (1)$$"
   ]
  },
  {
   "cell_type": "markdown",
   "metadata": {},
   "source": [
    "### Radiosity"
   ]
  },
  {
   "cell_type": "markdown",
   "metadata": {},
   "source": [
    "Radiosity is the rate at which radiative energy leaves a surface by emission and reflection. This quantity is denoted by J in this course. Note that $J\\geq0$.\n",
    "\n",
    "Using the two definitions for heat flux, we can define a surface's radiosity in terms of its emissivity, its emitted power and its heat flux:\n",
    "\n",
    "\n",
    "Starting from $(\\star)$:\n",
    "\n",
    "$ \\dot{q} = J - H $\n",
    "\n",
    "$\\iff H = J - \\dot{q} \\;(2)$\n",
    "\n",
    "Now, using $(1)$:\n",
    "\n",
    "$ \\epsilon (E_b - H) $\n",
    "\n",
    "$\\iff H = E_b - \\frac{\\dot{q}}{\\epsilon}\\; (3) $\n",
    "\n",
    "Putting $(2)$ and $(3)$ together gives the result:\n",
    "\n",
    "$J - \\dot{q} = E_b - \\frac{\\dot{q}}{\\epsilon}$\n",
    "\n",
    "\n",
    "$ \\iff J = E_b - \\frac{1 - \\epsilon}{\\epsilon}\\dot{q} \\; (4) $ \n",
    "\n",
    "Equation $(4)$ is useful in deriving the governing equation."
   ]
  },
  {
   "cell_type": "markdown",
   "metadata": {},
   "source": [
    "### Irradiation"
   ]
  },
  {
   "cell_type": "markdown",
   "metadata": {},
   "source": [
    "Irradiation is the rate at which radiative energy is absorbed by a surface. Hence, it is the complement to radiosity. This quantity is denoted by H in this course. Note that $H\\geq0$."
   ]
  },
  {
   "cell_type": "markdown",
   "metadata": {},
   "source": [
    "### Emissivity"
   ]
  },
  {
   "cell_type": "markdown",
   "metadata": {},
   "source": [
    "The emissivity of a surface is the proportion of emitted power effectively leaving the surface.\n",
    "\n",
    "This factor is usually denoted by $\\epsilon$ and $0 \\leq \\epsilon \\leq 1$."
   ]
  },
  {
   "cell_type": "markdown",
   "metadata": {},
   "source": [
    "### Absorptivity"
   ]
  },
  {
   "cell_type": "markdown",
   "metadata": {},
   "source": [
    "The absorptivity of a surface is the proportion of the incident radiant energy that is absorbed.\n",
    "\n",
    "This factor is usually denoted by $\\alpha$ and $0 \\leq \\alpha \\leq 1$."
   ]
  },
  {
   "cell_type": "markdown",
   "metadata": {},
   "source": [
    "### View Factor"
   ]
  },
  {
   "cell_type": "markdown",
   "metadata": {},
   "source": [
    "View factor between two finite surface elements ≡ ratio of energy leaving\n",
    "$A_i$ per unit time directly toward and intercepted by $A_j$ to all energy leaving $A_i$\n",
    "per unit time"
   ]
  },
  {
   "cell_type": "markdown",
   "metadata": {},
   "source": [
    "#### Place an example here"
   ]
  },
  {
   "cell_type": "markdown",
   "metadata": {},
   "source": [
    "## Formula derivation"
   ]
  },
  {
   "cell_type": "markdown",
   "metadata": {},
   "source": [
    "Now, the 'Radiative Heat Transfer Equation' is derived. This equation enables one to model radiation between multiple surfaces and to solve for their heat fluxes. First, the hypotheses of the problem are defined.\n",
    "\n",
    "Let us assume that our system is in steady-state, i.e. the heat fluxes are independent of time. Moreover, there are $N$ gray-diffuse, black-body surfaces. \n",
    "\n",
    "For all $i=1,...,N$, surface $i$ has an emissive power $E_{b,i}$ and an emissivity $\\epsilon_{i}$. In addition, the irradiation on surface $i$ from outside the system is $H_{o,i}$. The irradiation from within the system is called $H_{i}$. $J_{i}$ denotes surface $i$'s radiosity. Furthermore, $F_{i-j}$ is the view factor from surface $i$ to surface $j$.\n",
    "\n",
    "Let us start off with the definition of heat flux of an arbitrary surface $i$:\n",
    "\n",
    "$\\dot{q}_{i} = J_{i} - H_{i} - H_{o,i} \\> (*)$\n",
    "\n",
    "One can rewrite the $H_{i}$ in terms of the other surface's radiosities. The proportion of a surface $j$'s radiosity that strikes surface $i$ is the view factor $F_{j-i}$. Hence, we can sum up the contributions from all surfaces impinging on surface $i$.\n",
    "\n",
    "$H_{i} = \\sum\\limits_{j=1}^N F_{j-i}J_{j} \\> (5)$\n",
    "\n",
    "In the section on radiosity, we saw that a surface's radiosity could be rewritten in terms of its heat flux, its emitted power and its emissivity. We recall equation $(4)$:\n",
    "\n",
    "$J_{i} = E_{b,i} - \\frac{1-\\epsilon_{i}}{\\epsilon_{i}}\\dot{q}_{i} \\> (4)$\n",
    "\n",
    "$(4)$ is plugged into $(5)$.\n",
    "\n",
    "$H_{i} = \\sum\\limits_{j=1}^N F_{j-i}(E_{b,j} - \\frac{1-\\epsilon_{j}}{\\epsilon_{j}}\\dot{q}_{j}) \\> (6)$\n",
    "\n",
    "We insert $(4)$ and $(6)$ into $(*)$, to replace surface $i$'s radiosity and irradiation:\n",
    "\n",
    "$\\dot{q}_{i} = E_{b,i} - \\frac{1-\\epsilon_{i}}{\\epsilon_{i}}\\dot{q}_{i} - \\sum\\limits_{j=1}^N F_{j-i}(E_{b,j} - \\frac{1-\\epsilon_{j}}{\\epsilon_{j}}\\dot{q}_{j}) - H_{o,i}$\n",
    "\n",
    "Rearranging some terms, we obtain:\n",
    "\n",
    "$\\frac{\\dot{q}_{i}}{\\epsilon_{i}} - \\sum\\limits_{j=1}^N F_{j-i}\\frac{1-\\epsilon_{j}}{\\epsilon_{j}}\\dot{q}_{j} + H_{o,i} = E_{b,i} - \\sum\\limits_{j=1}^N F_{j-i}E_{b,j} \\; (7)$\n",
    "\n",
    "One of the properties of the view factor is that for any surface $i$ :\n",
    "\n",
    "$\\sum\\limits_{j=1}^N F_{j-i} = 1$\n",
    "\n",
    "This enables us to rewrite $E_{b,i}$ as $\\sum\\limits_{j=1}^N F_{j-i}E_{b,i}$.\n",
    "\n",
    "Our equation becomes\n",
    "\n",
    "$\\frac{\\dot{q}_{i}}{\\epsilon_{i}} - \\sum\\limits_{j=1}^N F_{j-i}\\frac{1-\\epsilon_{j}}{\\epsilon_{j}}\\dot{q}_{j} + H_{o,i} = \\sum\\limits_{j=1}^N F_{j-i}(E_{b,i} - E_{b,j}) \\; (\\star\\star)$\n",
    "\n",
    "and holds for all $i=1,...,N$. Note that there are $N$ unknowns and $N$ equations and this is a linear system. Hence, we can solve it."
   ]
  },
  {
   "cell_type": "markdown",
   "metadata": {},
   "source": [
    "## Conversion to a Matrix System"
   ]
  },
  {
   "cell_type": "markdown",
   "metadata": {},
   "source": [
    "In practice, it is convenient to convert $(\\star\\star)$ to a matrix system. This enables easier computations with a software like Matlab.\n",
    "\n",
    "We introduce the Kronecker Delta:\n",
    "\n",
    "$\\delta_{ij} = \n",
    "     \\begin{cases}\n",
    "       \\ 1 \\; \\text{if} \\; i = j \\\\\n",
    "       \\ 0 \\; \\text{otherwise} \\\\\n",
    "     \\end{cases}$\n",
    "     \n",
    "Note that in matrix form, the Kronecker Delta is the $\\textbf{identity matrix}$.\n",
    "\n",
    "Starting from equation $(7)$, one can rewrite $\\dot{q}_{i} = \\sum\\limits_{j=1}^N \\delta_{ij}\\dot{q}_{i}$. One can do the same for $E_{b,i} = \\sum\\limits_{j=1}^N \\delta_{ij}E_{b,i}$ in equation $(7)$. The equation becomes:\n",
    "\n",
    "$\\sum\\limits_{j=1}^N (\\frac{\\delta_{ij}}{\\epsilon{i}} - F_{j-i}\\frac{1-\\epsilon_{j}}{\\epsilon_{j}})\\dot{q}_{j} + H_{o,i} = \\sum\\limits_{j=1}^N (\\delta_{ij} - F_{j-i})E_{b,j}$\n",
    "\n",
    "We can define $C$ and $A$ as the $N\\times N$ matrices where:\n",
    "\n",
    "$C_{ij} = \\frac{\\delta_{ij}}{\\epsilon_{i}} - F_{j-i}\\frac{1-\\epsilon_{j}}{\\epsilon_{j}} $\n",
    "\n",
    "$ A_{ij} = \\delta_{ij} - F_{j-i} $\n",
    "\n",
    "In addition $\\vec{\\dot{q}} = (\\dot{q_{1}},...,\\dot{q_{N}})^{T}$, $\\vec{E_{b}} = (E_{b,1},...,E_{b,N})^{T}$ and $\\vec{H_{o}} = (H_{o,1},...,H_{o,N})^{T} $\n",
    "\n",
    "Putting this all together we get the following system:\n",
    "\n",
    "$\\sum\\limits_{j=1}^N C_{ij}\\dot{q}_{j} + H_{o,i} = \\sum\\limits_{j=1}^N A_{ij}E_{b,j}$\n",
    "\n",
    "which is none other than the matrix system:\n",
    "\n",
    "$C\\vec{\\dot{q}} + \\vec{H_{o}} = A\\vec{E_{b}} \\; (\\star\\star\\star)$\n",
    "\n",
    "The closed-form solution is:\n",
    "\n",
    "$\\vec{\\dot{q}} = C^{-1}(A\\vec{E_{b}} - \\vec{H_{o}}) $"
   ]
  },
  {
   "cell_type": "markdown",
   "metadata": {},
   "source": [
    "### Interpretation"
   ]
  },
  {
   "cell_type": "markdown",
   "metadata": {},
   "source": [
    "Before diving into the math and numbers, it is important to understand what exactly the equation entails. It is a mathematical model of radiation between surfaces. Different factors in the equation are a manifestation of different phenomena.\n",
    "\n",
    "(i) The $F_{i-j}$'s are a $\\textbf{geometric property}$ of the problem.\n",
    "\n",
    "(ii) The $E_{b,i}$'s are the emissive powers of surfaces under the assumption that they are black bodies. They are related to the temperatures of the surfaces which can be given in exercise. These are $\\textbf{boundary conditions}$.\n",
    "\n",
    "(iii) The $\\epsilon_i$'s are $\\textbf{material properties}$.\n",
    "\n",
    "(iv) $H_o$ is also a given in this problem and constitutes a $\\textbf{boundary condition}$.\n",
    "\n",
    "Understanding how an alteration of one property affects the problem is important to rationalize results and helps recognize mistakes. For example, if the irradiation onto every surface from outside the system increases, logically the net heat flux will decrease. We defined it to be positive when it is emitting more energy than it is absorbing. Hence, if it receives more energy from outside the system, it should decrease. This is exactly what the math tells us:\n",
    "\n",
    "$\\dot{q_{i}} = J_i - H_i - H_{o,i}$\n",
    "\n",
    "Hence if $H_{o,i}$ increases, every heat flux $\\dot{q_i}$ does decrease since the math models the problem.\n",
    "\n",
    "Take a look at the simulation below to understand how the various factors play a role in this elementary example. Feel free to toggle the parameters to see how heat flux responds to different alterations:"
   ]
  },
  {
   "cell_type": "markdown",
   "metadata": {},
   "source": [
    "### Simulation"
   ]
  },
  {
   "cell_type": "code",
   "execution_count": 4,
   "metadata": {
    "pycharm": {
     "is_executing": false,
     "name": "#%%\n"
    }
   },
   "outputs": [],
   "source": [
    "# origin code : https://plotly.com/python/figurewidget-app/\n",
    "\n",
    "import datetime\n",
    "import numpy as np\n",
    "import pandas as pd\n",
    "import plotly.graph_objects as go\n",
    "from ipywidgets import widgets\n",
    "\n",
    "# df = pd.read_csv('https://raw.githubusercontent.com/yankev/testing/master/datasets/nycflights.csv')\n",
    "# df = df.drop(df.columns[[0]], axis=1)\n",
    "# df['carrier'].unique()"
   ]
  },
  {
   "cell_type": "code",
   "execution_count": 5,
   "metadata": {
    "pycharm": {
     "is_executing": false,
     "name": "#%%\n"
    }
   },
   "outputs": [
    {
     "name": "stdout",
     "output_type": "stream",
     "text": [
      "                             q_dot  temperature1  temperature2  area1  area2  \\\n",
      "0        [0.0, 0.0, 0.0, 0.0, 0.0]             1             1      1      1   \n",
      "1        [0.0, 0.0, 0.0, 0.0, 0.0]             1             1      1      2   \n",
      "2        [0.0, 0.0, 0.0, 0.0, 0.0]             1             1      1      3   \n",
      "3        [0.0, 0.0, 0.0, 0.0, 0.0]             1             1      1      4   \n",
      "4        [0.0, 0.0, 0.0, 0.0, 0.0]             1             1      1      5   \n",
      "...                            ...           ...           ...    ...    ...   \n",
      "1036795  [0.0, 0.0, 0.0, 0.0, 0.0]            12            12     12      8   \n",
      "1036796  [0.0, 0.0, 0.0, 0.0, 0.0]            12            12     12      9   \n",
      "1036797  [0.0, 0.0, 0.0, 0.0, 0.0]            12            12     12     10   \n",
      "1036798  [0.0, 0.0, 0.0, 0.0, 0.0]            12            12     12     11   \n",
      "1036799  [0.0, 0.0, 0.0, 0.0, 0.0]            12            12     12     12   \n",
      "\n",
      "         emissivity1  \n",
      "0                  0  \n",
      "1                  0  \n",
      "2                  0  \n",
      "3                  0  \n",
      "4                  0  \n",
      "...              ...  \n",
      "1036795           49  \n",
      "1036796           49  \n",
      "1036797           49  \n",
      "1036798           49  \n",
      "1036799           49  \n",
      "\n",
      "[1036800 rows x 6 columns]\n"
     ]
    }
   ],
   "source": [
    "df = {}\n",
    "\n",
    "emissivity_step_nb = 50\n",
    "emissivity1 = widgets.FloatSlider(\n",
    "    value=0.0,\n",
    "    min=0.0,\n",
    "    max=1.0,\n",
    "    step=1/emissivity_step_nb,\n",
    "    description='Proportional emissivity of inner cylinder',\n",
    "    continuous_update=False\n",
    ")\n",
    "df['emissivity1'] = []\n",
    "for i in range(emissivity_step_nb):\n",
    "    df['emissivity1'].append((i+1)/emissivity_step_nb)\n",
    "\n",
    "emissivity2 = widgets.FloatSlider(\n",
    "    value=0.0,\n",
    "    min=0.0,\n",
    "    max=1.0,\n",
    "    step=1/emissivity_step_nb,\n",
    "    description='Proportional emissivity of outer cylinder',\n",
    "    continuous_update=False\n",
    ")\n",
    "df['emissivity2'] = []\n",
    "for i in range(emissivity_step_nb):\n",
    "    df['emissivity2'].append((i+1)/emissivity_step_nb)\n",
    "\n",
    "area_max_value = 12\n",
    "area_step_size = 1\n",
    "area1 = widgets.IntSlider(\n",
    "    value=1.0 * area_step_size,\n",
    "    min=1.0 * area_step_size,\n",
    "    max=area_max_value,\n",
    "    step=area_step_size,\n",
    "    description='Area of the inner cylinder:',\n",
    "    continuous_update=False\n",
    ")\n",
    "df['area1'] = []\n",
    "for i in range(area_step_size, area_max_value+1, area_step_size):\n",
    "    df['area1'].append(i)\n",
    "    \n",
    "area2 = widgets.IntSlider(\n",
    "    value=1.0 * area_step_size,\n",
    "    min=1.0 * area_step_size,\n",
    "    max=area_max_value,\n",
    "    step=area_step_size,\n",
    "    description='Area of the outer cylinder:',\n",
    "    continuous_update=False\n",
    ")\n",
    "df['area2'] = []\n",
    "for i in range(area_step_size, area_max_value+1, area_step_size):\n",
    "    df['area2'].append(i)\n",
    "\n",
    "temperature_max_value = 12\n",
    "temperature_step_size = 1\n",
    "temperature1 = widgets.IntSlider(\n",
    "    value=1.0 * temperature_step_size,\n",
    "    min=1.0 * temperature_step_size,\n",
    "    max=temperature_max_value,\n",
    "    step=temperature_step_size,\n",
    "    description='Temperature of inner cylinder:',\n",
    "    continuous_update=False\n",
    ")\n",
    "df['temperature1'] = []\n",
    "for i in range(temperature_step_size, temperature_max_value+1, temperature_step_size):\n",
    "    df['temperature1'].append(i)\n",
    "    \n",
    "temperature2 = widgets.IntSlider(\n",
    "    value=1.0 * temperature_step_size,\n",
    "    min=1.0 * temperature_step_size,\n",
    "    max=temperature_max_value,\n",
    "    step=temperature_step_size,\n",
    "    description='Temperature of outer cylinder:',\n",
    "    continuous_update=False\n",
    ")\n",
    "df['temperature2'] = []\n",
    "for i in range(temperature_step_size, temperature_max_value+1, temperature_step_size):\n",
    "    df['temperature2'].append(i)\n",
    "\n",
    "sigma = 10**-6\n",
    "data = []\n",
    "for epsilon1 in range(emissivity_step_nb):\n",
    "    e1 = (epsilon1+1)/emissivity_step_nb\n",
    "    for T1 in range(temperature_step_size, temperature_max_value+1, temperature_step_size):\n",
    "        for T2 in range(temperature_step_size, temperature_max_value+1, temperature_step_size):\n",
    "            for A1 in range(area_step_size, area_max_value+1, area_step_size):\n",
    "                for A2 in range(area_step_size, area_max_value+1, area_step_size):\n",
    "                    points = []\n",
    "                    for epsilon2 in range(emissivity_step_nb//10):\n",
    "                        e2 = (epsilon2+1)/emissivity_step_nb\n",
    "                        points.append((A1 * sigma * (pow(T1, 4) - pow(T2, 4)))/(1/e1 + (A1/A2 * (1/e2 - 1))))\n",
    "                    data.append({   'q_dot':points,\n",
    "                                    'temperature1': T1,\n",
    "                                    'temperature2': T2,\n",
    "                                    'area1': A1,\n",
    "                                    'area2': A2,\n",
    "                                    'emissivity1': epsilon1\n",
    "                                })\n",
    "\n",
    "df = pd.DataFrame(data)\n",
    "print(df)"
   ]
  },
  {
   "cell_type": "code",
   "execution_count": 6,
   "metadata": {
    "pycharm": {
     "is_executing": false,
     "name": "#%%\n"
    }
   },
   "outputs": [],
   "source": [
    "container = widgets.VBox(children=[emissivity1, \n",
    "                                   temperature1, temperature2,\n",
    "                                   area1, area2])\n",
    "\n",
    "# Assign an empty figure widget with two traces\n",
    "trace1 = go.Histogram(x=df['q_dot'], opacity=0.75, name='q dot')\n",
    "g = go.FigureWidget(data=[trace1],\n",
    "                    layout=go.Layout(\n",
    "                        title=dict(\n",
    "                            text='Heat Quantity simulation'\n",
    "                        ),\n",
    "                        barmode='overlay'\n",
    "                    ))\n",
    "\n",
    "def validate():\n",
    "    if emissivity1.value in df['emissivity1'] \\\n",
    "            and temperature1.value in df['temperature1'] \\\n",
    "            and temperature2.value in df['temperature2'] \\\n",
    "            and area1.value in df['area1'] \\\n",
    "            and area2.value in df['area2']:\n",
    "        return True\n",
    "    else:\n",
    "        return False\n",
    "\n",
    "\n",
    "def response(change):\n",
    "    if validate():\n",
    "        filter_list = []\n",
    "        for i, j, k in zip( emissivity1.value == np.array(df['emissivity1']),\n",
    "                            df['temperature1'] == temperature1.value, df['temperature2'] == temperature2.value,\n",
    "                            df['area1'] == area1.value, df['area2'] == area2.value\n",
    "                           ):\n",
    "            filter_list.append(i and j and k)\n",
    "        temp_df = df[filter_list]\n",
    "\n",
    "        x1 = temp_df['q_dot']\n",
    "        with g.batch_update():\n",
    "            g.data[0].x = x1\n",
    "            g.layout.barmode = 'overlay'\n",
    "            g.layout.xaxis.title = 'Emissivity of the outer cylinder'\n",
    "            g.layout.yaxis.title = 'Heat flux value'\n",
    "\n",
    "\n",
    "emissivity1.observe(response, names=\"value\")\n",
    "temperature1.observe(response, names=\"value\")\n",
    "area1.observe(response, names=\"value\")\n",
    "temperature2.observe(response, names=\"value\")\n",
    "area2.observe(response, names=\"value\")\n",
    "\n",
    "# container2 = widgets.HBox([emissive_power, external_radiosity])\n",
    "widgets.VBox([container,\n",
    "              # container2,\n",
    "              g])"
   ]
  },
  {
   "cell_type": "code",
   "execution_count": null,
   "metadata": {},
   "outputs": [],
   "source": []
  }
 ],
 "metadata": {
  "kernelspec": {
   "display_name": "Python 3",
   "language": "python",
   "name": "python3"
  },
  "language_info": {
   "codemirror_mode": {
    "name": "ipython",
    "version": 3
   },
   "file_extension": ".py",
   "mimetype": "text/x-python",
   "name": "python",
   "nbconvert_exporter": "python",
   "pygments_lexer": "ipython3",
   "version": "3.7.4"
  },
  "pycharm": {
   "stem_cell": {
    "cell_type": "raw",
    "metadata": {
     "collapsed": false
    },
    "source": []
   }
  }
 },
 "nbformat": 4,
 "nbformat_minor": 4
}
