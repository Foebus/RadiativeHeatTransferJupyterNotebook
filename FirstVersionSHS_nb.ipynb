{
 "cells": [
  {
   "cell_type": "markdown",
   "metadata": {},
   "source": [
    "# Radiative Exchange between Surfaces"
   ]
  },
  {
   "cell_type": "markdown",
   "metadata": {},
   "source": [
    "In this notebook, a mathematical model of $\\textbf{radiative heat transfer between surfaces}$ is presented."
   ]
  },
  {
   "cell_type": "markdown",
   "metadata": {},
   "source": [
    "## Goals"
   ]
  },
  {
   "cell_type": "markdown",
   "metadata": {},
   "source": [
    "- Recalling concepts as $\\textbf{heat flux}$, $\\textbf{radiosity}$, $\\textbf{irradiation}$, $\\textbf{emissivity}$, $\\textbf{absorptivity}$ and $\\textbf{view factor}$\n",
    "- Deriving the $\\textbf{governing equation of radiative heat transfer}$\n",
    "- Developing a physical intuition for the equation\n",
    "- Assessing one's comprehension of the topic through short exercises"
   ]
  },
  {
   "cell_type": "markdown",
   "metadata": {},
   "source": [
    "## Brief reminder"
   ]
  },
  {
   "cell_type": "markdown",
   "metadata": {},
   "source": [
    "Let us get begin with a brief reminder of the basic concepts of heat transfer."
   ]
  },
  {
   "cell_type": "markdown",
   "metadata": {},
   "source": [
    "### Heat Flux"
   ]
  },
  {
   "cell_type": "markdown",
   "metadata": {},
   "source": [
    "Heat flux is the quantity of thermal energy going through a surface per unit time.\n",
    "One can define the heat flux in terms of two quantities : \n",
    "\n",
    "- $\\textbf{Radiosity}$ (J): the rate at which radiative energy leaves a surface.\n",
    "- $\\textbf{Irradiation}$ (H): the rate at which radiative energy is absorbed by a surface.\n",
    "\n",
    "Naturally, heat flux is the difference between the two.\n",
    "$$\\dot{q} = J - H \\; (\\star)$$\n",
    "\n",
    "Thus, by convention, if $\\dot{q} \\gt 0$ then, more energy is emitted by the surface than absorbed per unit time. \n",
    "\n",
    "Alternatively, a surface's heat flux can be defined in terms of its:\n",
    "- $\\textbf{Emissivity}$($\\epsilon$)\n",
    "- $\\textbf{Emissive power}$($E_b$)\n",
    "- $\\textbf{Absorptivity}$($\\alpha$)\n",
    "- $\\textbf{Irradiation}$ (H)\n",
    "\n",
    "This yields the following:\n",
    "\n",
    "$$\\dot{q} = \\epsilon E_b - \\alpha H $$ \n",
    "\n",
    "**Assumption**: we will assume that we are working only with gray diffuse surfaces, where $\\epsilon = \\alpha$.\n",
    "\n",
    "We are left with the following relation:\n",
    "$$\\dot{q} = \\epsilon (E_b - H)\\; (1)$$"
   ]
  },
  {
   "cell_type": "markdown",
   "metadata": {},
   "source": [
    "### Radiosity"
   ]
  },
  {
   "cell_type": "markdown",
   "metadata": {},
   "source": [
    "Radiosity is the rate at which radiative energy leaves a surface by emission and reflection. This quantity is denoted by J in this course. Note that $J\\geq0$.\n",
    "\n",
    "Using the two definitions for heat flux, we can define a surface's radiosity in terms of its emissivity, its emitted power and its heat flux:\n",
    "\n",
    "$$ \\dot{q} = J - H $$\n",
    "$$\\iff H = J - \\dot{q} \\> (2)$$\n",
    "\n",
    "\n",
    "$$ \\epsilon (E_b - H) $$\n",
    "$$\\iff H = E_b - \\frac{\\dot{q}}{\\epsilon}\\> (3) $$\n",
    "\n",
    "\n",
    "\n",
    "$$ (2) = (3) \\iff J - \\dot{q} = E_b - \\frac{\\dot{q}}{\\epsilon}$$\n",
    "$$ \\iff J = E_b - \\frac{1 - \\epsilon}{\\epsilon}\\dot{q}$$\n",
    "\n",
    "This proves useful in deriving the governing equation."
   ]
  },
  {
   "cell_type": "markdown",
   "metadata": {},
   "source": [
    "### Irradiation"
   ]
  },
  {
   "cell_type": "markdown",
   "metadata": {},
   "source": [
    "Irradiation is the rate at which radiative energy is absorbed by a surface. Hence, it is the complement to radiosity. This quantity is denoted by H in this course. Note that $H\\geq0$."
   ]
  },
  {
   "cell_type": "markdown",
   "metadata": {},
   "source": [
    "### Emissivity"
   ]
  },
  {
   "cell_type": "markdown",
   "metadata": {},
   "source": [
    "The emissivity of a surface is the proportion of emitted power effectively leaving the surface.\n",
    "\n",
    "This factor is usually denoted by $\\epsilon$ and $0 \\leq \\epsilon \\leq 1$."
   ]
  },
  {
   "cell_type": "markdown",
   "metadata": {},
   "source": [
    "### Absorptivity"
   ]
  },
  {
   "cell_type": "markdown",
   "metadata": {},
   "source": [
    "The absorptivity of a surface is the proportion of the incident radiant energy that is absorbed.\n",
    "\n",
    "This factor is usually denoted by $\\alpha$ and $0 \\leq \\alpha \\leq 1$."
   ]
  },
  {
   "cell_type": "markdown",
   "metadata": {},
   "source": [
    "### View Factor"
   ]
  },
  {
   "cell_type": "markdown",
   "metadata": {},
   "source": [
    "View factor between two finite surface elements ≡ ratio of energy leaving\n",
    "$A_i$ per unit time directly toward and intercepted by $A_j$ to all energy leaving $A_i$\n",
    "per unit time"
   ]
  },
  {
   "cell_type": "markdown",
   "metadata": {},
   "source": [
    "#### Place an example here"
   ]
  },
  {
   "cell_type": "markdown",
   "metadata": {},
   "source": [
    "## Formula derivation"
   ]
  },
  {
   "cell_type": "markdown",
   "metadata": {},
   "source": [
    "Now, the 'Radiative Heat Transfer Equation' is derived. This equation enables one to model radiation between multiple surfaces and to solve for their heat fluxes. First, the characteristics of the problem are defined.\n",
    "\n",
    "Let us assume that our system is in steady-state, i.e. the heat fluxes are independent of time. Moreover, there are $N$ surfaces which are all gray-diffuse, black-bodies. \n",
    "\n",
    "For all $i=1,...,N$, surface $i$ has an emissive power $E_{b,i}$ and has an emissivity $\\epsilon_{i}$. In addition, the irradiation on surface $i$ from outside the system is $H_{o,i}$. The irradiation from within the system is $H_{i}$. $J_{i}$ is surface $i$'s radiosity. Furthermore, $F_{i-j}$ is the view factor from surface $i$ to surface $j$.\n",
    "\n",
    "Let us start off with the definition of heat flux of an arbitrary surface $i$:\n",
    "\n",
    "$\\dot{q} = J_{i} - H_{i} - H_{o,i}$\n",
    "\n",
    "One can rewrite the $H_{i}$ in terms of the other surface's radiosities. A proportion of a surface $j$'s radiosity strikes surface $i$. This proportion is none other than the view factor $F_{j-i}$. Hence, if we sum this quantity over all surfaces we obtain surface $i$'s irradiation.\n",
    "\n",
    "$H_{i} = $\n",
    "\n",
    "In the section on radiosity, we saw that a surface's radiosity could be rewritten in terms of its heat flux, its emitted power and its emissivity.\n",
    "\n",
    "$J_{i} = E_{b,i} - \\frac{1-\\epsilon_{i}}{\\epsilon_{i}}\\dot{q}$\n",
    "\n",
    "This result is plugged into the definition of heat flux.\n",
    "\n",
    "$\\dot{q} = E_{b,i} - \\frac{1-\\epsilon_{i}}{\\epsilon_{i}}\\dot{q} - H_{i} - H_{o,i}$"
   ]
  },
  {
   "cell_type": "markdown",
   "metadata": {},
   "source": [
    "### Interpretation"
   ]
  },
  {
   "cell_type": "code",
   "execution_count": null,
   "metadata": {},
   "outputs": [],
   "source": []
  },
  {
   "cell_type": "markdown",
   "metadata": {},
   "source": []
  },
  {
   "cell_type": "code",
   "execution_count": null,
   "metadata": {},
   "outputs": [],
   "source": []
  },
  {
   "cell_type": "markdown",
   "metadata": {},
   "source": [
    "### Simulation"
   ]
  },
  {
   "cell_type": "code",
   "execution_count": 4,
   "metadata": {
    "pycharm": {
     "is_executing": false,
     "name": "#%%\n"
    }
   },
   "outputs": [],
   "source": [
    "# origin code : https://plotly.com/python/figurewidget-app/\n",
    "\n",
    "import datetime\n",
    "import numpy as np\n",
    "import pandas as pd\n",
    "import plotly.graph_objects as go\n",
    "from ipywidgets import widgets\n",
    "\n",
    "# df = pd.read_csv('https://raw.githubusercontent.com/yankev/testing/master/datasets/nycflights.csv')\n",
    "# df = df.drop(df.columns[[0]], axis=1)\n",
    "# df['carrier'].unique()"
   ]
  },
  {
   "cell_type": "code",
   "execution_count": 5,
   "metadata": {
    "pycharm": {
     "is_executing": false,
     "name": "#%%\n"
    }
   },
   "outputs": [
    {
     "name": "stdout",
     "text": [
      "                             q_dot  temperature1  temperature2  area1  area2  \\\n",
      "0        [0.0, 0.0, 0.0, 0.0, 0.0]             1             1      1      1   \n",
      "1        [0.0, 0.0, 0.0, 0.0, 0.0]             1             1      1      2   \n",
      "2        [0.0, 0.0, 0.0, 0.0, 0.0]             1             1      1      3   \n",
      "3        [0.0, 0.0, 0.0, 0.0, 0.0]             1             1      1      4   \n",
      "4        [0.0, 0.0, 0.0, 0.0, 0.0]             1             1      1      5   \n",
      "...                            ...           ...           ...    ...    ...   \n",
      "1036795  [0.0, 0.0, 0.0, 0.0, 0.0]            12            12     12      8   \n",
      "1036796  [0.0, 0.0, 0.0, 0.0, 0.0]            12            12     12      9   \n",
      "1036797  [0.0, 0.0, 0.0, 0.0, 0.0]            12            12     12     10   \n",
      "1036798  [0.0, 0.0, 0.0, 0.0, 0.0]            12            12     12     11   \n",
      "1036799  [0.0, 0.0, 0.0, 0.0, 0.0]            12            12     12     12   \n",
      "\n",
      "         emissivity1  \n",
      "0                  0  \n",
      "1                  0  \n",
      "2                  0  \n",
      "3                  0  \n",
      "4                  0  \n",
      "...              ...  \n",
      "1036795           49  \n",
      "1036796           49  \n",
      "1036797           49  \n",
      "1036798           49  \n",
      "1036799           49  \n",
      "\n",
      "[1036800 rows x 6 columns]\n"
     ],
     "output_type": "stream"
    }
   ],
   "source": [
    "df = {}\n",
    "\n",
    "emissivity_step_nb = 50\n",
    "emissivity1 = widgets.FloatSlider(\n",
    "    value=0.0,\n",
    "    min=0.0,\n",
    "    max=1.0,\n",
    "    step=1/emissivity_step_nb,\n",
    "    description='Proportional emissivity of inner cylinder',\n",
    "    continuous_update=False\n",
    ")\n",
    "df['emissivity1'] = []\n",
    "for i in range(emissivity_step_nb):\n",
    "    df['emissivity1'].append((i+1)/emissivity_step_nb)\n",
    "\n",
    "emissivity2 = widgets.FloatSlider(\n",
    "    value=0.0,\n",
    "    min=0.0,\n",
    "    max=1.0,\n",
    "    step=1/emissivity_step_nb,\n",
    "    description='Proportional emissivity of outer cylinder',\n",
    "    continuous_update=False\n",
    ")\n",
    "df['emissivity2'] = []\n",
    "for i in range(emissivity_step_nb):\n",
    "    df['emissivity2'].append((i+1)/emissivity_step_nb)\n",
    "\n",
    "area_max_value = 12\n",
    "area_step_size = 1\n",
    "area1 = widgets.IntSlider(\n",
    "    value=1.0 * area_step_size,\n",
    "    min=1.0 * area_step_size,\n",
    "    max=area_max_value,\n",
    "    step=area_step_size,\n",
    "    description='Area of the inner cylinder:',\n",
    "    continuous_update=False\n",
    ")\n",
    "df['area1'] = []\n",
    "for i in range(area_step_size, area_max_value+1, area_step_size):\n",
    "    df['area1'].append(i)\n",
    "    \n",
    "area2 = widgets.IntSlider(\n",
    "    value=1.0 * area_step_size,\n",
    "    min=1.0 * area_step_size,\n",
    "    max=area_max_value,\n",
    "    step=area_step_size,\n",
    "    description='Area of the outer cylinder:',\n",
    "    continuous_update=False\n",
    ")\n",
    "df['area2'] = []\n",
    "for i in range(area_step_size, area_max_value+1, area_step_size):\n",
    "    df['area2'].append(i)\n",
    "\n",
    "temperature_max_value = 12\n",
    "temperature_step_size = 1\n",
    "temperature1 = widgets.IntSlider(\n",
    "    value=1.0 * temperature_step_size,\n",
    "    min=1.0 * temperature_step_size,\n",
    "    max=temperature_max_value,\n",
    "    step=temperature_step_size,\n",
    "    description='Temperature of inner cylinder:',\n",
    "    continuous_update=False\n",
    ")\n",
    "df['temperature1'] = []\n",
    "for i in range(temperature_step_size, temperature_max_value+1, temperature_step_size):\n",
    "    df['temperature1'].append(i)\n",
    "    \n",
    "temperature2 = widgets.IntSlider(\n",
    "    value=1.0 * temperature_step_size,\n",
    "    min=1.0 * temperature_step_size,\n",
    "    max=temperature_max_value,\n",
    "    step=temperature_step_size,\n",
    "    description='Temperature of outer cylinder:',\n",
    "    continuous_update=False\n",
    ")\n",
    "df['temperature2'] = []\n",
    "for i in range(temperature_step_size, temperature_max_value+1, temperature_step_size):\n",
    "    df['temperature2'].append(i)\n",
    "\n",
    "sigma = 10**-6\n",
    "data = []\n",
    "for epsilon1 in range(emissivity_step_nb):\n",
    "    e1 = (epsilon1+1)/emissivity_step_nb\n",
    "    for T1 in range(temperature_step_size, temperature_max_value+1, temperature_step_size):\n",
    "        for T2 in range(temperature_step_size, temperature_max_value+1, temperature_step_size):\n",
    "            for A1 in range(area_step_size, area_max_value+1, area_step_size):\n",
    "                for A2 in range(area_step_size, area_max_value+1, area_step_size):\n",
    "                    points = []\n",
    "                    for epsilon2 in range(emissivity_step_nb//10):\n",
    "                        e2 = (epsilon2+1)/emissivity_step_nb\n",
    "                        points.append((A1 * sigma * (pow(T1, 4) - pow(T2, 4)))/(1/e1 + (A1/A2 * (1/e2 - 1))))\n",
    "                    data.append({   'q_dot':points,\n",
    "                                    'temperature1': T1,\n",
    "                                    'temperature2': T2,\n",
    "                                    'area1': A1,\n",
    "                                    'area2': A2,\n",
    "                                    'emissivity1': epsilon1\n",
    "                                })\n",
    "\n",
    "df = pd.DataFrame(data)\n",
    "print(df)"
   ]
  },
  {
   "cell_type": "code",
   "execution_count": 6,
   "metadata": {
    "pycharm": {
     "is_executing": false,
     "name": "#%%\n"
    }
   },
<<<<<<< HEAD
   "outputs": [
    {
     "data": {
      "application/vnd.jupyter.widget-view+json": {
       "model_id": "1ae041399a4740f0bc8edaf198d78b60",
       "version_major": 2,
       "version_minor": 0
      },
      "text/plain": [
       "VBox(children=(VBox(children=(FloatSlider(value=0.61, continuous_update=False, description='Proportional emiss…"
      ]
     },
     "metadata": {},
     "output_type": "display_data"
    }
   ],
=======
   "outputs": [],
>>>>>>> 43ec6b5de8ce8d5bda9551c7a632e85f6ae07c7f
   "source": [
    "container = widgets.VBox(children=[emissivity1, \n",
    "                                   temperature1, temperature2,\n",
    "                                   area1, area2])\n",
    "\n",
    "# Assign an empty figure widget with two traces\n",
    "trace1 = go.Histogram(x=df['q_dot'], opacity=0.75, name='q dot')\n",
    "g = go.FigureWidget(data=[trace1],\n",
    "                    layout=go.Layout(\n",
    "                        title=dict(\n",
    "                            text='Heat Quantity simulation'\n",
    "                        ),\n",
    "                        barmode='overlay'\n",
    "                    ))\n",
    "\n",
    "def validate():\n",
    "    if emissivity1.value in df['emissivity1'] \\\n",
    "            and temperature1.value in df['temperature1'] \\\n",
    "            and temperature2.value in df['temperature2'] \\\n",
    "            and area1.value in df['area1'] \\\n",
    "            and area2.value in df['area2']:\n",
    "        return True\n",
    "    else:\n",
    "        return False\n",
    "\n",
    "\n",
    "def response(change):\n",
    "    if validate():\n",
    "        filter_list = []\n",
    "        for i, j, k in zip( emissivity1.value == np.array(df['emissivity1']),\n",
    "                            df['temperature1'] == temperature1.value, df['temperature2'] == temperature2.value,\n",
    "                            df['area1'] == area1.value, df['area2'] == area2.value\n",
    "                           ):\n",
    "            filter_list.append(i and j and k)\n",
    "        temp_df = df[filter_list]\n",
    "\n",
    "        x1 = temp_df['q_dot']\n",
    "        with g.batch_update():\n",
    "            g.data[0].x = x1\n",
    "            g.layout.barmode = 'overlay'\n",
    "            g.layout.xaxis.title = 'Emissivity of the outer cylinder'\n",
    "            g.layout.yaxis.title = 'Heat flux value'\n",
    "\n",
    "\n",
    "emissivity1.observe(response, names=\"value\")\n",
    "temperature1.observe(response, names=\"value\")\n",
    "area1.observe(response, names=\"value\")\n",
    "temperature2.observe(response, names=\"value\")\n",
    "area2.observe(response, names=\"value\")\n",
    "\n",
    "# container2 = widgets.HBox([emissive_power, external_radiosity])\n",
    "widgets.VBox([container,\n",
    "              # container2,\n",
    "              g])"
   ]
  },
  {
   "cell_type": "code",
   "execution_count": null,
   "metadata": {},
   "outputs": [],
   "source": []
  }
 ],
 "metadata": {
  "kernelspec": {
   "display_name": "Python 3",
   "language": "python",
   "name": "python3"
  },
  "language_info": {
   "codemirror_mode": {
    "name": "ipython",
    "version": 3
   },
   "file_extension": ".py",
   "mimetype": "text/x-python",
   "name": "python",
   "nbconvert_exporter": "python",
   "pygments_lexer": "ipython3",
<<<<<<< HEAD
   "version": "3.7.4"
=======
   "version": "3.8.2"
  },
  "pycharm": {
   "stem_cell": {
    "cell_type": "raw",
    "source": [],
    "metadata": {
     "collapsed": false
    }
   }
>>>>>>> 43ec6b5de8ce8d5bda9551c7a632e85f6ae07c7f
  }
 },
 "nbformat": 4,
 "nbformat_minor": 4
}
