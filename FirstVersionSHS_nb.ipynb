{
 "cells": [
  {
   "cell_type": "markdown",
   "metadata": {},
   "source": [
    "# Radiative Exchange between Surfaces"
   ]
  },
  {
   "cell_type": "markdown",
   "metadata": {},
   "source": [
    "In this notebook, a mathematical model of $\\textbf{radiative heat transfer between surfaces}$ is presented."
   ]
  },
  {
   "cell_type": "markdown",
   "metadata": {},
   "source": [
    "## Goals"
   ]
  },
  {
   "cell_type": "markdown",
   "metadata": {},
   "source": [
    "- Recalling concepts as $\\textbf{heat flux}$, $\\textbf{radiosity}$, $\\textbf{irradiation}$, $\\textbf{emissivity}$, $\\textbf{absorptivity}$ and $\\textbf{view factor}$\n",
    "- Deriving the $\\textbf{governing equation of radiative heat transfer}$\n",
    "- Developing a physical intuition for the equation\n",
    "- Assessing one's comprehension of the topic through short exercises"
   ]
  },
  {
   "cell_type": "markdown",
   "metadata": {},
   "source": [
    "## Brief reminder"
   ]
  },
  {
   "cell_type": "markdown",
   "metadata": {},
   "source": [
    "Let us get begin with a brief reminder of the basic concepts of heat transfer."
   ]
  },
  {
   "cell_type": "markdown",
   "metadata": {},
   "source": [
    "### Heat Flux"
   ]
  },
  {
   "cell_type": "markdown",
   "metadata": {},
   "source": [
    "Heat flux can be defined as the rate of heat energy transfer through a given surface, denoted $\\dot{q}$. Its SI unit is watt per square metre ($W⋅m^{−2}$). Note that $\\dot{q}$ is a Newton's notation where $\"\\dot{}\"$ indicates a derivative taken with respect to time, i.e. $\\dot{q}= dq/dt$.\n",
    "\n",
    "One can define the heat flux in terms of three quantities : \n",
    "\n",
    "- $\\textbf{Radiosity} (J)$: the rate at which radiative energy leaves a surface.\n",
    "- $\\textbf{Irradiation} (H)$: the rate at which radiative energy is received by a surface.\n",
    "\n",
    "Naturally, heat flux is the difference between the two.\n",
    "$$\\dot{q} = J - H \\; (\\star)$$\n",
    "\n",
    "Thus, by convention, if $\\dot{q} \\gt 0$ then, more energy is emitted by the surface than absorbed per unit time. \n",
    "\n",
    "Alternatively, the heat flux through an opaque surface can be defined in terms of its:\n",
    "- $\\textbf{Emissivity}$($\\epsilon$)\n",
    "- $\\textbf{Blackbody emissive power}$($E_b$)\n",
    "- $\\textbf{Reflectivity}$($\\rho$)\n",
    "- $\\textbf{Absorptivity}$($\\alpha$)\n",
    "- $\\textbf{Irradiation} (H)$\n",
    "\n",
    "For an opaque surface, $\\rho + \\alpha = 1$\n",
    "\n",
    "This yields the following:\n",
    "\n",
    "$$\\dot{q} = J - H = \\epsilon E_b + \\rho H - H = \\epsilon E_b - \\alpha H $$\n",
    "\n",
    "Interpretation: it is the difference between the effective emissive power ($\\epsilon E_b$) and the effective absorbed power ($\\alpha H$).\n",
    "\n",
    "**Assumption**: we will assume that we are working only with gray diffuse surfaces, where $\\epsilon = \\alpha$. Note that a gray diffuse surface is one of opaque surfaces. \n",
    "\n",
    "We are left with the following relation:\n",
    "$$\\dot{q} = \\epsilon (E_b - H)\\; (1)$$"
   ]
  },
  {
   "cell_type": "markdown",
   "metadata": {},
   "source": [
    "### Radiosity"
   ]
  },
  {
   "cell_type": "markdown",
   "metadata": {},
   "source": [
    "Radiosity is the rate at which radiative energy leaves a given surface by emission, reflection and transmission. This quantity is denoted by $J$ and $J\\geq0$. Its SI unit is watt per square metre ($W⋅m^{−2}$). Note that the transmitted component of radiosity vanishes when it is an opaque surface. \n",
    "\n",
    "By using the two definitions of heat flux presented above, we can obtain:\n",
    "\n",
    "\n",
    "Starting from $(\\star)$:\n",
    "\n",
    "$$ \\dot{q} = \\epsilon (E_b - H) $$\n",
    "$$\\iff H = E_b - \\frac{\\dot{q}}{\\epsilon}\\> (3) $$\n",
    "\n",
    "$$\\iff H = J - \\dot{q} \\;(2)$$\n",
    "\n",
    "Now, using $(1)$:\n",
    "\n",
    "$$ \\epsilon (E_b - H) $$\n",
    "\n",
    "$$\\iff H = E_b - \\frac{\\dot{q}}{\\epsilon}\\; (3) $$\n",
    "\n",
    "Putting $(2)$ and $(3)$ together gives the result:\n",
    "\n",
    "$$J - \\dot{q} = E_b - \\frac{\\dot{q}}{\\epsilon}$$\n",
    "\n",
    "\n",
    "$$ \\iff J = E_b - \\frac{1 - \\epsilon}{\\epsilon}\\dot{q} \\; (4) $$\n",
    "\n",
    "Equation $(4)$ is useful in deriving the governing equation.\n",
    "\n",
    "Image\"heat flux\"!!!"
   ]
  },
  {
   "cell_type": "markdown",
   "metadata": {},
   "source": [
    "### Irradiation"
   ]
  },
  {
   "cell_type": "markdown",
   "metadata": {},
   "source": [
    "Irradiation is the rate at which radiative energy is received by a given surface. It is the process by which an object is exposed to radiation. Hence, it is the complement to radiosity. This quantity is denoted $H$ and $H\\geq0$. Its SI unit is watt per square metre ($W⋅m^{−2}$)."
   ]
  },
  {
   "cell_type": "markdown",
   "metadata": {},
   "source": [
    "### Emissivity"
   ]
  },
  {
   "cell_type": "markdown",
   "metadata": {},
   "source": [
    "It is also called emittance. It is the most basic radiative property for emission from an opaque surface. The emissivity of an opaque surface is the ratio of the actual emissive power ($I_e$ or $E_e$) to that of a balck surface ($I_b$ or $E_b$) at the same conditions, usually denoted $\\epsilon$ and $0 \\leq \\epsilon \\leq 1$.\n",
    "\n",
    "Several terminologies are introduced below:\n",
    "\n",
    "Spectral directional emissivity is direction dependence, denoted $\\epsilon_{\\lambda}^{\\prime}(\\lambda,T,\\hat{S}_0)$. The prime added to the letter $\\epsilon$ and the direction vector $\\hat{S}_0$ indicate that directions of emission away from a surface are considered. Otherwise, it is called spectral hemispherical emissivity with directionally averaged value, denoted $\\epsilon_{\\lambda}(\\lambda,T)$. \n",
    "\n",
    "The total directional/hemispherical emissivity is a spectrally averaged value which is independent on the wavelength of emissions, denoted $\\epsilon^{\\prime}(T,\\hat{S}_0)$ and $\\epsilon(T)$, respectively. \n",
    "\n",
    "$$\\epsilon_{\\lambda}^{\\prime}(\\lambda,T,\\hat{S}_0) = \\frac{I_{e\\lambda}(\\lambda,T,\\hat{S}_0)}{I_{b\\lambda}(\\lambda,T)}$$\n",
    "\n",
    "$$ \\epsilon_{\\lambda}(\\lambda,T) = \\frac{E_{e\\lambda}(\\lambda,T)}{E_{b\\lambda}(\\lambda,T)}$$"
   ]
  },
  {
   "cell_type": "markdown",
   "metadata": {},
   "source": [
    "### Absorptivity"
   ]
  },
  {
   "cell_type": "markdown",
   "metadata": {},
   "source": [
    "It is also called absorptance. The absorptivity of a surface is the ratio of the heat flux absorbed by the surface ($E_a$) to the irradiation ($H$), usually denoted $\\alpha$ and $0 \\leq \\alpha \\leq 1$. Likewise, we can distinguish between directional and hemispherical, as well as spectral and total absorptivity. But here, we use the total hemispherical absorptivity as an example for simplicity:\n",
    "\n",
    "$$ \\alpha (T) = \\frac{E_a(T)}{H}$$"
   ]
  },
  {
   "cell_type": "markdown",
   "metadata": {},
   "source": [
    "### View Factor"
   ]
  },
  {
   "cell_type": "markdown",
   "metadata": {},
   "source": [
    "View factor between two finite surface elements ≡ ratio of energy leaving\n",
    "the surface $A_i$ per unit time directly toward and intercepted by the surface $A_j$ to all energy leaving the surface $A_i$\n",
    "per unit time, denoted $Q_{i-j}$, $Q_{i}$, respectively.\n",
    "\n",
    "$$ F_{i-j} = \\frac{Q_{i-j}}{Q_i}$$\n",
    "\n",
    "For plane and convex surfaces, energy leaving from the surface cannot reach themselves, i.e. $F_{ii}=0$. For concave surfaces, $F_{ii}\\not=0$.\n",
    "\n",
    "Image \"view factor\"!!!\n",
    "\n",
    "Several properties of view factor:\n",
    "\n",
    "(1) Bounding. View factors are bounded to $0≤F_{ij}≤1$ by definition.\n",
    "\n",
    "(2) Closeness. Summing up all view factors from a given surface in an enclosure,$\\sum\\limits_{j=1}^N F_{i-j}$=1.\n",
    "\n",
    "(3) Reciprocity. $A_iF_{ij}=A_jF_{ji}$.\n",
    "\n",
    "Example: for two infinite concentric cylinders/spheres as shown below, what values are view factors of $F_{1-1}$, $F_{1-2}$, $F_{2-1}$, $F_{2-2}$?\n",
    "\n",
    "Image \"example of view factor\"!!!\n",
    "\n",
    "Answer: \n",
    "\n",
    "$$F_{1-1}=0, F_{1-2}=1$$ Because the energy leaving the surface 1 can be totally absorbed by the surface 2.\n",
    "\n",
    "$$F_{2-1}=\\frac{A_1}{A_2}$$ due to the reciprocity property. $$F_{1-2}=1-\\frac{A_1}{A_2}$$ due to the closeness property."
   ]
  },
  {
   "cell_type": "markdown",
   "metadata": {},
   "source": [
    "#### Blackbody emissive power"
   ]
  },
  {
   "cell_type": "markdown",
   "metadata": {},
   "source": [
    "Blackbody: an object absorbs all radiation falling on it, at all wavelengths. When a blackbody is at a constant temperature (i.e. at equilibrium), its emission has a characteristic wavelength distribution that depends on the temperature. Its emission is called blackbody radiation. \n",
    "\n",
    "Blackbody emissive power: the rate at which emissive energy leaves from a given surface of a blackbody at the wavelength $\\lambda$. Its SI unit is $W/(m^2⋅\\mu m)$. \n",
    "\n",
    "According to Plank’s law, a spectral hemispherical emissive power of a blackbody:\n",
    "\n",
    "$$E_{b\\lambda}(T,\\lambda)=\\pi I_{b\\lambda}(T,\\lambda)=\\frac{C_1}{n^2\\lambda^5(e^{C_2/(n\\lambda T)}-1)},  n=constant$$\n",
    "\n",
    "where:\n",
    "\n",
    "$I_{b\\lambda}(T,\\lambda)$: the intensity of emissive radiation\n",
    "\n",
    "$C_1$: first radiation constant ($=2\\pi hc_0^2=3.7418x10^8$ $W{\\mu m}^4m^{-2}$)\n",
    "\n",
    "$C_2$: second radiation constant ($=hc_0/k=14,388.69$ $\\mu m K$)\n",
    "\n",
    "$h$: Planck constant\n",
    "\n",
    "$C_0$: speed of light in vacuum\n",
    "\n",
    "$k$: Boltzmann constant\n",
    "\n",
    "Image \"blackbody emissive power\"!!!\n",
    "\n",
    "As the above graph shows, the total emissive power ($E_{b\\lambda,max}$) increases with temperature while the peak of the emission spectrum shifts to the lower wavelength as the below equations tell us:\n",
    "\n",
    "$$\\frac{d}{d(n\\lambda T)}(\\frac{E_{b\\lambda}(n\\lambda T)}{n^3T^5})=0$$\n",
    "\n",
    "$$(n\\lambda T)_{max}=\\frac{C_2}{5}(\\frac{1}{1-e^{-C_2/(n\\lambda T)_{max}}})=C_3=2897.8  \\mu mK$$\n",
    "\n",
    "$$E_{b\\lambda,max}=n^3T^5\\frac{C_1}{C_3^5(e^{C_2/C_3}-1)}$$\n",
    "\n",
    "The total hemispherical emissive power of a blackbody: the total energy radiated per unit surface area of a black body across all wavelengths per unit time-- Stefan-Boltzmann law:\n",
    "\n",
    "$$E_b(T)= \\int_0^{+\\infty}{E_{b\\lambda}(T,\\lambda)}{\\rm d}\\lambda = \\sigma T^4$$\n",
    "\n",
    "where $T$ is the absolute temeprature of the balckbody surface, and $\\sigma$ is Stefan-Boltzmann constant = $5.6704*10^{-8} Wm^{-2}K^{-4}$."
   ]
  },
  {
   "cell_type": "markdown",
   "metadata": {},
   "source": [
    "## Formula derivation"
   ]
  },
  {
   "cell_type": "markdown",
   "metadata": {
    "pycharm": {
     "name": "#%% md\n"
    }
   },
   "source": [
    "Now, the 'Radiative Heat Transfer Equation' is derived. This equation enables one to model radiation between multiple surfaces and to solve for their heat fluxes. First, the hypotheses of the problem are defined.\n",
    "\n",
    "Let us assume that our system is in steady-state, i.e. the heat fluxes are independent of time. Moreover, there are $N$ gray-diffuse, black-body surfaces. \n",
    "\n",
    "For all $i=1,...,N$, surface $i$ has an emissive power $E_{b,i}$ and an emissivity $\\epsilon_{i}$. In addition, the irradiation on surface $i$ from outside the system is $H_{o,i}$. The irradiation from within the system is called $H_{i}$. $J_{i}$ denotes surface $i$'s radiosity. Furthermore, $F_{i-j}$ is the view factor from surface $i$ to surface $j$.\n",
    "\n",
    "Let us start off with the definition of heat flux of an arbitrary surface $i$:\n",
    "\n",
    "$\\dot{q}_{i} = J_{i} - H_{i} - H_{o,i} \\> (*)$\n",
    "\n",
    "One can rewrite the $H_{i}$ in terms of the other surface's radiosities. The proportion of a surface $j$'s radiosity that strikes surface $i$ is the view factor $F_{j-i}$. Hence, we can sum up the contributions from all surfaces impinging on surface $i$.\n",
    "\n",
    "$H_{i} = \\sum\\limits_{j=1}^N F_{j-i}J_{j} \\> (5)$\n",
    "\n",
    "In the section on radiosity, we saw that a surface's radiosity could be rewritten in terms of its heat flux, its emitted power and its emissivity. We recall equation $(4)$:\n",
    "\n",
    "$J_{i} = E_{b,i} - \\frac{1-\\epsilon_{i}}{\\epsilon_{i}}\\dot{q}_{i} \\> (4)$\n",
    "\n",
    "$(4)$ is plugged into $(5)$.\n",
    "\n",
    "$H_{i} = \\sum\\limits_{j=1}^N F_{j-i}(E_{b,j} - \\frac{1-\\epsilon_{j}}{\\epsilon_{j}}\\dot{q}_{j}) \\> (6)$\n",
    "\n",
    "We insert $(4)$ and $(6)$ into $(*)$, to replace surface $i$'s radiosity and irradiation:\n",
    "\n",
    "$\\dot{q}_{i} = E_{b,i} - \\frac{1-\\epsilon_{i}}{\\epsilon_{i}}\\dot{q}_{i} - \\sum\\limits_{j=1}^N F_{j-i}(E_{b,j} - \\frac{1-\\epsilon_{j}}{\\epsilon_{j}}\\dot{q}_{j}) - H_{o,i}$\n",
    "\n",
    "Rearranging some terms, we obtain:\n",
    "\n",
    "$\\frac{\\dot{q}_{i}}{\\epsilon_{i}} - \\sum\\limits_{j=1}^N F_{j-i}\\frac{1-\\epsilon_{j}}{\\epsilon_{j}}\\dot{q}_{j} + H_{o,i} = E_{b,i} - \\sum\\limits_{j=1}^N F_{j-i}E_{b,j} \\; (7)$\n",
    "\n",
    "One of the properties of the view factor is that for any surface $i$ :\n",
    "\n",
    "$\\sum\\limits_{j=1}^N F_{j-i} = 1$\n",
    "\n",
    "This enables us to rewrite $E_{b,i}$ as $\\sum\\limits_{j=1}^N F_{j-i}E_{b,i}$.\n",
    "\n",
    "Our equation becomes\n",
    "\n",
    "$\\frac{\\dot{q}_{i}}{\\epsilon_{i}} - \\sum\\limits_{j=1}^N F_{j-i}\\frac{1-\\epsilon_{j}}{\\epsilon_{j}}\\dot{q}_{j} + H_{o,i} = \\sum\\limits_{j=1}^N F_{j-i}(E_{b,i} - E_{b,j}) \\; (\\star\\star)$\n",
    "\n",
    "and holds for all $i=1,...,N$. Note that there are $N$ unknowns and $N$ equations and this is a linear system. Hence, we can solve it."
   ]
  },
  {
   "cell_type": "markdown",
   "metadata": {},
   "source": [
    "## Conversion to a Matrix System"
   ]
  },
  {
   "cell_type": "markdown",
   "metadata": {
    "pycharm": {
     "name": "#%% md\n"
    }
   },
   "source": [
    "In practice, it is convenient to convert $(\\star\\star)$ to a matrix system. This enables easier computations with a software like Matlab.\n",
    "\n",
    "We introduce the Kronecker Delta:\n",
    "\n",
    "$\\delta_{ij} = \n",
    "     \\begin{cases}\n",
    "       \\ 1 \\; \\text{if} \\; i = j \\\\\n",
    "       \\ 0 \\; \\text{otherwise} \\\\\n",
    "     \\end{cases}$\n",
    "     \n",
    "Note that in matrix form, the Kronecker Delta is the $\\textbf{identity matrix}$.\n",
    "\n",
    "Starting from equation $(7)$, one can rewrite $\\dot{q}_{i} = \\sum\\limits_{j=1}^N \\delta_{ij}\\dot{q}_{i}$. One can do the same for $E_{b,i} = \\sum\\limits_{j=1}^N \\delta_{ij}E_{b,i}$ in equation $(7)$. The equation becomes:\n",
    "\n",
    "$\\sum\\limits_{j=1}^N (\\frac{\\delta_{ij}}{\\epsilon{i}} - F_{j-i}\\frac{1-\\epsilon_{j}}{\\epsilon_{j}})\\dot{q}_{j} + H_{o,i} = \\sum\\limits_{j=1}^N (\\delta_{ij} - F_{j-i})E_{b,j}$\n",
    "\n",
    "We can define $C$ and $A$ as the $N\\times N$ matrices where:\n",
    "\n",
    "$C_{ij} = \\frac{\\delta_{ij}}{\\epsilon_{i}} - F_{j-i}\\frac{1-\\epsilon_{j}}{\\epsilon_{j}} $\n",
    "\n",
    "$ A_{ij} = \\delta_{ij} - F_{j-i} $\n",
    "\n",
    "In addition $\\vec{\\dot{q}} = (\\dot{q_{1}},...,\\dot{q_{N}})^{T}$, $\\vec{E_{b}} = (E_{b,1},...,E_{b,N})^{T}$ and $\\vec{H_{o}} = (H_{o,1},...,H_{o,N})^{T} $\n",
    "\n",
    "Putting this all together we get the following system:\n",
    "\n",
    "$\\sum\\limits_{j=1}^N C_{ij}\\dot{q}_{j} + H_{o,i} = \\sum\\limits_{j=1}^N A_{ij}E_{b,j}$\n",
    "\n",
    "which is none other than the matrix system:\n",
    "\n",
    "$C\\vec{\\dot{q}} + \\vec{H_{o}} = A\\vec{E_{b}} \\; (\\star\\star\\star)$\n",
    "\n",
    "The closed-form solution is:\n",
    "\n",
    "$\\vec{\\dot{q}} = C^{-1}(A\\vec{E_{b}} - \\vec{H_{o}}) $"
   ]
  },
  {
   "cell_type": "markdown",
   "metadata": {},
   "source": [
    "### Interpretation"
   ]
  },
  {
   "cell_type": "markdown",
   "metadata": {
    "pycharm": {
     "name": "#%% md\n"
    }
   },
   "source": [
    "Before diving into the math and numbers, it is important to understand what exactly the equation entails. It is a mathematical model of radiation between surfaces. Different factors in the equation are a manifestation of different phenomena.\n",
    "\n",
    "(i) The $F_{i-j}$'s are a $\\textbf{geometric property}$ of the problem.\n",
    "\n",
    "(ii) The $E_{b,i}$'s are the emissive powers of surfaces under the assumption that they are black bodies. They are related to the temperatures of the surfaces which can be given in exercise. These are $\\textbf{boundary conditions}$.\n",
    "\n",
    "(iii) The $\\epsilon_i$'s are $\\textbf{material properties}$.\n",
    "\n",
    "(iv) $H_o$ is also a given in this problem and constitutes a $\\textbf{boundary condition}$.\n",
    "\n",
    "Understanding how an alteration of one property affects the problem is important to rationalize results and helps recognize mistakes. For example, if the irradiation onto every surface from outside the system increases, logically the net heat flux will decrease. We defined it to be positive when it is emitting more energy than it is absorbing. Hence, if it receives more energy from outside the system, it should decrease. This is exactly what the math tells us:\n",
    "\n",
    "$\\dot{q_{i}} = J_i - H_i - H_{o,i}$\n",
    "\n",
    "Hence if $H_{o,i}$ increases, every heat flux $\\dot{q_i}$ does decrease since the math models the problem.\n",
    "\n",
    "Take a look at the simulation below to understand how the various factors play a role in this elementary example. Feel free to toggle the parameters to see how heat flux responds to different alterations:"
   ]
  },
  {
   "cell_type": "markdown",
   "metadata": {},
   "source": [
    "### Simulation"
   ]
  },
  {
   "cell_type": "code",
   "execution_count": 1,
   "metadata": {
    "pycharm": {
     "is_executing": false,
     "name": "#%%\n"
    }
   },
   "outputs": [
    {
     "data": {
      "text/html": [
       "\n",
       "    <div class=\"bk-root\">\n",
       "        <a href=\"https://bokeh.org\" target=\"_blank\" class=\"bk-logo bk-logo-small bk-logo-notebook\"></a>\n",
       "        <span id=\"1001\">Loading BokehJS ...</span>\n",
       "    </div>"
      ]
     },
     "metadata": {},
     "output_type": "display_data"
    },
    {
     "data": {
      "application/javascript": [
       "\n",
       "(function(root) {\n",
       "  function now() {\n",
       "    return new Date();\n",
       "  }\n",
       "\n",
       "  var force = true;\n",
       "\n",
       "  if (typeof root._bokeh_onload_callbacks === \"undefined\" || force === true) {\n",
       "    root._bokeh_onload_callbacks = [];\n",
       "    root._bokeh_is_loading = undefined;\n",
       "  }\n",
       "\n",
       "  var JS_MIME_TYPE = 'application/javascript';\n",
       "  var HTML_MIME_TYPE = 'text/html';\n",
       "  var EXEC_MIME_TYPE = 'application/vnd.bokehjs_exec.v0+json';\n",
       "  var CLASS_NAME = 'output_bokeh rendered_html';\n",
       "\n",
       "  /**\n",
       "   * Render data to the DOM node\n",
       "   */\n",
       "  function render(props, node) {\n",
       "    var script = document.createElement(\"script\");\n",
       "    node.appendChild(script);\n",
       "  }\n",
       "\n",
       "  /**\n",
       "   * Handle when an output is cleared or removed\n",
       "   */\n",
       "  function handleClearOutput(event, handle) {\n",
       "    var cell = handle.cell;\n",
       "\n",
       "    var id = cell.output_area._bokeh_element_id;\n",
       "    var server_id = cell.output_area._bokeh_server_id;\n",
       "    // Clean up Bokeh references\n",
       "    if (id != null && id in Bokeh.index) {\n",
       "      Bokeh.index[id].model.document.clear();\n",
       "      delete Bokeh.index[id];\n",
       "    }\n",
       "\n",
       "    if (server_id !== undefined) {\n",
       "      // Clean up Bokeh references\n",
       "      var cmd = \"from bokeh.io.state import curstate; print(curstate().uuid_to_server['\" + server_id + \"'].get_sessions()[0].document.roots[0]._id)\";\n",
       "      cell.notebook.kernel.execute(cmd, {\n",
       "        iopub: {\n",
       "          output: function(msg) {\n",
       "            var id = msg.content.text.trim();\n",
       "            if (id in Bokeh.index) {\n",
       "              Bokeh.index[id].model.document.clear();\n",
       "              delete Bokeh.index[id];\n",
       "            }\n",
       "          }\n",
       "        }\n",
       "      });\n",
       "      // Destroy server and session\n",
       "      var cmd = \"import bokeh.io.notebook as ion; ion.destroy_server('\" + server_id + \"')\";\n",
       "      cell.notebook.kernel.execute(cmd);\n",
       "    }\n",
       "  }\n",
       "\n",
       "  /**\n",
       "   * Handle when a new output is added\n",
       "   */\n",
       "  function handleAddOutput(event, handle) {\n",
       "    var output_area = handle.output_area;\n",
       "    var output = handle.output;\n",
       "\n",
       "    // limit handleAddOutput to display_data with EXEC_MIME_TYPE content only\n",
       "    if ((output.output_type != \"display_data\") || (!output.data.hasOwnProperty(EXEC_MIME_TYPE))) {\n",
       "      return\n",
       "    }\n",
       "\n",
       "    var toinsert = output_area.element.find(\".\" + CLASS_NAME.split(' ')[0]);\n",
       "\n",
       "    if (output.metadata[EXEC_MIME_TYPE][\"id\"] !== undefined) {\n",
       "      toinsert[toinsert.length - 1].firstChild.textContent = output.data[JS_MIME_TYPE];\n",
       "      // store reference to embed id on output_area\n",
       "      output_area._bokeh_element_id = output.metadata[EXEC_MIME_TYPE][\"id\"];\n",
       "    }\n",
       "    if (output.metadata[EXEC_MIME_TYPE][\"server_id\"] !== undefined) {\n",
       "      var bk_div = document.createElement(\"div\");\n",
       "      bk_div.innerHTML = output.data[HTML_MIME_TYPE];\n",
       "      var script_attrs = bk_div.children[0].attributes;\n",
       "      for (var i = 0; i < script_attrs.length; i++) {\n",
       "        toinsert[toinsert.length - 1].firstChild.setAttribute(script_attrs[i].name, script_attrs[i].value);\n",
       "        toinsert[toinsert.length - 1].firstChild.textContent = bk_div.children[0].textContent\n",
       "      }\n",
       "      // store reference to server id on output_area\n",
       "      output_area._bokeh_server_id = output.metadata[EXEC_MIME_TYPE][\"server_id\"];\n",
       "    }\n",
       "  }\n",
       "\n",
       "  function register_renderer(events, OutputArea) {\n",
       "\n",
       "    function append_mime(data, metadata, element) {\n",
       "      // create a DOM node to render to\n",
       "      var toinsert = this.create_output_subarea(\n",
       "        metadata,\n",
       "        CLASS_NAME,\n",
       "        EXEC_MIME_TYPE\n",
       "      );\n",
       "      this.keyboard_manager.register_events(toinsert);\n",
       "      // Render to node\n",
       "      var props = {data: data, metadata: metadata[EXEC_MIME_TYPE]};\n",
       "      render(props, toinsert[toinsert.length - 1]);\n",
       "      element.append(toinsert);\n",
       "      return toinsert\n",
       "    }\n",
       "\n",
       "    /* Handle when an output is cleared or removed */\n",
       "    events.on('clear_output.CodeCell', handleClearOutput);\n",
       "    events.on('delete.Cell', handleClearOutput);\n",
       "\n",
       "    /* Handle when a new output is added */\n",
       "    events.on('output_added.OutputArea', handleAddOutput);\n",
       "\n",
       "    /**\n",
       "     * Register the mime type and append_mime function with output_area\n",
       "     */\n",
       "    OutputArea.prototype.register_mime_type(EXEC_MIME_TYPE, append_mime, {\n",
       "      /* Is output safe? */\n",
       "      safe: true,\n",
       "      /* Index of renderer in `output_area.display_order` */\n",
       "      index: 0\n",
       "    });\n",
       "  }\n",
       "\n",
       "  // register the mime type if in Jupyter Notebook environment and previously unregistered\n",
       "  if (root.Jupyter !== undefined) {\n",
       "    var events = require('base/js/events');\n",
       "    var OutputArea = require('notebook/js/outputarea').OutputArea;\n",
       "\n",
       "    if (OutputArea.prototype.mime_types().indexOf(EXEC_MIME_TYPE) == -1) {\n",
       "      register_renderer(events, OutputArea);\n",
       "    }\n",
       "  }\n",
       "\n",
       "  \n",
       "  if (typeof (root._bokeh_timeout) === \"undefined\" || force === true) {\n",
       "    root._bokeh_timeout = Date.now() + 5000;\n",
       "    root._bokeh_failed_load = false;\n",
       "  }\n",
       "\n",
       "  var NB_LOAD_WARNING = {'data': {'text/html':\n",
       "     \"<div style='background-color: #fdd'>\\n\"+\n",
       "     \"<p>\\n\"+\n",
       "     \"BokehJS does not appear to have successfully loaded. If loading BokehJS from CDN, this \\n\"+\n",
       "     \"may be due to a slow or bad network connection. Possible fixes:\\n\"+\n",
       "     \"</p>\\n\"+\n",
       "     \"<ul>\\n\"+\n",
       "     \"<li>re-rerun `output_notebook()` to attempt to load from CDN again, or</li>\\n\"+\n",
       "     \"<li>use INLINE resources instead, as so:</li>\\n\"+\n",
       "     \"</ul>\\n\"+\n",
       "     \"<code>\\n\"+\n",
       "     \"from bokeh.resources import INLINE\\n\"+\n",
       "     \"output_notebook(resources=INLINE)\\n\"+\n",
       "     \"</code>\\n\"+\n",
       "     \"</div>\"}};\n",
       "\n",
       "  function display_loaded() {\n",
       "    var el = document.getElementById(\"1001\");\n",
       "    if (el != null) {\n",
       "      el.textContent = \"BokehJS is loading...\";\n",
       "    }\n",
       "    if (root.Bokeh !== undefined) {\n",
       "      if (el != null) {\n",
       "        el.textContent = \"BokehJS \" + root.Bokeh.version + \" successfully loaded.\";\n",
       "      }\n",
       "    } else if (Date.now() < root._bokeh_timeout) {\n",
       "      setTimeout(display_loaded, 100)\n",
       "    }\n",
       "  }\n",
       "\n",
       "\n",
       "  function run_callbacks() {\n",
       "    try {\n",
       "      root._bokeh_onload_callbacks.forEach(function(callback) {\n",
       "        if (callback != null)\n",
       "          callback();\n",
       "      });\n",
       "    } finally {\n",
       "      delete root._bokeh_onload_callbacks\n",
       "    }\n",
       "    console.debug(\"Bokeh: all callbacks have finished\");\n",
       "  }\n",
       "\n",
       "  function load_libs(css_urls, js_urls, callback) {\n",
       "    if (css_urls == null) css_urls = [];\n",
       "    if (js_urls == null) js_urls = [];\n",
       "\n",
       "    root._bokeh_onload_callbacks.push(callback);\n",
       "    if (root._bokeh_is_loading > 0) {\n",
       "      console.debug(\"Bokeh: BokehJS is being loaded, scheduling callback at\", now());\n",
       "      return null;\n",
       "    }\n",
       "    if (js_urls == null || js_urls.length === 0) {\n",
       "      run_callbacks();\n",
       "      return null;\n",
       "    }\n",
       "    console.debug(\"Bokeh: BokehJS not loaded, scheduling load and callback at\", now());\n",
       "    root._bokeh_is_loading = css_urls.length + js_urls.length;\n",
       "\n",
       "    function on_load() {\n",
       "      root._bokeh_is_loading--;\n",
       "      if (root._bokeh_is_loading === 0) {\n",
       "        console.debug(\"Bokeh: all BokehJS libraries/stylesheets loaded\");\n",
       "        run_callbacks()\n",
       "      }\n",
       "    }\n",
       "\n",
       "    function on_error() {\n",
       "      console.error(\"failed to load \" + url);\n",
       "    }\n",
       "\n",
       "    for (var i = 0; i < css_urls.length; i++) {\n",
       "      var url = css_urls[i];\n",
       "      const element = document.createElement(\"link\");\n",
       "      element.onload = on_load;\n",
       "      element.onerror = on_error;\n",
       "      element.rel = \"stylesheet\";\n",
       "      element.type = \"text/css\";\n",
       "      element.href = url;\n",
       "      console.debug(\"Bokeh: injecting link tag for BokehJS stylesheet: \", url);\n",
       "      document.body.appendChild(element);\n",
       "    }\n",
       "\n",
       "    const hashes = {\"https://cdn.bokeh.org/bokeh/release/bokeh-2.0.2.min.js\": \"ufR9RFnRs6lniiaFvtJziE0YeidtAgBRH6ux2oUItHw5WTvE1zuk9uzhUU/FJXDp\", \"https://cdn.bokeh.org/bokeh/release/bokeh-widgets-2.0.2.min.js\": \"8QM/PGWBT+IssZuRcDcjzwIh1mkOmJSoNMmyYDZbCfXJg3Ap1lEvdVgFuSAwhb/J\", \"https://cdn.bokeh.org/bokeh/release/bokeh-tables-2.0.2.min.js\": \"Jm8cH3Rg0P6UeZhVY5cLy1WzKajUT9KImCY+76hEqrcJt59/d8GPvFHjCkYgnSIn\", \"https://cdn.bokeh.org/bokeh/release/bokeh-gl-2.0.2.min.js\": \"Ozhzj+SI7ywm74aOI/UajcWz+C0NjsPunEVyVIrxzYkB+jA+2tUw8x5xJCbVtK5I\"};\n",
       "\n",
       "    for (var i = 0; i < js_urls.length; i++) {\n",
       "      var url = js_urls[i];\n",
       "      var element = document.createElement('script');\n",
       "      element.onload = on_load;\n",
       "      element.onerror = on_error;\n",
       "      element.async = false;\n",
       "      element.src = url;\n",
       "      if (url in hashes) {\n",
       "        element.crossOrigin = \"anonymous\";\n",
       "        element.integrity = \"sha384-\" + hashes[url];\n",
       "      }\n",
       "      console.debug(\"Bokeh: injecting script tag for BokehJS library: \", url);\n",
       "      document.head.appendChild(element);\n",
       "    }\n",
       "  };\n",
       "\n",
       "  function inject_raw_css(css) {\n",
       "    const element = document.createElement(\"style\");\n",
       "    element.appendChild(document.createTextNode(css));\n",
       "    document.body.appendChild(element);\n",
       "  }\n",
       "\n",
       "  \n",
       "  var js_urls = [\"https://cdn.bokeh.org/bokeh/release/bokeh-2.0.2.min.js\", \"https://cdn.bokeh.org/bokeh/release/bokeh-widgets-2.0.2.min.js\", \"https://cdn.bokeh.org/bokeh/release/bokeh-tables-2.0.2.min.js\", \"https://cdn.bokeh.org/bokeh/release/bokeh-gl-2.0.2.min.js\"];\n",
       "  var css_urls = [];\n",
       "  \n",
       "\n",
       "  var inline_js = [\n",
       "    function(Bokeh) {\n",
       "      Bokeh.set_log_level(\"info\");\n",
       "    },\n",
       "    function(Bokeh) {\n",
       "    \n",
       "    \n",
       "    }\n",
       "  ];\n",
       "\n",
       "  function run_inline_js() {\n",
       "    \n",
       "    if (root.Bokeh !== undefined || force === true) {\n",
       "      \n",
       "    for (var i = 0; i < inline_js.length; i++) {\n",
       "      inline_js[i].call(root, root.Bokeh);\n",
       "    }\n",
       "    if (force === true) {\n",
       "        display_loaded();\n",
       "      }} else if (Date.now() < root._bokeh_timeout) {\n",
       "      setTimeout(run_inline_js, 100);\n",
       "    } else if (!root._bokeh_failed_load) {\n",
       "      console.log(\"Bokeh: BokehJS failed to load within specified timeout.\");\n",
       "      root._bokeh_failed_load = true;\n",
       "    } else if (force !== true) {\n",
       "      var cell = $(document.getElementById(\"1001\")).parents('.cell').data().cell;\n",
       "      cell.output_area.append_execute_result(NB_LOAD_WARNING)\n",
       "    }\n",
       "\n",
       "  }\n",
       "\n",
       "  if (root._bokeh_is_loading === 0) {\n",
       "    console.debug(\"Bokeh: BokehJS loaded, going straight to plotting\");\n",
       "    run_inline_js();\n",
       "  } else {\n",
       "    load_libs(css_urls, js_urls, function() {\n",
       "      console.debug(\"Bokeh: BokehJS plotting callback run at\", now());\n",
       "      run_inline_js();\n",
       "    });\n",
       "  }\n",
       "}(window));"
      ],
      "application/vnd.bokehjs_load.v0+json": "\n(function(root) {\n  function now() {\n    return new Date();\n  }\n\n  var force = true;\n\n  if (typeof root._bokeh_onload_callbacks === \"undefined\" || force === true) {\n    root._bokeh_onload_callbacks = [];\n    root._bokeh_is_loading = undefined;\n  }\n\n  \n\n  \n  if (typeof (root._bokeh_timeout) === \"undefined\" || force === true) {\n    root._bokeh_timeout = Date.now() + 5000;\n    root._bokeh_failed_load = false;\n  }\n\n  var NB_LOAD_WARNING = {'data': {'text/html':\n     \"<div style='background-color: #fdd'>\\n\"+\n     \"<p>\\n\"+\n     \"BokehJS does not appear to have successfully loaded. If loading BokehJS from CDN, this \\n\"+\n     \"may be due to a slow or bad network connection. Possible fixes:\\n\"+\n     \"</p>\\n\"+\n     \"<ul>\\n\"+\n     \"<li>re-rerun `output_notebook()` to attempt to load from CDN again, or</li>\\n\"+\n     \"<li>use INLINE resources instead, as so:</li>\\n\"+\n     \"</ul>\\n\"+\n     \"<code>\\n\"+\n     \"from bokeh.resources import INLINE\\n\"+\n     \"output_notebook(resources=INLINE)\\n\"+\n     \"</code>\\n\"+\n     \"</div>\"}};\n\n  function display_loaded() {\n    var el = document.getElementById(\"1001\");\n    if (el != null) {\n      el.textContent = \"BokehJS is loading...\";\n    }\n    if (root.Bokeh !== undefined) {\n      if (el != null) {\n        el.textContent = \"BokehJS \" + root.Bokeh.version + \" successfully loaded.\";\n      }\n    } else if (Date.now() < root._bokeh_timeout) {\n      setTimeout(display_loaded, 100)\n    }\n  }\n\n\n  function run_callbacks() {\n    try {\n      root._bokeh_onload_callbacks.forEach(function(callback) {\n        if (callback != null)\n          callback();\n      });\n    } finally {\n      delete root._bokeh_onload_callbacks\n    }\n    console.debug(\"Bokeh: all callbacks have finished\");\n  }\n\n  function load_libs(css_urls, js_urls, callback) {\n    if (css_urls == null) css_urls = [];\n    if (js_urls == null) js_urls = [];\n\n    root._bokeh_onload_callbacks.push(callback);\n    if (root._bokeh_is_loading > 0) {\n      console.debug(\"Bokeh: BokehJS is being loaded, scheduling callback at\", now());\n      return null;\n    }\n    if (js_urls == null || js_urls.length === 0) {\n      run_callbacks();\n      return null;\n    }\n    console.debug(\"Bokeh: BokehJS not loaded, scheduling load and callback at\", now());\n    root._bokeh_is_loading = css_urls.length + js_urls.length;\n\n    function on_load() {\n      root._bokeh_is_loading--;\n      if (root._bokeh_is_loading === 0) {\n        console.debug(\"Bokeh: all BokehJS libraries/stylesheets loaded\");\n        run_callbacks()\n      }\n    }\n\n    function on_error() {\n      console.error(\"failed to load \" + url);\n    }\n\n    for (var i = 0; i < css_urls.length; i++) {\n      var url = css_urls[i];\n      const element = document.createElement(\"link\");\n      element.onload = on_load;\n      element.onerror = on_error;\n      element.rel = \"stylesheet\";\n      element.type = \"text/css\";\n      element.href = url;\n      console.debug(\"Bokeh: injecting link tag for BokehJS stylesheet: \", url);\n      document.body.appendChild(element);\n    }\n\n    const hashes = {\"https://cdn.bokeh.org/bokeh/release/bokeh-2.0.2.min.js\": \"ufR9RFnRs6lniiaFvtJziE0YeidtAgBRH6ux2oUItHw5WTvE1zuk9uzhUU/FJXDp\", \"https://cdn.bokeh.org/bokeh/release/bokeh-widgets-2.0.2.min.js\": \"8QM/PGWBT+IssZuRcDcjzwIh1mkOmJSoNMmyYDZbCfXJg3Ap1lEvdVgFuSAwhb/J\", \"https://cdn.bokeh.org/bokeh/release/bokeh-tables-2.0.2.min.js\": \"Jm8cH3Rg0P6UeZhVY5cLy1WzKajUT9KImCY+76hEqrcJt59/d8GPvFHjCkYgnSIn\", \"https://cdn.bokeh.org/bokeh/release/bokeh-gl-2.0.2.min.js\": \"Ozhzj+SI7ywm74aOI/UajcWz+C0NjsPunEVyVIrxzYkB+jA+2tUw8x5xJCbVtK5I\"};\n\n    for (var i = 0; i < js_urls.length; i++) {\n      var url = js_urls[i];\n      var element = document.createElement('script');\n      element.onload = on_load;\n      element.onerror = on_error;\n      element.async = false;\n      element.src = url;\n      if (url in hashes) {\n        element.crossOrigin = \"anonymous\";\n        element.integrity = \"sha384-\" + hashes[url];\n      }\n      console.debug(\"Bokeh: injecting script tag for BokehJS library: \", url);\n      document.head.appendChild(element);\n    }\n  };\n\n  function inject_raw_css(css) {\n    const element = document.createElement(\"style\");\n    element.appendChild(document.createTextNode(css));\n    document.body.appendChild(element);\n  }\n\n  \n  var js_urls = [\"https://cdn.bokeh.org/bokeh/release/bokeh-2.0.2.min.js\", \"https://cdn.bokeh.org/bokeh/release/bokeh-widgets-2.0.2.min.js\", \"https://cdn.bokeh.org/bokeh/release/bokeh-tables-2.0.2.min.js\", \"https://cdn.bokeh.org/bokeh/release/bokeh-gl-2.0.2.min.js\"];\n  var css_urls = [];\n  \n\n  var inline_js = [\n    function(Bokeh) {\n      Bokeh.set_log_level(\"info\");\n    },\n    function(Bokeh) {\n    \n    \n    }\n  ];\n\n  function run_inline_js() {\n    \n    if (root.Bokeh !== undefined || force === true) {\n      \n    for (var i = 0; i < inline_js.length; i++) {\n      inline_js[i].call(root, root.Bokeh);\n    }\n    if (force === true) {\n        display_loaded();\n      }} else if (Date.now() < root._bokeh_timeout) {\n      setTimeout(run_inline_js, 100);\n    } else if (!root._bokeh_failed_load) {\n      console.log(\"Bokeh: BokehJS failed to load within specified timeout.\");\n      root._bokeh_failed_load = true;\n    } else if (force !== true) {\n      var cell = $(document.getElementById(\"1001\")).parents('.cell').data().cell;\n      cell.output_area.append_execute_result(NB_LOAD_WARNING)\n    }\n\n  }\n\n  if (root._bokeh_is_loading === 0) {\n    console.debug(\"Bokeh: BokehJS loaded, going straight to plotting\");\n    run_inline_js();\n  } else {\n    load_libs(css_urls, js_urls, function() {\n      console.debug(\"Bokeh: BokehJS plotting callback run at\", now());\n      run_inline_js();\n    });\n  }\n}(window));"
     },
     "metadata": {},
     "output_type": "display_data"
    }
   ],
   "source": [
    "from bokeh.io import output_notebook\n",
    "\n",
    "from InteractionOwnLibrary import create_simulation_from_description\n",
    "from simulationCollection import heat_flux_graph_description\n",
    "output_notebook()"
   ]
  },
  {
   "cell_type": "code",
   "execution_count": 2,
   "metadata": {
    "pycharm": {
     "name": "#%%\n"
    }
   },
   "outputs": [],
   "source": [
    "temperature_max_value = 100\n",
    "temperature_step_size = 1\n",
    "\n",
    "area_max_value = 10\n",
    "area_step_size = 1\n",
    "\n",
    "emissivity_step_nb = 500\n",
    "sigma = 5.6704*pow(10, -8)"
   ]
  },
  {
   "cell_type": "code",
   "execution_count": 3,
   "metadata": {
    "pycharm": {
     "name": "#%%\n"
    }
   },
   "outputs": [
    {
     "data": {
      "text/html": [
       "\n",
       "\n",
       "\n",
       "\n",
       "\n",
       "\n",
       "  <div class=\"bk-root\" id=\"15675ea5-b90f-4000-9f54-a7af97ac7352\" data-root-id=\"1039\"></div>\n"
      ]
     },
     "metadata": {},
     "output_type": "display_data"
    },
    {
     "data": {
      "application/javascript": [
       "(function(root) {\n",
       "  function embed_document(root) {\n",
       "    \n",
       "  var docs_json = {\"4b9142be-bc67-48cf-8183-aa1116eaaa30\":{\"roots\":{\"references\":[{\"attributes\":{\"children\":[{\"id\":\"1008\"},{\"id\":\"1038\"}]},\"id\":\"1039\",\"type\":\"Row\"},{\"attributes\":{\"below\":[{\"id\":\"1019\"}],\"center\":[{\"id\":\"1022\"},{\"id\":\"1026\"}],\"left\":[{\"id\":\"1023\"}],\"plot_height\":400,\"renderers\":[{\"id\":\"1035\"}],\"title\":{\"id\":\"1009\"},\"toolbar\":{\"id\":\"1029\"},\"x_range\":{\"id\":\"1011\"},\"x_scale\":{\"id\":\"1015\"},\"y_range\":{\"id\":\"1013\"},\"y_scale\":{\"id\":\"1017\"}},\"id\":\"1008\",\"subtype\":\"Figure\",\"type\":\"Plot\"},{\"attributes\":{\"end\":0,\"start\":-10},\"id\":\"1013\",\"type\":\"Range1d\"},{\"attributes\":{\"axis\":{\"id\":\"1019\"},\"ticker\":null},\"id\":\"1022\",\"type\":\"Grid\"},{\"attributes\":{\"data_source\":{\"id\":\"1007\"},\"glyph\":{\"id\":\"1033\"},\"hover_glyph\":null,\"muted_glyph\":null,\"nonselection_glyph\":{\"id\":\"1034\"},\"selection_glyph\":null,\"view\":{\"id\":\"1036\"}},\"id\":\"1035\",\"type\":\"GlyphRenderer\"},{\"attributes\":{\"end\":10,\"format\":\"0[.]00\",\"js_property_callbacks\":{\"change:value\":[{\"id\":\"1037\"}]},\"start\":1,\"step\":0.1,\"title\":\"Outer area [m\\u00b2]\",\"value\":10},\"id\":\"1006\",\"type\":\"Slider\"},{\"attributes\":{\"end\":1,\"format\":\"0[.]00\",\"js_property_callbacks\":{\"change:value\":[{\"id\":\"1037\"}]},\"start\":0,\"step\":0.002,\"title\":\"Inner \\u03b5\",\"value\":0.4},\"id\":\"1004\",\"type\":\"Slider\"},{\"attributes\":{\"end\":350,\"format\":\"0[.]00\",\"js_property_callbacks\":{\"change:value\":[{\"id\":\"1037\"}]},\"start\":275,\"step\":0.1,\"title\":\"Inner temperature [K]\",\"value\":280},\"id\":\"1003\",\"type\":\"Slider\"},{\"attributes\":{},\"id\":\"1045\",\"type\":\"UnionRenderers\"},{\"attributes\":{},\"id\":\"1046\",\"type\":\"Selection\"},{\"attributes\":{\"active_drag\":\"auto\",\"active_inspect\":\"auto\",\"active_multi\":null,\"active_scroll\":\"auto\",\"active_tap\":\"auto\",\"tools\":[{\"id\":\"1027\"},{\"id\":\"1028\"}]},\"id\":\"1029\",\"type\":\"Toolbar\"},{\"attributes\":{\"children\":[{\"id\":\"1002\"},{\"id\":\"1003\"},{\"id\":\"1004\"},{\"id\":\"1005\"},{\"id\":\"1006\"}]},\"id\":\"1038\",\"type\":\"Column\"},{\"attributes\":{\"end\":10,\"format\":\"0[.]00\",\"js_property_callbacks\":{\"change:value\":[{\"id\":\"1037\"}]},\"start\":1,\"step\":0.1,\"title\":\"Inner area1 [m\\u00b2]\",\"value\":1},\"id\":\"1005\",\"type\":\"Slider\"},{\"attributes\":{},\"id\":\"1020\",\"type\":\"BasicTicker\"},{\"attributes\":{\"text\":\"Heat flux value graph\"},\"id\":\"1009\",\"type\":\"Title\"},{\"attributes\":{\"data\":{\"x\":[0.002,0.004,0.006,0.008,0.01,0.012,0.014,0.016,0.018,0.02,0.022,0.024,0.026,0.028,0.03,0.032,0.034,0.036,0.038,0.04,0.042,0.044,0.046,0.048,0.05,0.052,0.054,0.056,0.058,0.06,0.062,0.064,0.066,0.068,0.07,0.072,0.074,0.076,0.078,0.08,0.082,0.084,0.086,0.088,0.09,0.092,0.094,0.096,0.098,0.1,0.102,0.104,0.106,0.108,0.11,0.112,0.114,0.116,0.118,0.12,0.122,0.124,0.126,0.128,0.13,0.132,0.134,0.136,0.138,0.14,0.142,0.144,0.146,0.148,0.15,0.152,0.154,0.156,0.158,0.16,0.162,0.164,0.166,0.168,0.17,0.172,0.174,0.176,0.178,0.18,0.182,0.184,0.186,0.188,0.19,0.192,0.194,0.196,0.198,0.2,0.202,0.204,0.206,0.208,0.21,0.212,0.214,0.216,0.218,0.22,0.222,0.224,0.226,0.228,0.23,0.232,0.234,0.236,0.238,0.24,0.242,0.244,0.246,0.248,0.25,0.252,0.254,0.256,0.258,0.26,0.262,0.264,0.266,0.268,0.27,0.272,0.274,0.276,0.278,0.28,0.282,0.284,0.286,0.288,0.29,0.292,0.294,0.296,0.298,0.3,0.302,0.304,0.306,0.308,0.31,0.312,0.314,0.316,0.318,0.32,0.322,0.324,0.326,0.328,0.33,0.332,0.334,0.336,0.338,0.34,0.342,0.344,0.346,0.348,0.35,0.352,0.354,0.356,0.358,0.36,0.362,0.364,0.366,0.368,0.37,0.372,0.374,0.376,0.378,0.38,0.382,0.384,0.386,0.388,0.39,0.392,0.394,0.396,0.398,0.4,0.402,0.404,0.406,0.408,0.41,0.412,0.414,0.416,0.418,0.42,0.422,0.424,0.426,0.428,0.43,0.432,0.434,0.436,0.438,0.44,0.442,0.444,0.446,0.448,0.45,0.452,0.454,0.456,0.458,0.46,0.462,0.464,0.466,0.468,0.47,0.472,0.474,0.476,0.478,0.48,0.482,0.484,0.486,0.488,0.49,0.492,0.494,0.496,0.498,0.5,0.502,0.504,0.506,0.508,0.51,0.512,0.514,0.516,0.518,0.52,0.522,0.524,0.526,0.528,0.53,0.532,0.534,0.536,0.538,0.54,0.542,0.544,0.546,0.548,0.55,0.552,0.554,0.556,0.558,0.56,0.562,0.564,0.566,0.568,0.57,0.572,0.574,0.576,0.578,0.58,0.582,0.584,0.586,0.588,0.59,0.592,0.594,0.596,0.598,0.6,0.602,0.604,0.606,0.608,0.61,0.612,0.614,0.616,0.618,0.62,0.622,0.624,0.626,0.628,0.63,0.632,0.634,0.636,0.638,0.64,0.642,0.644,0.646,0.648,0.65,0.652,0.654,0.656,0.658,0.66,0.662,0.664,0.666,0.668,0.67,0.672,0.674,0.676,0.678,0.68,0.682,0.684,0.686,0.688,0.69,0.692,0.694,0.696,0.698,0.7,0.702,0.704,0.706,0.708,0.71,0.712,0.714,0.716,0.718,0.72,0.722,0.724,0.726,0.728,0.73,0.732,0.734,0.736,0.738,0.74,0.742,0.744,0.746,0.748,0.75,0.752,0.754,0.756,0.758,0.76,0.762,0.764,0.766,0.768,0.77,0.772,0.774,0.776,0.778,0.78,0.782,0.784,0.786,0.788,0.79,0.792,0.794,0.796,0.798,0.8,0.802,0.804,0.806,0.808,0.81,0.812,0.814,0.816,0.818,0.82,0.822,0.824,0.826,0.828,0.83,0.832,0.834,0.836,0.838,0.84,0.842,0.844,0.846,0.848,0.85,0.852,0.854,0.856,0.858,0.86,0.862,0.864,0.866,0.868,0.87,0.872,0.874,0.876,0.878,0.88,0.882,0.884,0.886,0.888,0.89,0.892,0.894,0.896,0.898,0.9,0.902,0.904,0.906,0.908,0.91,0.912,0.914,0.916,0.918,0.92,0.922,0.924,0.926,0.928,0.93,0.932,0.934,0.936,0.938,0.94,0.942,0.944,0.946,0.948,0.95,0.952,0.954,0.956,0.958,0.96,0.962,0.964,0.966,0.968,0.97,0.972,0.974,0.976,0.978,0.98,0.982,0.984,0.986,0.988,0.99,0.992,0.994,0.996,0.998,1.0],\"y\":[-0.46252649312977095,-0.8845397167883211,-1.2711392433566433,-1.6266032375838926,-1.9545474387096773,-2.25804859378882,-2.53974128263473,-2.801894594219653,-3.046473382122905,-3.2751875999999998,-3.489532338219895,-3.690820544162437,-3.880209939901478,-4.0587253033492825,-4.22727701860465,-4.386676604524887,-4.537649780616739,-4.68084751416309,-4.8168554033472795,-4.946201681632653,-5.069364074103586,-5.186775693385213,-5.29883012851711,-5.405885852788104,-5.508270054545454,-5.606281977224199,-5.700195840418119,-5.790263402047781,-5.876716212040134,-5.9597676,-6.039614432797428,-6.116438672555205,-6.190408760990712,-6.2616808522796354,-6.330399913432836,-6.396700708504399,-6.460708680691643,-6.52254074447592,-6.582305998328691,-6.640106367123287,-6.696037182210242,-6.750187706100796,-6.802641607832898,-6.8534773943444725,-6.902768802531646,-6.950585156109726,-6.996991690909091,-7.042049851815981,-7.085817564200477,-7.128349482352942,-7.169697217169373,-7.209909545080092,-7.2490326,-7.287110049888641,-7.32418325934066,-7.360291439479393,-7.395471786295503,-7.429759608456659,-7.4631884455114825,-7.495790177319588,-7.527595125458249,-7.558632147283702,-7.5889287232604365,-7.618511038113949,-7.64740405631068,-7.675631592322457,-7.703216376091082,-7.7301801140712945,-7.75654354619666,-7.7823264990825685,-7.807547935753175,-7.832226002154398,-7.856378070692718,-7.880020781019332,-7.903170078260869,-7.925841248881239,-7.948048954344123,-7.969807262731872,-7.991129678464106,-8.012029170247935,-8.032518197381343,-8.05260873452188,-8.072312295024078,-8.091639952941177,-8.110602363779527,-8.129209784087363,-8.147472089953633,-8.165398794486983,-8.18299906433991,-8.200281735338345,-8.217255327272726,-8.23392805790251,-8.250307856222548,-8.266402375036284,-8.282219002877698,-8.29776487532097,-8.313046885714286,-8.32807169537167,-8.34284574325452,-8.357375255172414,-8.37166625253078,-8.385724560651289,-8.399555816689098,-8.41316547716956,-8.426558825165563,-8.439740977135347,-8.452716889439374,-8.465491364553687,-8.47806905699615,-8.490454478980892,-8.502652005815422,-8.514665881053952,-8.526500221419676,-8.538159021508035,-8.549646158282208,-8.560965395371499,-8.572120387182586,-8.583114682833132,-8.593951729916567,-8.60463487810651,-8.615167382608695,-8.62555240746791,-8.635793028736964,-8.645892237514385,-8.655852942857143,-8.665677974574347,-8.675370085907554,-8.684931956103023,-8.69436619288098,-8.703675334806631,-8.712861853567508,-8.721928156161395,-8.730876586998917,-8.73970942992465,-8.74842891016043,-8.757037196174283,-8.765536401478352,-8.773928586358867,-8.78221575954119,-8.790399879792746,-8.798482857466528,-8.806466555987718,-8.81435279328586,-8.822143343174924,-8.829839936683417,-8.837444263336664,-8.844957972393248,-8.852382674037512,-8.859719940529931,-8.866971307317073,-8.874138274102814,-8.881222305882353,-8.888224833940557,-8.895147256816015,-8.901990941232228,-8.908757222997172,-8.91544740787254,-8.922062772413794,-8.928604564782207,-8.935074005529954,-8.941472288359304,-8.947800580856883,-8.95406002520399,-8.96025173886384,-8.966376815246637,-8.972436324353255,-8.978431313398403,-8.984362807413945,-8.990231809833187,-8.996039303056769,-9.001786249000869,-9.007473589628349,-9.013102247463458,-9.018673126090675,-9.024187110638298,-9.029645068247248,-9.035047848525695,-9.040396283989942,-9.045691190492077,-9.050933367634855,-9.056123599174237,-9.061262653410026,-9.066351283565004,-9.07139022815297,-9.076380211336033,-9.081321943271554,-9.086216120449077,-9.091063426017557,-9.095864530103256,-9.100620090118579,-9.105330751062155,-9.109997145810494,-9.114619895401404,-9.119199609309543,-9.123736885714287,-9.128232311760184,-9.132686463810252,-9.137099907692308,-9.14147319893859,-9.145806883018869,-9.150101495567244,-9.154357562602842,-9.158575600744602,-9.162756117420312,-9.16689961107011,-9.1710065713446,-9.175077479297732,-9.179112807574654,-9.183113020594634,-9.187078574729242,-9.191009918475917,-9.194907492627058,-9.198771730434782,-9.20260305777147,-9.20640189328622,-9.210168648557355,-9.213903728241066,-9.217607530216329,-9.2212804457262,-9.224922859515571,-9.228535149965541,-9.232117689224435,-9.235670843335612,-9.239194972362151,-9.242690430508475,-9.246157566239027,-9.249596722394083,-9.253008236302746,-9.256392439893263,-9.259749659800665,-9.263080217471874,-9.266384429268292,-9.269662606565989,-9.272915055853499,-9.27614207882736,-9.279343972485398,-9.282521029217842,-9.28567353689633,-9.288801778960872,-9.291906034504793,-9.294986578357733,-9.298043681166773,-9.301077609475678,-9.304088625802391,-9.307076988714734,-9.310042952904434,-9.31298676925949,-9.315908684934904,-9.318808943421864,-9.321687784615385,-9.32454544488044,-9.327382157116677,-9.330198150821667,-9.33299365215282,-9.335768883987916,-9.338524065984346,-9.341259414637072,-9.343975143335326,-9.346671462418106,-9.349348579228486,-9.352006698166765,-9.354646020742486,-9.357266745625367,-9.359869068695144,-9.362453183090379,-9.365019279256245,-9.367567544991315,-9.370098165493363,-9.372611323404255,-9.375107198853868,-9.37758596950314,-9.380047810586227,-9.382492894951787,-9.384921393103449,-9.387333473239435,-9.38972930129141,-9.392109040962508,-9.39447285376464,-9.396820899055031,-9.399153334072022,-9.401470313970183,-9.403771991854706,-9.40605851881514,-9.408330043958447,-9.410586714441417,-9.412828675502444,-9.415056070492692,-9.417269040906637,-9.41946772641205,-9.421652264879356,-9.423822792410474,-9.425979443367076,-9.4281223503983,-9.430251644467972,-9.432367454881266,-9.43446990931089,-9.436559133822758,-9.438635252901202,-9.440698389473685,-9.442748664935063,-9.444786199171414,-9.446811110583376,-9.44882351610911,-9.450823531246792,-9.452811270076726,-9.454786845283019,-9.456750368174886,-9.458701948707551,-9.46064169550278,-9.462569715869018,-9.464486115821195,-9.46639100010015,-9.468284472191712,-9.470166634345444,-9.472037587593054,-9.473897431766453,-9.475746265515541,-9.477584186325627,-9.479411290534575,-9.481227673349634,-9.483033428863969,-9.484828650072922,-9.486613428889967,-9.488387856162397,-9.490152021686749,-9.49190601422393,-9.493649921514134,-9.495383830291448,-9.497107826298237,-9.498821994299286,-9.500526418095689,-9.502221180538498,-9.503906363542159,-9.505582048097699,-9.507248314285714,-9.508905241289117,-9.510552907405682,-9.51219139006038,-9.513820765817508,-9.51544111039261,-9.517052498664212,-9.518655004685346,-9.520248701694916,-9.521833662128826,-9.52340995763098,-9.524977659064062,-9.526536836520162,-9.528087559331224,-9.529629896079316,-9.531163914606742,-9.532689682025998,-9.534207264729549,-9.535716728399466,-9.537218138016897,-9.538711557871396,-9.540197051570102,-9.541674682046759,-9.543144511570611,-9.544606601755156,-9.54606101356674,-9.547507807333043,-9.548947042751415,-9.55037877889709,-9.55180307423127,-9.553219986609072,-9.554629573287377,-9.556031890932532,-9.557426995627946,-9.558814942881574,-9.560195787633262,-9.561569584262017,-9.562936386593128,-9.564296247905204,-9.565649220937104,-9.566995357894738,-9.568334710457792,-9.569667329786343,-9.57099326652737,-9.572312570821175,-9.573625292307693,-9.574931480132726,-9.576231182954075,-9.577524448947585,-9.578811325813092,-9.580091860780287,-9.581366100614503,-9.582634091622396,-9.583895879657563,-9.585151510126067,-9.586401027991887,-9.587644477782273,-9.588881903593057,-9.590113349093839,-9.591338857533145,-9.592558471743487,-9.593772234146341,-9.59498018675708,-9.596182371189814,-9.597378828662169,-9.598569600000001,-9.59975472564204,-9.600934245644462,-9.60210819968541,-9.60327662706944,-9.604439566731898,-9.605597057243266,-9.6067491368134,-9.607895843295765,-9.609037214191547,-9.610173286653772,-9.611304097491317,-9.612429683172891,-9.613550079830965,-9.61466532326562,-9.615775448948375,-9.616880492025944,-9.617980487323944,-9.61907546935055,-9.620165472300114,-9.621250530056711,-9.622330676197661,-9.623405943996989,-9.62447636642884,-9.62554197617085,-9.626602805607478,-9.62765888683327,-9.628710251656122,-9.629756931600445,-9.630798957910336,-9.63183636155268,-9.632869173220215,-9.63389742333456,-9.634921142049212,-9.635940359252473,-9.636955104570385,-9.637965407369574,-9.6389712967601,-9.639972801598256,-9.640969950489307,-9.641962771790235,-9.642951293612414,-9.643935543824272,-9.644915550053899,-9.645891339691646,-9.646862939892666,-9.647830377579435,-9.648793679444248,-9.649752871951653,-9.6507079813409,-9.651659033628318,-9.652606054609679,-9.65354906986253,-9.654488104748506,-9.655423184415584,-9.656354333800351,-9.657281577630199,-9.658204940425533,-9.659124446501915,-9.660040119972214,-9.660951984748701,-9.66186006454514,-9.662764382878839,-9.663664963072684,-9.664561828257133,-9.665455001372214,-9.666344505169462,-9.667230362213871,-9.668112594885782,-9.668991225382783,-9.669866275721562,-9.67073776773975,-9.671605723097734,-9.672470163280458,-9.673331109599191,-9.674188583193278,-9.67504260503187,-9.675893195915634,-9.676740376478449,-9.677584167189064,-9.678424588352744,-9.67926166011292,-9.680095402452768,-9.680925835196824,-9.681752978012545,-9.682576850411861,-9.683397471752713,-9.684214861240564,-9.685029037929905,-9.685840020725728,-9.686647828384993,-9.687452479518072,-9.688253992590186,-9.689052385922803,-9.689847677695047,-9.690639885945073,-9.691429028571427,-9.692215123334407,-9.692998187857373,-9.693778239628086,-9.694555296]},\"selected\":{\"id\":\"1046\"},\"selection_policy\":{\"id\":\"1045\"}},\"id\":\"1007\",\"type\":\"ColumnDataSource\"},{\"attributes\":{},\"id\":\"1027\",\"type\":\"PanTool\"},{\"attributes\":{\"line_alpha\":0.1,\"line_color\":\"#1f77b4\",\"line_width\":3,\"x\":{\"field\":\"x\"},\"y\":{\"field\":\"y\"}},\"id\":\"1034\",\"type\":\"Line\"},{\"attributes\":{},\"id\":\"1024\",\"type\":\"BasicTicker\"},{\"attributes\":{\"formatter\":{\"id\":\"1043\"},\"ticker\":{\"id\":\"1020\"}},\"id\":\"1019\",\"type\":\"LinearAxis\"},{\"attributes\":{},\"id\":\"1015\",\"type\":\"LinearScale\"},{\"attributes\":{\"formatter\":{\"id\":\"1041\"},\"ticker\":{\"id\":\"1024\"}},\"id\":\"1023\",\"type\":\"LinearAxis\"},{\"attributes\":{},\"id\":\"1041\",\"type\":\"BasicTickFormatter\"},{\"attributes\":{\"axis\":{\"id\":\"1023\"},\"dimension\":1,\"ticker\":null},\"id\":\"1026\",\"type\":\"Grid\"},{\"attributes\":{\"source\":{\"id\":\"1007\"}},\"id\":\"1036\",\"type\":\"CDSView\"},{\"attributes\":{},\"id\":\"1011\",\"type\":\"Range1d\"},{\"attributes\":{\"end\":350,\"format\":\"0[.]00\",\"js_property_callbacks\":{\"change:value\":[{\"id\":\"1037\"}]},\"start\":275,\"step\":0.1,\"title\":\"Outer temperature [K]\",\"value\":275},\"id\":\"1002\",\"type\":\"Slider\"},{\"attributes\":{\"line_alpha\":0.6,\"line_color\":\"#1f77b4\",\"line_width\":3,\"x\":{\"field\":\"x\"},\"y\":{\"field\":\"y\"}},\"id\":\"1033\",\"type\":\"Line\"},{\"attributes\":{},\"id\":\"1043\",\"type\":\"BasicTickFormatter\"},{\"attributes\":{},\"id\":\"1028\",\"type\":\"WheelZoomTool\"},{\"attributes\":{},\"id\":\"1017\",\"type\":\"LinearScale\"},{\"attributes\":{\"args\":{\"area1\":{\"id\":\"1005\"},\"area2\":{\"id\":\"1006\"},\"emissivity1\":{\"id\":\"1004\"},\"source\":{\"id\":\"1007\"},\"temperature1\":{\"id\":\"1002\"},\"temperature2\":{\"id\":\"1003\"}},\"code\":\"\\n        var data = source.data;\\n        var A1 = area1.value;\\n        var A2 = area2.value;\\n        area1.end=A2\\n        var e1 = emissivity1.value;\\n        var T1 = temperature1.value;\\n        var T2 = temperature2.value;\\n        var sigma = 5.6704*Math.pow(10, -8);\\n        var x = data['x'];\\n        var y = data['y'];\\n        for (var i = 0; i < 500; i++) {\\n            var e2 = (i+1)/500;\\n            if (A1 < A2){\\n                y[i] = (A1 * sigma * (Math.pow(T1, 4) - Math.pow(T2, 4)))/(1/e1 + (A1/A2 * (1/e2 - 1)));\\n            }else{\\n                y[i] = -1\\n            }\\n        }\\n\\n        // necessary becasue we mutated source.data in-place\\n        source.change.emit();\\n    \"},\"id\":\"1037\",\"type\":\"CustomJS\"}],\"root_ids\":[\"1039\"]},\"title\":\"Bokeh Application\",\"version\":\"2.0.2\"}};\n",
       "  var render_items = [{\"docid\":\"4b9142be-bc67-48cf-8183-aa1116eaaa30\",\"root_ids\":[\"1039\"],\"roots\":{\"1039\":\"15675ea5-b90f-4000-9f54-a7af97ac7352\"}}];\n",
       "  root.Bokeh.embed.embed_items_notebook(docs_json, render_items);\n",
       "\n",
       "  }\n",
       "  if (root.Bokeh !== undefined) {\n",
       "    embed_document(root);\n",
       "  } else {\n",
       "    var attempts = 0;\n",
       "    var timer = setInterval(function(root) {\n",
       "      if (root.Bokeh !== undefined) {\n",
       "        clearInterval(timer);\n",
       "        embed_document(root);\n",
       "      } else {\n",
       "        attempts++;\n",
       "        if (attempts > 100) {\n",
       "          clearInterval(timer);\n",
       "          console.log(\"Bokeh: ERROR: Unable to run BokehJS code because BokehJS library is missing\");\n",
       "        }\n",
       "      }\n",
       "    }, 10, root)\n",
       "  }\n",
       "})(window);"
      ],
      "application/vnd.bokehjs_exec.v0+json": ""
     },
     "metadata": {
      "application/vnd.bokehjs_exec.v0+json": {
       "id": "1039"
      }
     },
     "output_type": "display_data"
    }
   ],
   "source": [
    "create_simulation_from_description(heat_flux_graph_description)"
   ]
  },
  {
   "cell_type": "code",
   "execution_count": null,
   "metadata": {
    "pycharm": {
     "is_executing": false,
     "name": "#%%\n"
    }
   },
   "outputs": [],
   "source": [
    "\n"
   ]
  }
 ],
 "metadata": {
  "kernelspec": {
   "display_name": "Python 3",
   "language": "python",
   "name": "python3"
  },
  "language_info": {
   "codemirror_mode": {
    "name": "ipython",
    "version": 3
   },
   "file_extension": ".py",
   "mimetype": "text/x-python",
   "name": "python",
   "nbconvert_exporter": "python",
   "pygments_lexer": "ipython3",
   "version": "3.8.2"
  },
  "pycharm": {
   "stem_cell": {
    "cell_type": "raw",
    "source": [],
    "metadata": {
     "collapsed": false
    }
   }
  }
 },
 "nbformat": 4,
 "nbformat_minor": 4
}