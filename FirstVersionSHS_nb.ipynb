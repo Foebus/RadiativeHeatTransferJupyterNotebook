{
 "cells": [
  {
   "cell_type": "markdown",
   "metadata": {},
   "source": [
    "# Radiative Exchange between Surfaces"
   ]
  },
  {
   "cell_type": "markdown",
   "metadata": {},
   "source": [
    "In this notebook, a mathematical model of $\\textbf{radiative heat transfer between surfaces}$ is presented."
   ]
  },
  {
   "cell_type": "markdown",
   "metadata": {},
   "source": [
    "## Goals"
   ]
  },
  {
   "cell_type": "markdown",
   "metadata": {},
   "source": [
    "- Recalling concepts as $\\textbf{heat flux}$, $\\textbf{radiosity}$, $\\textbf{irradiation}$, $\\textbf{emissivity}$, $\\textbf{absorptivity}$ and $\\textbf{view factor}$\n",
    "- Deriving the $\\textbf{governing equation of radiative heat transfer}$\n",
    "- Developing a physical intuition for the equation\n",
    "- Assessing one's comprehension of the topic through short exercises"
   ]
  },
  {
   "cell_type": "markdown",
   "metadata": {},
   "source": [
    "## Brief reminder"
   ]
  },
  {
   "cell_type": "markdown",
   "metadata": {},
   "source": [
    "Let us get begin with a brief reminder of the basic concepts of heat transfer."
   ]
  },
  {
   "cell_type": "markdown",
   "metadata": {},
   "source": [
    "### Heat Flux"
   ]
  },
  {
   "cell_type": "markdown",
   "metadata": {},
   "source": [
    "Heat flux is the quantity of thermal energy going through a surface per unit time.\n",
    "One can define the heat flux in terms of two quantities : \n",
    "\n",
    "- $\\textbf{Radiosity}$ (J): the rate at which radiative energy leaves a surface.\n",
    "- $\\textbf{Irradiation}$ (H): the rate at which radiative energy is absorbed by a surface.\n",
    "\n",
    "Naturally, heat flux is the difference between the two.\n",
    "$$\\dot{q} = J - H \\; (\\star)$$\n",
    "\n",
    "Thus, by convention, if $\\dot{q} \\gt 0$ then, more energy is emitted by the surface than absorbed per unit time. \n",
    "\n",
    "Alternatively, a surface's heat flux can be defined in terms of its:\n",
    "- $\\textbf{Emissivity}$($\\epsilon$)\n",
    "- $\\textbf{Emissive power}$($E_b$)\n",
    "- $\\textbf{Absorptivity}$($\\alpha$)\n",
    "- $\\textbf{Irradiation}$ (H)\n",
    "\n",
    "This yields the following:\n",
    "\n",
    "$$\\dot{q} = \\epsilon E_b - \\alpha H $$ \n",
    "\n",
    "**Assumption**: we will assume that we are working only with gray diffuse surfaces, where $\\epsilon = \\alpha$.\n",
    "\n",
    "We are left with the following relation:\n",
    "$$\\dot{q} = \\epsilon (E_b - H)\\; (1)$$"
   ]
  },
  {
   "cell_type": "markdown",
   "metadata": {},
   "source": [
    "### Radiosity"
   ]
  },
  {
   "cell_type": "markdown",
   "metadata": {},
   "source": [
    "Radiosity is the rate at which radiative energy leaves a surface by emission and reflection. This quantity is denoted by J in this course. Note that $J\\geq0$.\n",
    "\n",
    "Using the two definitions for heat flux, we can define a surface's radiosity in terms of its emissivity, its emitted power and its heat flux:\n",
    "\n",
    "$$ \\dot{q} = J - H $$\n",
    "$$\\iff H = J - \\dot{q} \\> (2)$$\n",
    "\n",
    "\n",
    "$$ \\epsilon (E_b - H) $$\n",
    "$$\\iff H = E_b - \\frac{\\dot{q}}{\\epsilon}\\> (3) $$\n",
    "\n",
    "\n",
    "\n",
    "$$ (2) = (3) \\iff J - \\dot{q} = E_b - \\frac{\\dot{q}}{\\epsilon}$$\n",
    "$$ \\iff J = E_b - \\frac{1 - \\epsilon}{\\epsilon}\\dot{q}$$\n",
    "\n",
    "This proves useful in deriving the governing equation."
   ]
  },
  {
   "cell_type": "markdown",
   "metadata": {},
   "source": [
    "### Irradiation"
   ]
  },
  {
   "cell_type": "markdown",
   "metadata": {},
   "source": [
    "Irradiation is the rate at which radiative energy is absorbed by a surface. Hence, it is the complement to radiosity. This quantity is denoted by H in this course. Note that $H\\geq0$."
   ]
  },
  {
   "cell_type": "markdown",
   "metadata": {},
   "source": [
    "### Emissivity"
   ]
  },
  {
   "cell_type": "markdown",
   "metadata": {},
   "source": [
    "The emissivity of a surface is the proportion of emitted power effectively leaving the surface.\n",
    "\n",
    "This factor is usually denoted by $\\epsilon$ and $0 \\leq \\epsilon \\leq 1$."
   ]
  },
  {
   "cell_type": "markdown",
   "metadata": {},
   "source": [
    "### Absorptivity"
   ]
  },
  {
   "cell_type": "markdown",
   "metadata": {},
   "source": [
    "The absorptivity of a surface is the proportion of the incident radiant energy that is absorbed.\n",
    "\n",
    "This factor is usually denoted by $\\alpha$ and $0 \\leq \\alpha \\leq 1$."
   ]
  },
  {
   "cell_type": "markdown",
   "metadata": {},
   "source": [
    "### View Factor"
   ]
  },
  {
   "cell_type": "markdown",
   "metadata": {},
   "source": [
    "View factor between two finite surface elements ≡ ratio of energy leaving\n",
    "$A_i$ per unit time directly toward and intercepted by $A_j$ to all energy leaving $A_i$\n",
    "per unit time"
   ]
  },
  {
   "cell_type": "markdown",
   "metadata": {},
   "source": [
    "#### Place an example here"
   ]
  },
  {
   "cell_type": "markdown",
   "metadata": {},
   "source": [
    "## Formula derivation"
   ]
  },
  {
   "cell_type": "code",
   "execution_count": null,
   "metadata": {},
   "outputs": [],
   "source": []
  },
  {
   "cell_type": "markdown",
   "metadata": {},
   "source": [
    "### Interpretation"
   ]
  },
  {
   "cell_type": "code",
   "execution_count": null,
   "metadata": {},
   "outputs": [],
   "source": []
  },
  {
   "cell_type": "markdown",
   "metadata": {},
   "source": []
  },
  {
   "cell_type": "code",
   "execution_count": null,
   "metadata": {},
   "outputs": [],
   "source": []
  },
  {
   "cell_type": "markdown",
   "metadata": {},
   "source": [
    "### Simulation"
   ]
  },
  {
   "cell_type": "code",
   "execution_count": null,
   "metadata": {},
   "outputs": [],
   "source": []
  }
 ],
 "metadata": {
  "kernelspec": {
   "display_name": "Python 3",
   "language": "python",
   "name": "python3"
  },
  "language_info": {
   "codemirror_mode": {
    "name": "ipython",
    "version": 3
   },
   "file_extension": ".py",
   "mimetype": "text/x-python",
   "name": "python",
   "nbconvert_exporter": "python",
   "pygments_lexer": "ipython3",
   "version": "3.7.4"
  }
 },
 "nbformat": 4,
 "nbformat_minor": 4
}
