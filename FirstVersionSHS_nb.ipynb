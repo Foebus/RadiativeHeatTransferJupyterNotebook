{
 "cells": [
  {
   "cell_type": "markdown",
   "metadata": {},
   "source": [
    "# Radiative Exchange between Surfaces"
   ]
  },
  {
   "cell_type": "markdown",
   "metadata": {},
   "source": [
    "In this notebook, a mathematical model of $\\textbf{radiative heat transfer between surfaces}$ is presented."
   ]
  },
  {
   "cell_type": "markdown",
   "metadata": {},
   "source": [
    "## Goals"
   ]
  },
  {
   "cell_type": "markdown",
   "metadata": {},
   "source": [
    "- Recalling concepts as $\\textbf{heat flux}$, $\\textbf{radiosity}$, $\\textbf{irradiation}$, $\\textbf{emissivity}$, $\\textbf{absorptivity}$ and $\\textbf{view factor}$\n",
    "- Deriving the $\\textbf{governing equation of radiative heat transfer}$\n",
    "- Developing a physical intuition for the equation\n",
    "- Assessing one's comprehension of the topic through short exercises"
   ]
  },
  {
   "cell_type": "markdown",
   "metadata": {},
   "source": [
    "## Brief reminder"
   ]
  },
  {
   "cell_type": "markdown",
   "metadata": {},
   "source": [
    "Let us get begin with a brief reminder of the basic concepts of heat transfer."
   ]
  },
  {
   "cell_type": "markdown",
   "metadata": {},
   "source": [
    "### Heat Flux"
   ]
  },
  {
   "cell_type": "markdown",
   "metadata": {},
   "source": [
    "Heat flux can be defined as the rate of thermal energy transfer through a given surface, denoted by $\\dot{q}$. Its SI units are watts per square metre ($W⋅m^{−2}$). Note that the dot $\"\\dot{}\"$ stems from the fact that heat flux is a $\\textbf{rate}$ and takes after Newton's notation for the time-derivative, i.e. $\\dot{q} = \\frac{dq}{dt}$.\n",
    "\n",
    "One can define the heat flux in terms of three quantities : \n",
    "\n",
    "- $\\textbf{Radiosity} (J)$: the rate at which radiative energy leaves a surface.\n",
    "- $\\textbf{Irradiation} (H)$: the rate at which radiative energy impacts a surface.\n",
    "\n",
    "Naturally, heat flux is the difference between the two.\n",
    "$$\\dot{q} = J - H \\; (\\star)$$\n",
    "\n",
    "Thus, by convention, if $\\dot{q} \\gt 0$ then, more energy is emitted by the surface than absorbed per unit time. \n",
    "\n",
    "Alternatively, the heat flux through an opaque surface can be defined in terms of its:\n",
    "- $\\textbf{Emissivity}$($\\epsilon$)\n",
    "- $\\textbf{Blackbody emissive power}$($E_b$)\n",
    "- $\\textbf{Reflectivity}$($\\rho$)\n",
    "- $\\textbf{Absorptivity}$($\\alpha$)\n",
    "- $\\textbf{Irradiation} (H)$\n",
    "\n",
    "For an opaque surface, $\\rho + \\alpha = 1$\n",
    "\n",
    "This yields the following:\n",
    "\n",
    "$$\\dot{q} = J - H = \\epsilon E_b + \\rho H - H = \\epsilon E_b - \\alpha H $$\n",
    "\n",
    "Interpretation: it is the difference between the effective emissive power ($\\epsilon E_b$) and the effective absorbed power ($\\alpha H$).\n",
    "\n",
    "**Assumption**: we will assume that we are working only with gray diffuse surfaces, where $\\epsilon = \\alpha$. Note that a gray diffuse surface is one of opaque surfaces. \n",
    "\n",
    "We are left with the following relation:\n",
    "$$\\dot{q} = \\epsilon (E_b - H)\\; (1)$$"
   ]
  },
  {
   "cell_type": "markdown",
   "metadata": {},
   "source": [
    "### Radiosity"
   ]
  },
  {
   "cell_type": "markdown",
   "metadata": {},
   "source": [
    "Radiosity is the rate at which radiative energy leaves a given surface by emission, reflection and transmission. This quantity is denoted by $J$ and $J\\geq0$. Its SI unit is watt per square metre ($W⋅m^{−2}$). Note that the transmitted component of radiosity vanishes when it is an opaque surface. \n",
    "\n",
    "By using the two definitions of heat flux presented above, we can obtain:\n",
    "\n",
    "\n",
    "Starting from $(\\star)$:\n",
    "\n",
    "$$\\iff H = J - \\dot{q} \\;(2)$$\n",
    "\n",
    "Now, using $(1)$:\n",
    "\n",
    "$$ \\dot{q} = \\epsilon (E_b - H) $$\n",
    "\n",
    "$$\\iff H = E_b - \\frac{\\dot{q}}{\\epsilon}\\; (3) $$\n",
    "\n",
    "Putting $(2)$ and $(3)$ together gives the result:\n",
    "\n",
    "$$J - \\dot{q} = E_b - \\frac{\\dot{q}}{\\epsilon}$$\n",
    "\n",
    "\n",
    "$$ \\iff J = E_b - \\frac{1 - \\epsilon}{\\epsilon}\\dot{q} \\; (4) $$\n",
    "\n",
    "Equation $(4)$ is useful in deriving the governing equation.\n",
    "\n",
    "Image\"heat flux\"!!!"
   ]
  },
  {
   "cell_type": "markdown",
   "metadata": {},
   "source": [
    "### Irradiation"
   ]
  },
  {
   "cell_type": "markdown",
   "metadata": {},
   "source": [
    "Irradiation is the rate at which radiative energy is received by a given surface. It is the process by which an object is exposed to radiation. Hence, it is the complement to radiosity. This quantity is denoted $H$ and $H\\geq0$. Its SI unit is watt per square metre ($W⋅m^{−2}$)."
   ]
  },
  {
   "cell_type": "markdown",
   "metadata": {},
   "source": [
    "### Emissivity"
   ]
  },
  {
   "cell_type": "markdown",
   "metadata": {},
   "source": [
    "It is also called emittance. It is the most basic radiative property for emission from an opaque surface. The emissivity of an opaque surface is the ratio of the actual emissive power ($I_e$ or $E_e$) to that of a black surface ($I_b$ or $E_b$) at the same conditions, usually denoted $\\epsilon$ and $0 \\leq \\epsilon \\leq 1$.\n",
    "\n",
    "Several terminologies are introduced below:\n",
    "\n",
    "Spectral directional emissivity is direction dependence, denoted $\\epsilon_{\\lambda}^{\\prime}(\\lambda,T,\\hat{S}_0)$. The prime added to the letter $\\epsilon$ and the direction vector $\\hat{S}_0$ indicate that directions of emission away from a surface are considered. Otherwise, it is called spectral hemispherical emissivity with directionally averaged value, denoted $\\epsilon_{\\lambda}(\\lambda,T)$. \n",
    "\n",
    "The total directional/hemispherical emissivity is a spectrally averaged value which is independent on the wavelength of emissions, denoted $\\epsilon^{\\prime}(T,\\hat{S}_0)$ and $\\epsilon(T)$, respectively. \n",
    "\n",
    "$$\\epsilon_{\\lambda}^{\\prime}(\\lambda,T,\\hat{S}_0) = \\frac{I_{e\\lambda}(\\lambda,T,\\hat{S}_0)}{I_{b\\lambda}(\\lambda,T)}$$\n",
    "\n",
    "$$ \\epsilon_{\\lambda}(\\lambda,T) = \\frac{E_{e\\lambda}(\\lambda,T)}{E_{b\\lambda}(\\lambda,T)}$$"
   ]
  },
  {
   "cell_type": "markdown",
   "metadata": {},
   "source": [
    "### Absorptivity"
   ]
  },
  {
   "cell_type": "markdown",
   "metadata": {},
   "source": [
    "It is also called absorptance. The absorptivity of a surface is the ratio of the heat flux absorbed by the surface ($E_a$) to the irradiation ($H$), usually denoted $\\alpha$ and $0 \\leq \\alpha \\leq 1$. Likewise, we can distinguish between directional and hemispherical, as well as spectral and total absorptivity. But here, we use the total hemispherical absorptivity as an example for simplicity:\n",
    "\n",
    "$$ \\alpha (T) = \\frac{E_a(T)}{H}$$"
   ]
  },
  {
   "cell_type": "markdown",
   "metadata": {},
   "source": [
    "### View Factor"
   ]
  },
  {
   "cell_type": "markdown",
   "metadata": {},
   "source": [
    "View factor between two finite surface elements ≡ ratio of energy leaving\n",
    "the surface $A_i$ per unit time directly toward and intercepted by the surface $A_j$ to all energy leaving the surface $A_i$\n",
    "per unit time, denoted $Q_{i-j}$, $Q_{i}$, respectively.\n",
    "\n",
    "$$ F_{i-j} = \\frac{Q_{i-j}}{Q_i}$$\n",
    "\n",
    "For plane and convex surfaces, energy leaving from the surface cannot reach themselves, i.e. $F_{i-i}=0$. For non-convex surfaces, $F_{i-i}\\not=0$.\n",
    "\n",
    "Image \"view factor\"!!!\n",
    "\n",
    "$\\textbf{Properties}$ of view factor:\n",
    "\n",
    "(1) Bounding. View factors are bounded to $0≤F_{i-j}≤1$ by definition.\n",
    "\n",
    "(2) Closeness. Due to conservation of energy, summing up all view factors from a given surface in an enclosure,$\\sum\\limits_{j=1}^N F_{i-j} = 1$.\n",
    "\n",
    "(3) Reciprocity. $A_iF_{i-j}=A_jF_{j-i}$.\n",
    "\n",
    "$\\textbf{Example}$: for two infinite concentric cylinders/spheres as shown below, what values are view factors of $F_{1-1}$, $F_{1-2}$, $F_{2-1}$, $F_{2-2}$?\n",
    "\n",
    "Image \"example of view factor\"!!!\n",
    "\n",
    "Answer: \n",
    "\n",
    "$$F_{1-1}=0, F_{1-2}=1$$ Because the energy leaving the surface 1 can be totally absorbed by the surface 2.\n",
    "\n",
    "$$F_{2-1}=\\frac{A_1}{A_2}$$ due to the reciprocity property. $$F_{1-2}=1-\\frac{A_1}{A_2}$$ due to the closeness property."
   ]
  },
  {
   "cell_type": "markdown",
   "metadata": {},
   "source": [
    "#### Blackbody emissive power"
   ]
  },
  {
   "cell_type": "markdown",
   "metadata": {},
   "source": [
    "Blackbody: an object that absorbs all radiation striking it, for all wavelengths. When a blackbody is at a constant temperature (i.e. at equilibrium), its emission has a characteristic wavelength distribution that depends on the temperature. Its emission is called blackbody radiation. \n",
    "\n",
    "Blackbody emissive power: the rate at which emissive energy leaves from a given surface of a blackbody at the wavelength $\\lambda$. Its SI units are $W/(m^2⋅\\mu m)$. \n",
    "\n",
    "According to Plank’s law, the spectral hemispherical emissive power of a blackbody:\n",
    "\n",
    "$$E_{b\\lambda}(T,\\lambda)=\\pi I_{b\\lambda}(T,\\lambda)=\\frac{C_1}{n^2\\lambda^5(e^{C_2/(n\\lambda T)}-1)}$$\n",
    "$$n=constant$$\n",
    "\n",
    "where:\n",
    "\n",
    "$I_{b\\lambda}(T,\\lambda)$: the intensity of emissive radiation\n",
    "\n",
    "$C_1$: first radiation constant ($=2\\pi hc_0^2=3.7418x10^8$ $W{\\mu m}^4m^{-2}$)\n",
    "\n",
    "$C_2$: second radiation constant ($=hc_0/k=14,388.69$ $\\mu m K$)\n",
    "\n",
    "$h$: Planck constant\n",
    "\n",
    "$C_0$: speed of light in vacuum\n",
    "\n",
    "$k$: Boltzmann constant\n",
    "\n",
    "Image \"blackbody emissive power\"!!!\n",
    "\n",
    "As the above graph shows, the total emissive power ($E_{b\\lambda,max}$) increases with temperature while the peak of the emission spectrum shifts to the lower wavelength as the below equations tell us:\n",
    "\n",
    "$$\\frac{d}{d(n\\lambda T)}(\\frac{E_{b\\lambda}(n\\lambda T)}{n^3T^5})=0$$\n",
    "\n",
    "$$(n\\lambda T)_{max}=\\frac{C_2}{5}(\\frac{1}{1-e^{-C_2/(n\\lambda T)_{max}}})=C_3=2897.8  \\mu mK$$\n",
    "\n",
    "$$E_{b\\lambda,max}=n^3T^5\\frac{C_1}{C_3^5(e^{C_2/C_3}-1)}$$\n",
    "\n",
    "The total hemispherical emissive power of a blackbody: the total energy radiated per unit surface area of a black body across all wavelengths per unit time-- Stefan-Boltzmann law:\n",
    "\n",
    "$$E_b(T)= \\int_0^{+\\infty}{E_{b\\lambda}(T,\\lambda)}{\\rm d}\\lambda = \\sigma T^4$$\n",
    "\n",
    "where $T$ is the absolute temeprature of the balckbody surface, and $\\sigma$ is Stefan-Boltzmann constant = $5.6704*10^{-8} Wm^{-2}K^{-4}$."
   ]
  },
  {
   "cell_type": "markdown",
   "metadata": {},
   "source": [
    "## Formula derivation"
   ]
  },
  {
   "cell_type": "markdown",
   "metadata": {
    "pycharm": {
     "name": "#%% md\n"
    }
   },
   "source": [
    "Now, the 'Radiative Heat Transfer Equation' is derived. This equation enables one to model radiation between multiple surfaces and to solve for their heat fluxes. First, the hypotheses of the problem are defined.\n",
    "\n",
    "Let us assume that our system is in steady-state, i.e. the heat fluxes are independent of time. \n",
    "\n",
    "We start off with the continuous version of heat flux:\n",
    "\n",
    "$\\dot{q}(r) = J(r) - H(r) - H_o(r)$ \n",
    "\n",
    "where $H_o$ is the irradiation from outside the system and $H$ is the irradiation from inside.\n",
    "\n",
    "We would like to discretize the equation by taking the average heat flux over $N$ different surfaces. To do so, we divide our continuous surface(s) into $N$ different surfaces. For any surface $i$, the heat flux is defined as its surface average:\n",
    "\n",
    "$\\dot{q}_i := \\frac{\\int\\limits_{A_i}q(r)dA_i}{\\int_{A_i}dA_i}$\n",
    "\n",
    "Naturally the other quantities are defined in the same fashion:\n",
    "\n",
    "$J_i :=  \\frac{\\int\\limits_{A_i}J(r)dA_i}{\\int\\limits_{A_i}dA_i}$, $H_i :=  \\frac{\\int\\limits_{A_i}H(r)dA_i}{\\int\\limits_{A_i}dA_i}$ and $H_{o,i} :=  \\frac{\\int\\limits_{A_i}H_o(r)dA_i}{\\int\\limits_{A_i}dA_i}$\n",
    "\n",
    "\n",
    "Moreover, we assume that all surfaces are gray-diffuse. We also denote the average emissive power and emissivity by $E_{b,i}$ and $\\epsilon_{i}$. Furthermore, $F_{i-j}$ is the view factor from surface $i$ to surface $j$.\n",
    "\n",
    "Now we begin with the discretized definition of heat flux of an arbitrary surface $i$:\n",
    "\n",
    "$\\dot{q}_{i} = J_{i} - H_{i} - H_{o,i} \\> (*)$\n",
    "\n",
    "One can rewrite the total irradiation incident on surface $i$ in terms of the other surface's radiosities. The proportion of surface $j$'s total radiosity that strikes surface $i$ is the view factor $F_{j-i}$. Hence, we can sum up the contributions from all surfaces impinging on surface $i$.\n",
    "\n",
    "$H_i A_i = \\sum\\limits_{j=1}^N F_{j-i}A_jJ_{j}$\n",
    "\n",
    "Using the reciprocity relation $F_{j-i}A_j = F_{i-j}A_i$ we can rewrite the above as:\n",
    "\n",
    "$H_i A_i = \\sum\\limits_{j=1}^N F_{i-j}A_iJ_{j}$ and so dividing by $A_i$ we get:\n",
    "\n",
    "$H_i = \\sum\\limits_{j=1}^N F_{i-j}J_{j} \\; (5)$\n",
    "\n",
    "In the section on radiosity, we saw that a surface's radiosity could be rewritten in terms of its heat flux, its emitted power and its emissivity. We recall equation $(4)$:\n",
    "\n",
    "$J_{i} = E_{b,i} - \\frac{1-\\epsilon_{i}}{\\epsilon_{i}}\\dot{q}_{i} \\> (4)$\n",
    "\n",
    "$(4)$ is plugged into $(5)$.\n",
    "\n",
    "$H_{i} = \\sum\\limits_{j=1}^N F_{i-j}(E_{b,j} - \\frac{1-\\epsilon_{j}}{\\epsilon_{j}}\\dot{q}_{j}) \\> (6)$\n",
    "\n",
    "We insert $(4)$ and $(6)$ into $(*)$, to replace surface $i$'s radiosity and irradiation:\n",
    "\n",
    "$\\dot{q}_{i} = E_{b,i} - \\frac{1-\\epsilon_{i}}{\\epsilon_{i}}\\dot{q}_{i} - \\sum\\limits_{j=1}^N F_{i-j}(E_{b,j} - \\frac{1-\\epsilon_{j}}{\\epsilon_{j}}\\dot{q}_{j}) - H_{o,i}$\n",
    "\n",
    "Rearranging some terms, we obtain:\n",
    "\n",
    "$\\frac{\\dot{q}_{i}}{\\epsilon_{i}} - \\sum\\limits_{j=1}^N F_{i-j}\\frac{1-\\epsilon_{j}}{\\epsilon_{j}}\\dot{q}_{j} + H_{o,i} = E_{b,i} - \\sum\\limits_{j=1}^N F_{i-j}E_{b,j} \\; (7)$\n",
    "\n",
    "One of the properties of the view factor is that for any surface $i$ :\n",
    "\n",
    "$\\sum\\limits_{j=1}^N F_{i-j} = 1$\n",
    "\n",
    "This enables us to rewrite $E_{b,i}$ as $\\sum\\limits_{j=1}^N F_{i-j}E_{b,i}$.\n",
    "\n",
    "Our equation becomes\n",
    "\n",
    "$\\frac{\\dot{q}_{i}}{\\epsilon_{i}} - \\sum\\limits_{j=1}^N F_{i-j}\\frac{1-\\epsilon_{j}}{\\epsilon_{j}}\\dot{q}_{j} + H_{o,i} = \\sum\\limits_{j=1}^N F_{i-j}(E_{b,i} - E_{b,j}) \\; (\\star\\star)$\n",
    "\n",
    "and holds for all $i=1,...,N$. Note that there are $N$ unknowns and $N$ equations and that this is a linear system. Hence, we can solve it."
   ]
  },
  {
   "cell_type": "markdown",
   "metadata": {},
   "source": [
    "## Conversion to a Matrix System"
   ]
  },
  {
   "cell_type": "markdown",
   "metadata": {
    "pycharm": {
     "name": "#%% md\n"
    }
   },
   "source": [
    "In practice, it is convenient to convert $(\\star\\star)$ to a matrix system. This enables easier computations with a software like Matlab.\n",
    "\n",
    "We introduce the Kronecker Delta:\n",
    "\n",
    "$\\delta_{ij} = \n",
    "     \\begin{cases}\n",
    "       \\ 1 \\; \\text{if} \\; i = j \\\\\n",
    "       \\ 0 \\; \\text{otherwise} \\\\\n",
    "     \\end{cases}$\n",
    "     \n",
    "Note that in matrix form, the Kronecker Delta is the $\\textbf{identity matrix}$.\n",
    "\n",
    "Starting from equation $(7)$, one can rewrite $\\dot{q}_{i} = \\sum\\limits_{j=1}^N \\delta_{ij}\\dot{q}_{i}$. One can do the same for $E_{b,i} = \\sum\\limits_{j=1}^N \\delta_{ij}E_{b,i}$ in equation $(7)$. The equation becomes:\n",
    "\n",
    "$\\sum\\limits_{j=1}^N (\\frac{\\delta_{ij}}{\\epsilon{i}} - F_{i-j}\\frac{1-\\epsilon_{j}}{\\epsilon_{j}})\\dot{q}_{j} + H_{o,i} = \\sum\\limits_{j=1}^N (\\delta_{ij} - F_{i-j})E_{b,j}$\n",
    "\n",
    "We can define $C$ and $A$ as the $N\\times N$ matrices where:\n",
    "\n",
    "$C_{ij} = \\frac{\\delta_{ij}}{\\epsilon_{i}} - F_{i-j}\\frac{1-\\epsilon_{j}}{\\epsilon_{j}} $\n",
    "\n",
    "$ A_{ij} = \\delta_{ij} - F_{i-j} $\n",
    "\n",
    "In addition $\\vec{\\dot{q}} = (\\dot{q_{1}},...,\\dot{q_{N}})^{T}$, $\\vec{E_{b}} = (E_{b,1},...,E_{b,N})^{T}$ and $\\vec{H_{o}} = (H_{o,1},...,H_{o,N})^{T} $\n",
    "\n",
    "Putting this all together we get the following system:\n",
    "\n",
    "$\\sum\\limits_{j=1}^N C_{ij}\\dot{q}_{j} + H_{o,i} = \\sum\\limits_{j=1}^N A_{ij}E_{b,j}$\n",
    "\n",
    "which is none other than the matrix system:\n",
    "\n",
    "$C\\vec{\\dot{q}} + \\vec{H_{o}} = A\\vec{E_{b}} \\; (\\star\\star\\star)$\n",
    "\n",
    "The closed-form solution is:\n",
    "\n",
    "$\\vec{\\dot{q}} = C^{-1}(A\\vec{E_{b}} - \\vec{H_{o}}) $"
   ]
  },
  {
   "cell_type": "markdown",
   "metadata": {},
   "source": [
    "### Interpretation"
   ]
  },
  {
   "cell_type": "markdown",
   "metadata": {
    "pycharm": {
     "name": "#%% md\n"
    }
   },
   "source": [
    "Before diving into the math and numbers, it is important to understand what exactly the equation entails. It is a mathematical model of radiation between surfaces. Different factors in the equation are a manifestation of different phenomena.\n",
    "\n",
    "(i) The $F_{i-j}$'s are a $\\textbf{geometric property}$ of the problem.\n",
    "\n",
    "(ii) The $E_{b,i}$'s are the emissive powers of surfaces. They are related to the temperatures of the surfaces which could be given in an exercise. These are $\\textbf{boundary conditions}$.\n",
    "\n",
    "(iii) The $\\epsilon_i$'s are $\\textbf{material properties}$.\n",
    "\n",
    "(iv) $H_o$ is also a given in this problem and constitutes a $\\textbf{boundary condition}$.\n",
    "\n",
    "Understanding how an alteration of one property affects the problem is important to rationalize results and helps recognize mistakes. For example, if the irradiation onto every surface from outside the system increases, logically the net heat flux will decrease. We defined it to be positive when it is emitting more energy than it is absorbing. Hence, if it receives more energy from outside the system, it should decrease. This is exactly what the math tells us:\n",
    "\n",
    "$\\dot{q_{i}} = J_i - H_i - H_{o,i}$\n",
    "\n",
    "Hence if $H_{o,i}$ increases, every heat flux $\\dot{q_i}$ does decrease since the math models the problem.\n",
    "\n",
    "Take a look at the simulation below to understand how the various factors play a role in this elementary example. Feel free to toggle the parameters to see how heat flux responds to different alterations:"
   ]
  },
  {
   "cell_type": "markdown",
   "metadata": {},
   "source": [
    "### Simulation"
   ]
  },
  {
   "cell_type": "code",
   "execution_count": 56,
   "metadata": {
    "pycharm": {
     "is_executing": false,
     "name": "#%%\n"
    }
   },
   "outputs": [
    {
     "data": {
      "text/html": [
       "\n",
       "    <div class=\"bk-root\">\n",
       "        <a href=\"https://bokeh.pydata.org\" target=\"_blank\" class=\"bk-logo bk-logo-small bk-logo-notebook\"></a>\n",
       "        <span id=\"1093\">Loading BokehJS ...</span>\n",
       "    </div>"
      ]
     },
     "metadata": {},
     "output_type": "display_data"
    },
    {
     "data": {
      "application/javascript": [
       "\n",
       "(function(root) {\n",
       "  function now() {\n",
       "    return new Date();\n",
       "  }\n",
       "\n",
       "  var force = true;\n",
       "\n",
       "  if (typeof root._bokeh_onload_callbacks === \"undefined\" || force === true) {\n",
       "    root._bokeh_onload_callbacks = [];\n",
       "    root._bokeh_is_loading = undefined;\n",
       "  }\n",
       "\n",
       "  var JS_MIME_TYPE = 'application/javascript';\n",
       "  var HTML_MIME_TYPE = 'text/html';\n",
       "  var EXEC_MIME_TYPE = 'application/vnd.bokehjs_exec.v0+json';\n",
       "  var CLASS_NAME = 'output_bokeh rendered_html';\n",
       "\n",
       "  /**\n",
       "   * Render data to the DOM node\n",
       "   */\n",
       "  function render(props, node) {\n",
       "    var script = document.createElement(\"script\");\n",
       "    node.appendChild(script);\n",
       "  }\n",
       "\n",
       "  /**\n",
       "   * Handle when an output is cleared or removed\n",
       "   */\n",
       "  function handleClearOutput(event, handle) {\n",
       "    var cell = handle.cell;\n",
       "\n",
       "    var id = cell.output_area._bokeh_element_id;\n",
       "    var server_id = cell.output_area._bokeh_server_id;\n",
       "    // Clean up Bokeh references\n",
       "    if (id != null && id in Bokeh.index) {\n",
       "      Bokeh.index[id].model.document.clear();\n",
       "      delete Bokeh.index[id];\n",
       "    }\n",
       "\n",
       "    if (server_id !== undefined) {\n",
       "      // Clean up Bokeh references\n",
       "      var cmd = \"from bokeh.io.state import curstate; print(curstate().uuid_to_server['\" + server_id + \"'].get_sessions()[0].document.roots[0]._id)\";\n",
       "      cell.notebook.kernel.execute(cmd, {\n",
       "        iopub: {\n",
       "          output: function(msg) {\n",
       "            var id = msg.content.text.trim();\n",
       "            if (id in Bokeh.index) {\n",
       "              Bokeh.index[id].model.document.clear();\n",
       "              delete Bokeh.index[id];\n",
       "            }\n",
       "          }\n",
       "        }\n",
       "      });\n",
       "      // Destroy server and session\n",
       "      var cmd = \"import bokeh.io.notebook as ion; ion.destroy_server('\" + server_id + \"')\";\n",
       "      cell.notebook.kernel.execute(cmd);\n",
       "    }\n",
       "  }\n",
       "\n",
       "  /**\n",
       "   * Handle when a new output is added\n",
       "   */\n",
       "  function handleAddOutput(event, handle) {\n",
       "    var output_area = handle.output_area;\n",
       "    var output = handle.output;\n",
       "\n",
       "    // limit handleAddOutput to display_data with EXEC_MIME_TYPE content only\n",
       "    if ((output.output_type != \"display_data\") || (!output.data.hasOwnProperty(EXEC_MIME_TYPE))) {\n",
       "      return\n",
       "    }\n",
       "\n",
       "    var toinsert = output_area.element.find(\".\" + CLASS_NAME.split(' ')[0]);\n",
       "\n",
       "    if (output.metadata[EXEC_MIME_TYPE][\"id\"] !== undefined) {\n",
       "      toinsert[toinsert.length - 1].firstChild.textContent = output.data[JS_MIME_TYPE];\n",
       "      // store reference to embed id on output_area\n",
       "      output_area._bokeh_element_id = output.metadata[EXEC_MIME_TYPE][\"id\"];\n",
       "    }\n",
       "    if (output.metadata[EXEC_MIME_TYPE][\"server_id\"] !== undefined) {\n",
       "      var bk_div = document.createElement(\"div\");\n",
       "      bk_div.innerHTML = output.data[HTML_MIME_TYPE];\n",
       "      var script_attrs = bk_div.children[0].attributes;\n",
       "      for (var i = 0; i < script_attrs.length; i++) {\n",
       "        toinsert[toinsert.length - 1].firstChild.setAttribute(script_attrs[i].name, script_attrs[i].value);\n",
       "      }\n",
       "      // store reference to server id on output_area\n",
       "      output_area._bokeh_server_id = output.metadata[EXEC_MIME_TYPE][\"server_id\"];\n",
       "    }\n",
       "  }\n",
       "\n",
       "  function register_renderer(events, OutputArea) {\n",
       "\n",
       "    function append_mime(data, metadata, element) {\n",
       "      // create a DOM node to render to\n",
       "      var toinsert = this.create_output_subarea(\n",
       "        metadata,\n",
       "        CLASS_NAME,\n",
       "        EXEC_MIME_TYPE\n",
       "      );\n",
       "      this.keyboard_manager.register_events(toinsert);\n",
       "      // Render to node\n",
       "      var props = {data: data, metadata: metadata[EXEC_MIME_TYPE]};\n",
       "      render(props, toinsert[toinsert.length - 1]);\n",
       "      element.append(toinsert);\n",
       "      return toinsert\n",
       "    }\n",
       "\n",
       "    /* Handle when an output is cleared or removed */\n",
       "    events.on('clear_output.CodeCell', handleClearOutput);\n",
       "    events.on('delete.Cell', handleClearOutput);\n",
       "\n",
       "    /* Handle when a new output is added */\n",
       "    events.on('output_added.OutputArea', handleAddOutput);\n",
       "\n",
       "    /**\n",
       "     * Register the mime type and append_mime function with output_area\n",
       "     */\n",
       "    OutputArea.prototype.register_mime_type(EXEC_MIME_TYPE, append_mime, {\n",
       "      /* Is output safe? */\n",
       "      safe: true,\n",
       "      /* Index of renderer in `output_area.display_order` */\n",
       "      index: 0\n",
       "    });\n",
       "  }\n",
       "\n",
       "  // register the mime type if in Jupyter Notebook environment and previously unregistered\n",
       "  if (root.Jupyter !== undefined) {\n",
       "    var events = require('base/js/events');\n",
       "    var OutputArea = require('notebook/js/outputarea').OutputArea;\n",
       "\n",
       "    if (OutputArea.prototype.mime_types().indexOf(EXEC_MIME_TYPE) == -1) {\n",
       "      register_renderer(events, OutputArea);\n",
       "    }\n",
       "  }\n",
       "\n",
       "  \n",
       "  if (typeof (root._bokeh_timeout) === \"undefined\" || force === true) {\n",
       "    root._bokeh_timeout = Date.now() + 5000;\n",
       "    root._bokeh_failed_load = false;\n",
       "  }\n",
       "\n",
       "  var NB_LOAD_WARNING = {'data': {'text/html':\n",
       "     \"<div style='background-color: #fdd'>\\n\"+\n",
       "     \"<p>\\n\"+\n",
       "     \"BokehJS does not appear to have successfully loaded. If loading BokehJS from CDN, this \\n\"+\n",
       "     \"may be due to a slow or bad network connection. Possible fixes:\\n\"+\n",
       "     \"</p>\\n\"+\n",
       "     \"<ul>\\n\"+\n",
       "     \"<li>re-rerun `output_notebook()` to attempt to load from CDN again, or</li>\\n\"+\n",
       "     \"<li>use INLINE resources instead, as so:</li>\\n\"+\n",
       "     \"</ul>\\n\"+\n",
       "     \"<code>\\n\"+\n",
       "     \"from bokeh.resources import INLINE\\n\"+\n",
       "     \"output_notebook(resources=INLINE)\\n\"+\n",
       "     \"</code>\\n\"+\n",
       "     \"</div>\"}};\n",
       "\n",
       "  function display_loaded() {\n",
       "    var el = document.getElementById(\"1093\");\n",
       "    if (el != null) {\n",
       "      el.textContent = \"BokehJS is loading...\";\n",
       "    }\n",
       "    if (root.Bokeh !== undefined) {\n",
       "      if (el != null) {\n",
       "        el.textContent = \"BokehJS \" + root.Bokeh.version + \" successfully loaded.\";\n",
       "      }\n",
       "    } else if (Date.now() < root._bokeh_timeout) {\n",
       "      setTimeout(display_loaded, 100)\n",
       "    }\n",
       "  }\n",
       "\n",
       "\n",
       "  function run_callbacks() {\n",
       "    try {\n",
       "      root._bokeh_onload_callbacks.forEach(function(callback) {\n",
       "        if (callback != null)\n",
       "          callback();\n",
       "      });\n",
       "    } finally {\n",
       "      delete root._bokeh_onload_callbacks\n",
       "    }\n",
       "    console.debug(\"Bokeh: all callbacks have finished\");\n",
       "  }\n",
       "\n",
       "  function load_libs(css_urls, js_urls, callback) {\n",
       "    if (css_urls == null) css_urls = [];\n",
       "    if (js_urls == null) js_urls = [];\n",
       "\n",
       "    root._bokeh_onload_callbacks.push(callback);\n",
       "    if (root._bokeh_is_loading > 0) {\n",
       "      console.debug(\"Bokeh: BokehJS is being loaded, scheduling callback at\", now());\n",
       "      return null;\n",
       "    }\n",
       "    if (js_urls == null || js_urls.length === 0) {\n",
       "      run_callbacks();\n",
       "      return null;\n",
       "    }\n",
       "    console.debug(\"Bokeh: BokehJS not loaded, scheduling load and callback at\", now());\n",
       "    root._bokeh_is_loading = css_urls.length + js_urls.length;\n",
       "\n",
       "    function on_load() {\n",
       "      root._bokeh_is_loading--;\n",
       "      if (root._bokeh_is_loading === 0) {\n",
       "        console.debug(\"Bokeh: all BokehJS libraries/stylesheets loaded\");\n",
       "        run_callbacks()\n",
       "      }\n",
       "    }\n",
       "\n",
       "    function on_error() {\n",
       "      console.error(\"failed to load \" + url);\n",
       "    }\n",
       "\n",
       "    for (var i = 0; i < css_urls.length; i++) {\n",
       "      var url = css_urls[i];\n",
       "      const element = document.createElement(\"link\");\n",
       "      element.onload = on_load;\n",
       "      element.onerror = on_error;\n",
       "      element.rel = \"stylesheet\";\n",
       "      element.type = \"text/css\";\n",
       "      element.href = url;\n",
       "      console.debug(\"Bokeh: injecting link tag for BokehJS stylesheet: \", url);\n",
       "      document.body.appendChild(element);\n",
       "    }\n",
       "\n",
       "    for (var i = 0; i < js_urls.length; i++) {\n",
       "      var url = js_urls[i];\n",
       "      var element = document.createElement('script');\n",
       "      element.onload = on_load;\n",
       "      element.onerror = on_error;\n",
       "      element.async = false;\n",
       "      element.src = url;\n",
       "      console.debug(\"Bokeh: injecting script tag for BokehJS library: \", url);\n",
       "      document.head.appendChild(element);\n",
       "    }\n",
       "  };var element = document.getElementById(\"1093\");\n",
       "  if (element == null) {\n",
       "    console.error(\"Bokeh: ERROR: autoload.js configured with elementid '1093' but no matching script tag was found. \")\n",
       "    return false;\n",
       "  }\n",
       "\n",
       "  function inject_raw_css(css) {\n",
       "    const element = document.createElement(\"style\");\n",
       "    element.appendChild(document.createTextNode(css));\n",
       "    document.body.appendChild(element);\n",
       "  }\n",
       "\n",
       "  var js_urls = [\"https://cdn.pydata.org/bokeh/release/bokeh-1.3.4.min.js\", \"https://cdn.pydata.org/bokeh/release/bokeh-widgets-1.3.4.min.js\", \"https://cdn.pydata.org/bokeh/release/bokeh-tables-1.3.4.min.js\", \"https://cdn.pydata.org/bokeh/release/bokeh-gl-1.3.4.min.js\"];\n",
       "  var css_urls = [];\n",
       "\n",
       "  var inline_js = [\n",
       "    function(Bokeh) {\n",
       "      Bokeh.set_log_level(\"info\");\n",
       "    },\n",
       "    \n",
       "    function(Bokeh) {\n",
       "      \n",
       "    },\n",
       "    function(Bokeh) {} // ensure no trailing comma for IE\n",
       "  ];\n",
       "\n",
       "  function run_inline_js() {\n",
       "    \n",
       "    if ((root.Bokeh !== undefined) || (force === true)) {\n",
       "      for (var i = 0; i < inline_js.length; i++) {\n",
       "        inline_js[i].call(root, root.Bokeh);\n",
       "      }if (force === true) {\n",
       "        display_loaded();\n",
       "      }} else if (Date.now() < root._bokeh_timeout) {\n",
       "      setTimeout(run_inline_js, 100);\n",
       "    } else if (!root._bokeh_failed_load) {\n",
       "      console.log(\"Bokeh: BokehJS failed to load within specified timeout.\");\n",
       "      root._bokeh_failed_load = true;\n",
       "    } else if (force !== true) {\n",
       "      var cell = $(document.getElementById(\"1093\")).parents('.cell').data().cell;\n",
       "      cell.output_area.append_execute_result(NB_LOAD_WARNING)\n",
       "    }\n",
       "\n",
       "  }\n",
       "\n",
       "  if (root._bokeh_is_loading === 0) {\n",
       "    console.debug(\"Bokeh: BokehJS loaded, going straight to plotting\");\n",
       "    run_inline_js();\n",
       "  } else {\n",
       "    load_libs(css_urls, js_urls, function() {\n",
       "      console.debug(\"Bokeh: BokehJS plotting callback run at\", now());\n",
       "      run_inline_js();\n",
       "    });\n",
       "  }\n",
       "}(window));"
      ],
      "application/vnd.bokehjs_load.v0+json": "\n(function(root) {\n  function now() {\n    return new Date();\n  }\n\n  var force = true;\n\n  if (typeof root._bokeh_onload_callbacks === \"undefined\" || force === true) {\n    root._bokeh_onload_callbacks = [];\n    root._bokeh_is_loading = undefined;\n  }\n\n  \n\n  \n  if (typeof (root._bokeh_timeout) === \"undefined\" || force === true) {\n    root._bokeh_timeout = Date.now() + 5000;\n    root._bokeh_failed_load = false;\n  }\n\n  var NB_LOAD_WARNING = {'data': {'text/html':\n     \"<div style='background-color: #fdd'>\\n\"+\n     \"<p>\\n\"+\n     \"BokehJS does not appear to have successfully loaded. If loading BokehJS from CDN, this \\n\"+\n     \"may be due to a slow or bad network connection. Possible fixes:\\n\"+\n     \"</p>\\n\"+\n     \"<ul>\\n\"+\n     \"<li>re-rerun `output_notebook()` to attempt to load from CDN again, or</li>\\n\"+\n     \"<li>use INLINE resources instead, as so:</li>\\n\"+\n     \"</ul>\\n\"+\n     \"<code>\\n\"+\n     \"from bokeh.resources import INLINE\\n\"+\n     \"output_notebook(resources=INLINE)\\n\"+\n     \"</code>\\n\"+\n     \"</div>\"}};\n\n  function display_loaded() {\n    var el = document.getElementById(\"1093\");\n    if (el != null) {\n      el.textContent = \"BokehJS is loading...\";\n    }\n    if (root.Bokeh !== undefined) {\n      if (el != null) {\n        el.textContent = \"BokehJS \" + root.Bokeh.version + \" successfully loaded.\";\n      }\n    } else if (Date.now() < root._bokeh_timeout) {\n      setTimeout(display_loaded, 100)\n    }\n  }\n\n\n  function run_callbacks() {\n    try {\n      root._bokeh_onload_callbacks.forEach(function(callback) {\n        if (callback != null)\n          callback();\n      });\n    } finally {\n      delete root._bokeh_onload_callbacks\n    }\n    console.debug(\"Bokeh: all callbacks have finished\");\n  }\n\n  function load_libs(css_urls, js_urls, callback) {\n    if (css_urls == null) css_urls = [];\n    if (js_urls == null) js_urls = [];\n\n    root._bokeh_onload_callbacks.push(callback);\n    if (root._bokeh_is_loading > 0) {\n      console.debug(\"Bokeh: BokehJS is being loaded, scheduling callback at\", now());\n      return null;\n    }\n    if (js_urls == null || js_urls.length === 0) {\n      run_callbacks();\n      return null;\n    }\n    console.debug(\"Bokeh: BokehJS not loaded, scheduling load and callback at\", now());\n    root._bokeh_is_loading = css_urls.length + js_urls.length;\n\n    function on_load() {\n      root._bokeh_is_loading--;\n      if (root._bokeh_is_loading === 0) {\n        console.debug(\"Bokeh: all BokehJS libraries/stylesheets loaded\");\n        run_callbacks()\n      }\n    }\n\n    function on_error() {\n      console.error(\"failed to load \" + url);\n    }\n\n    for (var i = 0; i < css_urls.length; i++) {\n      var url = css_urls[i];\n      const element = document.createElement(\"link\");\n      element.onload = on_load;\n      element.onerror = on_error;\n      element.rel = \"stylesheet\";\n      element.type = \"text/css\";\n      element.href = url;\n      console.debug(\"Bokeh: injecting link tag for BokehJS stylesheet: \", url);\n      document.body.appendChild(element);\n    }\n\n    for (var i = 0; i < js_urls.length; i++) {\n      var url = js_urls[i];\n      var element = document.createElement('script');\n      element.onload = on_load;\n      element.onerror = on_error;\n      element.async = false;\n      element.src = url;\n      console.debug(\"Bokeh: injecting script tag for BokehJS library: \", url);\n      document.head.appendChild(element);\n    }\n  };var element = document.getElementById(\"1093\");\n  if (element == null) {\n    console.error(\"Bokeh: ERROR: autoload.js configured with elementid '1093' but no matching script tag was found. \")\n    return false;\n  }\n\n  function inject_raw_css(css) {\n    const element = document.createElement(\"style\");\n    element.appendChild(document.createTextNode(css));\n    document.body.appendChild(element);\n  }\n\n  var js_urls = [\"https://cdn.pydata.org/bokeh/release/bokeh-1.3.4.min.js\", \"https://cdn.pydata.org/bokeh/release/bokeh-widgets-1.3.4.min.js\", \"https://cdn.pydata.org/bokeh/release/bokeh-tables-1.3.4.min.js\", \"https://cdn.pydata.org/bokeh/release/bokeh-gl-1.3.4.min.js\"];\n  var css_urls = [];\n\n  var inline_js = [\n    function(Bokeh) {\n      Bokeh.set_log_level(\"info\");\n    },\n    \n    function(Bokeh) {\n      \n    },\n    function(Bokeh) {} // ensure no trailing comma for IE\n  ];\n\n  function run_inline_js() {\n    \n    if ((root.Bokeh !== undefined) || (force === true)) {\n      for (var i = 0; i < inline_js.length; i++) {\n        inline_js[i].call(root, root.Bokeh);\n      }if (force === true) {\n        display_loaded();\n      }} else if (Date.now() < root._bokeh_timeout) {\n      setTimeout(run_inline_js, 100);\n    } else if (!root._bokeh_failed_load) {\n      console.log(\"Bokeh: BokehJS failed to load within specified timeout.\");\n      root._bokeh_failed_load = true;\n    } else if (force !== true) {\n      var cell = $(document.getElementById(\"1093\")).parents('.cell').data().cell;\n      cell.output_area.append_execute_result(NB_LOAD_WARNING)\n    }\n\n  }\n\n  if (root._bokeh_is_loading === 0) {\n    console.debug(\"Bokeh: BokehJS loaded, going straight to plotting\");\n    run_inline_js();\n  } else {\n    load_libs(css_urls, js_urls, function() {\n      console.debug(\"Bokeh: BokehJS plotting callback run at\", now());\n      run_inline_js();\n    });\n  }\n}(window));"
     },
     "metadata": {},
     "output_type": "display_data"
    }
   ],
   "source": [
    "from bokeh.layouts import column, row\n",
    "from bokeh.models import ColumnDataSource, CustomJS, Slider\n",
    "from bokeh.plotting import figure\n",
    "from bokeh.io import output_notebook, show\n",
    "output_notebook()"
   ]
  },
  {
   "cell_type": "code",
   "execution_count": 57,
   "metadata": {
    "pycharm": {
     "name": "#%%\n"
    }
   },
   "outputs": [],
   "source": [
    "temperature_max_value = 100\n",
    "temperature_step_size = 1\n",
    "\n",
    "area_max_value = 10\n",
    "area_step_size = 1\n",
    "\n",
    "emissivity_step_nb = 500\n",
    "sigma = 5.6704*pow(10, -8)\n",
    "\n",
    "\n",
    "def get_graph(A1, A2, e1, T1, T2):\n",
    "    points = []\n",
    "    x_axis = []\n",
    "    for epsilon2 in range(emissivity_step_nb):\n",
    "        e2 = (epsilon2+1)/emissivity_step_nb\n",
    "        x_axis.append(e2)\n",
    "        if A1 < A2: \n",
    "            points.append((A1 * sigma * (pow(T1, 4) - pow(T2, 4)))/(1/e1 + (A1/A2 * (1/e2 - 1))))\n",
    "        else:\n",
    "            points.append(-1)\n",
    "    return x_axis, points"
   ]
  },
  {
   "cell_type": "code",
   "execution_count": 58,
   "metadata": {
    "pycharm": {
     "name": "#%%\n"
    }
   },
   "outputs": [
    {
     "data": {
      "text/html": [
       "\n",
       "\n",
       "\n",
       "\n",
       "\n",
       "\n",
       "  <div class=\"bk-root\" id=\"ff668de0-c3da-40bb-8a13-dcea26445c0e\" data-root-id=\"1134\"></div>\n"
      ]
     },
     "metadata": {},
     "output_type": "display_data"
    },
    {
     "data": {
      "application/javascript": [
       "(function(root) {\n",
       "  function embed_document(root) {\n",
       "    \n",
       "  var docs_json = {\"289d25a0-7c02-4af1-8063-2c9ae052b08a\":{\"roots\":{\"references\":[{\"attributes\":{\"children\":[{\"id\":\"1100\",\"subtype\":\"Figure\",\"type\":\"Plot\"},{\"id\":\"1133\",\"type\":\"Column\"}]},\"id\":\"1134\",\"type\":\"Row\"},{\"attributes\":{\"active_drag\":\"auto\",\"active_inspect\":\"auto\",\"active_multi\":null,\"active_scroll\":\"auto\",\"active_tap\":\"auto\",\"tools\":[{\"id\":\"1121\",\"type\":\"PanTool\"},{\"id\":\"1122\",\"type\":\"WheelZoomTool\"}]},\"id\":\"1123\",\"type\":\"Toolbar\"},{\"attributes\":{\"source\":{\"id\":\"1099\",\"type\":\"ColumnDataSource\"}},\"id\":\"1130\",\"type\":\"CDSView\"},{\"attributes\":{},\"id\":\"1107\",\"type\":\"LinearScale\"},{\"attributes\":{\"args\":{\"area1\":{\"id\":\"1097\",\"type\":\"Slider\"},\"area2\":{\"id\":\"1098\",\"type\":\"Slider\"},\"emissivity1\":{\"id\":\"1096\",\"type\":\"Slider\"},\"source\":{\"id\":\"1099\",\"type\":\"ColumnDataSource\"},\"temperature1\":{\"id\":\"1094\",\"type\":\"Slider\"},\"temperature2\":{\"id\":\"1095\",\"type\":\"Slider\"}},\"code\":\"\\n    var data = source.data;\\n    var A1 = area1.value;\\n    var A2 = area2.value;\\n    area1.end=A2\\n    var e1 = emissivity1.value;\\n    var T1 = temperature1.value;\\n    var T2 = temperature2.value;\\n    var sigma = 5.6704*Math.pow(10, -8);\\n    var x = data['x'];\\n    var y = data['y'];\\n    for (var i = 0; i < 500; i++) {\\n        var e2 = (i+1)/500;\\n        if (A1 < A2){\\n            y[i] = (A1 * sigma * (Math.pow(T1, 4) - Math.pow(T2, 4)))/(1/e1 + (A1/A2 * (1/e2 - 1)));\\n        }else{\\n            y[i] = -1\\n        }\\n    }\\n            \\n    // necessary becasue we mutated source.data in-place\\n    source.change.emit();\\n\"},\"id\":\"1131\",\"type\":\"CustomJS\"},{\"attributes\":{},\"id\":\"1143\",\"type\":\"BasicTickFormatter\"},{\"attributes\":{\"callback\":null,\"data\":{\"x\":[0.002,0.004,0.006,0.008,0.01,0.012,0.014,0.016,0.018,0.02,0.022,0.024,0.026,0.028,0.03,0.032,0.034,0.036,0.038,0.04,0.042,0.044,0.046,0.048,0.05,0.052,0.054,0.056,0.058,0.06,0.062,0.064,0.066,0.068,0.07,0.072,0.074,0.076,0.078,0.08,0.082,0.084,0.086,0.088,0.09,0.092,0.094,0.096,0.098,0.1,0.102,0.104,0.106,0.108,0.11,0.112,0.114,0.116,0.118,0.12,0.122,0.124,0.126,0.128,0.13,0.132,0.134,0.136,0.138,0.14,0.142,0.144,0.146,0.148,0.15,0.152,0.154,0.156,0.158,0.16,0.162,0.164,0.166,0.168,0.17,0.172,0.174,0.176,0.178,0.18,0.182,0.184,0.186,0.188,0.19,0.192,0.194,0.196,0.198,0.2,0.202,0.204,0.206,0.208,0.21,0.212,0.214,0.216,0.218,0.22,0.222,0.224,0.226,0.228,0.23,0.232,0.234,0.236,0.238,0.24,0.242,0.244,0.246,0.248,0.25,0.252,0.254,0.256,0.258,0.26,0.262,0.264,0.266,0.268,0.27,0.272,0.274,0.276,0.278,0.28,0.282,0.284,0.286,0.288,0.29,0.292,0.294,0.296,0.298,0.3,0.302,0.304,0.306,0.308,0.31,0.312,0.314,0.316,0.318,0.32,0.322,0.324,0.326,0.328,0.33,0.332,0.334,0.336,0.338,0.34,0.342,0.344,0.346,0.348,0.35,0.352,0.354,0.356,0.358,0.36,0.362,0.364,0.366,0.368,0.37,0.372,0.374,0.376,0.378,0.38,0.382,0.384,0.386,0.388,0.39,0.392,0.394,0.396,0.398,0.4,0.402,0.404,0.406,0.408,0.41,0.412,0.414,0.416,0.418,0.42,0.422,0.424,0.426,0.428,0.43,0.432,0.434,0.436,0.438,0.44,0.442,0.444,0.446,0.448,0.45,0.452,0.454,0.456,0.458,0.46,0.462,0.464,0.466,0.468,0.47,0.472,0.474,0.476,0.478,0.48,0.482,0.484,0.486,0.488,0.49,0.492,0.494,0.496,0.498,0.5,0.502,0.504,0.506,0.508,0.51,0.512,0.514,0.516,0.518,0.52,0.522,0.524,0.526,0.528,0.53,0.532,0.534,0.536,0.538,0.54,0.542,0.544,0.546,0.548,0.55,0.552,0.554,0.556,0.558,0.56,0.562,0.564,0.566,0.568,0.57,0.572,0.574,0.576,0.578,0.58,0.582,0.584,0.586,0.588,0.59,0.592,0.594,0.596,0.598,0.6,0.602,0.604,0.606,0.608,0.61,0.612,0.614,0.616,0.618,0.62,0.622,0.624,0.626,0.628,0.63,0.632,0.634,0.636,0.638,0.64,0.642,0.644,0.646,0.648,0.65,0.652,0.654,0.656,0.658,0.66,0.662,0.664,0.666,0.668,0.67,0.672,0.674,0.676,0.678,0.68,0.682,0.684,0.686,0.688,0.69,0.692,0.694,0.696,0.698,0.7,0.702,0.704,0.706,0.708,0.71,0.712,0.714,0.716,0.718,0.72,0.722,0.724,0.726,0.728,0.73,0.732,0.734,0.736,0.738,0.74,0.742,0.744,0.746,0.748,0.75,0.752,0.754,0.756,0.758,0.76,0.762,0.764,0.766,0.768,0.77,0.772,0.774,0.776,0.778,0.78,0.782,0.784,0.786,0.788,0.79,0.792,0.794,0.796,0.798,0.8,0.802,0.804,0.806,0.808,0.81,0.812,0.814,0.816,0.818,0.82,0.822,0.824,0.826,0.828,0.83,0.832,0.834,0.836,0.838,0.84,0.842,0.844,0.846,0.848,0.85,0.852,0.854,0.856,0.858,0.86,0.862,0.864,0.866,0.868,0.87,0.872,0.874,0.876,0.878,0.88,0.882,0.884,0.886,0.888,0.89,0.892,0.894,0.896,0.898,0.9,0.902,0.904,0.906,0.908,0.91,0.912,0.914,0.916,0.918,0.92,0.922,0.924,0.926,0.928,0.93,0.932,0.934,0.936,0.938,0.94,0.942,0.944,0.946,0.948,0.95,0.952,0.954,0.956,0.958,0.96,0.962,0.964,0.966,0.968,0.97,0.972,0.974,0.976,0.978,0.98,0.982,0.984,0.986,0.988,0.99,0.992,0.994,0.996,0.998,1.0],\"y\":[-0.10821373937587786,-0.20694890304,-0.2973985984246154,-0.3805637545836242,-0.45729031800774195,-0.5282981313629814,-0.5942035868723352,-0.6555375656989595,-0.7127597694087151,-0.7662702626075676,-0.8164188400033507,-0.8635126817202031,-0.9078226510202956,-0.9495885072505263,-0.9890232459237208,-1.0263167318182804,-1.0616387559034361,-1.0951416199498711,-1.1269623318266109,-1.1572244782236734,-1.186039828777052,-1.2135097154913617,-1.2397262233441826,-1.2647732215530112,-1.28872725984,-1.3116583498727403,-1.3336306486845995,-1.354703058125324,-1.37492975213699,-1.3943606417940986,-1.413041786512669,-1.4310157585605046,-1.4483219669409289,-1.4649969458363525,-1.4810746120549256,-1.4965864952980645,-1.511561944538559,-1.5260283133516146,-1.5400111266611698,-1.55353423104,-1.5666199304254447,-1.5792891088755439,-1.5915613417867363,-1.6034549968189202,-1.6149873256222786,-1.626174547329277,-1.6370319246616216,-1.6475738334031962,-1.6578138259039619,-1.667764689204706,-1.6774384983068213,-1.68684666505373,-1.6959999830399999,-1.7049086689197328,-1.7135824004465934,-1.722030351543254,-1.730261224667409,-1.7382832807144186,-1.746104366672568,-1.753731941225567,-1.761173098477882,-1.7684345899615292,-1.7755228450678329,-1.7824439900341063,-1.7892038656031068,-1.7958080434622647,-1.8022618415599243,-1.808570338387092,-1.8147383863053062,-1.8207706239941284,-1.8266714880853718,-1.832445224045386,-1.8380958963614922,-1.8436273980839366,-1.8490434597704346,-1.8543476578764888,-1.8595434226311416,-1.8646340454346038,-1.8696226858112854,-1.874512377949091,-1.8793060368534207,-1.884006464142107,-1.8886163535054896,-1.8931382958539904,-1.8975747841738584,-1.9019282181102029,-1.9062009082950233,-1.910395080436631,-1.9145128791856754,-1.9185563717918797,-1.92252755156459,-1.9264283411493057,-1.9302605956315082,-1.9340261054783165,-1.9377265993277697,-1.9413637466348646,-1.9449391601828574,-1.9484543984677702,-1.951910967963505,-1.9553103252744828,-1.958653879182271,-1.961942992592239,-1.965178984385895,-1.9683631311841923,-1.971496669026755,-1.974580794971669,-1.9776166686201824,-1.980605413570401,-1.9835481188038,-1.986445840008153,-1.9892996008402528,-1.9921103941315934,-1.99487918304,-1.9976069021500125,-2.0002944585246625,-2.002942732711133,-2.005552579702636,-2.0081248298587275,-2.0106602897861263,-2.013159743182012,-2.0156239516416448,-2.018053655432065,-2.020449574233511,-2.0228124078501266,-2.025142836891429,-2.0274415234259253,-2.0297091116082076,-2.0319462282807614,-2.0341534835516795,-2.0363314713493925,-2.0384807699554774,-2.0406019425165542,-2.042695537536208,-2.044762089347858,-2.046802118569412,-2.0488161325405314,-2.0508046257432735,-2.0527680802068415,-2.054706965897143,-2.0566217410918135,-2.0585128527413388,-2.0603807368168683,-2.06222581864529,-2.0640485132321134,-2.0658492255726633,-2.067628350952088,-2.069386275234638,-2.0711233751426654,-2.0728400185257705,-2.074536564620488,-2.0762133643009117,-2.0778707603206175,-2.079509087546232,-2.0811286731829934,-2.082729836992607,-2.0843128915037132,-2.085878142215258,-2.087425887793029,-2.088956420259648,-2.090470025178249,-2.091966981830101,-2.0934475633863996,-2.094912037074452,-2.096360664338467,-2.097793700995157,-2.0992113973843356,-2.100613998514712,-2.1020017442050483,-2.1033748692208603,-2.104733603406812,-2.1060781718149784,-2.10740879482911,-2.1087256882850562,-2.1100290635874765,-2.111319127822979,-2.1125960838698052,-2.1138601305041953,-2.1151114625035374,-2.116350270746422,-2.11757674230971,-2.1187910605627085,-2.1199934052585703,-2.1211839526229928,-2.1223628754403254,-2.1235303431371664,-2.1246865218635294,-2.125831574571676,-2.1269656610926737,-2.1280889382107704,-2.129201559735652,-2.1303036765726513,-2.1313954367909793,-2.132476985690039,-2.133548465863895,-2.134610017263938,-2.135661777259831,-2.1367038806987604,-2.137736459963077,-2.1387596450263535,-2.1397735635079247,-2.1407783407259506,-2.14177409974905,-2.1427609614465526,-2.143739044537406,-2.1447084656377857,-2.1456693393074504,-2.1466217780948647,-2.147565892581151,-2.1485017914228863,-2.149429581393791,-2.1503493674253344,-2.1512612526462993,-2.1521653384213257,-2.153061724388474,-2.1539505084958304,-2.1548317870371854,-2.1557056546868116,-2.1565722045333704,-2.1574315281129675,-2.158283715441384,-2.1591288550455134,-2.159967033994015,-2.160798337927218,-2.16162285108629,-2.162440656341695,-2.163251835220959,-2.1640564679357635,-2.164854633408386,-2.1656464092975054,-2.166431872023389,-2.167211096792482,-2.1679841576214107,-2.1687511273604203,-2.169512077716259,-2.1702670792745278,-2.1710162015215055,-2.1717595128654685,-2.1724970806575143,-2.173228971211905,-2.1739552498259425,-2.174675980799389,-2.1753912274534435,-2.1761010521492863,-2.1768055163062052,-2.17750468041931,-2.1781986040768517,-2.17888734597715,-2.179570963945146,-2.1802495149485854,-2.1809230551138463,-2.18159163974141,-2.182255323321002,-2.1829141595463906,-2.1835682013298725,-2.184217500816435,-2.184862109397616,-2.185502077725063,-2.186137455723802,-2.1867682926052177,-2.1873946368797625,-2.188016536369391,-2.1886340382197287,-2.189247188911991,-2.1898560342746403,-2.190460619494811,-2.191060989129483,-2.191657187116433,-2.192249256784951,-2.192837240866337,-2.1934211815041835,-2.1940011202644434,-2.194577098145293,-2.1951491555867952,-2.195717332480362,-2.196281668178028,-2.1968422015015387,-2.197398970751248,-2.1979520137148465,-2.1985013676759086,-2.1990470694222712,-2.1995891552542464,-2.200127660992669,-2.2006626219867913,-2.201194073122012,-2.201722048827466,-2.2022465830834546,-2.2027677094287386,-2.203285460967685,-2.2037998703772783,-2.204310969913995,-2.204818791420545,-2.2053233663324883,-2.205824725684716,-2.206322900117819,-2.2068179198843274,-2.2073098148548347,-2.2077986145240067,-2.2082843480164764,-2.2087670440926317,-2.2092467311542854,-2.209723437250254,-2.2101971900818174,-2.2106680170080906,-2.211135945051288,-2.2116010009018927,-2.2120632109237333,-2.212522601158963,-2.212979197332955,-2.2134330248591008,-2.2138841088435264,-2.2143324740897237,-2.214778145103095,-2.2152211460954168,-2.2156615009892286,-2.2160992334221343,-2.216534366751034,-2.2169669240562806,-2.217396928145755,-2.217824401558882,-2.2182493665705625,-2.2186718451950465,-2.2190918591897324,-2.2195094300589044,-2.2199245790573996,-2.2203373271942173,-2.2207476952360596,-2.2211557037108194,-2.221561372910999,-2.221964722897075,-2.2223657735008073,-2.2227645443284887,-2.223161054764138,-2.2235553239726427,-2.2239473709028466,-2.2243372142905855,-2.2247248726616724,-2.2251103643348302,-2.2254937074245795,-2.225874919844076,-2.226254019307899,-2.2266310233347952,-2.227005949250381,-2.227378814189794,-2.2277496351003014,-2.2281184287438722,-2.2284852116997,-2.2288500003666876,-2.2292128109658926,-2.2295736595429294,-2.229932561970337,-2.230289533949906,-2.2306445910149666,-2.2309977485326438,-2.231349021706074,-2.2316984255765853,-2.232045975025847,-2.23239168477798,-2.232735569401637,-2.233077643312049,-2.2334179207730416,-2.2337564158990135,-2.2340931426568917,-2.2344281148680505,-2.234761346210204,-2.2350928502192655,-2.235422640291185,-2.2357507296837476,-2.236077131518354,-2.23640185878177,-2.236724924327847,-2.2370463408792176,-2.2373661210289693,-2.2376842772422854,-2.238000821858067,-2.2383157670905263,-2.2386291250307604,-2.238940907648295,-2.239251126792612,-2.2395597941946477,-2.2398669214682743,-2.240172520111755,-2.2404766015091764,-2.24077917693187,-2.241080257539794,-2.2413798543829158,-2.2416779784025564,-2.241974640432726,-2.242269851201435,-2.2425636213319886,-2.24285596134426,-2.243146881655945,-2.2434363925838032,-2.2437245043448732,-2.244011227057678,-2.2442965707434066,-2.2445805453270853,-2.2448631606387237,-2.245144426414453,-2.245424352297642,-2.2457029478400004,-2.2459802225026633,-2.2462561856572645,-2.246530846586992,-2.2468042144876263,-2.2470762984685715,-2.247347107553862,-2.247616650683163,-2.247884936712756,-2.2481519744165026,-2.2484177724868086,-2.2486823395355615,-2.2489456840950637,-2.2492078146189476,-2.2494687394830817,-2.2497284669864626,-2.2499870053520947,-2.250244362727857,-2.2505005471873605,-2.250755566730792,-2.2510094292857468,-2.25126214270805,-2.251513714782567,-2.2517641532240034,-2.252013465677692,-2.252261659720374,-2.2525087428609623,-2.2527547225413027,-2.252999606136918,-2.2532434009577473,-2.2534861142488722,-2.2537277531912356,-2.253968324902348,-2.2542078364369886,-2.254446294787893,-2.254683706886435,-2.254920079603298,-2.255155419749137,-2.2553897340752345,-2.255623029274143,-2.2558553119803255,-2.2560865887707835,-2.256316866165675,-2.256546150628933,-2.2567744485688634,-2.257001766338748,-2.2572281102374294,-2.2574534865098967,-2.2576779013478565,-2.2579013608903016,-2.258123871224071,-2.2583454383844015,-2.258566068355474,-2.2587857670709535,-2.259004540414517,-2.2592223942203855,-2.2594393342738344,-2.2596553663117125,-2.2598704960229448,-2.2600847290490313,-2.260298070984541,-2.2605105273775994,-2.260722103730369,-2.260932805499525,-2.261142638096721,-2.2613516068890567,-2.2615597171995345,-2.2617669743075095,-2.2619733834491376,-2.2621789498178155,-2.262383678564618,-2.262587574798726,-2.2627906435878526,-2.2629928899586633,-2.263194318897191,-2.2633949353492437,-2.263594744220812,-2.2637937503784666,-2.263991958649756,-2.2641893738235948,-2.264386000650649,-2.26458184384372,-2.2647769080781175,-2.2649711979920344,-2.2651647181869135,-2.265357473227809,-2.2655494676437486,-2.2657407059280867,-2.265931192538854,-2.2661209318991045,-2.2663099283972596,-2.266498186387444,-2.2666857101898215,-2.266872504090925,-2.267058572343982,-2.267243919169241,-2.267428548754286,-2.267612465254355,-2.2677956727926505,-2.267978175460648,-2.2681599773184002]},\"selected\":{\"id\":\"1147\",\"type\":\"Selection\"},\"selection_policy\":{\"id\":\"1148\",\"type\":\"UnionRenderers\"}},\"id\":\"1099\",\"type\":\"ColumnDataSource\"},{\"attributes\":{\"text\":\"Heat flux\"},\"id\":\"1101\",\"type\":\"Title\"},{\"attributes\":{},\"id\":\"1117\",\"type\":\"BasicTicker\"},{\"attributes\":{\"callback\":null,\"end\":2.5,\"start\":-2.5},\"id\":\"1105\",\"type\":\"Range1d\"},{\"attributes\":{},\"id\":\"1147\",\"type\":\"Selection\"},{\"attributes\":{\"below\":[{\"id\":\"1111\",\"type\":\"LinearAxis\"}],\"center\":[{\"id\":\"1115\",\"type\":\"Grid\"},{\"id\":\"1120\",\"type\":\"Grid\"}],\"left\":[{\"id\":\"1116\",\"type\":\"LinearAxis\"}],\"plot_height\":400,\"plot_width\":400,\"renderers\":[{\"id\":\"1129\",\"type\":\"GlyphRenderer\"}],\"title\":{\"id\":\"1101\",\"type\":\"Title\"},\"toolbar\":{\"id\":\"1123\",\"type\":\"Toolbar\"},\"x_range\":{\"id\":\"1103\",\"type\":\"Range1d\"},\"x_scale\":{\"id\":\"1107\",\"type\":\"LinearScale\"},\"y_range\":{\"id\":\"1105\",\"type\":\"Range1d\"},\"y_scale\":{\"id\":\"1109\",\"type\":\"LinearScale\"}},\"id\":\"1100\",\"subtype\":\"Figure\",\"type\":\"Plot\"},{\"attributes\":{\"children\":[{\"id\":\"1094\",\"type\":\"Slider\"},{\"id\":\"1095\",\"type\":\"Slider\"},{\"id\":\"1096\",\"type\":\"Slider\"},{\"id\":\"1097\",\"type\":\"Slider\"},{\"id\":\"1098\",\"type\":\"Slider\"}]},\"id\":\"1133\",\"type\":\"Column\"},{\"attributes\":{\"callback\":null},\"id\":\"1103\",\"type\":\"Range1d\"},{\"attributes\":{\"ticker\":{\"id\":\"1112\",\"type\":\"BasicTicker\"}},\"id\":\"1115\",\"type\":\"Grid\"},{\"attributes\":{\"dimension\":1,\"ticker\":{\"id\":\"1117\",\"type\":\"BasicTicker\"}},\"id\":\"1120\",\"type\":\"Grid\"},{\"attributes\":{\"callback\":null,\"end\":10,\"js_property_callbacks\":{\"change:value\":[{\"id\":\"1131\",\"type\":\"CustomJS\"}]},\"start\":1,\"title\":\"area1\",\"value\":1.0},\"id\":\"1097\",\"type\":\"Slider\"},{\"attributes\":{},\"id\":\"1109\",\"type\":\"LinearScale\"},{\"attributes\":{\"callback\":null,\"end\":100,\"js_property_callbacks\":{\"change:value\":[{\"id\":\"1131\",\"type\":\"CustomJS\"}]},\"start\":1,\"title\":\"temperature1\",\"value\":1.0},\"id\":\"1094\",\"type\":\"Slider\"},{\"attributes\":{\"callback\":null,\"end\":100,\"js_property_callbacks\":{\"change:value\":[{\"id\":\"1131\",\"type\":\"CustomJS\"}]},\"start\":1,\"title\":\"temperature2\",\"value\":100.0},\"id\":\"1095\",\"type\":\"Slider\"},{\"attributes\":{},\"id\":\"1145\",\"type\":\"BasicTickFormatter\"},{\"attributes\":{\"formatter\":{\"id\":\"1145\",\"type\":\"BasicTickFormatter\"},\"ticker\":{\"id\":\"1112\",\"type\":\"BasicTicker\"}},\"id\":\"1111\",\"type\":\"LinearAxis\"},{\"attributes\":{\"line_alpha\":0.6,\"line_color\":\"#1f77b4\",\"line_width\":3,\"x\":{\"field\":\"x\"},\"y\":{\"field\":\"y\"}},\"id\":\"1127\",\"type\":\"Line\"},{\"attributes\":{},\"id\":\"1122\",\"type\":\"WheelZoomTool\"},{\"attributes\":{\"callback\":null,\"end\":1,\"js_property_callbacks\":{\"change:value\":[{\"id\":\"1131\",\"type\":\"CustomJS\"}]},\"start\":0.0,\"step\":0.002,\"title\":\"emissivity1\",\"value\":0.4},\"id\":\"1096\",\"type\":\"Slider\"},{\"attributes\":{},\"id\":\"1121\",\"type\":\"PanTool\"},{\"attributes\":{\"callback\":null,\"end\":10,\"js_property_callbacks\":{\"change:value\":[{\"id\":\"1131\",\"type\":\"CustomJS\"}]},\"start\":1,\"title\":\"area2\",\"value\":10.0},\"id\":\"1098\",\"type\":\"Slider\"},{\"attributes\":{\"line_alpha\":0.1,\"line_color\":\"#1f77b4\",\"line_width\":3,\"x\":{\"field\":\"x\"},\"y\":{\"field\":\"y\"}},\"id\":\"1128\",\"type\":\"Line\"},{\"attributes\":{},\"id\":\"1148\",\"type\":\"UnionRenderers\"},{\"attributes\":{\"formatter\":{\"id\":\"1143\",\"type\":\"BasicTickFormatter\"},\"ticker\":{\"id\":\"1117\",\"type\":\"BasicTicker\"}},\"id\":\"1116\",\"type\":\"LinearAxis\"},{\"attributes\":{},\"id\":\"1112\",\"type\":\"BasicTicker\"},{\"attributes\":{\"data_source\":{\"id\":\"1099\",\"type\":\"ColumnDataSource\"},\"glyph\":{\"id\":\"1127\",\"type\":\"Line\"},\"hover_glyph\":null,\"muted_glyph\":null,\"nonselection_glyph\":{\"id\":\"1128\",\"type\":\"Line\"},\"selection_glyph\":null,\"view\":{\"id\":\"1130\",\"type\":\"CDSView\"}},\"id\":\"1129\",\"type\":\"GlyphRenderer\"}],\"root_ids\":[\"1134\"]},\"title\":\"Bokeh Application\",\"version\":\"1.3.4\"}};\n",
       "  var render_items = [{\"docid\":\"289d25a0-7c02-4af1-8063-2c9ae052b08a\",\"roots\":{\"1134\":\"ff668de0-c3da-40bb-8a13-dcea26445c0e\"}}];\n",
       "  root.Bokeh.embed.embed_items_notebook(docs_json, render_items);\n",
       "\n",
       "  }\n",
       "  if (root.Bokeh !== undefined) {\n",
       "    embed_document(root);\n",
       "  } else {\n",
       "    var attempts = 0;\n",
       "    var timer = setInterval(function(root) {\n",
       "      if (root.Bokeh !== undefined) {\n",
       "        embed_document(root);\n",
       "        clearInterval(timer);\n",
       "      }\n",
       "      attempts++;\n",
       "      if (attempts > 100) {\n",
       "        console.log(\"Bokeh: ERROR: Unable to run BokehJS code because BokehJS library is missing\");\n",
       "        clearInterval(timer);\n",
       "      }\n",
       "    }, 10, root)\n",
       "  }\n",
       "})(window);"
      ],
      "application/vnd.bokehjs_exec.v0+json": ""
     },
     "metadata": {
      "application/vnd.bokehjs_exec.v0+json": {
       "id": "1134"
      }
     },
     "output_type": "display_data"
    }
   ],
   "source": [
    "#Prepare the sliders\n",
    "temperature1 = Slider(title=\"temperature1\", value=1.0, start=temperature_step_size, end=temperature_max_value, step=temperature_step_size)\n",
    "temperature2 = Slider(title=\"temperature2\", value=100.0, start=temperature_step_size, end=temperature_max_value, step=temperature_step_size)\n",
    "emissivity1 = Slider(title=\"emissivity1\", value=0.4, start=0.0, end=1, step=1/500)\n",
    "area1 = Slider(title=\"area1\", value=1.0, start=1, end=area_max_value, step=area_step_size)\n",
    "area2 = Slider(title=\"area2\", value=10.0, start=1, end=area_max_value, step=area_step_size)\n",
    "\n",
    "# Set up plot\n",
    "x, y = get_graph(area1.value, area2.value, emissivity1.value, temperature1.value, temperature2.value)\n",
    "source = ColumnDataSource(data=dict(x=x, y=y))\n",
    "plot = figure(plot_height=400, plot_width=400, title=\"Heat flux\",\n",
    "              tools=\"pan,wheel_zoom\",\n",
    "              x_range=[0, 1], y_range=[-2.5, 2.5])\n",
    "\n",
    "plot.line(\"x\", \"y\", source=source, line_width=3, line_alpha=0.6)\n",
    "\n",
    "#Prepare update function for js\n",
    "update_curve = CustomJS(args=dict(source=source, temperature1=temperature1, temperature2=temperature2, emissivity1=emissivity1, area1=area1, area2=area2), code=\"\"\"\n",
    "    var data = source.data;\n",
    "    var A1 = area1.value;\n",
    "    var A2 = area2.value;\n",
    "    area1.end=A2\n",
    "    var e1 = emissivity1.value;\n",
    "    var T1 = temperature1.value;\n",
    "    var T2 = temperature2.value;\n",
    "    var sigma = 5.6704*Math.pow(10, -8);\n",
    "    var x = data['x'];\n",
    "    var y = data['y'];\n",
    "    for (var i = 0; i < 500; i++) {\n",
    "        var e2 = (i+1)/500;\n",
    "        if (A1 < A2){\n",
    "            y[i] = (A1 * sigma * (Math.pow(T1, 4) - Math.pow(T2, 4)))/(1/e1 + (A1/A2 * (1/e2 - 1)));\n",
    "        }else{\n",
    "            y[i] = -1\n",
    "        }\n",
    "    }\n",
    "            \n",
    "    // necessary becasue we mutated source.data in-place\n",
    "    source.change.emit();\n",
    "\"\"\")\n",
    "\n",
    "# Set Listeners on the sliders\n",
    "for w in [temperature1, temperature2, emissivity1, area1, area2]:\n",
    "    w.js_on_change('value', update_curve)\n",
    "\n",
    "# Set up layouts and add to document\n",
    "inputs = column(temperature1, temperature2, emissivity1, area1, area2)\n",
    "layout = row(plot, column(temperature1, temperature2, emissivity1, area1, area2))\n",
    "show(layout)"
   ]
  },
  {
   "cell_type": "markdown",
   "metadata": {
    "pycharm": {
     "is_executing": false,
     "name": "#%%\n"
    }
   },
   "source": [
    "### Exercise: Infinite parallel plates"
   ]
  },
  {
   "cell_type": "markdown",
   "metadata": {},
   "source": [
    "Now that the equation has been studied and that we have gone over a few examples you are ready to solve your first exercise.\n",
    "\n"
   ]
  },
  {
   "cell_type": "markdown",
   "metadata": {},
   "source": [
    "The problem consists of two parallel infinite plates in a closed-system. We assume that they are $\\textbf{gray-diffuse}$ and that their emissivities are independent of wavelength and position and $\\epsilon_1=0.9$, $\\epsilon_2 = 0.85$.\n",
    "\n",
    "In addition, plate 1 is maintained at temperature $T_1=300 K$ and plate 2 at $T_2=250K$ and there is no irradiation from outside the system.\n",
    "\n",
    "# insert image\n",
    "\n",
    "We break the problem down into a few steps:\n",
    "\n",
    "$\\textbf{Step 1}$: Compute the emissive power of each surface\n",
    "\n",
    "Reminder: Emissive power is the radiosity of a black-body"
   ]
  },
  {
   "cell_type": "code",
   "execution_count": 59,
   "metadata": {},
   "outputs": [],
   "source": [
    "import numpy as np\n",
    "from numpy import nan\n",
    "\n",
    "sigma = 5.6704e-8 # Stefan-Boltzmann Constant\n",
    "E = np.zeros([2,1])\n",
    "\n",
    "T1 = 300.\n",
    "T2 = 250.\n",
    "\n",
    "E[0] = nan\n",
    "E[1] = nan"
   ]
  },
  {
   "cell_type": "markdown",
   "metadata": {},
   "source": [
    "$\\textbf{Step 2}$: Compute the view factors $F_{1-1}$, $F_{1-2}$, $F_{2-1}$ and $F_{2-2}$."
   ]
  },
  {
   "cell_type": "code",
   "execution_count": 60,
   "metadata": {},
   "outputs": [],
   "source": [
    "F = np.zeros([2,2])\n",
    "\n",
    "F[0,0] = nan\n",
    "F[0,1] = nan\n",
    "F[1,0] = nan\n",
    "F[0,0] = nan"
   ]
  },
  {
   "cell_type": "markdown",
   "metadata": {},
   "source": [
    "$\\textbf{Step 3}$: Compute the heat fluxes $\\dot{q_1}$ and $\\dot{q_2}$\n",
    "\n",
    "Hint: Use $C\\vec{\\dot{q}} + \\vec{H_{o}} = A\\vec{E_{b}}$ which was derived earlier where $C_{ij} = \\frac{\\delta_{ij}}{\\epsilon_{i}} - F_{i-j}\\frac{1-\\epsilon_{j}}{\\epsilon_{j}} $ and $ A_{ij} = \\delta_{ij} - F_{i-j} $\n",
    "\n",
    "Start by assembling the matrices $A$ and $C$:"
   ]
  },
  {
   "cell_type": "code",
   "execution_count": 61,
   "metadata": {},
   "outputs": [],
   "source": [
    "C = np.zeros([2,2])\n",
    "A = np.zeros([2,2])\n",
    "\n",
    "e1 = 0.9\n",
    "e2 = 0.85\n",
    "\n",
    "C[0,0] = nan\n",
    "C[0,1] = nan\n",
    "C[1,0] = nan\n",
    "C[1,1] = nan\n",
    "\n",
    "A[0,0] = nan\n",
    "A[0,1] = nan\n",
    "A[1,0] = nan\n",
    "A[1,1] = nan"
   ]
  },
  {
   "cell_type": "markdown",
   "metadata": {},
   "source": [
    "Numerical Solution"
   ]
  },
  {
   "cell_type": "code",
   "execution_count": 62,
   "metadata": {},
   "outputs": [
    {
     "name": "stdout",
     "output_type": "stream",
     "text": [
      "q1 = [nan] W/m2\n",
      "q2 = [nan] W/m2\n"
     ]
    }
   ],
   "source": [
    "q = np.linalg.inv(C)@A@E\n",
    "\n",
    "print(\"q1 =\",q[0],\"W/m2\")\n",
    "print(\"q2 =\",q[1],\"W/m2\")"
   ]
  }
 ],
 "metadata": {
  "kernelspec": {
   "display_name": "Python 3",
   "language": "python",
   "name": "python3"
  },
  "language_info": {
   "codemirror_mode": {
    "name": "ipython",
    "version": 3
   },
   "file_extension": ".py",
   "mimetype": "text/x-python",
   "name": "python",
   "nbconvert_exporter": "python",
   "pygments_lexer": "ipython3",
   "version": "3.7.4"
  },
  "pycharm": {
   "stem_cell": {
    "cell_type": "raw",
    "metadata": {
     "collapsed": false
    },
    "source": []
   }
  }
 },
 "nbformat": 4,
 "nbformat_minor": 4
}
