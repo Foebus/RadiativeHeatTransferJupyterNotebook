{
 "cells": [
  {
   "cell_type": "markdown",
   "metadata": {},
   "source": [
    "# Radiative Exchange between Surfaces"
   ]
  },
  {
   "cell_type": "markdown",
   "metadata": {},
   "source": [
    "In this notebook, a mathematical model of $\\textbf{radiative heat transfer between surfaces}$ is presented."
   ]
  },
  {
   "cell_type": "markdown",
   "metadata": {},
   "source": [
    "## Goals"
   ]
  },
  {
   "cell_type": "markdown",
   "metadata": {},
   "source": [
    "- Recalling concepts as $\\textbf{heat flux}$, $\\textbf{radiosity}$, $\\textbf{irradiation}$, $\\textbf{emissivity}$, $\\textbf{absorptivity}$ and $\\textbf{view factor}$\n",
    "- Deriving the $\\textbf{governing equation of radiative heat transfer}$\n",
    "- Developing a physical intuition for the equation\n",
    "- Assessing one's comprehension of the topic through short exercises"
   ]
  },
  {
   "cell_type": "markdown",
   "metadata": {},
   "source": [
    "## Brief reminder"
   ]
  },
  {
   "cell_type": "markdown",
   "metadata": {},
   "source": [
    "Let us get begin with a brief reminder of the basic concepts of heat transfer."
   ]
  },
  {
   "cell_type": "markdown",
   "metadata": {},
   "source": [
    "### Heat Flux"
   ]
  },
  {
   "cell_type": "markdown",
   "metadata": {},
   "source": [
    "Heat flux can be defined as the rate of heat energy transfer through a given surface, denoted $\\dot{q}$. Its SI unit is watt per square metre ($W⋅m^{−2}$). Note that $\\dot{q}$ is a Newton's notation where $\"\\dot{}\"$ indicates a derivative taken with respect to time, i.e. $\\dot{q}= dq/dt$.\n",
    "\n",
    "One can define the heat flux in terms of three quantities : \n",
    "\n",
    "- $\\textbf{Radiosity} (J)$: the rate at which radiative energy leaves a surface.\n",
    "- $\\textbf{Irradiation} (H)$: the rate at which radiative energy is received by a surface.\n",
    "\n",
    "Naturally, heat flux is the difference between the two.\n",
    "$$\\dot{q} = J - H \\; (\\star)$$\n",
    "\n",
    "Thus, by convention, if $\\dot{q} \\gt 0$ then, more energy is emitted by the surface than absorbed per unit time. \n",
    "\n",
    "Alternatively, the heat flux through an opaque surface can be defined in terms of its:\n",
    "- $\\textbf{Emissivity}$($\\epsilon$)\n",
    "- $\\textbf{Blackbody emissive power}$($E_b$)\n",
    "- $\\textbf{Reflectivity}$($\\rho$)\n",
    "- $\\textbf{Absorptivity}$($\\alpha$)\n",
    "- $\\textbf{Irradiation} (H)$\n",
    "\n",
    "For an opaque surface, $\\rho + \\alpha = 1$\n",
    "\n",
    "This yields the following:\n",
    "\n",
    "$$\\dot{q} = J - H = \\epsilon E_b + \\rho H - H = \\epsilon E_b - \\alpha H $$\n",
    "\n",
    "Interpretation: it is the difference between the effective emissive power ($\\epsilon E_b$) and the effective absorbed power ($\\alpha H$).\n",
    "\n",
    "**Assumption**: we will assume that we are working only with gray diffuse surfaces, where $\\epsilon = \\alpha$. Note that a gray diffuse surface is one of opaque surfaces. \n",
    "\n",
    "We are left with the following relation:\n",
    "$$\\dot{q} = \\epsilon (E_b - H)\\; (1)$$"
   ]
  },
  {
   "cell_type": "markdown",
   "metadata": {},
   "source": [
    "### Radiosity"
   ]
  },
  {
   "cell_type": "markdown",
   "metadata": {},
   "source": [
    "Radiosity is the rate at which radiative energy leaves a given surface by emission, reflection and transmission. This quantity is denoted by $J$ and $J\\geq0$. Its SI unit is watt per square metre ($W⋅m^{−2}$). Note that the transmitted component of radiosity vanishes when it is an opaque surface. \n",
    "\n",
    "By using the two definitions of heat flux presented above, we can obtain:\n",
    "\n",
    "\n",
    "Starting from $(\\star)$:\n",
    "\n",
    "$$ \\dot{q} = \\epsilon (E_b - H) $$\n",
    "$$\\iff H = E_b - \\frac{\\dot{q}}{\\epsilon}\\> (3) $$\n",
    "\n",
    "$$\\iff H = J - \\dot{q} \\;(2)$$\n",
    "\n",
    "Now, using $(1)$:\n",
    "\n",
    "$$ \\epsilon (E_b - H) $$\n",
    "\n",
    "$$\\iff H = E_b - \\frac{\\dot{q}}{\\epsilon}\\; (3) $$\n",
    "\n",
    "Putting $(2)$ and $(3)$ together gives the result:\n",
    "\n",
    "$$J - \\dot{q} = E_b - \\frac{\\dot{q}}{\\epsilon}$$\n",
    "\n",
    "\n",
    "$$ \\iff J = E_b - \\frac{1 - \\epsilon}{\\epsilon}\\dot{q} \\; (4) $$\n",
    "\n",
    "Equation $(4)$ is useful in deriving the governing equation.\n",
    "\n",
    "Image\"heat flux\"!!!"
   ]
  },
  {
   "cell_type": "markdown",
   "metadata": {},
   "source": [
    "### Irradiation"
   ]
  },
  {
   "cell_type": "markdown",
   "metadata": {},
   "source": [
    "Irradiation is the rate at which radiative energy is received by a given surface. It is the process by which an object is exposed to radiation. Hence, it is the complement to radiosity. This quantity is denoted $H$ and $H\\geq0$. Its SI unit is watt per square metre ($W⋅m^{−2}$)."
   ]
  },
  {
   "cell_type": "markdown",
   "metadata": {},
   "source": [
    "### Emissivity"
   ]
  },
  {
   "cell_type": "markdown",
   "metadata": {},
   "source": [
    "It is also called emittance. It is the most basic radiative property for emission from an opaque surface. The emissivity of an opaque surface is the ratio of the actual emissive power ($I_e$ or $E_e$) to that of a balck surface ($I_b$ or $E_b$) at the same conditions, usually denoted $\\epsilon$ and $0 \\leq \\epsilon \\leq 1$.\n",
    "\n",
    "Several terminologies are introduced below:\n",
    "\n",
    "Spectral directional emissivity is direction dependence, denoted $\\epsilon_{\\lambda}^{\\prime}(\\lambda,T,\\hat{S}_0)$. The prime added to the letter $\\epsilon$ and the direction vector $\\hat{S}_0$ indicate that directions of emission away from a surface are considered. Otherwise, it is called spectral hemispherical emissivity with directionally averaged value, denoted $\\epsilon_{\\lambda}(\\lambda,T)$. \n",
    "\n",
    "The total directional/hemispherical emissivity is a spectrally averaged value which is independent on the wavelength of emissions, denoted $\\epsilon^{\\prime}(T,\\hat{S}_0)$ and $\\epsilon(T)$, respectively. \n",
    "\n",
    "$$\\epsilon_{\\lambda}^{\\prime}(\\lambda,T,\\hat{S}_0) = \\frac{I_{e\\lambda}(\\lambda,T,\\hat{S}_0)}{I_{b\\lambda}(\\lambda,T)}$$\n",
    "\n",
    "$$ \\epsilon_{\\lambda}(\\lambda,T) = \\frac{E_{e\\lambda}(\\lambda,T)}{E_{b\\lambda}(\\lambda,T)}$$"
   ]
  },
  {
   "cell_type": "markdown",
   "metadata": {},
   "source": [
    "### Absorptivity"
   ]
  },
  {
   "cell_type": "markdown",
   "metadata": {},
   "source": [
    "It is also called absorptance. The absorptivity of a surface is the ratio of the heat flux absorbed by the surface ($E_a$) to the irradiation ($H$), usually denoted $\\alpha$ and $0 \\leq \\alpha \\leq 1$. Likewise, we can distinguish between directional and hemispherical, as well as spectral and total absorptivity. But here, we use the total hemispherical absorptivity as an example for simplicity:\n",
    "\n",
    "$$ \\alpha (T) = \\frac{E_a(T)}{H}$$"
   ]
  },
  {
   "cell_type": "markdown",
   "metadata": {},
   "source": [
    "### View Factor"
   ]
  },
  {
   "cell_type": "markdown",
   "metadata": {},
   "source": [
    "View factor between two finite surface elements ≡ ratio of energy leaving\n",
    "the surface $A_i$ per unit time directly toward and intercepted by the surface $A_j$ to all energy leaving the surface $A_i$\n",
    "per unit time, denoted $Q_{i-j}$, $Q_{i}$, respectively.\n",
    "\n",
    "$$ F_{i-j} = \\frac{Q_{i-j}}{Q_i}$$\n",
    "\n",
    "For plane and convex surfaces, energy leaving from the surface cannot reach themselves, i.e. $F_{ii}=0$. For concave surfaces, $F_{ii}\\not=0$.\n",
    "\n",
    "Image \"view factor\"!!!\n",
    "\n",
    "Several properties of view factor:\n",
    "\n",
    "(1) Bounding. View factors are bounded to $0≤F_{ij}≤1$ by definition.\n",
    "\n",
    "(2) Closeness. Summing up all view factors from a given surface in an enclosure,$\\sum\\limits_{j=1}^N F_{i-j}$=1.\n",
    "\n",
    "(3) Reciprocity. $A_iF_{ij}=A_jF_{ji}$.\n",
    "\n",
    "Example: for two infinite concentric cylinders/spheres as shown below, what values are view factors of $F_{1-1}$, $F_{1-2}$, $F_{2-1}$, $F_{2-2}$?\n",
    "\n",
    "Image \"example of view factor\"!!!\n",
    "\n",
    "Answer: \n",
    "\n",
    "$$F_{1-1}=0, F_{1-2}=1$$ Because the energy leaving the surface 1 can be totally absorbed by the surface 2.\n",
    "\n",
    "$$F_{2-1}=\\frac{A_1}{A_2}$$ due to the reciprocity property. $$F_{1-2}=1-\\frac{A_1}{A_2}$$ due to the closeness property."
   ]
  },
  {
   "cell_type": "markdown",
   "metadata": {},
   "source": [
    "#### Blackbody emissive power"
   ]
  },
  {
   "cell_type": "markdown",
   "source": [
    "Blackbody: an object absorbs all radiation falling on it, at all wavelengths. When a blackbody is at a constant temperature (i.e. at equilibrium), its emission has a characteristic wavelength distribution that depends on the temperature. Its emission is called blackbody radiation. \n",
    "\n",
    "Blackbody emissive power: the rate at which emissive energy leaves from a given surface of a blackbody at the wavelength $\\lambda$. Its SI unit is $W/(m^2⋅\\mu m)$. \n",
    "\n",
    "According to Plank’s law, a spectral hemispherical emissive power of a blackbody:\n",
    "\n",
    "$$E_{b\\lambda}(T,\\lambda)=\\pi I_{b\\lambda}(T,\\lambda)=\\frac{C_1}{n^2\\lambda^5(e^{C_2/(n\\lambda T)}-1)},  n=constant$$\n",
    "\n",
    "where:\n",
    "\n",
    "$I_{b\\lambda}(T,\\lambda)$: the intensity of emissive radiation\n",
    "\n",
    "$C_1$: first radiation constant ($=2\\pi hc_0^2=3.7418x10^8$ $W{\\mu m}^4m^{-2}$)\n",
    "\n",
    "$C_2$: second radiation constant ($=hc_0/k=14,388.69$ $\\mu m K$)\n",
    "\n",
    "$h$: Planck constant\n",
    "\n",
    "$C_0$: speed of light in vacuum\n",
    "\n",
    "$k$: Boltzmann constant\n",
    "\n",
    "Image \"blackbody emissive power\"!!!\n",
    "\n",
    "As the above graph shows, the total emissive power ($E_{b\\lambda,max}$) increases with temperature while the peak of the emission spectrum shifts to the lower wavelength as the below equations tell us:\n",
    "\n",
    "$$\\frac{d}{d(n\\lambda T)}(\\frac{E_{b\\lambda}(n\\lambda T)}{n^3T^5})=0$$\n",
    "\n",
    "$$(n\\lambda T)_{max}=\\frac{C_2}{5}(\\frac{1}{1-e^{-C_2/(n\\lambda T)_{max}}})=C_3=2897.8  \\mu mK$$\n",
    "\n",
    "$$E_{b\\lambda,max}=n^3T^5\\frac{C_1}{C_3^5(e^{C_2/C_3}-1)}$$\n",
    "\n",
    "The total hemispherical emissive power of a blackbody: the total energy radiated per unit surface area of a black body across all wavelengths per unit time-- Stefan-Boltzmann law:\n",
    "\n",
    "$$E_b(T)= \\int_0^{+\\infty}{E_{b\\lambda}(T,\\lambda)}{\\rm d}\\lambda = \\sigma T^4$$\n",
    "\n",
    "where $T$ is the absolute temeprature of the balckbody surface, and $\\sigma$ is Stefan-Boltzmann constant = $5.6704*10^{-8} Wm^{-2}K^{-4}$."
   ],
   "metadata": {
    "collapsed": false
   }
  },
  {
   "cell_type": "markdown",
   "metadata": {},
   "source": [
    "## Formula derivation"
   ]
  },
  {
   "cell_type": "markdown",
   "metadata": {
    "pycharm": {
     "name": "#%% md\n"
    }
   },
   "source": [
    "Now, the 'Radiative Heat Transfer Equation' is derived. This equation enables one to model radiation between multiple surfaces and to solve for their heat fluxes. First, the hypotheses of the problem are defined.\n",
    "\n",
    "Let us assume that our system is in steady-state, i.e. the heat fluxes are independent of time. Moreover, there are $N$ gray-diffuse, black-body surfaces. \n",
    "\n",
    "For all $i=1,...,N$, surface $i$ has an emissive power $E_{b,i}$ and an emissivity $\\epsilon_{i}$. In addition, the irradiation on surface $i$ from outside the system is $H_{o,i}$. The irradiation from within the system is called $H_{i}$. $J_{i}$ denotes surface $i$'s radiosity. Furthermore, $F_{i-j}$ is the view factor from surface $i$ to surface $j$.\n",
    "\n",
    "Let us start off with the definition of heat flux of an arbitrary surface $i$:\n",
    "\n",
    "$\\dot{q}_{i} = J_{i} - H_{i} - H_{o,i} \\> (*)$\n",
    "\n",
    "One can rewrite the $H_{i}$ in terms of the other surface's radiosities. The proportion of a surface $j$'s radiosity that strikes surface $i$ is the view factor $F_{j-i}$. Hence, we can sum up the contributions from all surfaces impinging on surface $i$.\n",
    "\n",
    "$H_{i} = \\sum\\limits_{j=1}^N F_{j-i}J_{j} \\> (5)$\n",
    "\n",
    "In the section on radiosity, we saw that a surface's radiosity could be rewritten in terms of its heat flux, its emitted power and its emissivity. We recall equation $(4)$:\n",
    "\n",
    "$J_{i} = E_{b,i} - \\frac{1-\\epsilon_{i}}{\\epsilon_{i}}\\dot{q}_{i} \\> (4)$\n",
    "\n",
    "$(4)$ is plugged into $(5)$.\n",
    "\n",
    "$H_{i} = \\sum\\limits_{j=1}^N F_{j-i}(E_{b,j} - \\frac{1-\\epsilon_{j}}{\\epsilon_{j}}\\dot{q}_{j}) \\> (6)$\n",
    "\n",
    "We insert $(4)$ and $(6)$ into $(*)$, to replace surface $i$'s radiosity and irradiation:\n",
    "\n",
    "$\\dot{q}_{i} = E_{b,i} - \\frac{1-\\epsilon_{i}}{\\epsilon_{i}}\\dot{q}_{i} - \\sum\\limits_{j=1}^N F_{j-i}(E_{b,j} - \\frac{1-\\epsilon_{j}}{\\epsilon_{j}}\\dot{q}_{j}) - H_{o,i}$\n",
    "\n",
    "Rearranging some terms, we obtain:\n",
    "\n",
    "$\\frac{\\dot{q}_{i}}{\\epsilon_{i}} - \\sum\\limits_{j=1}^N F_{j-i}\\frac{1-\\epsilon_{j}}{\\epsilon_{j}}\\dot{q}_{j} + H_{o,i} = E_{b,i} - \\sum\\limits_{j=1}^N F_{j-i}E_{b,j} \\; (7)$\n",
    "\n",
    "One of the properties of the view factor is that for any surface $i$ :\n",
    "\n",
    "$\\sum\\limits_{j=1}^N F_{j-i} = 1$\n",
    "\n",
    "This enables us to rewrite $E_{b,i}$ as $\\sum\\limits_{j=1}^N F_{j-i}E_{b,i}$.\n",
    "\n",
    "Our equation becomes\n",
    "\n",
    "$\\frac{\\dot{q}_{i}}{\\epsilon_{i}} - \\sum\\limits_{j=1}^N F_{j-i}\\frac{1-\\epsilon_{j}}{\\epsilon_{j}}\\dot{q}_{j} + H_{o,i} = \\sum\\limits_{j=1}^N F_{j-i}(E_{b,i} - E_{b,j}) \\; (\\star\\star)$\n",
    "\n",
    "and holds for all $i=1,...,N$. Note that there are $N$ unknowns and $N$ equations and this is a linear system. Hence, we can solve it."
   ]
  },
  {
   "cell_type": "markdown",
   "metadata": {},
   "source": [
    "## Conversion to a Matrix System"
   ]
  },
  {
   "cell_type": "markdown",
   "metadata": {
    "pycharm": {
     "name": "#%% md\n"
    }
   },
   "source": [
    "In practice, it is convenient to convert $(\\star\\star)$ to a matrix system. This enables easier computations with a software like Matlab.\n",
    "\n",
    "We introduce the Kronecker Delta:\n",
    "\n",
    "$\\delta_{ij} = \n",
    "     \\begin{cases}\n",
    "       \\ 1 \\; \\text{if} \\; i = j \\\\\n",
    "       \\ 0 \\; \\text{otherwise} \\\\\n",
    "     \\end{cases}$\n",
    "     \n",
    "Note that in matrix form, the Kronecker Delta is the $\\textbf{identity matrix}$.\n",
    "\n",
    "Starting from equation $(7)$, one can rewrite $\\dot{q}_{i} = \\sum\\limits_{j=1}^N \\delta_{ij}\\dot{q}_{i}$. One can do the same for $E_{b,i} = \\sum\\limits_{j=1}^N \\delta_{ij}E_{b,i}$ in equation $(7)$. The equation becomes:\n",
    "\n",
    "$\\sum\\limits_{j=1}^N (\\frac{\\delta_{ij}}{\\epsilon{i}} - F_{j-i}\\frac{1-\\epsilon_{j}}{\\epsilon_{j}})\\dot{q}_{j} + H_{o,i} = \\sum\\limits_{j=1}^N (\\delta_{ij} - F_{j-i})E_{b,j}$\n",
    "\n",
    "We can define $C$ and $A$ as the $N\\times N$ matrices where:\n",
    "\n",
    "$C_{ij} = \\frac{\\delta_{ij}}{\\epsilon_{i}} - F_{j-i}\\frac{1-\\epsilon_{j}}{\\epsilon_{j}} $\n",
    "\n",
    "$ A_{ij} = \\delta_{ij} - F_{j-i} $\n",
    "\n",
    "In addition $\\vec{\\dot{q}} = (\\dot{q_{1}},...,\\dot{q_{N}})^{T}$, $\\vec{E_{b}} = (E_{b,1},...,E_{b,N})^{T}$ and $\\vec{H_{o}} = (H_{o,1},...,H_{o,N})^{T} $\n",
    "\n",
    "Putting this all together we get the following system:\n",
    "\n",
    "$\\sum\\limits_{j=1}^N C_{ij}\\dot{q}_{j} + H_{o,i} = \\sum\\limits_{j=1}^N A_{ij}E_{b,j}$\n",
    "\n",
    "which is none other than the matrix system:\n",
    "\n",
    "$C\\vec{\\dot{q}} + \\vec{H_{o}} = A\\vec{E_{b}} \\; (\\star\\star\\star)$\n",
    "\n",
    "The closed-form solution is:\n",
    "\n",
    "$\\vec{\\dot{q}} = C^{-1}(A\\vec{E_{b}} - \\vec{H_{o}}) $"
   ]
  },
  {
   "cell_type": "markdown",
   "metadata": {},
   "source": [
    "### Interpretation"
   ]
  },
  {
   "cell_type": "markdown",
   "metadata": {
    "pycharm": {
     "name": "#%% md\n"
    }
   },
   "source": [
    "Before diving into the math and numbers, it is important to understand what exactly the equation entails. It is a mathematical model of radiation between surfaces. Different factors in the equation are a manifestation of different phenomena.\n",
    "\n",
    "(i) The $F_{i-j}$'s are a $\\textbf{geometric property}$ of the problem.\n",
    "\n",
    "(ii) The $E_{b,i}$'s are the emissive powers of surfaces under the assumption that they are black bodies. They are related to the temperatures of the surfaces which can be given in exercise. These are $\\textbf{boundary conditions}$.\n",
    "\n",
    "(iii) The $\\epsilon_i$'s are $\\textbf{material properties}$.\n",
    "\n",
    "(iv) $H_o$ is also a given in this problem and constitutes a $\\textbf{boundary condition}$.\n",
    "\n",
    "Understanding how an alteration of one property affects the problem is important to rationalize results and helps recognize mistakes. For example, if the irradiation onto every surface from outside the system increases, logically the net heat flux will decrease. We defined it to be positive when it is emitting more energy than it is absorbing. Hence, if it receives more energy from outside the system, it should decrease. This is exactly what the math tells us:\n",
    "\n",
    "$\\dot{q_{i}} = J_i - H_i - H_{o,i}$\n",
    "\n",
    "Hence if $H_{o,i}$ increases, every heat flux $\\dot{q_i}$ does decrease since the math models the problem.\n",
    "\n",
    "Take a look at the simulation below to understand how the various factors play a role in this elementary example. Feel free to toggle the parameters to see how heat flux responds to different alterations:"
   ]
  },
  {
   "cell_type": "markdown",
   "metadata": {},
   "source": [
    "### Simulation"
   ]
  },
  {
   "cell_type": "code",
   "execution_count": null,
   "metadata": {
    "pycharm": {
     "is_executing": false,
     "name": "#%%\n"
    }
   },
   "outputs": [],
   "source": [
    "from bokeh.layouts import column, row\n",
    "from bokeh.models import ColumnDataSource, CustomJS, Slider\n",
    "from bokeh.plotting import figure\n",
    "from bokeh.io import output_notebook, show\n",
    "output_notebook()"
   ]
  },
  {
   "cell_type": "code",
   "execution_count": null,
   "metadata": {
    "pycharm": {
     "name": "#%%\n"
    }
   },
   "outputs": [],
   "source": [
    "temperature_max_value = 100\n",
    "temperature_step_size = 1\n",
    "\n",
    "area_max_value = 10\n",
    "area_step_size = 1\n",
    "\n",
    "emissivity_step_nb = 500\n",
    "sigma = 5.6704*pow(10, -8)\n",
    "\n",
    "\n",
    "def get_graph(A1, A2, e1, T1, T2):\n",
    "    points = []\n",
    "    x_axis = []\n",
    "    for epsilon2 in range(emissivity_step_nb):\n",
    "        e2 = (epsilon2+1)/emissivity_step_nb\n",
    "        x_axis.append(e2)\n",
    "        if A1 < A2: \n",
    "            points.append((A1 * sigma * (pow(T1, 4) - pow(T2, 4)))/(1/e1 + (A1/A2 * (1/e2 - 1))))\n",
    "        else:\n",
    "            points.append(-1)\n",
    "    return x_axis, points"
   ]
  },
  {
   "cell_type": "code",
   "execution_count": null,
   "metadata": {
    "pycharm": {
     "name": "#%%\n"
    }
   },
   "outputs": [],
   "source": [
    "#Prepare the sliders\n",
    "temperature1 = Slider(title=\"temperature1\", value=1.0, start=temperature_step_size, end=temperature_max_value, step=temperature_step_size)\n",
    "temperature2 = Slider(title=\"temperature2\", value=100.0, start=temperature_step_size, end=temperature_max_value, step=temperature_step_size)\n",
    "emissivity1 = Slider(title=\"emissivity1\", value=0.4, start=0.0, end=1, step=1/500)\n",
    "area1 = Slider(title=\"area1\", value=1.0, start=1, end=area_max_value, step=area_step_size)\n",
    "area2 = Slider(title=\"area2\", value=10.0, start=1, end=area_max_value, step=area_step_size)\n",
    "\n",
    "# Set up plot\n",
    "x, y = get_graph(area1.value, area2.value, emissivity1.value, temperature1.value, temperature2.value)\n",
    "source = ColumnDataSource(data=dict(x=x, y=y))\n",
    "plot = figure(plot_height=400, plot_width=400, title=\"Heat flux\",\n",
    "              tools=\"pan,wheel_zoom\",\n",
    "              x_range=[0, 1], y_range=[-2.5, 2.5])\n",
    "\n",
    "plot.line(\"x\", \"y\", source=source, line_width=3, line_alpha=0.6)\n",
    "\n",
    "#Prepare update function for js\n",
    "update_curve = CustomJS(args=dict(source=source, temperature1=temperature1, temperature2=temperature2, emissivity1=emissivity1, area1=area1, area2=area2), code=\"\"\"\n",
    "    var data = source.data;\n",
    "    var A1 = area1.value;\n",
    "    var A2 = area2.value;\n",
    "    area1.end=A2\n",
    "    var e1 = emissivity1.value;\n",
    "    var T1 = temperature1.value;\n",
    "    var T2 = temperature2.value;\n",
    "    var sigma = 5.6704*Math.pow(10, -8);\n",
    "    var x = data['x'];\n",
    "    var y = data['y'];\n",
    "    for (var i = 0; i < 500; i++) {\n",
    "        var e2 = (i+1)/500;\n",
    "        if (A1 < A2){\n",
    "            y[i] = (A1 * sigma * (Math.pow(T1, 4) - Math.pow(T2, 4)))/(1/e1 + (A1/A2 * (1/e2 - 1)));\n",
    "        }else{\n",
    "            y[i] = -1\n",
    "        }\n",
    "    }\n",
    "            \n",
    "    // necessary becasue we mutated source.data in-place\n",
    "    source.change.emit();\n",
    "\"\"\")\n",
    "\n",
    "# Set Listeners on the sliders\n",
    "for w in [temperature1, temperature2, emissivity1, area1, area2]:\n",
    "    w.js_on_change('value', update_curve)\n",
    "\n",
    "# Set up layouts and add to document\n",
    "inputs = column(temperature1, temperature2, emissivity1, area1, area2)\n",
    "layout = row(plot, column(temperature1, temperature2, emissivity1, area1, area2))\n",
    "show(layout)"
   ]
  },
  {
   "cell_type": "code",
   "execution_count": null,
   "metadata": {
    "pycharm": {
     "is_executing": false,
     "name": "#%%\n"
    }
   },
   "outputs": [],
   "source": [
    "\n"
   ]
  }
 ],
 "metadata": {
  "kernelspec": {
   "display_name": "Python 3",
   "language": "python",
   "name": "python3"
  },
  "language_info": {
   "codemirror_mode": {
    "name": "ipython",
    "version": 3
   },
   "file_extension": ".py",
   "mimetype": "text/x-python",
   "name": "python",
   "nbconvert_exporter": "python",
   "pygments_lexer": "ipython3",
   "version": "3.8.2"
  },
  "pycharm": {
   "stem_cell": {
    "cell_type": "raw",
    "source": [],
    "metadata": {
     "collapsed": false
    }
   }
  }
 },
 "nbformat": 4,
 "nbformat_minor": 4
}